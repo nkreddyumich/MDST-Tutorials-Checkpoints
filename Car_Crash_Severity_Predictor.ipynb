{
  "cells": [
    {
      "cell_type": "code",
      "metadata": {
        "id": "y8AhPlpZoQlo",
        "source_hash": null,
        "execution_start": 1703896525644,
        "execution_millis": 2820,
        "deepnote_to_be_reexecuted": false,
        "cell_id": "cc9ab958e4a349dd9bea4c878ac2a6d0",
        "deepnote_cell_type": "code"
      },
      "source": [
        "import pandas as pd\n",
        "!pip install opendatasets --upgrade --quiet\n",
        "\n",
        "#df.shape - rows, cols, of datafram\n",
        "#df.dtypes - returns datatypes of objects"
      ],
      "execution_count": null,
      "outputs": []
    },
    {
      "cell_type": "code",
      "metadata": {
        "id": "OYyiM7rRrFXU",
        "source_hash": null,
        "execution_start": 1703896528468,
        "execution_millis": 38,
        "deepnote_to_be_reexecuted": false,
        "cell_id": "fc75b14229614664a553b42c80a5fa06",
        "deepnote_cell_type": "code"
      },
      "source": [
        "import opendatasets as od"
      ],
      "execution_count": null,
      "outputs": []
    },
    {
      "cell_type": "code",
      "metadata": {
        "id": "hQQwg3vorJGr",
        "source_hash": null,
        "execution_start": 1703896528511,
        "execution_millis": 7,
        "deepnote_to_be_reexecuted": false,
        "cell_id": "7770f72dc72f4f118816b46c752e57d4",
        "deepnote_cell_type": "code"
      },
      "source": [
        "download_url = 'https://www.kaggle.com/datasets/steverusso/cincinnati-car-crash-data'"
      ],
      "execution_count": null,
      "outputs": []
    },
    {
      "cell_type": "code",
      "metadata": {
        "id": "YbJzpYD6rcev",
        "source_hash": null,
        "execution_start": 1703896528523,
        "execution_millis": 31,
        "deepnote_to_be_reexecuted": false,
        "cell_id": "d2236c42f7e7489e92c3fa3dfbf398ca",
        "deepnote_cell_type": "code"
      },
      "source": [
        "od.download(download_url)"
      ],
      "execution_count": null,
      "outputs": []
    },
    {
      "cell_type": "code",
      "metadata": {
        "id": "Ay1BRhxxr05-",
        "source_hash": null,
        "execution_start": 1703896528600,
        "execution_millis": 4225,
        "deepnote_to_be_reexecuted": false,
        "cell_id": "2f61243f5d094d6596fa0224b5dfa5f5",
        "deepnote_cell_type": "code"
      },
      "source": [
        "df = pd.read_csv('/work/cincinnati_traffic_crash_data__cpd.csv')"
      ],
      "execution_count": null,
      "outputs": []
    },
    {
      "cell_type": "markdown",
      "source": [
        "# Exploratory Data Analysis and Data Preprocessing"
      ],
      "metadata": {
        "id": "HslOF7o26joz"
      }
    },
    {
      "cell_type": "code",
      "metadata": {
        "id": "gHcFAx3usScf",
        "colab": {
          "height": 550,
          "base_uri": "https://localhost:8080/"
        },
        "outputId": "37ff522e-4b64-4b13-d54d-19c506902938",
        "source_hash": null,
        "execution_start": 1703896532828,
        "execution_millis": 123,
        "deepnote_to_be_reexecuted": false,
        "cell_id": "a390b7c82ef14d3c88b5bf10e12d874c",
        "deepnote_cell_type": "code"
      },
      "source": [
        "df.head(5)"
      ],
      "execution_count": null,
      "outputs": [
        {
          "output_type": "execute_result",
          "execution_count": 6,
          "data": {
            "application/vnd.deepnote.dataframe.v3+json": {
              "column_count": 27,
              "row_count": 5,
              "columns": [
                {
                  "name": "Unnamed: 0",
                  "dtype": "int64",
                  "stats": {
                    "unique_count": 5,
                    "nan_count": 0,
                    "min": "19",
                    "max": "23",
                    "histogram": [
                      {
                        "bin_start": 19,
                        "bin_end": 19.4,
                        "count": 1
                      },
                      {
                        "bin_start": 19.4,
                        "bin_end": 19.8,
                        "count": 0
                      },
                      {
                        "bin_start": 19.8,
                        "bin_end": 20.2,
                        "count": 1
                      },
                      {
                        "bin_start": 20.2,
                        "bin_end": 20.6,
                        "count": 0
                      },
                      {
                        "bin_start": 20.6,
                        "bin_end": 21,
                        "count": 0
                      },
                      {
                        "bin_start": 21,
                        "bin_end": 21.4,
                        "count": 1
                      },
                      {
                        "bin_start": 21.4,
                        "bin_end": 21.8,
                        "count": 0
                      },
                      {
                        "bin_start": 21.8,
                        "bin_end": 22.2,
                        "count": 1
                      },
                      {
                        "bin_start": 22.2,
                        "bin_end": 22.6,
                        "count": 0
                      },
                      {
                        "bin_start": 22.6,
                        "bin_end": 23,
                        "count": 1
                      }
                    ]
                  }
                },
                {
                  "name": "ADDRESS_X",
                  "dtype": "object",
                  "stats": {
                    "unique_count": 5,
                    "nan_count": 0,
                    "categories": [
                      {
                        "name": "63XX GRACELY",
                        "count": 1
                      },
                      {
                        "name": "9XX CHATEAU AV",
                        "count": 1
                      },
                      {
                        "name": "3 others",
                        "count": 3
                      }
                    ]
                  }
                },
                {
                  "name": "LATITUDE_X",
                  "dtype": "float64",
                  "stats": {
                    "unique_count": 5,
                    "nan_count": 0,
                    "min": "39.107808",
                    "max": "39.147889",
                    "histogram": [
                      {
                        "bin_start": 39.107808,
                        "bin_end": 39.1118161,
                        "count": 3
                      },
                      {
                        "bin_start": 39.1118161,
                        "bin_end": 39.1158242,
                        "count": 0
                      },
                      {
                        "bin_start": 39.1158242,
                        "bin_end": 39.1198323,
                        "count": 0
                      },
                      {
                        "bin_start": 39.1198323,
                        "bin_end": 39.1238404,
                        "count": 0
                      },
                      {
                        "bin_start": 39.1238404,
                        "bin_end": 39.1278485,
                        "count": 0
                      },
                      {
                        "bin_start": 39.1278485,
                        "bin_end": 39.1318566,
                        "count": 0
                      },
                      {
                        "bin_start": 39.1318566,
                        "bin_end": 39.1358647,
                        "count": 1
                      },
                      {
                        "bin_start": 39.1358647,
                        "bin_end": 39.1398728,
                        "count": 0
                      },
                      {
                        "bin_start": 39.1398728,
                        "bin_end": 39.1438809,
                        "count": 0
                      },
                      {
                        "bin_start": 39.1438809,
                        "bin_end": 39.147889,
                        "count": 1
                      }
                    ]
                  }
                },
                {
                  "name": "LONGITUDE_X",
                  "dtype": "float64",
                  "stats": {
                    "unique_count": 5,
                    "nan_count": 0,
                    "min": "-84.688195",
                    "max": "-84.489222",
                    "histogram": [
                      {
                        "bin_start": -84.688195,
                        "bin_end": -84.6682977,
                        "count": 1
                      },
                      {
                        "bin_start": -84.6682977,
                        "bin_end": -84.6484004,
                        "count": 0
                      },
                      {
                        "bin_start": -84.6484004,
                        "bin_end": -84.62850309999999,
                        "count": 0
                      },
                      {
                        "bin_start": -84.62850309999999,
                        "bin_end": -84.60860579999999,
                        "count": 0
                      },
                      {
                        "bin_start": -84.60860579999999,
                        "bin_end": -84.5887085,
                        "count": 0
                      },
                      {
                        "bin_start": -84.5887085,
                        "bin_end": -84.5688112,
                        "count": 1
                      },
                      {
                        "bin_start": -84.5688112,
                        "bin_end": -84.5489139,
                        "count": 1
                      },
                      {
                        "bin_start": -84.5489139,
                        "bin_end": -84.52901659999999,
                        "count": 0
                      },
                      {
                        "bin_start": -84.52901659999999,
                        "bin_end": -84.5091193,
                        "count": 0
                      },
                      {
                        "bin_start": -84.5091193,
                        "bin_end": -84.489222,
                        "count": 2
                      }
                    ]
                  }
                },
                {
                  "name": "AGE",
                  "dtype": "object",
                  "stats": {
                    "unique_count": 3,
                    "nan_count": 0,
                    "categories": [
                      {
                        "name": "31-40",
                        "count": 2
                      },
                      {
                        "name": "18-25",
                        "count": 2
                      },
                      {
                        "name": "61-70",
                        "count": 1
                      }
                    ]
                  }
                },
                {
                  "name": "COMMUNITY_COUNCIL_NEIGHBORHOOD",
                  "dtype": "object",
                  "stats": {
                    "unique_count": 3,
                    "nan_count": 0,
                    "categories": [
                      {
                        "name": "EAST PRICE HILL",
                        "count": 2
                      },
                      {
                        "name": "AVONDALE",
                        "count": 2
                      },
                      {
                        "name": "SAYLER PARK",
                        "count": 1
                      }
                    ]
                  }
                },
                {
                  "name": "CPD_NEIGHBORHOOD",
                  "dtype": "object",
                  "stats": {
                    "unique_count": 3,
                    "nan_count": 0,
                    "categories": [
                      {
                        "name": "EAST PRICE HILL",
                        "count": 2
                      },
                      {
                        "name": "AVONDALE",
                        "count": 2
                      },
                      {
                        "name": "SAYLER  PARK",
                        "count": 1
                      }
                    ]
                  }
                },
                {
                  "name": "CRASHDATE",
                  "dtype": "object",
                  "stats": {
                    "unique_count": 5,
                    "nan_count": 0,
                    "categories": [
                      {
                        "name": "06/17/2014 05:25:00 PM",
                        "count": 1
                      },
                      {
                        "name": "02/15/2015 03:00:00 PM",
                        "count": 1
                      },
                      {
                        "name": "3 others",
                        "count": 3
                      }
                    ]
                  }
                },
                {
                  "name": "CRASHLOCATION",
                  "dtype": "object",
                  "stats": {
                    "unique_count": 2,
                    "nan_count": 0,
                    "categories": [
                      {
                        "name": "01 - NOT AN INTERSECTION",
                        "count": 3
                      },
                      {
                        "name": "03 - T-INTERSECTION",
                        "count": 2
                      }
                    ]
                  }
                },
                {
                  "name": "CRASHSEVERITY",
                  "dtype": "object",
                  "stats": {
                    "unique_count": 2,
                    "nan_count": 0,
                    "categories": [
                      {
                        "name": "3 - PROPERTY DAMAGE ONLY (PDO)",
                        "count": 4
                      },
                      {
                        "name": "2 - INJURY",
                        "count": 1
                      }
                    ]
                  }
                },
                {
                  "name": "CRASHSEVERITYID",
                  "dtype": "float64",
                  "stats": {
                    "unique_count": 2,
                    "nan_count": 0,
                    "min": "2.0",
                    "max": "3.0",
                    "histogram": [
                      {
                        "bin_start": 2,
                        "bin_end": 2.1,
                        "count": 1
                      },
                      {
                        "bin_start": 2.1,
                        "bin_end": 2.2,
                        "count": 0
                      },
                      {
                        "bin_start": 2.2,
                        "bin_end": 2.3,
                        "count": 0
                      },
                      {
                        "bin_start": 2.3,
                        "bin_end": 2.4,
                        "count": 0
                      },
                      {
                        "bin_start": 2.4,
                        "bin_end": 2.5,
                        "count": 0
                      },
                      {
                        "bin_start": 2.5,
                        "bin_end": 2.6,
                        "count": 0
                      },
                      {
                        "bin_start": 2.6,
                        "bin_end": 2.7,
                        "count": 0
                      },
                      {
                        "bin_start": 2.7,
                        "bin_end": 2.8,
                        "count": 0
                      },
                      {
                        "bin_start": 2.8,
                        "bin_end": 2.9,
                        "count": 0
                      },
                      {
                        "bin_start": 2.9,
                        "bin_end": 3,
                        "count": 4
                      }
                    ]
                  }
                },
                {
                  "name": "DATECRASHREPORTED",
                  "dtype": "object",
                  "stats": {
                    "unique_count": 5,
                    "nan_count": 0,
                    "categories": [
                      {
                        "name": "06/17/2014 05:29:00 PM",
                        "count": 1
                      },
                      {
                        "name": "02/15/2015 03:10:00 PM",
                        "count": 1
                      },
                      {
                        "name": "3 others",
                        "count": 3
                      }
                    ]
                  }
                },
                {
                  "name": "DAYOFWEEK",
                  "dtype": "object",
                  "stats": {
                    "unique_count": 4,
                    "nan_count": 0,
                    "categories": [
                      {
                        "name": "SAT",
                        "count": 2
                      },
                      {
                        "name": "TUE",
                        "count": 1
                      },
                      {
                        "name": "2 others",
                        "count": 2
                      }
                    ]
                  }
                },
                {
                  "name": "GENDER",
                  "dtype": "object",
                  "stats": {
                    "unique_count": 2,
                    "nan_count": 0,
                    "categories": [
                      {
                        "name": "F - FEMALE",
                        "count": 3
                      },
                      {
                        "name": "M - MALE",
                        "count": 2
                      }
                    ]
                  }
                },
                {
                  "name": "INJURIES",
                  "dtype": "object",
                  "stats": {
                    "unique_count": 2,
                    "nan_count": 0,
                    "categories": [
                      {
                        "name": "1 - NO INJURY / NONE REPORTED",
                        "count": 4
                      },
                      {
                        "name": "3 - NON-INCAPACITATING",
                        "count": 1
                      }
                    ]
                  }
                },
                {
                  "name": "INSTANCEID",
                  "dtype": "object",
                  "stats": {
                    "unique_count": 5,
                    "nan_count": 0,
                    "categories": [
                      {
                        "name": "70FA6259-C675-4C87-B220-6968F167FE0E",
                        "count": 1
                      },
                      {
                        "name": "01F3FED0-EE1C-47A5-9B4C-B70516DC4154",
                        "count": 1
                      },
                      {
                        "name": "3 others",
                        "count": 3
                      }
                    ]
                  }
                },
                {
                  "name": "LIGHTCONDITIONSPRIMARY",
                  "dtype": "object",
                  "stats": {
                    "unique_count": 3,
                    "nan_count": 0,
                    "categories": [
                      {
                        "name": "1 - DAYLIGHT",
                        "count": 3
                      },
                      {
                        "name": "4 - DARK - LIGHTED ROADWAY",
                        "count": 1
                      },
                      {
                        "name": "3 - DUSK",
                        "count": 1
                      }
                    ]
                  }
                },
                {
                  "name": "LOCALREPORTNO",
                  "dtype": "int64",
                  "stats": {
                    "unique_count": 5,
                    "nan_count": 0,
                    "min": "145004877",
                    "max": "185012267",
                    "histogram": [
                      {
                        "bin_start": 145004877,
                        "bin_end": 149005616,
                        "count": 1
                      },
                      {
                        "bin_start": 149005616,
                        "bin_end": 153006355,
                        "count": 0
                      },
                      {
                        "bin_start": 153006355,
                        "bin_end": 157007094,
                        "count": 2
                      },
                      {
                        "bin_start": 157007094,
                        "bin_end": 161007833,
                        "count": 0
                      },
                      {
                        "bin_start": 161007833,
                        "bin_end": 165008572,
                        "count": 0
                      },
                      {
                        "bin_start": 165008572,
                        "bin_end": 169009311,
                        "count": 0
                      },
                      {
                        "bin_start": 169009311,
                        "bin_end": 173010050,
                        "count": 0
                      },
                      {
                        "bin_start": 173010050,
                        "bin_end": 177010789,
                        "count": 0
                      },
                      {
                        "bin_start": 177010789,
                        "bin_end": 181011528,
                        "count": 0
                      },
                      {
                        "bin_start": 181011528,
                        "bin_end": 185012267,
                        "count": 2
                      }
                    ]
                  }
                },
                {
                  "name": "MANNEROFCRASH",
                  "dtype": "object",
                  "stats": {
                    "unique_count": 4,
                    "nan_count": 0,
                    "categories": [
                      {
                        "name": "7 - SIDESWIPE, SAME DIRECTION",
                        "count": 2
                      },
                      {
                        "name": "2 - REAR-END",
                        "count": 1
                      },
                      {
                        "name": "2 others",
                        "count": 2
                      }
                    ]
                  }
                },
                {
                  "name": "ROADCONDITIONSPRIMARY",
                  "dtype": "object",
                  "stats": {
                    "unique_count": 1,
                    "nan_count": 0,
                    "categories": [
                      {
                        "name": "01 - DRY",
                        "count": 5
                      }
                    ]
                  }
                },
                {
                  "name": "ROADCONTOUR",
                  "dtype": "object",
                  "stats": {
                    "unique_count": 2,
                    "nan_count": 0,
                    "categories": [
                      {
                        "name": "1 - STRAIGHT LEVEL",
                        "count": 4
                      },
                      {
                        "name": "2 - STRAIGHT GRADE",
                        "count": 1
                      }
                    ]
                  }
                },
                {
                  "name": "ROADSURFACE",
                  "dtype": "object",
                  "stats": {
                    "unique_count": 1,
                    "nan_count": 0,
                    "categories": [
                      {
                        "name": "2 - BLACKTOP, BITUMINOUS, ASPHALT",
                        "count": 5
                      }
                    ]
                  }
                },
                {
                  "name": "SNA_NEIGHBORHOOD",
                  "dtype": "object",
                  "stats": {
                    "unique_count": 3,
                    "nan_count": 0,
                    "categories": [
                      {
                        "name": "EAST PRICE HILL",
                        "count": 2
                      },
                      {
                        "name": "AVONDALE",
                        "count": 2
                      },
                      {
                        "name": "SAYLER PARK",
                        "count": 1
                      }
                    ]
                  }
                },
                {
                  "name": "TYPEOFPERSON",
                  "dtype": "object",
                  "stats": {
                    "unique_count": 2,
                    "nan_count": 0,
                    "categories": [
                      {
                        "name": "D - DRIVER",
                        "count": 3
                      },
                      {
                        "name": "O - OCCUPANT",
                        "count": 2
                      }
                    ]
                  }
                },
                {
                  "name": "WEATHER",
                  "dtype": "object",
                  "stats": {
                    "unique_count": 1,
                    "nan_count": 0,
                    "categories": [
                      {
                        "name": "1 - CLEAR",
                        "count": 5
                      }
                    ]
                  }
                },
                {
                  "name": "ZIP",
                  "dtype": "object",
                  "stats": {
                    "unique_count": 5,
                    "nan_count": 0,
                    "categories": [
                      {
                        "name": "45233.0",
                        "count": 1
                      },
                      {
                        "name": "45204.0",
                        "count": 1
                      },
                      {
                        "name": "3 others",
                        "count": 3
                      }
                    ]
                  }
                },
                {
                  "name": "UNITTYPE",
                  "dtype": "object",
                  "stats": {
                    "unique_count": 4,
                    "nan_count": 0,
                    "categories": [
                      {
                        "name": "04 - FULL SIZE",
                        "count": 2
                      },
                      {
                        "name": "03 - MID SIZE",
                        "count": 1
                      },
                      {
                        "name": "2 others",
                        "count": 2
                      }
                    ]
                  }
                },
                {
                  "name": "_deepnote_index_column",
                  "dtype": "int64"
                }
              ],
              "rows": [
                {
                  "Unnamed: 0": 19,
                  "ADDRESS_X": "63XX GRACELY",
                  "LATITUDE_X": 39.107808,
                  "LONGITUDE_X": -84.688195,
                  "AGE": "31-40",
                  "COMMUNITY_COUNCIL_NEIGHBORHOOD": "SAYLER PARK",
                  "CPD_NEIGHBORHOOD": "SAYLER  PARK",
                  "CRASHDATE": "06/17/2014 05:25:00 PM",
                  "CRASHLOCATION": "03 - T-INTERSECTION",
                  "CRASHSEVERITY": "3 - PROPERTY DAMAGE ONLY (PDO)",
                  "CRASHSEVERITYID": 3,
                  "DATECRASHREPORTED": "06/17/2014 05:29:00 PM",
                  "DAYOFWEEK": "TUE",
                  "GENDER": "F - FEMALE",
                  "INJURIES": "1 - NO INJURY / NONE REPORTED",
                  "INSTANCEID": "70FA6259-C675-4C87-B220-6968F167FE0E",
                  "LIGHTCONDITIONSPRIMARY": "1 - DAYLIGHT",
                  "LOCALREPORTNO": 145004877,
                  "MANNEROFCRASH": "2 - REAR-END",
                  "ROADCONDITIONSPRIMARY": "01 - DRY",
                  "ROADCONTOUR": "1 - STRAIGHT LEVEL",
                  "ROADSURFACE": "2 - BLACKTOP, BITUMINOUS, ASPHALT",
                  "SNA_NEIGHBORHOOD": "SAYLER PARK",
                  "TYPEOFPERSON": "D - DRIVER",
                  "WEATHER": "1 - CLEAR",
                  "ZIP": "45233.0",
                  "UNITTYPE": "03 - MID SIZE",
                  "_deepnote_index_column": 0
                },
                {
                  "Unnamed: 0": 20,
                  "ADDRESS_X": "9XX CHATEAU AV",
                  "LATITUDE_X": 39.10811,
                  "LONGITUDE_X": -84.56028,
                  "AGE": "18-25",
                  "COMMUNITY_COUNCIL_NEIGHBORHOOD": "EAST PRICE HILL",
                  "CPD_NEIGHBORHOOD": "EAST PRICE HILL",
                  "CRASHDATE": "02/15/2015 03:00:00 PM",
                  "CRASHLOCATION": "01 - NOT AN INTERSECTION",
                  "CRASHSEVERITY": "2 - INJURY",
                  "CRASHSEVERITYID": 2,
                  "DATECRASHREPORTED": "02/15/2015 03:10:00 PM",
                  "DAYOFWEEK": "SUN",
                  "GENDER": "F - FEMALE",
                  "INJURIES": "3 - NON-INCAPACITATING",
                  "INSTANCEID": "01F3FED0-EE1C-47A5-9B4C-B70516DC4154",
                  "LIGHTCONDITIONSPRIMARY": "1 - DAYLIGHT",
                  "LOCALREPORTNO": 155002081,
                  "MANNEROFCRASH": "1 - NOT COLLISION BETWEEN TWO MOTOR VEHICLES IN TRANSPORT",
                  "ROADCONDITIONSPRIMARY": "01 - DRY",
                  "ROADCONTOUR": "2 - STRAIGHT GRADE",
                  "ROADSURFACE": "2 - BLACKTOP, BITUMINOUS, ASPHALT",
                  "SNA_NEIGHBORHOOD": "EAST PRICE HILL",
                  "TYPEOFPERSON": "O - OCCUPANT",
                  "WEATHER": "1 - CLEAR",
                  "ZIP": "45204.0",
                  "UNITTYPE": "02 - COMPACT",
                  "_deepnote_index_column": 1
                },
                {
                  "Unnamed: 0": 21,
                  "ADDRESS_X": "30XX READING RD",
                  "LATITUDE_X": 39.135486,
                  "LONGITUDE_X": -84.49651999999999,
                  "AGE": "18-25",
                  "COMMUNITY_COUNCIL_NEIGHBORHOOD": "AVONDALE",
                  "CPD_NEIGHBORHOOD": "AVONDALE",
                  "CRASHDATE": "07/23/2015 11:54:00 PM",
                  "CRASHLOCATION": "01 - NOT AN INTERSECTION",
                  "CRASHSEVERITY": "3 - PROPERTY DAMAGE ONLY (PDO)",
                  "CRASHSEVERITYID": 3,
                  "DATECRASHREPORTED": "07/23/2015 11:54:00 PM",
                  "DAYOFWEEK": "THU",
                  "GENDER": "F - FEMALE",
                  "INJURIES": "1 - NO INJURY / NONE REPORTED",
                  "INSTANCEID": "8D65153D-2ADA-406C-998B-47533B32ACFD",
                  "LIGHTCONDITIONSPRIMARY": "4 - DARK - LIGHTED ROADWAY",
                  "LOCALREPORTNO": 155010090,
                  "MANNEROFCRASH": "7 - SIDESWIPE, SAME DIRECTION",
                  "ROADCONDITIONSPRIMARY": "01 - DRY",
                  "ROADCONTOUR": "1 - STRAIGHT LEVEL",
                  "ROADSURFACE": "2 - BLACKTOP, BITUMINOUS, ASPHALT",
                  "SNA_NEIGHBORHOOD": "AVONDALE",
                  "TYPEOFPERSON": "O - OCCUPANT",
                  "WEATHER": "1 - CLEAR",
                  "ZIP": "45206.0",
                  "UNITTYPE": "04 - FULL SIZE",
                  "_deepnote_index_column": 2
                },
                {
                  "Unnamed: 0": 22,
                  "ADDRESS_X": "36XX READING RD",
                  "LATITUDE_X": 39.147889,
                  "LONGITUDE_X": -84.489222,
                  "AGE": "61-70",
                  "COMMUNITY_COUNCIL_NEIGHBORHOOD": "AVONDALE",
                  "CPD_NEIGHBORHOOD": "AVONDALE",
                  "CRASHDATE": "04/21/2018 01:00:00 PM",
                  "CRASHLOCATION": "01 - NOT AN INTERSECTION",
                  "CRASHSEVERITY": "3 - PROPERTY DAMAGE ONLY (PDO)",
                  "CRASHSEVERITYID": 3,
                  "DATECRASHREPORTED": "04/21/2018 01:16:00 PM",
                  "DAYOFWEEK": "SAT",
                  "GENDER": "M - MALE",
                  "INJURIES": "1 - NO INJURY / NONE REPORTED",
                  "INSTANCEID": "3E01FFEB-D0B4-47A3-BFA9-94FD27CC454A",
                  "LIGHTCONDITIONSPRIMARY": "1 - DAYLIGHT",
                  "LOCALREPORTNO": 185005525,
                  "MANNEROFCRASH": "7 - SIDESWIPE, SAME DIRECTION",
                  "ROADCONDITIONSPRIMARY": "01 - DRY",
                  "ROADCONTOUR": "1 - STRAIGHT LEVEL",
                  "ROADSURFACE": "2 - BLACKTOP, BITUMINOUS, ASPHALT",
                  "SNA_NEIGHBORHOOD": "AVONDALE",
                  "TYPEOFPERSON": "D - DRIVER",
                  "WEATHER": "1 - CLEAR",
                  "ZIP": "45229.0",
                  "UNITTYPE": "07 - PICKUP",
                  "_deepnote_index_column": 3
                },
                {
                  "Unnamed: 0": 23,
                  "ADDRESS_X": "37XX WARSAW AV",
                  "LATITUDE_X": 39.110989,
                  "LONGITUDE_X": -84.573138,
                  "AGE": "31-40",
                  "COMMUNITY_COUNCIL_NEIGHBORHOOD": "EAST PRICE HILL",
                  "CPD_NEIGHBORHOOD": "EAST PRICE HILL",
                  "CRASHDATE": "09/01/2018 07:59:00 PM",
                  "CRASHLOCATION": "03 - T-INTERSECTION",
                  "CRASHSEVERITY": "3 - PROPERTY DAMAGE ONLY (PDO)",
                  "CRASHSEVERITYID": 3,
                  "DATECRASHREPORTED": "09/01/2018 07:59:00 PM",
                  "DAYOFWEEK": "SAT",
                  "GENDER": "M - MALE",
                  "INJURIES": "1 - NO INJURY / NONE REPORTED",
                  "INSTANCEID": "0798B321-FD9A-487C-AF23-6CC2F21BB124",
                  "LIGHTCONDITIONSPRIMARY": "3 - DUSK",
                  "LOCALREPORTNO": 185012267,
                  "MANNEROFCRASH": "6 - ANGLE",
                  "ROADCONDITIONSPRIMARY": "01 - DRY",
                  "ROADCONTOUR": "1 - STRAIGHT LEVEL",
                  "ROADSURFACE": "2 - BLACKTOP, BITUMINOUS, ASPHALT",
                  "SNA_NEIGHBORHOOD": "EAST PRICE HILL",
                  "TYPEOFPERSON": "D - DRIVER",
                  "WEATHER": "1 - CLEAR",
                  "ZIP": "45205.0",
                  "UNITTYPE": "04 - FULL SIZE",
                  "_deepnote_index_column": 4
                }
              ]
            },
            "text/plain": "   Unnamed: 0        ADDRESS_X  LATITUDE_X  LONGITUDE_X    AGE  \\\n0          19     63XX GRACELY   39.107808   -84.688195  31-40   \n1          20   9XX CHATEAU AV   39.108110   -84.560280  18-25   \n2          21  30XX READING RD   39.135486   -84.496520  18-25   \n3          22  36XX READING RD   39.147889   -84.489222  61-70   \n4          23   37XX WARSAW AV   39.110989   -84.573138  31-40   \n\n  COMMUNITY_COUNCIL_NEIGHBORHOOD CPD_NEIGHBORHOOD               CRASHDATE  \\\n0                    SAYLER PARK     SAYLER  PARK  06/17/2014 05:25:00 PM   \n1                EAST PRICE HILL  EAST PRICE HILL  02/15/2015 03:00:00 PM   \n2                       AVONDALE         AVONDALE  07/23/2015 11:54:00 PM   \n3                       AVONDALE         AVONDALE  04/21/2018 01:00:00 PM   \n4                EAST PRICE HILL  EAST PRICE HILL  09/01/2018 07:59:00 PM   \n\n              CRASHLOCATION                   CRASHSEVERITY  ...  \\\n0       03 - T-INTERSECTION  3 - PROPERTY DAMAGE ONLY (PDO)  ...   \n1  01 - NOT AN INTERSECTION                      2 - INJURY  ...   \n2  01 - NOT AN INTERSECTION  3 - PROPERTY DAMAGE ONLY (PDO)  ...   \n3  01 - NOT AN INTERSECTION  3 - PROPERTY DAMAGE ONLY (PDO)  ...   \n4       03 - T-INTERSECTION  3 - PROPERTY DAMAGE ONLY (PDO)  ...   \n\n   LOCALREPORTNO                                      MANNEROFCRASH  \\\n0      145004877                                       2 - REAR-END   \n1      155002081  1 - NOT COLLISION BETWEEN TWO MOTOR VEHICLES I...   \n2      155010090                      7 - SIDESWIPE, SAME DIRECTION   \n3      185005525                      7 - SIDESWIPE, SAME DIRECTION   \n4      185012267                                          6 - ANGLE   \n\n  ROADCONDITIONSPRIMARY         ROADCONTOUR  \\\n0              01 - DRY  1 - STRAIGHT LEVEL   \n1              01 - DRY  2 - STRAIGHT GRADE   \n2              01 - DRY  1 - STRAIGHT LEVEL   \n3              01 - DRY  1 - STRAIGHT LEVEL   \n4              01 - DRY  1 - STRAIGHT LEVEL   \n\n                         ROADSURFACE SNA_NEIGHBORHOOD  TYPEOFPERSON  \\\n0  2 - BLACKTOP, BITUMINOUS, ASPHALT      SAYLER PARK    D - DRIVER   \n1  2 - BLACKTOP, BITUMINOUS, ASPHALT  EAST PRICE HILL  O - OCCUPANT   \n2  2 - BLACKTOP, BITUMINOUS, ASPHALT         AVONDALE  O - OCCUPANT   \n3  2 - BLACKTOP, BITUMINOUS, ASPHALT         AVONDALE    D - DRIVER   \n4  2 - BLACKTOP, BITUMINOUS, ASPHALT  EAST PRICE HILL    D - DRIVER   \n\n     WEATHER      ZIP        UNITTYPE  \n0  1 - CLEAR  45233.0   03 - MID SIZE  \n1  1 - CLEAR  45204.0    02 - COMPACT  \n2  1 - CLEAR  45206.0  04 - FULL SIZE  \n3  1 - CLEAR  45229.0     07 - PICKUP  \n4  1 - CLEAR  45205.0  04 - FULL SIZE  \n\n[5 rows x 27 columns]",
            "text/html": "<div>\n<style scoped>\n    .dataframe tbody tr th:only-of-type {\n        vertical-align: middle;\n    }\n\n    .dataframe tbody tr th {\n        vertical-align: top;\n    }\n\n    .dataframe thead th {\n        text-align: right;\n    }\n</style>\n<table border=\"1\" class=\"dataframe\">\n  <thead>\n    <tr style=\"text-align: right;\">\n      <th></th>\n      <th>Unnamed: 0</th>\n      <th>ADDRESS_X</th>\n      <th>LATITUDE_X</th>\n      <th>LONGITUDE_X</th>\n      <th>AGE</th>\n      <th>COMMUNITY_COUNCIL_NEIGHBORHOOD</th>\n      <th>CPD_NEIGHBORHOOD</th>\n      <th>CRASHDATE</th>\n      <th>CRASHLOCATION</th>\n      <th>CRASHSEVERITY</th>\n      <th>...</th>\n      <th>LOCALREPORTNO</th>\n      <th>MANNEROFCRASH</th>\n      <th>ROADCONDITIONSPRIMARY</th>\n      <th>ROADCONTOUR</th>\n      <th>ROADSURFACE</th>\n      <th>SNA_NEIGHBORHOOD</th>\n      <th>TYPEOFPERSON</th>\n      <th>WEATHER</th>\n      <th>ZIP</th>\n      <th>UNITTYPE</th>\n    </tr>\n  </thead>\n  <tbody>\n    <tr>\n      <th>0</th>\n      <td>19</td>\n      <td>63XX GRACELY</td>\n      <td>39.107808</td>\n      <td>-84.688195</td>\n      <td>31-40</td>\n      <td>SAYLER PARK</td>\n      <td>SAYLER  PARK</td>\n      <td>06/17/2014 05:25:00 PM</td>\n      <td>03 - T-INTERSECTION</td>\n      <td>3 - PROPERTY DAMAGE ONLY (PDO)</td>\n      <td>...</td>\n      <td>145004877</td>\n      <td>2 - REAR-END</td>\n      <td>01 - DRY</td>\n      <td>1 - STRAIGHT LEVEL</td>\n      <td>2 - BLACKTOP, BITUMINOUS, ASPHALT</td>\n      <td>SAYLER PARK</td>\n      <td>D - DRIVER</td>\n      <td>1 - CLEAR</td>\n      <td>45233.0</td>\n      <td>03 - MID SIZE</td>\n    </tr>\n    <tr>\n      <th>1</th>\n      <td>20</td>\n      <td>9XX CHATEAU AV</td>\n      <td>39.108110</td>\n      <td>-84.560280</td>\n      <td>18-25</td>\n      <td>EAST PRICE HILL</td>\n      <td>EAST PRICE HILL</td>\n      <td>02/15/2015 03:00:00 PM</td>\n      <td>01 - NOT AN INTERSECTION</td>\n      <td>2 - INJURY</td>\n      <td>...</td>\n      <td>155002081</td>\n      <td>1 - NOT COLLISION BETWEEN TWO MOTOR VEHICLES I...</td>\n      <td>01 - DRY</td>\n      <td>2 - STRAIGHT GRADE</td>\n      <td>2 - BLACKTOP, BITUMINOUS, ASPHALT</td>\n      <td>EAST PRICE HILL</td>\n      <td>O - OCCUPANT</td>\n      <td>1 - CLEAR</td>\n      <td>45204.0</td>\n      <td>02 - COMPACT</td>\n    </tr>\n    <tr>\n      <th>2</th>\n      <td>21</td>\n      <td>30XX READING RD</td>\n      <td>39.135486</td>\n      <td>-84.496520</td>\n      <td>18-25</td>\n      <td>AVONDALE</td>\n      <td>AVONDALE</td>\n      <td>07/23/2015 11:54:00 PM</td>\n      <td>01 - NOT AN INTERSECTION</td>\n      <td>3 - PROPERTY DAMAGE ONLY (PDO)</td>\n      <td>...</td>\n      <td>155010090</td>\n      <td>7 - SIDESWIPE, SAME DIRECTION</td>\n      <td>01 - DRY</td>\n      <td>1 - STRAIGHT LEVEL</td>\n      <td>2 - BLACKTOP, BITUMINOUS, ASPHALT</td>\n      <td>AVONDALE</td>\n      <td>O - OCCUPANT</td>\n      <td>1 - CLEAR</td>\n      <td>45206.0</td>\n      <td>04 - FULL SIZE</td>\n    </tr>\n    <tr>\n      <th>3</th>\n      <td>22</td>\n      <td>36XX READING RD</td>\n      <td>39.147889</td>\n      <td>-84.489222</td>\n      <td>61-70</td>\n      <td>AVONDALE</td>\n      <td>AVONDALE</td>\n      <td>04/21/2018 01:00:00 PM</td>\n      <td>01 - NOT AN INTERSECTION</td>\n      <td>3 - PROPERTY DAMAGE ONLY (PDO)</td>\n      <td>...</td>\n      <td>185005525</td>\n      <td>7 - SIDESWIPE, SAME DIRECTION</td>\n      <td>01 - DRY</td>\n      <td>1 - STRAIGHT LEVEL</td>\n      <td>2 - BLACKTOP, BITUMINOUS, ASPHALT</td>\n      <td>AVONDALE</td>\n      <td>D - DRIVER</td>\n      <td>1 - CLEAR</td>\n      <td>45229.0</td>\n      <td>07 - PICKUP</td>\n    </tr>\n    <tr>\n      <th>4</th>\n      <td>23</td>\n      <td>37XX WARSAW AV</td>\n      <td>39.110989</td>\n      <td>-84.573138</td>\n      <td>31-40</td>\n      <td>EAST PRICE HILL</td>\n      <td>EAST PRICE HILL</td>\n      <td>09/01/2018 07:59:00 PM</td>\n      <td>03 - T-INTERSECTION</td>\n      <td>3 - PROPERTY DAMAGE ONLY (PDO)</td>\n      <td>...</td>\n      <td>185012267</td>\n      <td>6 - ANGLE</td>\n      <td>01 - DRY</td>\n      <td>1 - STRAIGHT LEVEL</td>\n      <td>2 - BLACKTOP, BITUMINOUS, ASPHALT</td>\n      <td>EAST PRICE HILL</td>\n      <td>D - DRIVER</td>\n      <td>1 - CLEAR</td>\n      <td>45205.0</td>\n      <td>04 - FULL SIZE</td>\n    </tr>\n  </tbody>\n</table>\n<p>5 rows × 27 columns</p>\n</div>"
          },
          "metadata": {}
        }
      ]
    },
    {
      "cell_type": "code",
      "metadata": {
        "id": "GbSwURxmsla0",
        "colab": {
          "base_uri": "https://localhost:8080/"
        },
        "outputId": "2710897e-a952-47b7-cca7-a1823d1a3cc6",
        "source_hash": null,
        "execution_start": 1703896532947,
        "execution_millis": 35,
        "deepnote_to_be_reexecuted": false,
        "cell_id": "4a785713fe534a0aa553591289d29a70",
        "deepnote_cell_type": "code"
      },
      "source": [
        "df.size"
      ],
      "execution_count": null,
      "outputs": [
        {
          "output_type": "execute_result",
          "execution_count": 7,
          "data": {
            "text/plain": "6984144"
          },
          "metadata": {}
        }
      ]
    },
    {
      "cell_type": "code",
      "metadata": {
        "id": "Z8xjxs_Xsz7r",
        "colab": {
          "base_uri": "https://localhost:8080/"
        },
        "outputId": "4706f670-0648-4245-d9b4-af97f9eb4c0b",
        "source_hash": null,
        "execution_start": 1703896532952,
        "execution_millis": 38,
        "deepnote_to_be_reexecuted": false,
        "cell_id": "8757e6dec20e4d5ebee845247de5f98c",
        "deepnote_cell_type": "code"
      },
      "source": [
        "lat = df['INJURIES']\n",
        "lat.head()"
      ],
      "execution_count": null,
      "outputs": [
        {
          "output_type": "execute_result",
          "execution_count": 8,
          "data": {
            "text/plain": "0    1 - NO INJURY / NONE REPORTED\n1           3 - NON-INCAPACITATING\n2    1 - NO INJURY / NONE REPORTED\n3    1 - NO INJURY / NONE REPORTED\n4    1 - NO INJURY / NONE REPORTED\nName: INJURIES, dtype: object"
          },
          "metadata": {}
        }
      ]
    },
    {
      "cell_type": "code",
      "metadata": {
        "id": "ncgbGNvXs7N9",
        "source_hash": null,
        "execution_start": 1703896532983,
        "execution_millis": 28436,
        "deepnote_to_be_reexecuted": false,
        "cell_id": "fc4f0c504d0a466f8b9d4453308075d1",
        "deepnote_cell_type": "code"
      },
      "source": [
        "df['CRASH_YEAR']= pd.DatetimeIndex(df['CRASHDATE']).year"
      ],
      "execution_count": null,
      "outputs": []
    },
    {
      "cell_type": "code",
      "metadata": {
        "id": "nXIjbyeHtabF",
        "colab": {
          "height": 550,
          "base_uri": "https://localhost:8080/"
        },
        "outputId": "8bc0782b-50e9-4e6d-8691-db99bc662c1a",
        "source_hash": null,
        "execution_start": 1703896561414,
        "execution_millis": 33,
        "deepnote_to_be_reexecuted": false,
        "cell_id": "c74a9d701c7049cd86121536edaef53a",
        "deepnote_cell_type": "code"
      },
      "source": [
        "df.head()"
      ],
      "execution_count": null,
      "outputs": [
        {
          "output_type": "execute_result",
          "execution_count": 10,
          "data": {
            "application/vnd.deepnote.dataframe.v3+json": {
              "column_count": 28,
              "row_count": 5,
              "columns": [
                {
                  "name": "Unnamed: 0",
                  "dtype": "int64",
                  "stats": {
                    "unique_count": 5,
                    "nan_count": 0,
                    "min": "19",
                    "max": "23",
                    "histogram": [
                      {
                        "bin_start": 19,
                        "bin_end": 19.4,
                        "count": 1
                      },
                      {
                        "bin_start": 19.4,
                        "bin_end": 19.8,
                        "count": 0
                      },
                      {
                        "bin_start": 19.8,
                        "bin_end": 20.2,
                        "count": 1
                      },
                      {
                        "bin_start": 20.2,
                        "bin_end": 20.6,
                        "count": 0
                      },
                      {
                        "bin_start": 20.6,
                        "bin_end": 21,
                        "count": 0
                      },
                      {
                        "bin_start": 21,
                        "bin_end": 21.4,
                        "count": 1
                      },
                      {
                        "bin_start": 21.4,
                        "bin_end": 21.8,
                        "count": 0
                      },
                      {
                        "bin_start": 21.8,
                        "bin_end": 22.2,
                        "count": 1
                      },
                      {
                        "bin_start": 22.2,
                        "bin_end": 22.6,
                        "count": 0
                      },
                      {
                        "bin_start": 22.6,
                        "bin_end": 23,
                        "count": 1
                      }
                    ]
                  }
                },
                {
                  "name": "ADDRESS_X",
                  "dtype": "object",
                  "stats": {
                    "unique_count": 5,
                    "nan_count": 0,
                    "categories": [
                      {
                        "name": "63XX GRACELY",
                        "count": 1
                      },
                      {
                        "name": "9XX CHATEAU AV",
                        "count": 1
                      },
                      {
                        "name": "3 others",
                        "count": 3
                      }
                    ]
                  }
                },
                {
                  "name": "LATITUDE_X",
                  "dtype": "float64",
                  "stats": {
                    "unique_count": 5,
                    "nan_count": 0,
                    "min": "39.107808",
                    "max": "39.147889",
                    "histogram": [
                      {
                        "bin_start": 39.107808,
                        "bin_end": 39.1118161,
                        "count": 3
                      },
                      {
                        "bin_start": 39.1118161,
                        "bin_end": 39.1158242,
                        "count": 0
                      },
                      {
                        "bin_start": 39.1158242,
                        "bin_end": 39.1198323,
                        "count": 0
                      },
                      {
                        "bin_start": 39.1198323,
                        "bin_end": 39.1238404,
                        "count": 0
                      },
                      {
                        "bin_start": 39.1238404,
                        "bin_end": 39.1278485,
                        "count": 0
                      },
                      {
                        "bin_start": 39.1278485,
                        "bin_end": 39.1318566,
                        "count": 0
                      },
                      {
                        "bin_start": 39.1318566,
                        "bin_end": 39.1358647,
                        "count": 1
                      },
                      {
                        "bin_start": 39.1358647,
                        "bin_end": 39.1398728,
                        "count": 0
                      },
                      {
                        "bin_start": 39.1398728,
                        "bin_end": 39.1438809,
                        "count": 0
                      },
                      {
                        "bin_start": 39.1438809,
                        "bin_end": 39.147889,
                        "count": 1
                      }
                    ]
                  }
                },
                {
                  "name": "LONGITUDE_X",
                  "dtype": "float64",
                  "stats": {
                    "unique_count": 5,
                    "nan_count": 0,
                    "min": "-84.688195",
                    "max": "-84.489222",
                    "histogram": [
                      {
                        "bin_start": -84.688195,
                        "bin_end": -84.6682977,
                        "count": 1
                      },
                      {
                        "bin_start": -84.6682977,
                        "bin_end": -84.6484004,
                        "count": 0
                      },
                      {
                        "bin_start": -84.6484004,
                        "bin_end": -84.62850309999999,
                        "count": 0
                      },
                      {
                        "bin_start": -84.62850309999999,
                        "bin_end": -84.60860579999999,
                        "count": 0
                      },
                      {
                        "bin_start": -84.60860579999999,
                        "bin_end": -84.5887085,
                        "count": 0
                      },
                      {
                        "bin_start": -84.5887085,
                        "bin_end": -84.5688112,
                        "count": 1
                      },
                      {
                        "bin_start": -84.5688112,
                        "bin_end": -84.5489139,
                        "count": 1
                      },
                      {
                        "bin_start": -84.5489139,
                        "bin_end": -84.52901659999999,
                        "count": 0
                      },
                      {
                        "bin_start": -84.52901659999999,
                        "bin_end": -84.5091193,
                        "count": 0
                      },
                      {
                        "bin_start": -84.5091193,
                        "bin_end": -84.489222,
                        "count": 2
                      }
                    ]
                  }
                },
                {
                  "name": "AGE",
                  "dtype": "object",
                  "stats": {
                    "unique_count": 3,
                    "nan_count": 0,
                    "categories": [
                      {
                        "name": "31-40",
                        "count": 2
                      },
                      {
                        "name": "18-25",
                        "count": 2
                      },
                      {
                        "name": "61-70",
                        "count": 1
                      }
                    ]
                  }
                },
                {
                  "name": "COMMUNITY_COUNCIL_NEIGHBORHOOD",
                  "dtype": "object",
                  "stats": {
                    "unique_count": 3,
                    "nan_count": 0,
                    "categories": [
                      {
                        "name": "EAST PRICE HILL",
                        "count": 2
                      },
                      {
                        "name": "AVONDALE",
                        "count": 2
                      },
                      {
                        "name": "SAYLER PARK",
                        "count": 1
                      }
                    ]
                  }
                },
                {
                  "name": "CPD_NEIGHBORHOOD",
                  "dtype": "object",
                  "stats": {
                    "unique_count": 3,
                    "nan_count": 0,
                    "categories": [
                      {
                        "name": "EAST PRICE HILL",
                        "count": 2
                      },
                      {
                        "name": "AVONDALE",
                        "count": 2
                      },
                      {
                        "name": "SAYLER  PARK",
                        "count": 1
                      }
                    ]
                  }
                },
                {
                  "name": "CRASHDATE",
                  "dtype": "object",
                  "stats": {
                    "unique_count": 5,
                    "nan_count": 0,
                    "categories": [
                      {
                        "name": "06/17/2014 05:25:00 PM",
                        "count": 1
                      },
                      {
                        "name": "02/15/2015 03:00:00 PM",
                        "count": 1
                      },
                      {
                        "name": "3 others",
                        "count": 3
                      }
                    ]
                  }
                },
                {
                  "name": "CRASHLOCATION",
                  "dtype": "object",
                  "stats": {
                    "unique_count": 2,
                    "nan_count": 0,
                    "categories": [
                      {
                        "name": "01 - NOT AN INTERSECTION",
                        "count": 3
                      },
                      {
                        "name": "03 - T-INTERSECTION",
                        "count": 2
                      }
                    ]
                  }
                },
                {
                  "name": "CRASHSEVERITY",
                  "dtype": "object",
                  "stats": {
                    "unique_count": 2,
                    "nan_count": 0,
                    "categories": [
                      {
                        "name": "3 - PROPERTY DAMAGE ONLY (PDO)",
                        "count": 4
                      },
                      {
                        "name": "2 - INJURY",
                        "count": 1
                      }
                    ]
                  }
                },
                {
                  "name": "CRASHSEVERITYID",
                  "dtype": "float64",
                  "stats": {
                    "unique_count": 2,
                    "nan_count": 0,
                    "min": "2.0",
                    "max": "3.0",
                    "histogram": [
                      {
                        "bin_start": 2,
                        "bin_end": 2.1,
                        "count": 1
                      },
                      {
                        "bin_start": 2.1,
                        "bin_end": 2.2,
                        "count": 0
                      },
                      {
                        "bin_start": 2.2,
                        "bin_end": 2.3,
                        "count": 0
                      },
                      {
                        "bin_start": 2.3,
                        "bin_end": 2.4,
                        "count": 0
                      },
                      {
                        "bin_start": 2.4,
                        "bin_end": 2.5,
                        "count": 0
                      },
                      {
                        "bin_start": 2.5,
                        "bin_end": 2.6,
                        "count": 0
                      },
                      {
                        "bin_start": 2.6,
                        "bin_end": 2.7,
                        "count": 0
                      },
                      {
                        "bin_start": 2.7,
                        "bin_end": 2.8,
                        "count": 0
                      },
                      {
                        "bin_start": 2.8,
                        "bin_end": 2.9,
                        "count": 0
                      },
                      {
                        "bin_start": 2.9,
                        "bin_end": 3,
                        "count": 4
                      }
                    ]
                  }
                },
                {
                  "name": "DATECRASHREPORTED",
                  "dtype": "object",
                  "stats": {
                    "unique_count": 5,
                    "nan_count": 0,
                    "categories": [
                      {
                        "name": "06/17/2014 05:29:00 PM",
                        "count": 1
                      },
                      {
                        "name": "02/15/2015 03:10:00 PM",
                        "count": 1
                      },
                      {
                        "name": "3 others",
                        "count": 3
                      }
                    ]
                  }
                },
                {
                  "name": "DAYOFWEEK",
                  "dtype": "object",
                  "stats": {
                    "unique_count": 4,
                    "nan_count": 0,
                    "categories": [
                      {
                        "name": "SAT",
                        "count": 2
                      },
                      {
                        "name": "TUE",
                        "count": 1
                      },
                      {
                        "name": "2 others",
                        "count": 2
                      }
                    ]
                  }
                },
                {
                  "name": "GENDER",
                  "dtype": "object",
                  "stats": {
                    "unique_count": 2,
                    "nan_count": 0,
                    "categories": [
                      {
                        "name": "F - FEMALE",
                        "count": 3
                      },
                      {
                        "name": "M - MALE",
                        "count": 2
                      }
                    ]
                  }
                },
                {
                  "name": "INJURIES",
                  "dtype": "object",
                  "stats": {
                    "unique_count": 2,
                    "nan_count": 0,
                    "categories": [
                      {
                        "name": "1 - NO INJURY / NONE REPORTED",
                        "count": 4
                      },
                      {
                        "name": "3 - NON-INCAPACITATING",
                        "count": 1
                      }
                    ]
                  }
                },
                {
                  "name": "INSTANCEID",
                  "dtype": "object",
                  "stats": {
                    "unique_count": 5,
                    "nan_count": 0,
                    "categories": [
                      {
                        "name": "70FA6259-C675-4C87-B220-6968F167FE0E",
                        "count": 1
                      },
                      {
                        "name": "01F3FED0-EE1C-47A5-9B4C-B70516DC4154",
                        "count": 1
                      },
                      {
                        "name": "3 others",
                        "count": 3
                      }
                    ]
                  }
                },
                {
                  "name": "LIGHTCONDITIONSPRIMARY",
                  "dtype": "object",
                  "stats": {
                    "unique_count": 3,
                    "nan_count": 0,
                    "categories": [
                      {
                        "name": "1 - DAYLIGHT",
                        "count": 3
                      },
                      {
                        "name": "4 - DARK - LIGHTED ROADWAY",
                        "count": 1
                      },
                      {
                        "name": "3 - DUSK",
                        "count": 1
                      }
                    ]
                  }
                },
                {
                  "name": "LOCALREPORTNO",
                  "dtype": "int64",
                  "stats": {
                    "unique_count": 5,
                    "nan_count": 0,
                    "min": "145004877",
                    "max": "185012267",
                    "histogram": [
                      {
                        "bin_start": 145004877,
                        "bin_end": 149005616,
                        "count": 1
                      },
                      {
                        "bin_start": 149005616,
                        "bin_end": 153006355,
                        "count": 0
                      },
                      {
                        "bin_start": 153006355,
                        "bin_end": 157007094,
                        "count": 2
                      },
                      {
                        "bin_start": 157007094,
                        "bin_end": 161007833,
                        "count": 0
                      },
                      {
                        "bin_start": 161007833,
                        "bin_end": 165008572,
                        "count": 0
                      },
                      {
                        "bin_start": 165008572,
                        "bin_end": 169009311,
                        "count": 0
                      },
                      {
                        "bin_start": 169009311,
                        "bin_end": 173010050,
                        "count": 0
                      },
                      {
                        "bin_start": 173010050,
                        "bin_end": 177010789,
                        "count": 0
                      },
                      {
                        "bin_start": 177010789,
                        "bin_end": 181011528,
                        "count": 0
                      },
                      {
                        "bin_start": 181011528,
                        "bin_end": 185012267,
                        "count": 2
                      }
                    ]
                  }
                },
                {
                  "name": "MANNEROFCRASH",
                  "dtype": "object",
                  "stats": {
                    "unique_count": 4,
                    "nan_count": 0,
                    "categories": [
                      {
                        "name": "7 - SIDESWIPE, SAME DIRECTION",
                        "count": 2
                      },
                      {
                        "name": "2 - REAR-END",
                        "count": 1
                      },
                      {
                        "name": "2 others",
                        "count": 2
                      }
                    ]
                  }
                },
                {
                  "name": "ROADCONDITIONSPRIMARY",
                  "dtype": "object",
                  "stats": {
                    "unique_count": 1,
                    "nan_count": 0,
                    "categories": [
                      {
                        "name": "01 - DRY",
                        "count": 5
                      }
                    ]
                  }
                },
                {
                  "name": "ROADCONTOUR",
                  "dtype": "object",
                  "stats": {
                    "unique_count": 2,
                    "nan_count": 0,
                    "categories": [
                      {
                        "name": "1 - STRAIGHT LEVEL",
                        "count": 4
                      },
                      {
                        "name": "2 - STRAIGHT GRADE",
                        "count": 1
                      }
                    ]
                  }
                },
                {
                  "name": "ROADSURFACE",
                  "dtype": "object",
                  "stats": {
                    "unique_count": 1,
                    "nan_count": 0,
                    "categories": [
                      {
                        "name": "2 - BLACKTOP, BITUMINOUS, ASPHALT",
                        "count": 5
                      }
                    ]
                  }
                },
                {
                  "name": "SNA_NEIGHBORHOOD",
                  "dtype": "object",
                  "stats": {
                    "unique_count": 3,
                    "nan_count": 0,
                    "categories": [
                      {
                        "name": "EAST PRICE HILL",
                        "count": 2
                      },
                      {
                        "name": "AVONDALE",
                        "count": 2
                      },
                      {
                        "name": "SAYLER PARK",
                        "count": 1
                      }
                    ]
                  }
                },
                {
                  "name": "TYPEOFPERSON",
                  "dtype": "object",
                  "stats": {
                    "unique_count": 2,
                    "nan_count": 0,
                    "categories": [
                      {
                        "name": "D - DRIVER",
                        "count": 3
                      },
                      {
                        "name": "O - OCCUPANT",
                        "count": 2
                      }
                    ]
                  }
                },
                {
                  "name": "WEATHER",
                  "dtype": "object",
                  "stats": {
                    "unique_count": 1,
                    "nan_count": 0,
                    "categories": [
                      {
                        "name": "1 - CLEAR",
                        "count": 5
                      }
                    ]
                  }
                },
                {
                  "name": "ZIP",
                  "dtype": "object",
                  "stats": {
                    "unique_count": 5,
                    "nan_count": 0,
                    "categories": [
                      {
                        "name": "45233.0",
                        "count": 1
                      },
                      {
                        "name": "45204.0",
                        "count": 1
                      },
                      {
                        "name": "3 others",
                        "count": 3
                      }
                    ]
                  }
                },
                {
                  "name": "UNITTYPE",
                  "dtype": "object",
                  "stats": {
                    "unique_count": 4,
                    "nan_count": 0,
                    "categories": [
                      {
                        "name": "04 - FULL SIZE",
                        "count": 2
                      },
                      {
                        "name": "03 - MID SIZE",
                        "count": 1
                      },
                      {
                        "name": "2 others",
                        "count": 2
                      }
                    ]
                  }
                },
                {
                  "name": "CRASH_YEAR",
                  "dtype": "float64",
                  "stats": {
                    "unique_count": 3,
                    "nan_count": 0,
                    "min": "2014.0",
                    "max": "2018.0",
                    "histogram": [
                      {
                        "bin_start": 2014,
                        "bin_end": 2014.4,
                        "count": 1
                      },
                      {
                        "bin_start": 2014.4,
                        "bin_end": 2014.8,
                        "count": 0
                      },
                      {
                        "bin_start": 2014.8,
                        "bin_end": 2015.2,
                        "count": 2
                      },
                      {
                        "bin_start": 2015.2,
                        "bin_end": 2015.6,
                        "count": 0
                      },
                      {
                        "bin_start": 2015.6,
                        "bin_end": 2016,
                        "count": 0
                      },
                      {
                        "bin_start": 2016,
                        "bin_end": 2016.4,
                        "count": 0
                      },
                      {
                        "bin_start": 2016.4,
                        "bin_end": 2016.8,
                        "count": 0
                      },
                      {
                        "bin_start": 2016.8,
                        "bin_end": 2017.2,
                        "count": 0
                      },
                      {
                        "bin_start": 2017.2,
                        "bin_end": 2017.6,
                        "count": 0
                      },
                      {
                        "bin_start": 2017.6,
                        "bin_end": 2018,
                        "count": 2
                      }
                    ]
                  }
                },
                {
                  "name": "_deepnote_index_column",
                  "dtype": "int64"
                }
              ],
              "rows": [
                {
                  "Unnamed: 0": 19,
                  "ADDRESS_X": "63XX GRACELY",
                  "LATITUDE_X": 39.107808,
                  "LONGITUDE_X": -84.688195,
                  "AGE": "31-40",
                  "COMMUNITY_COUNCIL_NEIGHBORHOOD": "SAYLER PARK",
                  "CPD_NEIGHBORHOOD": "SAYLER  PARK",
                  "CRASHDATE": "06/17/2014 05:25:00 PM",
                  "CRASHLOCATION": "03 - T-INTERSECTION",
                  "CRASHSEVERITY": "3 - PROPERTY DAMAGE ONLY (PDO)",
                  "CRASHSEVERITYID": 3,
                  "DATECRASHREPORTED": "06/17/2014 05:29:00 PM",
                  "DAYOFWEEK": "TUE",
                  "GENDER": "F - FEMALE",
                  "INJURIES": "1 - NO INJURY / NONE REPORTED",
                  "INSTANCEID": "70FA6259-C675-4C87-B220-6968F167FE0E",
                  "LIGHTCONDITIONSPRIMARY": "1 - DAYLIGHT",
                  "LOCALREPORTNO": 145004877,
                  "MANNEROFCRASH": "2 - REAR-END",
                  "ROADCONDITIONSPRIMARY": "01 - DRY",
                  "ROADCONTOUR": "1 - STRAIGHT LEVEL",
                  "ROADSURFACE": "2 - BLACKTOP, BITUMINOUS, ASPHALT",
                  "SNA_NEIGHBORHOOD": "SAYLER PARK",
                  "TYPEOFPERSON": "D - DRIVER",
                  "WEATHER": "1 - CLEAR",
                  "ZIP": "45233.0",
                  "UNITTYPE": "03 - MID SIZE",
                  "CRASH_YEAR": 2014,
                  "_deepnote_index_column": 0
                },
                {
                  "Unnamed: 0": 20,
                  "ADDRESS_X": "9XX CHATEAU AV",
                  "LATITUDE_X": 39.10811,
                  "LONGITUDE_X": -84.56028,
                  "AGE": "18-25",
                  "COMMUNITY_COUNCIL_NEIGHBORHOOD": "EAST PRICE HILL",
                  "CPD_NEIGHBORHOOD": "EAST PRICE HILL",
                  "CRASHDATE": "02/15/2015 03:00:00 PM",
                  "CRASHLOCATION": "01 - NOT AN INTERSECTION",
                  "CRASHSEVERITY": "2 - INJURY",
                  "CRASHSEVERITYID": 2,
                  "DATECRASHREPORTED": "02/15/2015 03:10:00 PM",
                  "DAYOFWEEK": "SUN",
                  "GENDER": "F - FEMALE",
                  "INJURIES": "3 - NON-INCAPACITATING",
                  "INSTANCEID": "01F3FED0-EE1C-47A5-9B4C-B70516DC4154",
                  "LIGHTCONDITIONSPRIMARY": "1 - DAYLIGHT",
                  "LOCALREPORTNO": 155002081,
                  "MANNEROFCRASH": "1 - NOT COLLISION BETWEEN TWO MOTOR VEHICLES IN TRANSPORT",
                  "ROADCONDITIONSPRIMARY": "01 - DRY",
                  "ROADCONTOUR": "2 - STRAIGHT GRADE",
                  "ROADSURFACE": "2 - BLACKTOP, BITUMINOUS, ASPHALT",
                  "SNA_NEIGHBORHOOD": "EAST PRICE HILL",
                  "TYPEOFPERSON": "O - OCCUPANT",
                  "WEATHER": "1 - CLEAR",
                  "ZIP": "45204.0",
                  "UNITTYPE": "02 - COMPACT",
                  "CRASH_YEAR": 2015,
                  "_deepnote_index_column": 1
                },
                {
                  "Unnamed: 0": 21,
                  "ADDRESS_X": "30XX READING RD",
                  "LATITUDE_X": 39.135486,
                  "LONGITUDE_X": -84.49651999999999,
                  "AGE": "18-25",
                  "COMMUNITY_COUNCIL_NEIGHBORHOOD": "AVONDALE",
                  "CPD_NEIGHBORHOOD": "AVONDALE",
                  "CRASHDATE": "07/23/2015 11:54:00 PM",
                  "CRASHLOCATION": "01 - NOT AN INTERSECTION",
                  "CRASHSEVERITY": "3 - PROPERTY DAMAGE ONLY (PDO)",
                  "CRASHSEVERITYID": 3,
                  "DATECRASHREPORTED": "07/23/2015 11:54:00 PM",
                  "DAYOFWEEK": "THU",
                  "GENDER": "F - FEMALE",
                  "INJURIES": "1 - NO INJURY / NONE REPORTED",
                  "INSTANCEID": "8D65153D-2ADA-406C-998B-47533B32ACFD",
                  "LIGHTCONDITIONSPRIMARY": "4 - DARK - LIGHTED ROADWAY",
                  "LOCALREPORTNO": 155010090,
                  "MANNEROFCRASH": "7 - SIDESWIPE, SAME DIRECTION",
                  "ROADCONDITIONSPRIMARY": "01 - DRY",
                  "ROADCONTOUR": "1 - STRAIGHT LEVEL",
                  "ROADSURFACE": "2 - BLACKTOP, BITUMINOUS, ASPHALT",
                  "SNA_NEIGHBORHOOD": "AVONDALE",
                  "TYPEOFPERSON": "O - OCCUPANT",
                  "WEATHER": "1 - CLEAR",
                  "ZIP": "45206.0",
                  "UNITTYPE": "04 - FULL SIZE",
                  "CRASH_YEAR": 2015,
                  "_deepnote_index_column": 2
                },
                {
                  "Unnamed: 0": 22,
                  "ADDRESS_X": "36XX READING RD",
                  "LATITUDE_X": 39.147889,
                  "LONGITUDE_X": -84.489222,
                  "AGE": "61-70",
                  "COMMUNITY_COUNCIL_NEIGHBORHOOD": "AVONDALE",
                  "CPD_NEIGHBORHOOD": "AVONDALE",
                  "CRASHDATE": "04/21/2018 01:00:00 PM",
                  "CRASHLOCATION": "01 - NOT AN INTERSECTION",
                  "CRASHSEVERITY": "3 - PROPERTY DAMAGE ONLY (PDO)",
                  "CRASHSEVERITYID": 3,
                  "DATECRASHREPORTED": "04/21/2018 01:16:00 PM",
                  "DAYOFWEEK": "SAT",
                  "GENDER": "M - MALE",
                  "INJURIES": "1 - NO INJURY / NONE REPORTED",
                  "INSTANCEID": "3E01FFEB-D0B4-47A3-BFA9-94FD27CC454A",
                  "LIGHTCONDITIONSPRIMARY": "1 - DAYLIGHT",
                  "LOCALREPORTNO": 185005525,
                  "MANNEROFCRASH": "7 - SIDESWIPE, SAME DIRECTION",
                  "ROADCONDITIONSPRIMARY": "01 - DRY",
                  "ROADCONTOUR": "1 - STRAIGHT LEVEL",
                  "ROADSURFACE": "2 - BLACKTOP, BITUMINOUS, ASPHALT",
                  "SNA_NEIGHBORHOOD": "AVONDALE",
                  "TYPEOFPERSON": "D - DRIVER",
                  "WEATHER": "1 - CLEAR",
                  "ZIP": "45229.0",
                  "UNITTYPE": "07 - PICKUP",
                  "CRASH_YEAR": 2018,
                  "_deepnote_index_column": 3
                },
                {
                  "Unnamed: 0": 23,
                  "ADDRESS_X": "37XX WARSAW AV",
                  "LATITUDE_X": 39.110989,
                  "LONGITUDE_X": -84.573138,
                  "AGE": "31-40",
                  "COMMUNITY_COUNCIL_NEIGHBORHOOD": "EAST PRICE HILL",
                  "CPD_NEIGHBORHOOD": "EAST PRICE HILL",
                  "CRASHDATE": "09/01/2018 07:59:00 PM",
                  "CRASHLOCATION": "03 - T-INTERSECTION",
                  "CRASHSEVERITY": "3 - PROPERTY DAMAGE ONLY (PDO)",
                  "CRASHSEVERITYID": 3,
                  "DATECRASHREPORTED": "09/01/2018 07:59:00 PM",
                  "DAYOFWEEK": "SAT",
                  "GENDER": "M - MALE",
                  "INJURIES": "1 - NO INJURY / NONE REPORTED",
                  "INSTANCEID": "0798B321-FD9A-487C-AF23-6CC2F21BB124",
                  "LIGHTCONDITIONSPRIMARY": "3 - DUSK",
                  "LOCALREPORTNO": 185012267,
                  "MANNEROFCRASH": "6 - ANGLE",
                  "ROADCONDITIONSPRIMARY": "01 - DRY",
                  "ROADCONTOUR": "1 - STRAIGHT LEVEL",
                  "ROADSURFACE": "2 - BLACKTOP, BITUMINOUS, ASPHALT",
                  "SNA_NEIGHBORHOOD": "EAST PRICE HILL",
                  "TYPEOFPERSON": "D - DRIVER",
                  "WEATHER": "1 - CLEAR",
                  "ZIP": "45205.0",
                  "UNITTYPE": "04 - FULL SIZE",
                  "CRASH_YEAR": 2018,
                  "_deepnote_index_column": 4
                }
              ]
            },
            "text/plain": "   Unnamed: 0        ADDRESS_X  LATITUDE_X  LONGITUDE_X    AGE  \\\n0          19     63XX GRACELY   39.107808   -84.688195  31-40   \n1          20   9XX CHATEAU AV   39.108110   -84.560280  18-25   \n2          21  30XX READING RD   39.135486   -84.496520  18-25   \n3          22  36XX READING RD   39.147889   -84.489222  61-70   \n4          23   37XX WARSAW AV   39.110989   -84.573138  31-40   \n\n  COMMUNITY_COUNCIL_NEIGHBORHOOD CPD_NEIGHBORHOOD               CRASHDATE  \\\n0                    SAYLER PARK     SAYLER  PARK  06/17/2014 05:25:00 PM   \n1                EAST PRICE HILL  EAST PRICE HILL  02/15/2015 03:00:00 PM   \n2                       AVONDALE         AVONDALE  07/23/2015 11:54:00 PM   \n3                       AVONDALE         AVONDALE  04/21/2018 01:00:00 PM   \n4                EAST PRICE HILL  EAST PRICE HILL  09/01/2018 07:59:00 PM   \n\n              CRASHLOCATION                   CRASHSEVERITY  ...  \\\n0       03 - T-INTERSECTION  3 - PROPERTY DAMAGE ONLY (PDO)  ...   \n1  01 - NOT AN INTERSECTION                      2 - INJURY  ...   \n2  01 - NOT AN INTERSECTION  3 - PROPERTY DAMAGE ONLY (PDO)  ...   \n3  01 - NOT AN INTERSECTION  3 - PROPERTY DAMAGE ONLY (PDO)  ...   \n4       03 - T-INTERSECTION  3 - PROPERTY DAMAGE ONLY (PDO)  ...   \n\n                                       MANNEROFCRASH ROADCONDITIONSPRIMARY  \\\n0                                       2 - REAR-END              01 - DRY   \n1  1 - NOT COLLISION BETWEEN TWO MOTOR VEHICLES I...              01 - DRY   \n2                      7 - SIDESWIPE, SAME DIRECTION              01 - DRY   \n3                      7 - SIDESWIPE, SAME DIRECTION              01 - DRY   \n4                                          6 - ANGLE              01 - DRY   \n\n          ROADCONTOUR                        ROADSURFACE SNA_NEIGHBORHOOD  \\\n0  1 - STRAIGHT LEVEL  2 - BLACKTOP, BITUMINOUS, ASPHALT      SAYLER PARK   \n1  2 - STRAIGHT GRADE  2 - BLACKTOP, BITUMINOUS, ASPHALT  EAST PRICE HILL   \n2  1 - STRAIGHT LEVEL  2 - BLACKTOP, BITUMINOUS, ASPHALT         AVONDALE   \n3  1 - STRAIGHT LEVEL  2 - BLACKTOP, BITUMINOUS, ASPHALT         AVONDALE   \n4  1 - STRAIGHT LEVEL  2 - BLACKTOP, BITUMINOUS, ASPHALT  EAST PRICE HILL   \n\n   TYPEOFPERSON    WEATHER      ZIP        UNITTYPE CRASH_YEAR  \n0    D - DRIVER  1 - CLEAR  45233.0   03 - MID SIZE     2014.0  \n1  O - OCCUPANT  1 - CLEAR  45204.0    02 - COMPACT     2015.0  \n2  O - OCCUPANT  1 - CLEAR  45206.0  04 - FULL SIZE     2015.0  \n3    D - DRIVER  1 - CLEAR  45229.0     07 - PICKUP     2018.0  \n4    D - DRIVER  1 - CLEAR  45205.0  04 - FULL SIZE     2018.0  \n\n[5 rows x 28 columns]",
            "text/html": "<div>\n<style scoped>\n    .dataframe tbody tr th:only-of-type {\n        vertical-align: middle;\n    }\n\n    .dataframe tbody tr th {\n        vertical-align: top;\n    }\n\n    .dataframe thead th {\n        text-align: right;\n    }\n</style>\n<table border=\"1\" class=\"dataframe\">\n  <thead>\n    <tr style=\"text-align: right;\">\n      <th></th>\n      <th>Unnamed: 0</th>\n      <th>ADDRESS_X</th>\n      <th>LATITUDE_X</th>\n      <th>LONGITUDE_X</th>\n      <th>AGE</th>\n      <th>COMMUNITY_COUNCIL_NEIGHBORHOOD</th>\n      <th>CPD_NEIGHBORHOOD</th>\n      <th>CRASHDATE</th>\n      <th>CRASHLOCATION</th>\n      <th>CRASHSEVERITY</th>\n      <th>...</th>\n      <th>MANNEROFCRASH</th>\n      <th>ROADCONDITIONSPRIMARY</th>\n      <th>ROADCONTOUR</th>\n      <th>ROADSURFACE</th>\n      <th>SNA_NEIGHBORHOOD</th>\n      <th>TYPEOFPERSON</th>\n      <th>WEATHER</th>\n      <th>ZIP</th>\n      <th>UNITTYPE</th>\n      <th>CRASH_YEAR</th>\n    </tr>\n  </thead>\n  <tbody>\n    <tr>\n      <th>0</th>\n      <td>19</td>\n      <td>63XX GRACELY</td>\n      <td>39.107808</td>\n      <td>-84.688195</td>\n      <td>31-40</td>\n      <td>SAYLER PARK</td>\n      <td>SAYLER  PARK</td>\n      <td>06/17/2014 05:25:00 PM</td>\n      <td>03 - T-INTERSECTION</td>\n      <td>3 - PROPERTY DAMAGE ONLY (PDO)</td>\n      <td>...</td>\n      <td>2 - REAR-END</td>\n      <td>01 - DRY</td>\n      <td>1 - STRAIGHT LEVEL</td>\n      <td>2 - BLACKTOP, BITUMINOUS, ASPHALT</td>\n      <td>SAYLER PARK</td>\n      <td>D - DRIVER</td>\n      <td>1 - CLEAR</td>\n      <td>45233.0</td>\n      <td>03 - MID SIZE</td>\n      <td>2014.0</td>\n    </tr>\n    <tr>\n      <th>1</th>\n      <td>20</td>\n      <td>9XX CHATEAU AV</td>\n      <td>39.108110</td>\n      <td>-84.560280</td>\n      <td>18-25</td>\n      <td>EAST PRICE HILL</td>\n      <td>EAST PRICE HILL</td>\n      <td>02/15/2015 03:00:00 PM</td>\n      <td>01 - NOT AN INTERSECTION</td>\n      <td>2 - INJURY</td>\n      <td>...</td>\n      <td>1 - NOT COLLISION BETWEEN TWO MOTOR VEHICLES I...</td>\n      <td>01 - DRY</td>\n      <td>2 - STRAIGHT GRADE</td>\n      <td>2 - BLACKTOP, BITUMINOUS, ASPHALT</td>\n      <td>EAST PRICE HILL</td>\n      <td>O - OCCUPANT</td>\n      <td>1 - CLEAR</td>\n      <td>45204.0</td>\n      <td>02 - COMPACT</td>\n      <td>2015.0</td>\n    </tr>\n    <tr>\n      <th>2</th>\n      <td>21</td>\n      <td>30XX READING RD</td>\n      <td>39.135486</td>\n      <td>-84.496520</td>\n      <td>18-25</td>\n      <td>AVONDALE</td>\n      <td>AVONDALE</td>\n      <td>07/23/2015 11:54:00 PM</td>\n      <td>01 - NOT AN INTERSECTION</td>\n      <td>3 - PROPERTY DAMAGE ONLY (PDO)</td>\n      <td>...</td>\n      <td>7 - SIDESWIPE, SAME DIRECTION</td>\n      <td>01 - DRY</td>\n      <td>1 - STRAIGHT LEVEL</td>\n      <td>2 - BLACKTOP, BITUMINOUS, ASPHALT</td>\n      <td>AVONDALE</td>\n      <td>O - OCCUPANT</td>\n      <td>1 - CLEAR</td>\n      <td>45206.0</td>\n      <td>04 - FULL SIZE</td>\n      <td>2015.0</td>\n    </tr>\n    <tr>\n      <th>3</th>\n      <td>22</td>\n      <td>36XX READING RD</td>\n      <td>39.147889</td>\n      <td>-84.489222</td>\n      <td>61-70</td>\n      <td>AVONDALE</td>\n      <td>AVONDALE</td>\n      <td>04/21/2018 01:00:00 PM</td>\n      <td>01 - NOT AN INTERSECTION</td>\n      <td>3 - PROPERTY DAMAGE ONLY (PDO)</td>\n      <td>...</td>\n      <td>7 - SIDESWIPE, SAME DIRECTION</td>\n      <td>01 - DRY</td>\n      <td>1 - STRAIGHT LEVEL</td>\n      <td>2 - BLACKTOP, BITUMINOUS, ASPHALT</td>\n      <td>AVONDALE</td>\n      <td>D - DRIVER</td>\n      <td>1 - CLEAR</td>\n      <td>45229.0</td>\n      <td>07 - PICKUP</td>\n      <td>2018.0</td>\n    </tr>\n    <tr>\n      <th>4</th>\n      <td>23</td>\n      <td>37XX WARSAW AV</td>\n      <td>39.110989</td>\n      <td>-84.573138</td>\n      <td>31-40</td>\n      <td>EAST PRICE HILL</td>\n      <td>EAST PRICE HILL</td>\n      <td>09/01/2018 07:59:00 PM</td>\n      <td>03 - T-INTERSECTION</td>\n      <td>3 - PROPERTY DAMAGE ONLY (PDO)</td>\n      <td>...</td>\n      <td>6 - ANGLE</td>\n      <td>01 - DRY</td>\n      <td>1 - STRAIGHT LEVEL</td>\n      <td>2 - BLACKTOP, BITUMINOUS, ASPHALT</td>\n      <td>EAST PRICE HILL</td>\n      <td>D - DRIVER</td>\n      <td>1 - CLEAR</td>\n      <td>45205.0</td>\n      <td>04 - FULL SIZE</td>\n      <td>2018.0</td>\n    </tr>\n  </tbody>\n</table>\n<p>5 rows × 28 columns</p>\n</div>"
          },
          "metadata": {}
        }
      ]
    },
    {
      "cell_type": "code",
      "metadata": {
        "id": "e-0-DX91tjf7",
        "colab": {
          "base_uri": "https://localhost:8080/"
        },
        "outputId": "778ecf1a-0f04-4dce-86e6-321d547b72d9",
        "source_hash": null,
        "execution_start": 1703896561450,
        "execution_millis": 258,
        "deepnote_to_be_reexecuted": false,
        "cell_id": "faaa787313784160bc27a2505fe9ffdd",
        "deepnote_cell_type": "code"
      },
      "source": [
        "print(df.isnull().sum())"
      ],
      "execution_count": null,
      "outputs": [
        {
          "name": "stdout",
          "text": "Unnamed: 0                            0\nADDRESS_X                             3\nLATITUDE_X                            0\nLONGITUDE_X                           0\nAGE                                   0\nCOMMUNITY_COUNCIL_NEIGHBORHOOD     5666\nCPD_NEIGHBORHOOD                   5713\nCRASHDATE                             3\nCRASHLOCATION                     64651\nCRASHSEVERITY                         0\nCRASHSEVERITYID                       0\nDATECRASHREPORTED                     2\nDAYOFWEEK                             1\nGENDER                            28989\nINJURIES                            222\nINSTANCEID                            0\nLIGHTCONDITIONSPRIMARY                2\nLOCALREPORTNO                         0\nMANNEROFCRASH                         1\nROADCONDITIONSPRIMARY                 2\nROADCONTOUR                           2\nROADSURFACE                           2\nSNA_NEIGHBORHOOD                   5737\nTYPEOFPERSON                        222\nWEATHER                               2\nZIP                                6585\nUNITTYPE                            222\nCRASH_YEAR                            3\ndtype: int64\n",
          "output_type": "stream"
        }
      ]
    },
    {
      "cell_type": "code",
      "metadata": {
        "id": "KDirivl5tAW8",
        "colab": {
          "base_uri": "https://localhost:8080/"
        },
        "outputId": "e47fe992-3116-4298-f031-1bebdb37cb99",
        "source_hash": null,
        "execution_start": 1703896561711,
        "execution_millis": 1005,
        "deepnote_to_be_reexecuted": false,
        "cell_id": "9c9393be8aa446b6bf81d51e2115f00b",
        "deepnote_cell_type": "code"
      },
      "source": [
        "df=df.dropna(subset=['INJURIES'])\n",
        "df=df.dropna(subset=['WEATHER'])\n",
        "df=df.dropna(subset=['LIGHTCONDITIONSPRIMARY'])\n",
        "df=df.dropna(subset=['ZIP'])\n",
        "df=df.dropna(subset=['DAYOFWEEK'])\n",
        "df=df.dropna(subset=['CRASHSEVERITYID'])\n",
        "df=df.dropna(subset=['LATITUDE_X'])\n",
        "df=df.dropna(subset=['LONGITUDE_X'])\n",
        "df=df.dropna(subset=['CRASHSEVERITYID'])\n",
        "\n",
        "print(df.isnull().sum())\n"
      ],
      "execution_count": null,
      "outputs": [
        {
          "name": "stdout",
          "text": "Unnamed: 0                            0\nADDRESS_X                             0\nLATITUDE_X                            0\nLONGITUDE_X                           0\nAGE                                   0\nCOMMUNITY_COUNCIL_NEIGHBORHOOD     5380\nCPD_NEIGHBORHOOD                   5427\nCRASHDATE                             2\nCRASHLOCATION                     64003\nCRASHSEVERITY                         0\nCRASHSEVERITYID                       0\nDATECRASHREPORTED                     0\nDAYOFWEEK                             0\nGENDER                            28421\nINJURIES                              0\nINSTANCEID                            0\nLIGHTCONDITIONSPRIMARY                0\nLOCALREPORTNO                         0\nMANNEROFCRASH                         0\nROADCONDITIONSPRIMARY                 0\nROADCONTOUR                           0\nROADSURFACE                           0\nSNA_NEIGHBORHOOD                   5442\nTYPEOFPERSON                          0\nWEATHER                               0\nZIP                                   0\nUNITTYPE                              1\nCRASH_YEAR                            2\ndtype: int64\n",
          "output_type": "stream"
        }
      ]
    },
    {
      "cell_type": "code",
      "metadata": {
        "id": "6Q9TF_eltcA9",
        "colab": {
          "height": 550,
          "base_uri": "https://localhost:8080/"
        },
        "outputId": "4207c924-13e8-4697-ae4a-10561870a288",
        "source_hash": null,
        "execution_start": 1703896562725,
        "execution_millis": 78,
        "deepnote_to_be_reexecuted": false,
        "cell_id": "dc80c347acf74dfbac64233a37c47dca",
        "deepnote_cell_type": "code"
      },
      "source": [
        "df.head()"
      ],
      "execution_count": null,
      "outputs": [
        {
          "output_type": "execute_result",
          "execution_count": 13,
          "data": {
            "application/vnd.deepnote.dataframe.v3+json": {
              "column_count": 28,
              "row_count": 5,
              "columns": [
                {
                  "name": "Unnamed: 0",
                  "dtype": "int64",
                  "stats": {
                    "unique_count": 5,
                    "nan_count": 0,
                    "min": "19",
                    "max": "23",
                    "histogram": [
                      {
                        "bin_start": 19,
                        "bin_end": 19.4,
                        "count": 1
                      },
                      {
                        "bin_start": 19.4,
                        "bin_end": 19.8,
                        "count": 0
                      },
                      {
                        "bin_start": 19.8,
                        "bin_end": 20.2,
                        "count": 1
                      },
                      {
                        "bin_start": 20.2,
                        "bin_end": 20.6,
                        "count": 0
                      },
                      {
                        "bin_start": 20.6,
                        "bin_end": 21,
                        "count": 0
                      },
                      {
                        "bin_start": 21,
                        "bin_end": 21.4,
                        "count": 1
                      },
                      {
                        "bin_start": 21.4,
                        "bin_end": 21.8,
                        "count": 0
                      },
                      {
                        "bin_start": 21.8,
                        "bin_end": 22.2,
                        "count": 1
                      },
                      {
                        "bin_start": 22.2,
                        "bin_end": 22.6,
                        "count": 0
                      },
                      {
                        "bin_start": 22.6,
                        "bin_end": 23,
                        "count": 1
                      }
                    ]
                  }
                },
                {
                  "name": "ADDRESS_X",
                  "dtype": "object",
                  "stats": {
                    "unique_count": 5,
                    "nan_count": 0,
                    "categories": [
                      {
                        "name": "63XX GRACELY",
                        "count": 1
                      },
                      {
                        "name": "9XX CHATEAU AV",
                        "count": 1
                      },
                      {
                        "name": "3 others",
                        "count": 3
                      }
                    ]
                  }
                },
                {
                  "name": "LATITUDE_X",
                  "dtype": "float64",
                  "stats": {
                    "unique_count": 5,
                    "nan_count": 0,
                    "min": "39.107808",
                    "max": "39.147889",
                    "histogram": [
                      {
                        "bin_start": 39.107808,
                        "bin_end": 39.1118161,
                        "count": 3
                      },
                      {
                        "bin_start": 39.1118161,
                        "bin_end": 39.1158242,
                        "count": 0
                      },
                      {
                        "bin_start": 39.1158242,
                        "bin_end": 39.1198323,
                        "count": 0
                      },
                      {
                        "bin_start": 39.1198323,
                        "bin_end": 39.1238404,
                        "count": 0
                      },
                      {
                        "bin_start": 39.1238404,
                        "bin_end": 39.1278485,
                        "count": 0
                      },
                      {
                        "bin_start": 39.1278485,
                        "bin_end": 39.1318566,
                        "count": 0
                      },
                      {
                        "bin_start": 39.1318566,
                        "bin_end": 39.1358647,
                        "count": 1
                      },
                      {
                        "bin_start": 39.1358647,
                        "bin_end": 39.1398728,
                        "count": 0
                      },
                      {
                        "bin_start": 39.1398728,
                        "bin_end": 39.1438809,
                        "count": 0
                      },
                      {
                        "bin_start": 39.1438809,
                        "bin_end": 39.147889,
                        "count": 1
                      }
                    ]
                  }
                },
                {
                  "name": "LONGITUDE_X",
                  "dtype": "float64",
                  "stats": {
                    "unique_count": 5,
                    "nan_count": 0,
                    "min": "-84.688195",
                    "max": "-84.489222",
                    "histogram": [
                      {
                        "bin_start": -84.688195,
                        "bin_end": -84.6682977,
                        "count": 1
                      },
                      {
                        "bin_start": -84.6682977,
                        "bin_end": -84.6484004,
                        "count": 0
                      },
                      {
                        "bin_start": -84.6484004,
                        "bin_end": -84.62850309999999,
                        "count": 0
                      },
                      {
                        "bin_start": -84.62850309999999,
                        "bin_end": -84.60860579999999,
                        "count": 0
                      },
                      {
                        "bin_start": -84.60860579999999,
                        "bin_end": -84.5887085,
                        "count": 0
                      },
                      {
                        "bin_start": -84.5887085,
                        "bin_end": -84.5688112,
                        "count": 1
                      },
                      {
                        "bin_start": -84.5688112,
                        "bin_end": -84.5489139,
                        "count": 1
                      },
                      {
                        "bin_start": -84.5489139,
                        "bin_end": -84.52901659999999,
                        "count": 0
                      },
                      {
                        "bin_start": -84.52901659999999,
                        "bin_end": -84.5091193,
                        "count": 0
                      },
                      {
                        "bin_start": -84.5091193,
                        "bin_end": -84.489222,
                        "count": 2
                      }
                    ]
                  }
                },
                {
                  "name": "AGE",
                  "dtype": "object",
                  "stats": {
                    "unique_count": 3,
                    "nan_count": 0,
                    "categories": [
                      {
                        "name": "31-40",
                        "count": 2
                      },
                      {
                        "name": "18-25",
                        "count": 2
                      },
                      {
                        "name": "61-70",
                        "count": 1
                      }
                    ]
                  }
                },
                {
                  "name": "COMMUNITY_COUNCIL_NEIGHBORHOOD",
                  "dtype": "object",
                  "stats": {
                    "unique_count": 3,
                    "nan_count": 0,
                    "categories": [
                      {
                        "name": "EAST PRICE HILL",
                        "count": 2
                      },
                      {
                        "name": "AVONDALE",
                        "count": 2
                      },
                      {
                        "name": "SAYLER PARK",
                        "count": 1
                      }
                    ]
                  }
                },
                {
                  "name": "CPD_NEIGHBORHOOD",
                  "dtype": "object",
                  "stats": {
                    "unique_count": 3,
                    "nan_count": 0,
                    "categories": [
                      {
                        "name": "EAST PRICE HILL",
                        "count": 2
                      },
                      {
                        "name": "AVONDALE",
                        "count": 2
                      },
                      {
                        "name": "SAYLER  PARK",
                        "count": 1
                      }
                    ]
                  }
                },
                {
                  "name": "CRASHDATE",
                  "dtype": "object",
                  "stats": {
                    "unique_count": 5,
                    "nan_count": 0,
                    "categories": [
                      {
                        "name": "06/17/2014 05:25:00 PM",
                        "count": 1
                      },
                      {
                        "name": "02/15/2015 03:00:00 PM",
                        "count": 1
                      },
                      {
                        "name": "3 others",
                        "count": 3
                      }
                    ]
                  }
                },
                {
                  "name": "CRASHLOCATION",
                  "dtype": "object",
                  "stats": {
                    "unique_count": 2,
                    "nan_count": 0,
                    "categories": [
                      {
                        "name": "01 - NOT AN INTERSECTION",
                        "count": 3
                      },
                      {
                        "name": "03 - T-INTERSECTION",
                        "count": 2
                      }
                    ]
                  }
                },
                {
                  "name": "CRASHSEVERITY",
                  "dtype": "object",
                  "stats": {
                    "unique_count": 2,
                    "nan_count": 0,
                    "categories": [
                      {
                        "name": "3 - PROPERTY DAMAGE ONLY (PDO)",
                        "count": 4
                      },
                      {
                        "name": "2 - INJURY",
                        "count": 1
                      }
                    ]
                  }
                },
                {
                  "name": "CRASHSEVERITYID",
                  "dtype": "float64",
                  "stats": {
                    "unique_count": 2,
                    "nan_count": 0,
                    "min": "2.0",
                    "max": "3.0",
                    "histogram": [
                      {
                        "bin_start": 2,
                        "bin_end": 2.1,
                        "count": 1
                      },
                      {
                        "bin_start": 2.1,
                        "bin_end": 2.2,
                        "count": 0
                      },
                      {
                        "bin_start": 2.2,
                        "bin_end": 2.3,
                        "count": 0
                      },
                      {
                        "bin_start": 2.3,
                        "bin_end": 2.4,
                        "count": 0
                      },
                      {
                        "bin_start": 2.4,
                        "bin_end": 2.5,
                        "count": 0
                      },
                      {
                        "bin_start": 2.5,
                        "bin_end": 2.6,
                        "count": 0
                      },
                      {
                        "bin_start": 2.6,
                        "bin_end": 2.7,
                        "count": 0
                      },
                      {
                        "bin_start": 2.7,
                        "bin_end": 2.8,
                        "count": 0
                      },
                      {
                        "bin_start": 2.8,
                        "bin_end": 2.9,
                        "count": 0
                      },
                      {
                        "bin_start": 2.9,
                        "bin_end": 3,
                        "count": 4
                      }
                    ]
                  }
                },
                {
                  "name": "DATECRASHREPORTED",
                  "dtype": "object",
                  "stats": {
                    "unique_count": 5,
                    "nan_count": 0,
                    "categories": [
                      {
                        "name": "06/17/2014 05:29:00 PM",
                        "count": 1
                      },
                      {
                        "name": "02/15/2015 03:10:00 PM",
                        "count": 1
                      },
                      {
                        "name": "3 others",
                        "count": 3
                      }
                    ]
                  }
                },
                {
                  "name": "DAYOFWEEK",
                  "dtype": "object",
                  "stats": {
                    "unique_count": 4,
                    "nan_count": 0,
                    "categories": [
                      {
                        "name": "SAT",
                        "count": 2
                      },
                      {
                        "name": "TUE",
                        "count": 1
                      },
                      {
                        "name": "2 others",
                        "count": 2
                      }
                    ]
                  }
                },
                {
                  "name": "GENDER",
                  "dtype": "object",
                  "stats": {
                    "unique_count": 2,
                    "nan_count": 0,
                    "categories": [
                      {
                        "name": "F - FEMALE",
                        "count": 3
                      },
                      {
                        "name": "M - MALE",
                        "count": 2
                      }
                    ]
                  }
                },
                {
                  "name": "INJURIES",
                  "dtype": "object",
                  "stats": {
                    "unique_count": 2,
                    "nan_count": 0,
                    "categories": [
                      {
                        "name": "1 - NO INJURY / NONE REPORTED",
                        "count": 4
                      },
                      {
                        "name": "3 - NON-INCAPACITATING",
                        "count": 1
                      }
                    ]
                  }
                },
                {
                  "name": "INSTANCEID",
                  "dtype": "object",
                  "stats": {
                    "unique_count": 5,
                    "nan_count": 0,
                    "categories": [
                      {
                        "name": "70FA6259-C675-4C87-B220-6968F167FE0E",
                        "count": 1
                      },
                      {
                        "name": "01F3FED0-EE1C-47A5-9B4C-B70516DC4154",
                        "count": 1
                      },
                      {
                        "name": "3 others",
                        "count": 3
                      }
                    ]
                  }
                },
                {
                  "name": "LIGHTCONDITIONSPRIMARY",
                  "dtype": "object",
                  "stats": {
                    "unique_count": 3,
                    "nan_count": 0,
                    "categories": [
                      {
                        "name": "1 - DAYLIGHT",
                        "count": 3
                      },
                      {
                        "name": "4 - DARK - LIGHTED ROADWAY",
                        "count": 1
                      },
                      {
                        "name": "3 - DUSK",
                        "count": 1
                      }
                    ]
                  }
                },
                {
                  "name": "LOCALREPORTNO",
                  "dtype": "int64",
                  "stats": {
                    "unique_count": 5,
                    "nan_count": 0,
                    "min": "145004877",
                    "max": "185012267",
                    "histogram": [
                      {
                        "bin_start": 145004877,
                        "bin_end": 149005616,
                        "count": 1
                      },
                      {
                        "bin_start": 149005616,
                        "bin_end": 153006355,
                        "count": 0
                      },
                      {
                        "bin_start": 153006355,
                        "bin_end": 157007094,
                        "count": 2
                      },
                      {
                        "bin_start": 157007094,
                        "bin_end": 161007833,
                        "count": 0
                      },
                      {
                        "bin_start": 161007833,
                        "bin_end": 165008572,
                        "count": 0
                      },
                      {
                        "bin_start": 165008572,
                        "bin_end": 169009311,
                        "count": 0
                      },
                      {
                        "bin_start": 169009311,
                        "bin_end": 173010050,
                        "count": 0
                      },
                      {
                        "bin_start": 173010050,
                        "bin_end": 177010789,
                        "count": 0
                      },
                      {
                        "bin_start": 177010789,
                        "bin_end": 181011528,
                        "count": 0
                      },
                      {
                        "bin_start": 181011528,
                        "bin_end": 185012267,
                        "count": 2
                      }
                    ]
                  }
                },
                {
                  "name": "MANNEROFCRASH",
                  "dtype": "object",
                  "stats": {
                    "unique_count": 4,
                    "nan_count": 0,
                    "categories": [
                      {
                        "name": "7 - SIDESWIPE, SAME DIRECTION",
                        "count": 2
                      },
                      {
                        "name": "2 - REAR-END",
                        "count": 1
                      },
                      {
                        "name": "2 others",
                        "count": 2
                      }
                    ]
                  }
                },
                {
                  "name": "ROADCONDITIONSPRIMARY",
                  "dtype": "object",
                  "stats": {
                    "unique_count": 1,
                    "nan_count": 0,
                    "categories": [
                      {
                        "name": "01 - DRY",
                        "count": 5
                      }
                    ]
                  }
                },
                {
                  "name": "ROADCONTOUR",
                  "dtype": "object",
                  "stats": {
                    "unique_count": 2,
                    "nan_count": 0,
                    "categories": [
                      {
                        "name": "1 - STRAIGHT LEVEL",
                        "count": 4
                      },
                      {
                        "name": "2 - STRAIGHT GRADE",
                        "count": 1
                      }
                    ]
                  }
                },
                {
                  "name": "ROADSURFACE",
                  "dtype": "object",
                  "stats": {
                    "unique_count": 1,
                    "nan_count": 0,
                    "categories": [
                      {
                        "name": "2 - BLACKTOP, BITUMINOUS, ASPHALT",
                        "count": 5
                      }
                    ]
                  }
                },
                {
                  "name": "SNA_NEIGHBORHOOD",
                  "dtype": "object",
                  "stats": {
                    "unique_count": 3,
                    "nan_count": 0,
                    "categories": [
                      {
                        "name": "EAST PRICE HILL",
                        "count": 2
                      },
                      {
                        "name": "AVONDALE",
                        "count": 2
                      },
                      {
                        "name": "SAYLER PARK",
                        "count": 1
                      }
                    ]
                  }
                },
                {
                  "name": "TYPEOFPERSON",
                  "dtype": "object",
                  "stats": {
                    "unique_count": 2,
                    "nan_count": 0,
                    "categories": [
                      {
                        "name": "D - DRIVER",
                        "count": 3
                      },
                      {
                        "name": "O - OCCUPANT",
                        "count": 2
                      }
                    ]
                  }
                },
                {
                  "name": "WEATHER",
                  "dtype": "object",
                  "stats": {
                    "unique_count": 1,
                    "nan_count": 0,
                    "categories": [
                      {
                        "name": "1 - CLEAR",
                        "count": 5
                      }
                    ]
                  }
                },
                {
                  "name": "ZIP",
                  "dtype": "object",
                  "stats": {
                    "unique_count": 5,
                    "nan_count": 0,
                    "categories": [
                      {
                        "name": "45233.0",
                        "count": 1
                      },
                      {
                        "name": "45204.0",
                        "count": 1
                      },
                      {
                        "name": "3 others",
                        "count": 3
                      }
                    ]
                  }
                },
                {
                  "name": "UNITTYPE",
                  "dtype": "object",
                  "stats": {
                    "unique_count": 4,
                    "nan_count": 0,
                    "categories": [
                      {
                        "name": "04 - FULL SIZE",
                        "count": 2
                      },
                      {
                        "name": "03 - MID SIZE",
                        "count": 1
                      },
                      {
                        "name": "2 others",
                        "count": 2
                      }
                    ]
                  }
                },
                {
                  "name": "CRASH_YEAR",
                  "dtype": "float64",
                  "stats": {
                    "unique_count": 3,
                    "nan_count": 0,
                    "min": "2014.0",
                    "max": "2018.0",
                    "histogram": [
                      {
                        "bin_start": 2014,
                        "bin_end": 2014.4,
                        "count": 1
                      },
                      {
                        "bin_start": 2014.4,
                        "bin_end": 2014.8,
                        "count": 0
                      },
                      {
                        "bin_start": 2014.8,
                        "bin_end": 2015.2,
                        "count": 2
                      },
                      {
                        "bin_start": 2015.2,
                        "bin_end": 2015.6,
                        "count": 0
                      },
                      {
                        "bin_start": 2015.6,
                        "bin_end": 2016,
                        "count": 0
                      },
                      {
                        "bin_start": 2016,
                        "bin_end": 2016.4,
                        "count": 0
                      },
                      {
                        "bin_start": 2016.4,
                        "bin_end": 2016.8,
                        "count": 0
                      },
                      {
                        "bin_start": 2016.8,
                        "bin_end": 2017.2,
                        "count": 0
                      },
                      {
                        "bin_start": 2017.2,
                        "bin_end": 2017.6,
                        "count": 0
                      },
                      {
                        "bin_start": 2017.6,
                        "bin_end": 2018,
                        "count": 2
                      }
                    ]
                  }
                },
                {
                  "name": "_deepnote_index_column",
                  "dtype": "int64"
                }
              ],
              "rows": [
                {
                  "Unnamed: 0": 19,
                  "ADDRESS_X": "63XX GRACELY",
                  "LATITUDE_X": 39.107808,
                  "LONGITUDE_X": -84.688195,
                  "AGE": "31-40",
                  "COMMUNITY_COUNCIL_NEIGHBORHOOD": "SAYLER PARK",
                  "CPD_NEIGHBORHOOD": "SAYLER  PARK",
                  "CRASHDATE": "06/17/2014 05:25:00 PM",
                  "CRASHLOCATION": "03 - T-INTERSECTION",
                  "CRASHSEVERITY": "3 - PROPERTY DAMAGE ONLY (PDO)",
                  "CRASHSEVERITYID": 3,
                  "DATECRASHREPORTED": "06/17/2014 05:29:00 PM",
                  "DAYOFWEEK": "TUE",
                  "GENDER": "F - FEMALE",
                  "INJURIES": "1 - NO INJURY / NONE REPORTED",
                  "INSTANCEID": "70FA6259-C675-4C87-B220-6968F167FE0E",
                  "LIGHTCONDITIONSPRIMARY": "1 - DAYLIGHT",
                  "LOCALREPORTNO": 145004877,
                  "MANNEROFCRASH": "2 - REAR-END",
                  "ROADCONDITIONSPRIMARY": "01 - DRY",
                  "ROADCONTOUR": "1 - STRAIGHT LEVEL",
                  "ROADSURFACE": "2 - BLACKTOP, BITUMINOUS, ASPHALT",
                  "SNA_NEIGHBORHOOD": "SAYLER PARK",
                  "TYPEOFPERSON": "D - DRIVER",
                  "WEATHER": "1 - CLEAR",
                  "ZIP": "45233.0",
                  "UNITTYPE": "03 - MID SIZE",
                  "CRASH_YEAR": 2014,
                  "_deepnote_index_column": 0
                },
                {
                  "Unnamed: 0": 20,
                  "ADDRESS_X": "9XX CHATEAU AV",
                  "LATITUDE_X": 39.10811,
                  "LONGITUDE_X": -84.56028,
                  "AGE": "18-25",
                  "COMMUNITY_COUNCIL_NEIGHBORHOOD": "EAST PRICE HILL",
                  "CPD_NEIGHBORHOOD": "EAST PRICE HILL",
                  "CRASHDATE": "02/15/2015 03:00:00 PM",
                  "CRASHLOCATION": "01 - NOT AN INTERSECTION",
                  "CRASHSEVERITY": "2 - INJURY",
                  "CRASHSEVERITYID": 2,
                  "DATECRASHREPORTED": "02/15/2015 03:10:00 PM",
                  "DAYOFWEEK": "SUN",
                  "GENDER": "F - FEMALE",
                  "INJURIES": "3 - NON-INCAPACITATING",
                  "INSTANCEID": "01F3FED0-EE1C-47A5-9B4C-B70516DC4154",
                  "LIGHTCONDITIONSPRIMARY": "1 - DAYLIGHT",
                  "LOCALREPORTNO": 155002081,
                  "MANNEROFCRASH": "1 - NOT COLLISION BETWEEN TWO MOTOR VEHICLES IN TRANSPORT",
                  "ROADCONDITIONSPRIMARY": "01 - DRY",
                  "ROADCONTOUR": "2 - STRAIGHT GRADE",
                  "ROADSURFACE": "2 - BLACKTOP, BITUMINOUS, ASPHALT",
                  "SNA_NEIGHBORHOOD": "EAST PRICE HILL",
                  "TYPEOFPERSON": "O - OCCUPANT",
                  "WEATHER": "1 - CLEAR",
                  "ZIP": "45204.0",
                  "UNITTYPE": "02 - COMPACT",
                  "CRASH_YEAR": 2015,
                  "_deepnote_index_column": 1
                },
                {
                  "Unnamed: 0": 21,
                  "ADDRESS_X": "30XX READING RD",
                  "LATITUDE_X": 39.135486,
                  "LONGITUDE_X": -84.49651999999999,
                  "AGE": "18-25",
                  "COMMUNITY_COUNCIL_NEIGHBORHOOD": "AVONDALE",
                  "CPD_NEIGHBORHOOD": "AVONDALE",
                  "CRASHDATE": "07/23/2015 11:54:00 PM",
                  "CRASHLOCATION": "01 - NOT AN INTERSECTION",
                  "CRASHSEVERITY": "3 - PROPERTY DAMAGE ONLY (PDO)",
                  "CRASHSEVERITYID": 3,
                  "DATECRASHREPORTED": "07/23/2015 11:54:00 PM",
                  "DAYOFWEEK": "THU",
                  "GENDER": "F - FEMALE",
                  "INJURIES": "1 - NO INJURY / NONE REPORTED",
                  "INSTANCEID": "8D65153D-2ADA-406C-998B-47533B32ACFD",
                  "LIGHTCONDITIONSPRIMARY": "4 - DARK - LIGHTED ROADWAY",
                  "LOCALREPORTNO": 155010090,
                  "MANNEROFCRASH": "7 - SIDESWIPE, SAME DIRECTION",
                  "ROADCONDITIONSPRIMARY": "01 - DRY",
                  "ROADCONTOUR": "1 - STRAIGHT LEVEL",
                  "ROADSURFACE": "2 - BLACKTOP, BITUMINOUS, ASPHALT",
                  "SNA_NEIGHBORHOOD": "AVONDALE",
                  "TYPEOFPERSON": "O - OCCUPANT",
                  "WEATHER": "1 - CLEAR",
                  "ZIP": "45206.0",
                  "UNITTYPE": "04 - FULL SIZE",
                  "CRASH_YEAR": 2015,
                  "_deepnote_index_column": 2
                },
                {
                  "Unnamed: 0": 22,
                  "ADDRESS_X": "36XX READING RD",
                  "LATITUDE_X": 39.147889,
                  "LONGITUDE_X": -84.489222,
                  "AGE": "61-70",
                  "COMMUNITY_COUNCIL_NEIGHBORHOOD": "AVONDALE",
                  "CPD_NEIGHBORHOOD": "AVONDALE",
                  "CRASHDATE": "04/21/2018 01:00:00 PM",
                  "CRASHLOCATION": "01 - NOT AN INTERSECTION",
                  "CRASHSEVERITY": "3 - PROPERTY DAMAGE ONLY (PDO)",
                  "CRASHSEVERITYID": 3,
                  "DATECRASHREPORTED": "04/21/2018 01:16:00 PM",
                  "DAYOFWEEK": "SAT",
                  "GENDER": "M - MALE",
                  "INJURIES": "1 - NO INJURY / NONE REPORTED",
                  "INSTANCEID": "3E01FFEB-D0B4-47A3-BFA9-94FD27CC454A",
                  "LIGHTCONDITIONSPRIMARY": "1 - DAYLIGHT",
                  "LOCALREPORTNO": 185005525,
                  "MANNEROFCRASH": "7 - SIDESWIPE, SAME DIRECTION",
                  "ROADCONDITIONSPRIMARY": "01 - DRY",
                  "ROADCONTOUR": "1 - STRAIGHT LEVEL",
                  "ROADSURFACE": "2 - BLACKTOP, BITUMINOUS, ASPHALT",
                  "SNA_NEIGHBORHOOD": "AVONDALE",
                  "TYPEOFPERSON": "D - DRIVER",
                  "WEATHER": "1 - CLEAR",
                  "ZIP": "45229.0",
                  "UNITTYPE": "07 - PICKUP",
                  "CRASH_YEAR": 2018,
                  "_deepnote_index_column": 3
                },
                {
                  "Unnamed: 0": 23,
                  "ADDRESS_X": "37XX WARSAW AV",
                  "LATITUDE_X": 39.110989,
                  "LONGITUDE_X": -84.573138,
                  "AGE": "31-40",
                  "COMMUNITY_COUNCIL_NEIGHBORHOOD": "EAST PRICE HILL",
                  "CPD_NEIGHBORHOOD": "EAST PRICE HILL",
                  "CRASHDATE": "09/01/2018 07:59:00 PM",
                  "CRASHLOCATION": "03 - T-INTERSECTION",
                  "CRASHSEVERITY": "3 - PROPERTY DAMAGE ONLY (PDO)",
                  "CRASHSEVERITYID": 3,
                  "DATECRASHREPORTED": "09/01/2018 07:59:00 PM",
                  "DAYOFWEEK": "SAT",
                  "GENDER": "M - MALE",
                  "INJURIES": "1 - NO INJURY / NONE REPORTED",
                  "INSTANCEID": "0798B321-FD9A-487C-AF23-6CC2F21BB124",
                  "LIGHTCONDITIONSPRIMARY": "3 - DUSK",
                  "LOCALREPORTNO": 185012267,
                  "MANNEROFCRASH": "6 - ANGLE",
                  "ROADCONDITIONSPRIMARY": "01 - DRY",
                  "ROADCONTOUR": "1 - STRAIGHT LEVEL",
                  "ROADSURFACE": "2 - BLACKTOP, BITUMINOUS, ASPHALT",
                  "SNA_NEIGHBORHOOD": "EAST PRICE HILL",
                  "TYPEOFPERSON": "D - DRIVER",
                  "WEATHER": "1 - CLEAR",
                  "ZIP": "45205.0",
                  "UNITTYPE": "04 - FULL SIZE",
                  "CRASH_YEAR": 2018,
                  "_deepnote_index_column": 4
                }
              ]
            },
            "text/plain": "   Unnamed: 0        ADDRESS_X  LATITUDE_X  LONGITUDE_X    AGE  \\\n0          19     63XX GRACELY   39.107808   -84.688195  31-40   \n1          20   9XX CHATEAU AV   39.108110   -84.560280  18-25   \n2          21  30XX READING RD   39.135486   -84.496520  18-25   \n3          22  36XX READING RD   39.147889   -84.489222  61-70   \n4          23   37XX WARSAW AV   39.110989   -84.573138  31-40   \n\n  COMMUNITY_COUNCIL_NEIGHBORHOOD CPD_NEIGHBORHOOD               CRASHDATE  \\\n0                    SAYLER PARK     SAYLER  PARK  06/17/2014 05:25:00 PM   \n1                EAST PRICE HILL  EAST PRICE HILL  02/15/2015 03:00:00 PM   \n2                       AVONDALE         AVONDALE  07/23/2015 11:54:00 PM   \n3                       AVONDALE         AVONDALE  04/21/2018 01:00:00 PM   \n4                EAST PRICE HILL  EAST PRICE HILL  09/01/2018 07:59:00 PM   \n\n              CRASHLOCATION                   CRASHSEVERITY  ...  \\\n0       03 - T-INTERSECTION  3 - PROPERTY DAMAGE ONLY (PDO)  ...   \n1  01 - NOT AN INTERSECTION                      2 - INJURY  ...   \n2  01 - NOT AN INTERSECTION  3 - PROPERTY DAMAGE ONLY (PDO)  ...   \n3  01 - NOT AN INTERSECTION  3 - PROPERTY DAMAGE ONLY (PDO)  ...   \n4       03 - T-INTERSECTION  3 - PROPERTY DAMAGE ONLY (PDO)  ...   \n\n                                       MANNEROFCRASH ROADCONDITIONSPRIMARY  \\\n0                                       2 - REAR-END              01 - DRY   \n1  1 - NOT COLLISION BETWEEN TWO MOTOR VEHICLES I...              01 - DRY   \n2                      7 - SIDESWIPE, SAME DIRECTION              01 - DRY   \n3                      7 - SIDESWIPE, SAME DIRECTION              01 - DRY   \n4                                          6 - ANGLE              01 - DRY   \n\n          ROADCONTOUR                        ROADSURFACE SNA_NEIGHBORHOOD  \\\n0  1 - STRAIGHT LEVEL  2 - BLACKTOP, BITUMINOUS, ASPHALT      SAYLER PARK   \n1  2 - STRAIGHT GRADE  2 - BLACKTOP, BITUMINOUS, ASPHALT  EAST PRICE HILL   \n2  1 - STRAIGHT LEVEL  2 - BLACKTOP, BITUMINOUS, ASPHALT         AVONDALE   \n3  1 - STRAIGHT LEVEL  2 - BLACKTOP, BITUMINOUS, ASPHALT         AVONDALE   \n4  1 - STRAIGHT LEVEL  2 - BLACKTOP, BITUMINOUS, ASPHALT  EAST PRICE HILL   \n\n   TYPEOFPERSON    WEATHER      ZIP        UNITTYPE CRASH_YEAR  \n0    D - DRIVER  1 - CLEAR  45233.0   03 - MID SIZE     2014.0  \n1  O - OCCUPANT  1 - CLEAR  45204.0    02 - COMPACT     2015.0  \n2  O - OCCUPANT  1 - CLEAR  45206.0  04 - FULL SIZE     2015.0  \n3    D - DRIVER  1 - CLEAR  45229.0     07 - PICKUP     2018.0  \n4    D - DRIVER  1 - CLEAR  45205.0  04 - FULL SIZE     2018.0  \n\n[5 rows x 28 columns]",
            "text/html": "<div>\n<style scoped>\n    .dataframe tbody tr th:only-of-type {\n        vertical-align: middle;\n    }\n\n    .dataframe tbody tr th {\n        vertical-align: top;\n    }\n\n    .dataframe thead th {\n        text-align: right;\n    }\n</style>\n<table border=\"1\" class=\"dataframe\">\n  <thead>\n    <tr style=\"text-align: right;\">\n      <th></th>\n      <th>Unnamed: 0</th>\n      <th>ADDRESS_X</th>\n      <th>LATITUDE_X</th>\n      <th>LONGITUDE_X</th>\n      <th>AGE</th>\n      <th>COMMUNITY_COUNCIL_NEIGHBORHOOD</th>\n      <th>CPD_NEIGHBORHOOD</th>\n      <th>CRASHDATE</th>\n      <th>CRASHLOCATION</th>\n      <th>CRASHSEVERITY</th>\n      <th>...</th>\n      <th>MANNEROFCRASH</th>\n      <th>ROADCONDITIONSPRIMARY</th>\n      <th>ROADCONTOUR</th>\n      <th>ROADSURFACE</th>\n      <th>SNA_NEIGHBORHOOD</th>\n      <th>TYPEOFPERSON</th>\n      <th>WEATHER</th>\n      <th>ZIP</th>\n      <th>UNITTYPE</th>\n      <th>CRASH_YEAR</th>\n    </tr>\n  </thead>\n  <tbody>\n    <tr>\n      <th>0</th>\n      <td>19</td>\n      <td>63XX GRACELY</td>\n      <td>39.107808</td>\n      <td>-84.688195</td>\n      <td>31-40</td>\n      <td>SAYLER PARK</td>\n      <td>SAYLER  PARK</td>\n      <td>06/17/2014 05:25:00 PM</td>\n      <td>03 - T-INTERSECTION</td>\n      <td>3 - PROPERTY DAMAGE ONLY (PDO)</td>\n      <td>...</td>\n      <td>2 - REAR-END</td>\n      <td>01 - DRY</td>\n      <td>1 - STRAIGHT LEVEL</td>\n      <td>2 - BLACKTOP, BITUMINOUS, ASPHALT</td>\n      <td>SAYLER PARK</td>\n      <td>D - DRIVER</td>\n      <td>1 - CLEAR</td>\n      <td>45233.0</td>\n      <td>03 - MID SIZE</td>\n      <td>2014.0</td>\n    </tr>\n    <tr>\n      <th>1</th>\n      <td>20</td>\n      <td>9XX CHATEAU AV</td>\n      <td>39.108110</td>\n      <td>-84.560280</td>\n      <td>18-25</td>\n      <td>EAST PRICE HILL</td>\n      <td>EAST PRICE HILL</td>\n      <td>02/15/2015 03:00:00 PM</td>\n      <td>01 - NOT AN INTERSECTION</td>\n      <td>2 - INJURY</td>\n      <td>...</td>\n      <td>1 - NOT COLLISION BETWEEN TWO MOTOR VEHICLES I...</td>\n      <td>01 - DRY</td>\n      <td>2 - STRAIGHT GRADE</td>\n      <td>2 - BLACKTOP, BITUMINOUS, ASPHALT</td>\n      <td>EAST PRICE HILL</td>\n      <td>O - OCCUPANT</td>\n      <td>1 - CLEAR</td>\n      <td>45204.0</td>\n      <td>02 - COMPACT</td>\n      <td>2015.0</td>\n    </tr>\n    <tr>\n      <th>2</th>\n      <td>21</td>\n      <td>30XX READING RD</td>\n      <td>39.135486</td>\n      <td>-84.496520</td>\n      <td>18-25</td>\n      <td>AVONDALE</td>\n      <td>AVONDALE</td>\n      <td>07/23/2015 11:54:00 PM</td>\n      <td>01 - NOT AN INTERSECTION</td>\n      <td>3 - PROPERTY DAMAGE ONLY (PDO)</td>\n      <td>...</td>\n      <td>7 - SIDESWIPE, SAME DIRECTION</td>\n      <td>01 - DRY</td>\n      <td>1 - STRAIGHT LEVEL</td>\n      <td>2 - BLACKTOP, BITUMINOUS, ASPHALT</td>\n      <td>AVONDALE</td>\n      <td>O - OCCUPANT</td>\n      <td>1 - CLEAR</td>\n      <td>45206.0</td>\n      <td>04 - FULL SIZE</td>\n      <td>2015.0</td>\n    </tr>\n    <tr>\n      <th>3</th>\n      <td>22</td>\n      <td>36XX READING RD</td>\n      <td>39.147889</td>\n      <td>-84.489222</td>\n      <td>61-70</td>\n      <td>AVONDALE</td>\n      <td>AVONDALE</td>\n      <td>04/21/2018 01:00:00 PM</td>\n      <td>01 - NOT AN INTERSECTION</td>\n      <td>3 - PROPERTY DAMAGE ONLY (PDO)</td>\n      <td>...</td>\n      <td>7 - SIDESWIPE, SAME DIRECTION</td>\n      <td>01 - DRY</td>\n      <td>1 - STRAIGHT LEVEL</td>\n      <td>2 - BLACKTOP, BITUMINOUS, ASPHALT</td>\n      <td>AVONDALE</td>\n      <td>D - DRIVER</td>\n      <td>1 - CLEAR</td>\n      <td>45229.0</td>\n      <td>07 - PICKUP</td>\n      <td>2018.0</td>\n    </tr>\n    <tr>\n      <th>4</th>\n      <td>23</td>\n      <td>37XX WARSAW AV</td>\n      <td>39.110989</td>\n      <td>-84.573138</td>\n      <td>31-40</td>\n      <td>EAST PRICE HILL</td>\n      <td>EAST PRICE HILL</td>\n      <td>09/01/2018 07:59:00 PM</td>\n      <td>03 - T-INTERSECTION</td>\n      <td>3 - PROPERTY DAMAGE ONLY (PDO)</td>\n      <td>...</td>\n      <td>6 - ANGLE</td>\n      <td>01 - DRY</td>\n      <td>1 - STRAIGHT LEVEL</td>\n      <td>2 - BLACKTOP, BITUMINOUS, ASPHALT</td>\n      <td>EAST PRICE HILL</td>\n      <td>D - DRIVER</td>\n      <td>1 - CLEAR</td>\n      <td>45205.0</td>\n      <td>04 - FULL SIZE</td>\n      <td>2018.0</td>\n    </tr>\n  </tbody>\n</table>\n<p>5 rows × 28 columns</p>\n</div>"
          },
          "metadata": {}
        }
      ]
    },
    {
      "cell_type": "code",
      "metadata": {
        "id": "DE1S2WGntktQ",
        "colab": {
          "height": 338,
          "base_uri": "https://localhost:8080/"
        },
        "outputId": "baccc7d4-674f-4c79-dcbe-9dc018ad74d9",
        "source_hash": null,
        "execution_start": 1703896562819,
        "execution_millis": 500,
        "deepnote_to_be_reexecuted": false,
        "cell_id": "8a333a97aabd4a758a2faad23ffa23cc",
        "deepnote_cell_type": "code"
      },
      "source": [
        "df['CRASHSEVERITY']= df['CRASHSEVERITY'].str[0].astype(int)\n",
        "print(df.dtypes)\n",
        "df.dropna()"
      ],
      "execution_count": null,
      "outputs": [
        {
          "name": "stdout",
          "text": "Unnamed: 0                          int64\nADDRESS_X                          object\nLATITUDE_X                        float64\nLONGITUDE_X                       float64\nAGE                                object\nCOMMUNITY_COUNCIL_NEIGHBORHOOD     object\nCPD_NEIGHBORHOOD                   object\nCRASHDATE                          object\nCRASHLOCATION                      object\nCRASHSEVERITY                       int64\nCRASHSEVERITYID                   float64\nDATECRASHREPORTED                  object\nDAYOFWEEK                          object\nGENDER                             object\nINJURIES                           object\nINSTANCEID                         object\nLIGHTCONDITIONSPRIMARY             object\nLOCALREPORTNO                       int64\nMANNEROFCRASH                      object\nROADCONDITIONSPRIMARY              object\nROADCONTOUR                        object\nROADSURFACE                        object\nSNA_NEIGHBORHOOD                   object\nTYPEOFPERSON                       object\nWEATHER                            object\nZIP                                object\nUNITTYPE                           object\nCRASH_YEAR                        float64\ndtype: object\n",
          "output_type": "stream"
        },
        {
          "output_type": "execute_result",
          "execution_count": 14,
          "data": {
            "application/vnd.deepnote.dataframe.v3+json": {
              "column_count": 28,
              "row_count": 163620,
              "columns": [
                {
                  "name": "Unnamed: 0",
                  "dtype": "int64"
                },
                {
                  "name": "ADDRESS_X",
                  "dtype": "object"
                },
                {
                  "name": "LATITUDE_X",
                  "dtype": "float64"
                },
                {
                  "name": "LONGITUDE_X",
                  "dtype": "float64"
                },
                {
                  "name": "AGE",
                  "dtype": "object"
                },
                {
                  "name": "COMMUNITY_COUNCIL_NEIGHBORHOOD",
                  "dtype": "object"
                },
                {
                  "name": "CPD_NEIGHBORHOOD",
                  "dtype": "object"
                },
                {
                  "name": "CRASHDATE",
                  "dtype": "object"
                },
                {
                  "name": "CRASHLOCATION",
                  "dtype": "object"
                },
                {
                  "name": "CRASHSEVERITY",
                  "dtype": "int64"
                },
                {
                  "name": "CRASHSEVERITYID",
                  "dtype": "float64"
                },
                {
                  "name": "DATECRASHREPORTED",
                  "dtype": "object"
                },
                {
                  "name": "DAYOFWEEK",
                  "dtype": "object"
                },
                {
                  "name": "GENDER",
                  "dtype": "object"
                },
                {
                  "name": "INJURIES",
                  "dtype": "object"
                },
                {
                  "name": "INSTANCEID",
                  "dtype": "object"
                },
                {
                  "name": "LIGHTCONDITIONSPRIMARY",
                  "dtype": "object"
                },
                {
                  "name": "LOCALREPORTNO",
                  "dtype": "int64"
                },
                {
                  "name": "MANNEROFCRASH",
                  "dtype": "object"
                },
                {
                  "name": "ROADCONDITIONSPRIMARY",
                  "dtype": "object"
                },
                {
                  "name": "ROADCONTOUR",
                  "dtype": "object"
                },
                {
                  "name": "ROADSURFACE",
                  "dtype": "object"
                },
                {
                  "name": "SNA_NEIGHBORHOOD",
                  "dtype": "object"
                },
                {
                  "name": "TYPEOFPERSON",
                  "dtype": "object"
                },
                {
                  "name": "WEATHER",
                  "dtype": "object"
                },
                {
                  "name": "ZIP",
                  "dtype": "object"
                },
                {
                  "name": "UNITTYPE",
                  "dtype": "object"
                },
                {
                  "name": "CRASH_YEAR",
                  "dtype": "float64"
                },
                {
                  "name": "_deepnote_index_column",
                  "dtype": "int64"
                }
              ],
              "rows": [
                {
                  "Unnamed: 0": 19,
                  "ADDRESS_X": "63XX GRACELY",
                  "LATITUDE_X": 39.107808,
                  "LONGITUDE_X": -84.688195,
                  "AGE": "31-40",
                  "COMMUNITY_COUNCIL_NEIGHBORHOOD": "SAYLER PARK",
                  "CPD_NEIGHBORHOOD": "SAYLER  PARK",
                  "CRASHDATE": "06/17/2014 05:25:00 PM",
                  "CRASHLOCATION": "03 - T-INTERSECTION",
                  "CRASHSEVERITY": 3,
                  "CRASHSEVERITYID": 3,
                  "DATECRASHREPORTED": "06/17/2014 05:29:00 PM",
                  "DAYOFWEEK": "TUE",
                  "GENDER": "F - FEMALE",
                  "INJURIES": "1 - NO INJURY / NONE REPORTED",
                  "INSTANCEID": "70FA6259-C675-4C87-B220-6968F167FE0E",
                  "LIGHTCONDITIONSPRIMARY": "1 - DAYLIGHT",
                  "LOCALREPORTNO": 145004877,
                  "MANNEROFCRASH": "2 - REAR-END",
                  "ROADCONDITIONSPRIMARY": "01 - DRY",
                  "ROADCONTOUR": "1 - STRAIGHT LEVEL",
                  "ROADSURFACE": "2 - BLACKTOP, BITUMINOUS, ASPHALT",
                  "SNA_NEIGHBORHOOD": "SAYLER PARK",
                  "TYPEOFPERSON": "D - DRIVER",
                  "WEATHER": "1 - CLEAR",
                  "ZIP": "45233.0",
                  "UNITTYPE": "03 - MID SIZE",
                  "CRASH_YEAR": 2014,
                  "_deepnote_index_column": 0
                },
                {
                  "Unnamed: 0": 20,
                  "ADDRESS_X": "9XX CHATEAU AV",
                  "LATITUDE_X": 39.10811,
                  "LONGITUDE_X": -84.56028,
                  "AGE": "18-25",
                  "COMMUNITY_COUNCIL_NEIGHBORHOOD": "EAST PRICE HILL",
                  "CPD_NEIGHBORHOOD": "EAST PRICE HILL",
                  "CRASHDATE": "02/15/2015 03:00:00 PM",
                  "CRASHLOCATION": "01 - NOT AN INTERSECTION",
                  "CRASHSEVERITY": 2,
                  "CRASHSEVERITYID": 2,
                  "DATECRASHREPORTED": "02/15/2015 03:10:00 PM",
                  "DAYOFWEEK": "SUN",
                  "GENDER": "F - FEMALE",
                  "INJURIES": "3 - NON-INCAPACITATING",
                  "INSTANCEID": "01F3FED0-EE1C-47A5-9B4C-B70516DC4154",
                  "LIGHTCONDITIONSPRIMARY": "1 - DAYLIGHT",
                  "LOCALREPORTNO": 155002081,
                  "MANNEROFCRASH": "1 - NOT COLLISION BETWEEN TWO MOTOR VEHICLES IN TRANSPORT",
                  "ROADCONDITIONSPRIMARY": "01 - DRY",
                  "ROADCONTOUR": "2 - STRAIGHT GRADE",
                  "ROADSURFACE": "2 - BLACKTOP, BITUMINOUS, ASPHALT",
                  "SNA_NEIGHBORHOOD": "EAST PRICE HILL",
                  "TYPEOFPERSON": "O - OCCUPANT",
                  "WEATHER": "1 - CLEAR",
                  "ZIP": "45204.0",
                  "UNITTYPE": "02 - COMPACT",
                  "CRASH_YEAR": 2015,
                  "_deepnote_index_column": 1
                },
                {
                  "Unnamed: 0": 21,
                  "ADDRESS_X": "30XX READING RD",
                  "LATITUDE_X": 39.135486,
                  "LONGITUDE_X": -84.49651999999999,
                  "AGE": "18-25",
                  "COMMUNITY_COUNCIL_NEIGHBORHOOD": "AVONDALE",
                  "CPD_NEIGHBORHOOD": "AVONDALE",
                  "CRASHDATE": "07/23/2015 11:54:00 PM",
                  "CRASHLOCATION": "01 - NOT AN INTERSECTION",
                  "CRASHSEVERITY": 3,
                  "CRASHSEVERITYID": 3,
                  "DATECRASHREPORTED": "07/23/2015 11:54:00 PM",
                  "DAYOFWEEK": "THU",
                  "GENDER": "F - FEMALE",
                  "INJURIES": "1 - NO INJURY / NONE REPORTED",
                  "INSTANCEID": "8D65153D-2ADA-406C-998B-47533B32ACFD",
                  "LIGHTCONDITIONSPRIMARY": "4 - DARK - LIGHTED ROADWAY",
                  "LOCALREPORTNO": 155010090,
                  "MANNEROFCRASH": "7 - SIDESWIPE, SAME DIRECTION",
                  "ROADCONDITIONSPRIMARY": "01 - DRY",
                  "ROADCONTOUR": "1 - STRAIGHT LEVEL",
                  "ROADSURFACE": "2 - BLACKTOP, BITUMINOUS, ASPHALT",
                  "SNA_NEIGHBORHOOD": "AVONDALE",
                  "TYPEOFPERSON": "O - OCCUPANT",
                  "WEATHER": "1 - CLEAR",
                  "ZIP": "45206.0",
                  "UNITTYPE": "04 - FULL SIZE",
                  "CRASH_YEAR": 2015,
                  "_deepnote_index_column": 2
                },
                {
                  "Unnamed: 0": 22,
                  "ADDRESS_X": "36XX READING RD",
                  "LATITUDE_X": 39.147889,
                  "LONGITUDE_X": -84.489222,
                  "AGE": "61-70",
                  "COMMUNITY_COUNCIL_NEIGHBORHOOD": "AVONDALE",
                  "CPD_NEIGHBORHOOD": "AVONDALE",
                  "CRASHDATE": "04/21/2018 01:00:00 PM",
                  "CRASHLOCATION": "01 - NOT AN INTERSECTION",
                  "CRASHSEVERITY": 3,
                  "CRASHSEVERITYID": 3,
                  "DATECRASHREPORTED": "04/21/2018 01:16:00 PM",
                  "DAYOFWEEK": "SAT",
                  "GENDER": "M - MALE",
                  "INJURIES": "1 - NO INJURY / NONE REPORTED",
                  "INSTANCEID": "3E01FFEB-D0B4-47A3-BFA9-94FD27CC454A",
                  "LIGHTCONDITIONSPRIMARY": "1 - DAYLIGHT",
                  "LOCALREPORTNO": 185005525,
                  "MANNEROFCRASH": "7 - SIDESWIPE, SAME DIRECTION",
                  "ROADCONDITIONSPRIMARY": "01 - DRY",
                  "ROADCONTOUR": "1 - STRAIGHT LEVEL",
                  "ROADSURFACE": "2 - BLACKTOP, BITUMINOUS, ASPHALT",
                  "SNA_NEIGHBORHOOD": "AVONDALE",
                  "TYPEOFPERSON": "D - DRIVER",
                  "WEATHER": "1 - CLEAR",
                  "ZIP": "45229.0",
                  "UNITTYPE": "07 - PICKUP",
                  "CRASH_YEAR": 2018,
                  "_deepnote_index_column": 3
                },
                {
                  "Unnamed: 0": 23,
                  "ADDRESS_X": "37XX WARSAW AV",
                  "LATITUDE_X": 39.110989,
                  "LONGITUDE_X": -84.573138,
                  "AGE": "31-40",
                  "COMMUNITY_COUNCIL_NEIGHBORHOOD": "EAST PRICE HILL",
                  "CPD_NEIGHBORHOOD": "EAST PRICE HILL",
                  "CRASHDATE": "09/01/2018 07:59:00 PM",
                  "CRASHLOCATION": "03 - T-INTERSECTION",
                  "CRASHSEVERITY": 3,
                  "CRASHSEVERITYID": 3,
                  "DATECRASHREPORTED": "09/01/2018 07:59:00 PM",
                  "DAYOFWEEK": "SAT",
                  "GENDER": "M - MALE",
                  "INJURIES": "1 - NO INJURY / NONE REPORTED",
                  "INSTANCEID": "0798B321-FD9A-487C-AF23-6CC2F21BB124",
                  "LIGHTCONDITIONSPRIMARY": "3 - DUSK",
                  "LOCALREPORTNO": 185012267,
                  "MANNEROFCRASH": "6 - ANGLE",
                  "ROADCONDITIONSPRIMARY": "01 - DRY",
                  "ROADCONTOUR": "1 - STRAIGHT LEVEL",
                  "ROADSURFACE": "2 - BLACKTOP, BITUMINOUS, ASPHALT",
                  "SNA_NEIGHBORHOOD": "EAST PRICE HILL",
                  "TYPEOFPERSON": "D - DRIVER",
                  "WEATHER": "1 - CLEAR",
                  "ZIP": "45205.0",
                  "UNITTYPE": "04 - FULL SIZE",
                  "CRASH_YEAR": 2018,
                  "_deepnote_index_column": 4
                },
                {
                  "Unnamed: 0": 26,
                  "ADDRESS_X": "73XX VINE ST",
                  "LATITUDE_X": 39.197194,
                  "LONGITUDE_X": -84.478716,
                  "AGE": "OVER 70",
                  "COMMUNITY_COUNCIL_NEIGHBORHOOD": "CARTHAGE",
                  "CPD_NEIGHBORHOOD": "CARTHAGE",
                  "CRASHDATE": "12/08/2015 01:33:00 PM",
                  "CRASHLOCATION": "02 - FOUR-WAY INTERSECTION",
                  "CRASHSEVERITY": 2,
                  "CRASHSEVERITYID": 2,
                  "DATECRASHREPORTED": "12/08/2015 01:36:00 PM",
                  "DAYOFWEEK": "TUE",
                  "GENDER": "M - MALE",
                  "INJURIES": "1 - NO INJURY / NONE REPORTED",
                  "INSTANCEID": "75B46719-DB14-4E29-9B8A-E1CE6F452795",
                  "LIGHTCONDITIONSPRIMARY": "1 - DAYLIGHT",
                  "LOCALREPORTNO": 155017959,
                  "MANNEROFCRASH": "6 - ANGLE",
                  "ROADCONDITIONSPRIMARY": "01 - DRY",
                  "ROADCONTOUR": "1 - STRAIGHT LEVEL",
                  "ROADSURFACE": "2 - BLACKTOP, BITUMINOUS, ASPHALT",
                  "SNA_NEIGHBORHOOD": "CARTHAGE",
                  "TYPEOFPERSON": "D - DRIVER",
                  "WEATHER": "1 - CLEAR",
                  "ZIP": "45216.0",
                  "UNITTYPE": "05 - MINIVAN",
                  "CRASH_YEAR": 2015,
                  "_deepnote_index_column": 7
                },
                {
                  "Unnamed: 0": 28,
                  "ADDRESS_X": "N I75 AT 9-3 MM",
                  "LATITUDE_X": 39.192888,
                  "LONGITUDE_X": -84.475975,
                  "AGE": "61-70",
                  "COMMUNITY_COUNCIL_NEIGHBORHOOD": "ROSELAWN",
                  "CPD_NEIGHBORHOOD": "ROSELAWN",
                  "CRASHDATE": "06/12/2013 04:08:00 PM",
                  "CRASHLOCATION": "01 - NOT AN INTERSECTION",
                  "CRASHSEVERITY": 3,
                  "CRASHSEVERITYID": 3,
                  "DATECRASHREPORTED": "06/12/2013 04:08:00 PM",
                  "DAYOFWEEK": "WED",
                  "GENDER": "M - MALE",
                  "INJURIES": "1 - NO INJURY / NONE REPORTED",
                  "INSTANCEID": "C8B0A05A-381B-4E39-9814-5E94E2568FB4",
                  "LIGHTCONDITIONSPRIMARY": "1 - DAYLIGHT",
                  "LOCALREPORTNO": 135007172,
                  "MANNEROFCRASH": "2 - REAR-END",
                  "ROADCONDITIONSPRIMARY": "01 - DRY",
                  "ROADCONTOUR": "1 - STRAIGHT LEVEL",
                  "ROADSURFACE": "2 - BLACKTOP, BITUMINOUS, ASPHALT",
                  "SNA_NEIGHBORHOOD": "ROSELAWN",
                  "TYPEOFPERSON": "D - DRIVER",
                  "WEATHER": "2 - CLOUDY",
                  "ZIP": "45216.0",
                  "UNITTYPE": "06 - SPORT UTILITY VEHICLE",
                  "CRASH_YEAR": 2013,
                  "_deepnote_index_column": 9
                },
                {
                  "Unnamed: 0": 29,
                  "ADDRESS_X": "59XX RIDGE AV",
                  "LATITUDE_X": 39.180341,
                  "LONGITUDE_X": -84.427204,
                  "AGE": "18-25",
                  "COMMUNITY_COUNCIL_NEIGHBORHOOD": "PLEASANT RIDGE",
                  "CPD_NEIGHBORHOOD": "PLEASANT RIDGE",
                  "CRASHDATE": "08/01/2017 04:55:27 PM",
                  "CRASHLOCATION": "02 - FOUR-WAY INTERSECTION",
                  "CRASHSEVERITY": 3,
                  "CRASHSEVERITYID": 3,
                  "DATECRASHREPORTED": "08/01/2017 05:01:41 PM",
                  "DAYOFWEEK": "TUE",
                  "GENDER": "M - MALE",
                  "INJURIES": "1 - NO INJURY / NONE REPORTED",
                  "INSTANCEID": "3475401A-6DD0-4661-9E8B-54E8364AD777",
                  "LIGHTCONDITIONSPRIMARY": "1 - DAYLIGHT",
                  "LOCALREPORTNO": 175011494,
                  "MANNEROFCRASH": "2 - REAR-END",
                  "ROADCONDITIONSPRIMARY": "01 - DRY",
                  "ROADCONTOUR": "1 - STRAIGHT LEVEL",
                  "ROADSURFACE": "1 - CONCRETE",
                  "SNA_NEIGHBORHOOD": "PLEASANT RIDGE",
                  "TYPEOFPERSON": "D - DRIVER",
                  "WEATHER": "1 - CLEAR",
                  "ZIP": "45213.0",
                  "UNITTYPE": "06 - SPORT UTILITY VEHICLE",
                  "CRASH_YEAR": 2017,
                  "_deepnote_index_column": 10
                },
                {
                  "Unnamed: 0": 30,
                  "ADDRESS_X": "16XX WALNUT ST",
                  "LATITUDE_X": 39.113551,
                  "LONGITUDE_X": -84.513403,
                  "AGE": "51-60",
                  "COMMUNITY_COUNCIL_NEIGHBORHOOD": "OTR",
                  "CPD_NEIGHBORHOOD": "OVER-THE-RHINE",
                  "CRASHDATE": "03/05/2018 07:25:53 AM",
                  "CRASHLOCATION": "03 - T-INTERSECTION",
                  "CRASHSEVERITY": 3,
                  "CRASHSEVERITYID": 3,
                  "DATECRASHREPORTED": "03/05/2018 07:29:55 AM",
                  "DAYOFWEEK": "MON",
                  "GENDER": "M - MALE",
                  "INJURIES": "1 - NO INJURY / NONE REPORTED",
                  "INSTANCEID": "ED531D35-F997-4A10-9BCC-05F78B23A20D",
                  "LIGHTCONDITIONSPRIMARY": "1 - DAYLIGHT",
                  "LOCALREPORTNO": 185003139,
                  "MANNEROFCRASH": "3 - HEAD-ON",
                  "ROADCONDITIONSPRIMARY": "01 - DRY",
                  "ROADCONTOUR": "1 - STRAIGHT LEVEL",
                  "ROADSURFACE": "1 - CONCRETE",
                  "SNA_NEIGHBORHOOD": "OVER-THE-RHINE",
                  "TYPEOFPERSON": "D - DRIVER",
                  "WEATHER": "2 - CLOUDY",
                  "ZIP": "45202.0",
                  "UNITTYPE": "06 - SPORT UTILITY VEHICLE",
                  "CRASH_YEAR": 2018,
                  "_deepnote_index_column": 11
                },
                {
                  "Unnamed: 0": 31,
                  "ADDRESS_X": "40XX GLENWAY AV",
                  "LATITUDE_X": 39.114526,
                  "LONGITUDE_X": -84.581393,
                  "AGE": "31-40",
                  "COMMUNITY_COUNCIL_NEIGHBORHOOD": "WEST PRICE HILL",
                  "CPD_NEIGHBORHOOD": "WEST PRICE HILL",
                  "CRASHDATE": "08/20/2018 02:45:00 PM",
                  "CRASHLOCATION": "01 - NOT AN INTERSECTION",
                  "CRASHSEVERITY": 3,
                  "CRASHSEVERITYID": 3,
                  "DATECRASHREPORTED": "08/20/2018 02:45:00 PM",
                  "DAYOFWEEK": "MON",
                  "GENDER": "F - FEMALE",
                  "INJURIES": "1 - NO INJURY / NONE REPORTED",
                  "INSTANCEID": "CE3CA225-84A7-4F3A-BA71-C236D70BFB2C",
                  "LIGHTCONDITIONSPRIMARY": "1 - DAYLIGHT",
                  "LOCALREPORTNO": 185011679,
                  "MANNEROFCRASH": "7 - SIDESWIPE, SAME DIRECTION",
                  "ROADCONDITIONSPRIMARY": "02 - WET",
                  "ROADCONTOUR": "1 - STRAIGHT LEVEL",
                  "ROADSURFACE": "2 - BLACKTOP, BITUMINOUS, ASPHALT",
                  "SNA_NEIGHBORHOOD": "WEST PRICE HILL",
                  "TYPEOFPERSON": "D - DRIVER",
                  "WEATHER": "4 - RAIN",
                  "ZIP": "45205.0",
                  "UNITTYPE": "02 - COMPACT",
                  "CRASH_YEAR": 2018,
                  "_deepnote_index_column": 12
                }
              ]
            },
            "text/plain": "        Unnamed: 0         ADDRESS_X  LATITUDE_X  LONGITUDE_X    AGE  \\\n0               19      63XX GRACELY   39.107808   -84.688195  31-40   \n1               20    9XX CHATEAU AV   39.108110   -84.560280  18-25   \n2               21   30XX READING RD   39.135486   -84.496520  18-25   \n3               22   36XX READING RD   39.147889   -84.489222  61-70   \n4               23    37XX WARSAW AV   39.110989   -84.573138  31-40   \n...            ...               ...         ...          ...    ...   \n258667      258686  49XX RED BANK EX   39.159659   -84.402688  61-70   \n258668      258687   31XX MONTANA AV   39.140463   -84.602730  18-25   \n258669      258688   46XX GLENWAY AV   39.113840   -84.592351  51-60   \n258670      258689     29XX BOUDINOT   39.136956   -84.605497  26-30   \n258671      258690     7XX W KING DR   39.141210   -84.531050  18-25   \n\n       COMMUNITY_COUNCIL_NEIGHBORHOOD CPD_NEIGHBORHOOD  \\\n0                         SAYLER PARK     SAYLER  PARK   \n1                     EAST PRICE HILL  EAST PRICE HILL   \n2                            AVONDALE         AVONDALE   \n3                            AVONDALE         AVONDALE   \n4                     EAST PRICE HILL  EAST PRICE HILL   \n...                               ...              ...   \n258667                   MADISONVILLE     MADISONVILLE   \n258668                       WESTWOOD         WESTWOOD   \n258669                WEST PRICE HILL  WEST PRICE HILL   \n258670                       WESTWOOD         WESTWOOD   \n258671                        CLIFTON          CLIFTON   \n\n                     CRASHDATE               CRASHLOCATION  CRASHSEVERITY  \\\n0       06/17/2014 05:25:00 PM         03 - T-INTERSECTION              3   \n1       02/15/2015 03:00:00 PM    01 - NOT AN INTERSECTION              2   \n2       07/23/2015 11:54:00 PM    01 - NOT AN INTERSECTION              3   \n3       04/21/2018 01:00:00 PM    01 - NOT AN INTERSECTION              3   \n4       09/01/2018 07:59:00 PM         03 - T-INTERSECTION              3   \n...                        ...                         ...            ...   \n258667  04/17/2018 04:46:00 PM  02 - FOUR-WAY INTERSECTION              3   \n258668  11/06/2014 10:21:00 PM  02 - FOUR-WAY INTERSECTION              3   \n258669  01/28/2015 02:41:00 PM    01 - NOT AN INTERSECTION              3   \n258670  05/31/2014 12:20:00 PM  02 - FOUR-WAY INTERSECTION              3   \n258671  11/05/2018 04:44:00 PM    01 - NOT AN INTERSECTION              3   \n\n        ...                                      MANNEROFCRASH  \\\n0       ...                                       2 - REAR-END   \n1       ...  1 - NOT COLLISION BETWEEN TWO MOTOR VEHICLES I...   \n2       ...                      7 - SIDESWIPE, SAME DIRECTION   \n3       ...                      7 - SIDESWIPE, SAME DIRECTION   \n4       ...                                          6 - ANGLE   \n...     ...                                                ...   \n258667  ...                                       2 - REAR-END   \n258668  ...                                          6 - ANGLE   \n258669  ...                      7 - SIDESWIPE, SAME DIRECTION   \n258670  ...                                          6 - ANGLE   \n258671  ...                                          6 - ANGLE   \n\n       ROADCONDITIONSPRIMARY         ROADCONTOUR  \\\n0                   01 - DRY  1 - STRAIGHT LEVEL   \n1                   01 - DRY  2 - STRAIGHT GRADE   \n2                   01 - DRY  1 - STRAIGHT LEVEL   \n3                   01 - DRY  1 - STRAIGHT LEVEL   \n4                   01 - DRY  1 - STRAIGHT LEVEL   \n...                      ...                 ...   \n258667              01 - DRY  2 - STRAIGHT GRADE   \n258668              02 - WET  1 - STRAIGHT LEVEL   \n258669              01 - DRY  1 - STRAIGHT LEVEL   \n258670              01 - DRY  1 - STRAIGHT LEVEL   \n258671              01 - DRY  1 - STRAIGHT LEVEL   \n\n                              ROADSURFACE SNA_NEIGHBORHOOD  TYPEOFPERSON  \\\n0       2 - BLACKTOP, BITUMINOUS, ASPHALT      SAYLER PARK    D - DRIVER   \n1       2 - BLACKTOP, BITUMINOUS, ASPHALT  EAST PRICE HILL  O - OCCUPANT   \n2       2 - BLACKTOP, BITUMINOUS, ASPHALT         AVONDALE  O - OCCUPANT   \n3       2 - BLACKTOP, BITUMINOUS, ASPHALT         AVONDALE    D - DRIVER   \n4       2 - BLACKTOP, BITUMINOUS, ASPHALT  EAST PRICE HILL    D - DRIVER   \n...                                   ...              ...           ...   \n258667  2 - BLACKTOP, BITUMINOUS, ASPHALT     MADISONVILLE    D - DRIVER   \n258668                       1 - CONCRETE         WESTWOOD    D - DRIVER   \n258669  2 - BLACKTOP, BITUMINOUS, ASPHALT  WEST PRICE HILL    D - DRIVER   \n258670  2 - BLACKTOP, BITUMINOUS, ASPHALT         WESTWOOD    D - DRIVER   \n258671  2 - BLACKTOP, BITUMINOUS, ASPHALT          CLIFTON    D - DRIVER   \n\n           WEATHER      ZIP                    UNITTYPE CRASH_YEAR  \n0        1 - CLEAR  45233.0               03 - MID SIZE     2014.0  \n1        1 - CLEAR  45204.0                02 - COMPACT     2015.0  \n2        1 - CLEAR  45206.0              04 - FULL SIZE     2015.0  \n3        1 - CLEAR  45229.0                 07 - PICKUP     2018.0  \n4        1 - CLEAR  45205.0              04 - FULL SIZE     2018.0  \n...            ...      ...                         ...        ...  \n258667   1 - CLEAR  45227.0  06 - SPORT UTILITY VEHICLE     2018.0  \n258668   1 - CLEAR  45211.0               03 - MID SIZE     2014.0  \n258669   1 - CLEAR  45238.0  06 - SPORT UTILITY VEHICLE     2015.0  \n258670   1 - CLEAR  45238.0              04 - FULL SIZE     2014.0  \n258671  2 - CLOUDY  45220.0               03 - MID SIZE     2018.0  \n\n[163620 rows x 28 columns]",
            "text/html": "<div>\n<style scoped>\n    .dataframe tbody tr th:only-of-type {\n        vertical-align: middle;\n    }\n\n    .dataframe tbody tr th {\n        vertical-align: top;\n    }\n\n    .dataframe thead th {\n        text-align: right;\n    }\n</style>\n<table border=\"1\" class=\"dataframe\">\n  <thead>\n    <tr style=\"text-align: right;\">\n      <th></th>\n      <th>Unnamed: 0</th>\n      <th>ADDRESS_X</th>\n      <th>LATITUDE_X</th>\n      <th>LONGITUDE_X</th>\n      <th>AGE</th>\n      <th>COMMUNITY_COUNCIL_NEIGHBORHOOD</th>\n      <th>CPD_NEIGHBORHOOD</th>\n      <th>CRASHDATE</th>\n      <th>CRASHLOCATION</th>\n      <th>CRASHSEVERITY</th>\n      <th>...</th>\n      <th>MANNEROFCRASH</th>\n      <th>ROADCONDITIONSPRIMARY</th>\n      <th>ROADCONTOUR</th>\n      <th>ROADSURFACE</th>\n      <th>SNA_NEIGHBORHOOD</th>\n      <th>TYPEOFPERSON</th>\n      <th>WEATHER</th>\n      <th>ZIP</th>\n      <th>UNITTYPE</th>\n      <th>CRASH_YEAR</th>\n    </tr>\n  </thead>\n  <tbody>\n    <tr>\n      <th>0</th>\n      <td>19</td>\n      <td>63XX GRACELY</td>\n      <td>39.107808</td>\n      <td>-84.688195</td>\n      <td>31-40</td>\n      <td>SAYLER PARK</td>\n      <td>SAYLER  PARK</td>\n      <td>06/17/2014 05:25:00 PM</td>\n      <td>03 - T-INTERSECTION</td>\n      <td>3</td>\n      <td>...</td>\n      <td>2 - REAR-END</td>\n      <td>01 - DRY</td>\n      <td>1 - STRAIGHT LEVEL</td>\n      <td>2 - BLACKTOP, BITUMINOUS, ASPHALT</td>\n      <td>SAYLER PARK</td>\n      <td>D - DRIVER</td>\n      <td>1 - CLEAR</td>\n      <td>45233.0</td>\n      <td>03 - MID SIZE</td>\n      <td>2014.0</td>\n    </tr>\n    <tr>\n      <th>1</th>\n      <td>20</td>\n      <td>9XX CHATEAU AV</td>\n      <td>39.108110</td>\n      <td>-84.560280</td>\n      <td>18-25</td>\n      <td>EAST PRICE HILL</td>\n      <td>EAST PRICE HILL</td>\n      <td>02/15/2015 03:00:00 PM</td>\n      <td>01 - NOT AN INTERSECTION</td>\n      <td>2</td>\n      <td>...</td>\n      <td>1 - NOT COLLISION BETWEEN TWO MOTOR VEHICLES I...</td>\n      <td>01 - DRY</td>\n      <td>2 - STRAIGHT GRADE</td>\n      <td>2 - BLACKTOP, BITUMINOUS, ASPHALT</td>\n      <td>EAST PRICE HILL</td>\n      <td>O - OCCUPANT</td>\n      <td>1 - CLEAR</td>\n      <td>45204.0</td>\n      <td>02 - COMPACT</td>\n      <td>2015.0</td>\n    </tr>\n    <tr>\n      <th>2</th>\n      <td>21</td>\n      <td>30XX READING RD</td>\n      <td>39.135486</td>\n      <td>-84.496520</td>\n      <td>18-25</td>\n      <td>AVONDALE</td>\n      <td>AVONDALE</td>\n      <td>07/23/2015 11:54:00 PM</td>\n      <td>01 - NOT AN INTERSECTION</td>\n      <td>3</td>\n      <td>...</td>\n      <td>7 - SIDESWIPE, SAME DIRECTION</td>\n      <td>01 - DRY</td>\n      <td>1 - STRAIGHT LEVEL</td>\n      <td>2 - BLACKTOP, BITUMINOUS, ASPHALT</td>\n      <td>AVONDALE</td>\n      <td>O - OCCUPANT</td>\n      <td>1 - CLEAR</td>\n      <td>45206.0</td>\n      <td>04 - FULL SIZE</td>\n      <td>2015.0</td>\n    </tr>\n    <tr>\n      <th>3</th>\n      <td>22</td>\n      <td>36XX READING RD</td>\n      <td>39.147889</td>\n      <td>-84.489222</td>\n      <td>61-70</td>\n      <td>AVONDALE</td>\n      <td>AVONDALE</td>\n      <td>04/21/2018 01:00:00 PM</td>\n      <td>01 - NOT AN INTERSECTION</td>\n      <td>3</td>\n      <td>...</td>\n      <td>7 - SIDESWIPE, SAME DIRECTION</td>\n      <td>01 - DRY</td>\n      <td>1 - STRAIGHT LEVEL</td>\n      <td>2 - BLACKTOP, BITUMINOUS, ASPHALT</td>\n      <td>AVONDALE</td>\n      <td>D - DRIVER</td>\n      <td>1 - CLEAR</td>\n      <td>45229.0</td>\n      <td>07 - PICKUP</td>\n      <td>2018.0</td>\n    </tr>\n    <tr>\n      <th>4</th>\n      <td>23</td>\n      <td>37XX WARSAW AV</td>\n      <td>39.110989</td>\n      <td>-84.573138</td>\n      <td>31-40</td>\n      <td>EAST PRICE HILL</td>\n      <td>EAST PRICE HILL</td>\n      <td>09/01/2018 07:59:00 PM</td>\n      <td>03 - T-INTERSECTION</td>\n      <td>3</td>\n      <td>...</td>\n      <td>6 - ANGLE</td>\n      <td>01 - DRY</td>\n      <td>1 - STRAIGHT LEVEL</td>\n      <td>2 - BLACKTOP, BITUMINOUS, ASPHALT</td>\n      <td>EAST PRICE HILL</td>\n      <td>D - DRIVER</td>\n      <td>1 - CLEAR</td>\n      <td>45205.0</td>\n      <td>04 - FULL SIZE</td>\n      <td>2018.0</td>\n    </tr>\n    <tr>\n      <th>...</th>\n      <td>...</td>\n      <td>...</td>\n      <td>...</td>\n      <td>...</td>\n      <td>...</td>\n      <td>...</td>\n      <td>...</td>\n      <td>...</td>\n      <td>...</td>\n      <td>...</td>\n      <td>...</td>\n      <td>...</td>\n      <td>...</td>\n      <td>...</td>\n      <td>...</td>\n      <td>...</td>\n      <td>...</td>\n      <td>...</td>\n      <td>...</td>\n      <td>...</td>\n      <td>...</td>\n    </tr>\n    <tr>\n      <th>258667</th>\n      <td>258686</td>\n      <td>49XX RED BANK EX</td>\n      <td>39.159659</td>\n      <td>-84.402688</td>\n      <td>61-70</td>\n      <td>MADISONVILLE</td>\n      <td>MADISONVILLE</td>\n      <td>04/17/2018 04:46:00 PM</td>\n      <td>02 - FOUR-WAY INTERSECTION</td>\n      <td>3</td>\n      <td>...</td>\n      <td>2 - REAR-END</td>\n      <td>01 - DRY</td>\n      <td>2 - STRAIGHT GRADE</td>\n      <td>2 - BLACKTOP, BITUMINOUS, ASPHALT</td>\n      <td>MADISONVILLE</td>\n      <td>D - DRIVER</td>\n      <td>1 - CLEAR</td>\n      <td>45227.0</td>\n      <td>06 - SPORT UTILITY VEHICLE</td>\n      <td>2018.0</td>\n    </tr>\n    <tr>\n      <th>258668</th>\n      <td>258687</td>\n      <td>31XX MONTANA AV</td>\n      <td>39.140463</td>\n      <td>-84.602730</td>\n      <td>18-25</td>\n      <td>WESTWOOD</td>\n      <td>WESTWOOD</td>\n      <td>11/06/2014 10:21:00 PM</td>\n      <td>02 - FOUR-WAY INTERSECTION</td>\n      <td>3</td>\n      <td>...</td>\n      <td>6 - ANGLE</td>\n      <td>02 - WET</td>\n      <td>1 - STRAIGHT LEVEL</td>\n      <td>1 - CONCRETE</td>\n      <td>WESTWOOD</td>\n      <td>D - DRIVER</td>\n      <td>1 - CLEAR</td>\n      <td>45211.0</td>\n      <td>03 - MID SIZE</td>\n      <td>2014.0</td>\n    </tr>\n    <tr>\n      <th>258669</th>\n      <td>258688</td>\n      <td>46XX GLENWAY AV</td>\n      <td>39.113840</td>\n      <td>-84.592351</td>\n      <td>51-60</td>\n      <td>WEST PRICE HILL</td>\n      <td>WEST PRICE HILL</td>\n      <td>01/28/2015 02:41:00 PM</td>\n      <td>01 - NOT AN INTERSECTION</td>\n      <td>3</td>\n      <td>...</td>\n      <td>7 - SIDESWIPE, SAME DIRECTION</td>\n      <td>01 - DRY</td>\n      <td>1 - STRAIGHT LEVEL</td>\n      <td>2 - BLACKTOP, BITUMINOUS, ASPHALT</td>\n      <td>WEST PRICE HILL</td>\n      <td>D - DRIVER</td>\n      <td>1 - CLEAR</td>\n      <td>45238.0</td>\n      <td>06 - SPORT UTILITY VEHICLE</td>\n      <td>2015.0</td>\n    </tr>\n    <tr>\n      <th>258670</th>\n      <td>258689</td>\n      <td>29XX BOUDINOT</td>\n      <td>39.136956</td>\n      <td>-84.605497</td>\n      <td>26-30</td>\n      <td>WESTWOOD</td>\n      <td>WESTWOOD</td>\n      <td>05/31/2014 12:20:00 PM</td>\n      <td>02 - FOUR-WAY INTERSECTION</td>\n      <td>3</td>\n      <td>...</td>\n      <td>6 - ANGLE</td>\n      <td>01 - DRY</td>\n      <td>1 - STRAIGHT LEVEL</td>\n      <td>2 - BLACKTOP, BITUMINOUS, ASPHALT</td>\n      <td>WESTWOOD</td>\n      <td>D - DRIVER</td>\n      <td>1 - CLEAR</td>\n      <td>45238.0</td>\n      <td>04 - FULL SIZE</td>\n      <td>2014.0</td>\n    </tr>\n    <tr>\n      <th>258671</th>\n      <td>258690</td>\n      <td>7XX W KING DR</td>\n      <td>39.141210</td>\n      <td>-84.531050</td>\n      <td>18-25</td>\n      <td>CLIFTON</td>\n      <td>CLIFTON</td>\n      <td>11/05/2018 04:44:00 PM</td>\n      <td>01 - NOT AN INTERSECTION</td>\n      <td>3</td>\n      <td>...</td>\n      <td>6 - ANGLE</td>\n      <td>01 - DRY</td>\n      <td>1 - STRAIGHT LEVEL</td>\n      <td>2 - BLACKTOP, BITUMINOUS, ASPHALT</td>\n      <td>CLIFTON</td>\n      <td>D - DRIVER</td>\n      <td>2 - CLOUDY</td>\n      <td>45220.0</td>\n      <td>03 - MID SIZE</td>\n      <td>2018.0</td>\n    </tr>\n  </tbody>\n</table>\n<p>163620 rows × 28 columns</p>\n</div>"
          },
          "metadata": {}
        }
      ]
    },
    {
      "cell_type": "code",
      "metadata": {
        "id": "Q9wHjW9Rt4qA",
        "colab": {
          "height": 1000,
          "base_uri": "https://localhost:8080/"
        },
        "outputId": "2f340bcc-e5ba-42b8-92e3-742e6c198528",
        "source_hash": null,
        "execution_start": 1703896563345,
        "execution_millis": 76,
        "deepnote_table_state": {
          "sortBy": [],
          "filters": [],
          "pageSize": 10,
          "pageIndex": 0
        },
        "deepnote_table_loading": false,
        "deepnote_to_be_reexecuted": false,
        "cell_id": "9c425ecd07574710a532fb5ef94f8057",
        "deepnote_cell_type": "code"
      },
      "source": [
        "print(df.dtypes)\n",
        "df.head()"
      ],
      "execution_count": null,
      "outputs": [
        {
          "name": "stdout",
          "text": "Unnamed: 0                          int64\nADDRESS_X                          object\nLATITUDE_X                        float64\nLONGITUDE_X                       float64\nAGE                                object\nCOMMUNITY_COUNCIL_NEIGHBORHOOD     object\nCPD_NEIGHBORHOOD                   object\nCRASHDATE                          object\nCRASHLOCATION                      object\nCRASHSEVERITY                       int64\nCRASHSEVERITYID                   float64\nDATECRASHREPORTED                  object\nDAYOFWEEK                          object\nGENDER                             object\nINJURIES                           object\nINSTANCEID                         object\nLIGHTCONDITIONSPRIMARY             object\nLOCALREPORTNO                       int64\nMANNEROFCRASH                      object\nROADCONDITIONSPRIMARY              object\nROADCONTOUR                        object\nROADSURFACE                        object\nSNA_NEIGHBORHOOD                   object\nTYPEOFPERSON                       object\nWEATHER                            object\nZIP                                object\nUNITTYPE                           object\nCRASH_YEAR                        float64\ndtype: object\n",
          "output_type": "stream"
        },
        {
          "output_type": "execute_result",
          "execution_count": 15,
          "data": {
            "application/vnd.deepnote.dataframe.v3+json": {
              "column_count": 28,
              "row_count": 5,
              "columns": [
                {
                  "name": "Unnamed: 0",
                  "dtype": "int64",
                  "stats": {
                    "unique_count": 5,
                    "nan_count": 0,
                    "min": "19",
                    "max": "23",
                    "histogram": [
                      {
                        "bin_start": 19,
                        "bin_end": 19.4,
                        "count": 1
                      },
                      {
                        "bin_start": 19.4,
                        "bin_end": 19.8,
                        "count": 0
                      },
                      {
                        "bin_start": 19.8,
                        "bin_end": 20.2,
                        "count": 1
                      },
                      {
                        "bin_start": 20.2,
                        "bin_end": 20.6,
                        "count": 0
                      },
                      {
                        "bin_start": 20.6,
                        "bin_end": 21,
                        "count": 0
                      },
                      {
                        "bin_start": 21,
                        "bin_end": 21.4,
                        "count": 1
                      },
                      {
                        "bin_start": 21.4,
                        "bin_end": 21.8,
                        "count": 0
                      },
                      {
                        "bin_start": 21.8,
                        "bin_end": 22.2,
                        "count": 1
                      },
                      {
                        "bin_start": 22.2,
                        "bin_end": 22.6,
                        "count": 0
                      },
                      {
                        "bin_start": 22.6,
                        "bin_end": 23,
                        "count": 1
                      }
                    ]
                  }
                },
                {
                  "name": "ADDRESS_X",
                  "dtype": "object",
                  "stats": {
                    "unique_count": 5,
                    "nan_count": 0,
                    "categories": [
                      {
                        "name": "63XX GRACELY",
                        "count": 1
                      },
                      {
                        "name": "9XX CHATEAU AV",
                        "count": 1
                      },
                      {
                        "name": "3 others",
                        "count": 3
                      }
                    ]
                  }
                },
                {
                  "name": "LATITUDE_X",
                  "dtype": "float64",
                  "stats": {
                    "unique_count": 5,
                    "nan_count": 0,
                    "min": "39.107808",
                    "max": "39.147889",
                    "histogram": [
                      {
                        "bin_start": 39.107808,
                        "bin_end": 39.1118161,
                        "count": 3
                      },
                      {
                        "bin_start": 39.1118161,
                        "bin_end": 39.1158242,
                        "count": 0
                      },
                      {
                        "bin_start": 39.1158242,
                        "bin_end": 39.1198323,
                        "count": 0
                      },
                      {
                        "bin_start": 39.1198323,
                        "bin_end": 39.1238404,
                        "count": 0
                      },
                      {
                        "bin_start": 39.1238404,
                        "bin_end": 39.1278485,
                        "count": 0
                      },
                      {
                        "bin_start": 39.1278485,
                        "bin_end": 39.1318566,
                        "count": 0
                      },
                      {
                        "bin_start": 39.1318566,
                        "bin_end": 39.1358647,
                        "count": 1
                      },
                      {
                        "bin_start": 39.1358647,
                        "bin_end": 39.1398728,
                        "count": 0
                      },
                      {
                        "bin_start": 39.1398728,
                        "bin_end": 39.1438809,
                        "count": 0
                      },
                      {
                        "bin_start": 39.1438809,
                        "bin_end": 39.147889,
                        "count": 1
                      }
                    ]
                  }
                },
                {
                  "name": "LONGITUDE_X",
                  "dtype": "float64",
                  "stats": {
                    "unique_count": 5,
                    "nan_count": 0,
                    "min": "-84.688195",
                    "max": "-84.489222",
                    "histogram": [
                      {
                        "bin_start": -84.688195,
                        "bin_end": -84.6682977,
                        "count": 1
                      },
                      {
                        "bin_start": -84.6682977,
                        "bin_end": -84.6484004,
                        "count": 0
                      },
                      {
                        "bin_start": -84.6484004,
                        "bin_end": -84.62850309999999,
                        "count": 0
                      },
                      {
                        "bin_start": -84.62850309999999,
                        "bin_end": -84.60860579999999,
                        "count": 0
                      },
                      {
                        "bin_start": -84.60860579999999,
                        "bin_end": -84.5887085,
                        "count": 0
                      },
                      {
                        "bin_start": -84.5887085,
                        "bin_end": -84.5688112,
                        "count": 1
                      },
                      {
                        "bin_start": -84.5688112,
                        "bin_end": -84.5489139,
                        "count": 1
                      },
                      {
                        "bin_start": -84.5489139,
                        "bin_end": -84.52901659999999,
                        "count": 0
                      },
                      {
                        "bin_start": -84.52901659999999,
                        "bin_end": -84.5091193,
                        "count": 0
                      },
                      {
                        "bin_start": -84.5091193,
                        "bin_end": -84.489222,
                        "count": 2
                      }
                    ]
                  }
                },
                {
                  "name": "AGE",
                  "dtype": "object",
                  "stats": {
                    "unique_count": 3,
                    "nan_count": 0,
                    "categories": [
                      {
                        "name": "31-40",
                        "count": 2
                      },
                      {
                        "name": "18-25",
                        "count": 2
                      },
                      {
                        "name": "61-70",
                        "count": 1
                      }
                    ]
                  }
                },
                {
                  "name": "COMMUNITY_COUNCIL_NEIGHBORHOOD",
                  "dtype": "object",
                  "stats": {
                    "unique_count": 3,
                    "nan_count": 0,
                    "categories": [
                      {
                        "name": "EAST PRICE HILL",
                        "count": 2
                      },
                      {
                        "name": "AVONDALE",
                        "count": 2
                      },
                      {
                        "name": "SAYLER PARK",
                        "count": 1
                      }
                    ]
                  }
                },
                {
                  "name": "CPD_NEIGHBORHOOD",
                  "dtype": "object",
                  "stats": {
                    "unique_count": 3,
                    "nan_count": 0,
                    "categories": [
                      {
                        "name": "EAST PRICE HILL",
                        "count": 2
                      },
                      {
                        "name": "AVONDALE",
                        "count": 2
                      },
                      {
                        "name": "SAYLER  PARK",
                        "count": 1
                      }
                    ]
                  }
                },
                {
                  "name": "CRASHDATE",
                  "dtype": "object",
                  "stats": {
                    "unique_count": 5,
                    "nan_count": 0,
                    "categories": [
                      {
                        "name": "06/17/2014 05:25:00 PM",
                        "count": 1
                      },
                      {
                        "name": "02/15/2015 03:00:00 PM",
                        "count": 1
                      },
                      {
                        "name": "3 others",
                        "count": 3
                      }
                    ]
                  }
                },
                {
                  "name": "CRASHLOCATION",
                  "dtype": "object",
                  "stats": {
                    "unique_count": 2,
                    "nan_count": 0,
                    "categories": [
                      {
                        "name": "01 - NOT AN INTERSECTION",
                        "count": 3
                      },
                      {
                        "name": "03 - T-INTERSECTION",
                        "count": 2
                      }
                    ]
                  }
                },
                {
                  "name": "CRASHSEVERITY",
                  "dtype": "int64",
                  "stats": {
                    "unique_count": 2,
                    "nan_count": 0,
                    "min": "2",
                    "max": "3",
                    "histogram": [
                      {
                        "bin_start": 2,
                        "bin_end": 2.1,
                        "count": 1
                      },
                      {
                        "bin_start": 2.1,
                        "bin_end": 2.2,
                        "count": 0
                      },
                      {
                        "bin_start": 2.2,
                        "bin_end": 2.3,
                        "count": 0
                      },
                      {
                        "bin_start": 2.3,
                        "bin_end": 2.4,
                        "count": 0
                      },
                      {
                        "bin_start": 2.4,
                        "bin_end": 2.5,
                        "count": 0
                      },
                      {
                        "bin_start": 2.5,
                        "bin_end": 2.6,
                        "count": 0
                      },
                      {
                        "bin_start": 2.6,
                        "bin_end": 2.7,
                        "count": 0
                      },
                      {
                        "bin_start": 2.7,
                        "bin_end": 2.8,
                        "count": 0
                      },
                      {
                        "bin_start": 2.8,
                        "bin_end": 2.9,
                        "count": 0
                      },
                      {
                        "bin_start": 2.9,
                        "bin_end": 3,
                        "count": 4
                      }
                    ]
                  }
                },
                {
                  "name": "CRASHSEVERITYID",
                  "dtype": "float64",
                  "stats": {
                    "unique_count": 2,
                    "nan_count": 0,
                    "min": "2.0",
                    "max": "3.0",
                    "histogram": [
                      {
                        "bin_start": 2,
                        "bin_end": 2.1,
                        "count": 1
                      },
                      {
                        "bin_start": 2.1,
                        "bin_end": 2.2,
                        "count": 0
                      },
                      {
                        "bin_start": 2.2,
                        "bin_end": 2.3,
                        "count": 0
                      },
                      {
                        "bin_start": 2.3,
                        "bin_end": 2.4,
                        "count": 0
                      },
                      {
                        "bin_start": 2.4,
                        "bin_end": 2.5,
                        "count": 0
                      },
                      {
                        "bin_start": 2.5,
                        "bin_end": 2.6,
                        "count": 0
                      },
                      {
                        "bin_start": 2.6,
                        "bin_end": 2.7,
                        "count": 0
                      },
                      {
                        "bin_start": 2.7,
                        "bin_end": 2.8,
                        "count": 0
                      },
                      {
                        "bin_start": 2.8,
                        "bin_end": 2.9,
                        "count": 0
                      },
                      {
                        "bin_start": 2.9,
                        "bin_end": 3,
                        "count": 4
                      }
                    ]
                  }
                },
                {
                  "name": "DATECRASHREPORTED",
                  "dtype": "object",
                  "stats": {
                    "unique_count": 5,
                    "nan_count": 0,
                    "categories": [
                      {
                        "name": "06/17/2014 05:29:00 PM",
                        "count": 1
                      },
                      {
                        "name": "02/15/2015 03:10:00 PM",
                        "count": 1
                      },
                      {
                        "name": "3 others",
                        "count": 3
                      }
                    ]
                  }
                },
                {
                  "name": "DAYOFWEEK",
                  "dtype": "object",
                  "stats": {
                    "unique_count": 4,
                    "nan_count": 0,
                    "categories": [
                      {
                        "name": "SAT",
                        "count": 2
                      },
                      {
                        "name": "TUE",
                        "count": 1
                      },
                      {
                        "name": "2 others",
                        "count": 2
                      }
                    ]
                  }
                },
                {
                  "name": "GENDER",
                  "dtype": "object",
                  "stats": {
                    "unique_count": 2,
                    "nan_count": 0,
                    "categories": [
                      {
                        "name": "F - FEMALE",
                        "count": 3
                      },
                      {
                        "name": "M - MALE",
                        "count": 2
                      }
                    ]
                  }
                },
                {
                  "name": "INJURIES",
                  "dtype": "object",
                  "stats": {
                    "unique_count": 2,
                    "nan_count": 0,
                    "categories": [
                      {
                        "name": "1 - NO INJURY / NONE REPORTED",
                        "count": 4
                      },
                      {
                        "name": "3 - NON-INCAPACITATING",
                        "count": 1
                      }
                    ]
                  }
                },
                {
                  "name": "INSTANCEID",
                  "dtype": "object",
                  "stats": {
                    "unique_count": 5,
                    "nan_count": 0,
                    "categories": [
                      {
                        "name": "70FA6259-C675-4C87-B220-6968F167FE0E",
                        "count": 1
                      },
                      {
                        "name": "01F3FED0-EE1C-47A5-9B4C-B70516DC4154",
                        "count": 1
                      },
                      {
                        "name": "3 others",
                        "count": 3
                      }
                    ]
                  }
                },
                {
                  "name": "LIGHTCONDITIONSPRIMARY",
                  "dtype": "object",
                  "stats": {
                    "unique_count": 3,
                    "nan_count": 0,
                    "categories": [
                      {
                        "name": "1 - DAYLIGHT",
                        "count": 3
                      },
                      {
                        "name": "4 - DARK - LIGHTED ROADWAY",
                        "count": 1
                      },
                      {
                        "name": "3 - DUSK",
                        "count": 1
                      }
                    ]
                  }
                },
                {
                  "name": "LOCALREPORTNO",
                  "dtype": "int64",
                  "stats": {
                    "unique_count": 5,
                    "nan_count": 0,
                    "min": "145004877",
                    "max": "185012267",
                    "histogram": [
                      {
                        "bin_start": 145004877,
                        "bin_end": 149005616,
                        "count": 1
                      },
                      {
                        "bin_start": 149005616,
                        "bin_end": 153006355,
                        "count": 0
                      },
                      {
                        "bin_start": 153006355,
                        "bin_end": 157007094,
                        "count": 2
                      },
                      {
                        "bin_start": 157007094,
                        "bin_end": 161007833,
                        "count": 0
                      },
                      {
                        "bin_start": 161007833,
                        "bin_end": 165008572,
                        "count": 0
                      },
                      {
                        "bin_start": 165008572,
                        "bin_end": 169009311,
                        "count": 0
                      },
                      {
                        "bin_start": 169009311,
                        "bin_end": 173010050,
                        "count": 0
                      },
                      {
                        "bin_start": 173010050,
                        "bin_end": 177010789,
                        "count": 0
                      },
                      {
                        "bin_start": 177010789,
                        "bin_end": 181011528,
                        "count": 0
                      },
                      {
                        "bin_start": 181011528,
                        "bin_end": 185012267,
                        "count": 2
                      }
                    ]
                  }
                },
                {
                  "name": "MANNEROFCRASH",
                  "dtype": "object",
                  "stats": {
                    "unique_count": 4,
                    "nan_count": 0,
                    "categories": [
                      {
                        "name": "7 - SIDESWIPE, SAME DIRECTION",
                        "count": 2
                      },
                      {
                        "name": "2 - REAR-END",
                        "count": 1
                      },
                      {
                        "name": "2 others",
                        "count": 2
                      }
                    ]
                  }
                },
                {
                  "name": "ROADCONDITIONSPRIMARY",
                  "dtype": "object",
                  "stats": {
                    "unique_count": 1,
                    "nan_count": 0,
                    "categories": [
                      {
                        "name": "01 - DRY",
                        "count": 5
                      }
                    ]
                  }
                },
                {
                  "name": "ROADCONTOUR",
                  "dtype": "object",
                  "stats": {
                    "unique_count": 2,
                    "nan_count": 0,
                    "categories": [
                      {
                        "name": "1 - STRAIGHT LEVEL",
                        "count": 4
                      },
                      {
                        "name": "2 - STRAIGHT GRADE",
                        "count": 1
                      }
                    ]
                  }
                },
                {
                  "name": "ROADSURFACE",
                  "dtype": "object",
                  "stats": {
                    "unique_count": 1,
                    "nan_count": 0,
                    "categories": [
                      {
                        "name": "2 - BLACKTOP, BITUMINOUS, ASPHALT",
                        "count": 5
                      }
                    ]
                  }
                },
                {
                  "name": "SNA_NEIGHBORHOOD",
                  "dtype": "object",
                  "stats": {
                    "unique_count": 3,
                    "nan_count": 0,
                    "categories": [
                      {
                        "name": "EAST PRICE HILL",
                        "count": 2
                      },
                      {
                        "name": "AVONDALE",
                        "count": 2
                      },
                      {
                        "name": "SAYLER PARK",
                        "count": 1
                      }
                    ]
                  }
                },
                {
                  "name": "TYPEOFPERSON",
                  "dtype": "object",
                  "stats": {
                    "unique_count": 2,
                    "nan_count": 0,
                    "categories": [
                      {
                        "name": "D - DRIVER",
                        "count": 3
                      },
                      {
                        "name": "O - OCCUPANT",
                        "count": 2
                      }
                    ]
                  }
                },
                {
                  "name": "WEATHER",
                  "dtype": "object",
                  "stats": {
                    "unique_count": 1,
                    "nan_count": 0,
                    "categories": [
                      {
                        "name": "1 - CLEAR",
                        "count": 5
                      }
                    ]
                  }
                },
                {
                  "name": "ZIP",
                  "dtype": "object",
                  "stats": {
                    "unique_count": 5,
                    "nan_count": 0,
                    "categories": [
                      {
                        "name": "45233.0",
                        "count": 1
                      },
                      {
                        "name": "45204.0",
                        "count": 1
                      },
                      {
                        "name": "3 others",
                        "count": 3
                      }
                    ]
                  }
                },
                {
                  "name": "UNITTYPE",
                  "dtype": "object",
                  "stats": {
                    "unique_count": 4,
                    "nan_count": 0,
                    "categories": [
                      {
                        "name": "04 - FULL SIZE",
                        "count": 2
                      },
                      {
                        "name": "03 - MID SIZE",
                        "count": 1
                      },
                      {
                        "name": "2 others",
                        "count": 2
                      }
                    ]
                  }
                },
                {
                  "name": "CRASH_YEAR",
                  "dtype": "float64",
                  "stats": {
                    "unique_count": 3,
                    "nan_count": 0,
                    "min": "2014.0",
                    "max": "2018.0",
                    "histogram": [
                      {
                        "bin_start": 2014,
                        "bin_end": 2014.4,
                        "count": 1
                      },
                      {
                        "bin_start": 2014.4,
                        "bin_end": 2014.8,
                        "count": 0
                      },
                      {
                        "bin_start": 2014.8,
                        "bin_end": 2015.2,
                        "count": 2
                      },
                      {
                        "bin_start": 2015.2,
                        "bin_end": 2015.6,
                        "count": 0
                      },
                      {
                        "bin_start": 2015.6,
                        "bin_end": 2016,
                        "count": 0
                      },
                      {
                        "bin_start": 2016,
                        "bin_end": 2016.4,
                        "count": 0
                      },
                      {
                        "bin_start": 2016.4,
                        "bin_end": 2016.8,
                        "count": 0
                      },
                      {
                        "bin_start": 2016.8,
                        "bin_end": 2017.2,
                        "count": 0
                      },
                      {
                        "bin_start": 2017.2,
                        "bin_end": 2017.6,
                        "count": 0
                      },
                      {
                        "bin_start": 2017.6,
                        "bin_end": 2018,
                        "count": 2
                      }
                    ]
                  }
                },
                {
                  "name": "_deepnote_index_column",
                  "dtype": "int64"
                }
              ],
              "rows": [
                {
                  "Unnamed: 0": 19,
                  "ADDRESS_X": "63XX GRACELY",
                  "LATITUDE_X": 39.107808,
                  "LONGITUDE_X": -84.688195,
                  "AGE": "31-40",
                  "COMMUNITY_COUNCIL_NEIGHBORHOOD": "SAYLER PARK",
                  "CPD_NEIGHBORHOOD": "SAYLER  PARK",
                  "CRASHDATE": "06/17/2014 05:25:00 PM",
                  "CRASHLOCATION": "03 - T-INTERSECTION",
                  "CRASHSEVERITY": 3,
                  "CRASHSEVERITYID": 3,
                  "DATECRASHREPORTED": "06/17/2014 05:29:00 PM",
                  "DAYOFWEEK": "TUE",
                  "GENDER": "F - FEMALE",
                  "INJURIES": "1 - NO INJURY / NONE REPORTED",
                  "INSTANCEID": "70FA6259-C675-4C87-B220-6968F167FE0E",
                  "LIGHTCONDITIONSPRIMARY": "1 - DAYLIGHT",
                  "LOCALREPORTNO": 145004877,
                  "MANNEROFCRASH": "2 - REAR-END",
                  "ROADCONDITIONSPRIMARY": "01 - DRY",
                  "ROADCONTOUR": "1 - STRAIGHT LEVEL",
                  "ROADSURFACE": "2 - BLACKTOP, BITUMINOUS, ASPHALT",
                  "SNA_NEIGHBORHOOD": "SAYLER PARK",
                  "TYPEOFPERSON": "D - DRIVER",
                  "WEATHER": "1 - CLEAR",
                  "ZIP": "45233.0",
                  "UNITTYPE": "03 - MID SIZE",
                  "CRASH_YEAR": 2014,
                  "_deepnote_index_column": 0
                },
                {
                  "Unnamed: 0": 20,
                  "ADDRESS_X": "9XX CHATEAU AV",
                  "LATITUDE_X": 39.10811,
                  "LONGITUDE_X": -84.56028,
                  "AGE": "18-25",
                  "COMMUNITY_COUNCIL_NEIGHBORHOOD": "EAST PRICE HILL",
                  "CPD_NEIGHBORHOOD": "EAST PRICE HILL",
                  "CRASHDATE": "02/15/2015 03:00:00 PM",
                  "CRASHLOCATION": "01 - NOT AN INTERSECTION",
                  "CRASHSEVERITY": 2,
                  "CRASHSEVERITYID": 2,
                  "DATECRASHREPORTED": "02/15/2015 03:10:00 PM",
                  "DAYOFWEEK": "SUN",
                  "GENDER": "F - FEMALE",
                  "INJURIES": "3 - NON-INCAPACITATING",
                  "INSTANCEID": "01F3FED0-EE1C-47A5-9B4C-B70516DC4154",
                  "LIGHTCONDITIONSPRIMARY": "1 - DAYLIGHT",
                  "LOCALREPORTNO": 155002081,
                  "MANNEROFCRASH": "1 - NOT COLLISION BETWEEN TWO MOTOR VEHICLES IN TRANSPORT",
                  "ROADCONDITIONSPRIMARY": "01 - DRY",
                  "ROADCONTOUR": "2 - STRAIGHT GRADE",
                  "ROADSURFACE": "2 - BLACKTOP, BITUMINOUS, ASPHALT",
                  "SNA_NEIGHBORHOOD": "EAST PRICE HILL",
                  "TYPEOFPERSON": "O - OCCUPANT",
                  "WEATHER": "1 - CLEAR",
                  "ZIP": "45204.0",
                  "UNITTYPE": "02 - COMPACT",
                  "CRASH_YEAR": 2015,
                  "_deepnote_index_column": 1
                },
                {
                  "Unnamed: 0": 21,
                  "ADDRESS_X": "30XX READING RD",
                  "LATITUDE_X": 39.135486,
                  "LONGITUDE_X": -84.49651999999999,
                  "AGE": "18-25",
                  "COMMUNITY_COUNCIL_NEIGHBORHOOD": "AVONDALE",
                  "CPD_NEIGHBORHOOD": "AVONDALE",
                  "CRASHDATE": "07/23/2015 11:54:00 PM",
                  "CRASHLOCATION": "01 - NOT AN INTERSECTION",
                  "CRASHSEVERITY": 3,
                  "CRASHSEVERITYID": 3,
                  "DATECRASHREPORTED": "07/23/2015 11:54:00 PM",
                  "DAYOFWEEK": "THU",
                  "GENDER": "F - FEMALE",
                  "INJURIES": "1 - NO INJURY / NONE REPORTED",
                  "INSTANCEID": "8D65153D-2ADA-406C-998B-47533B32ACFD",
                  "LIGHTCONDITIONSPRIMARY": "4 - DARK - LIGHTED ROADWAY",
                  "LOCALREPORTNO": 155010090,
                  "MANNEROFCRASH": "7 - SIDESWIPE, SAME DIRECTION",
                  "ROADCONDITIONSPRIMARY": "01 - DRY",
                  "ROADCONTOUR": "1 - STRAIGHT LEVEL",
                  "ROADSURFACE": "2 - BLACKTOP, BITUMINOUS, ASPHALT",
                  "SNA_NEIGHBORHOOD": "AVONDALE",
                  "TYPEOFPERSON": "O - OCCUPANT",
                  "WEATHER": "1 - CLEAR",
                  "ZIP": "45206.0",
                  "UNITTYPE": "04 - FULL SIZE",
                  "CRASH_YEAR": 2015,
                  "_deepnote_index_column": 2
                },
                {
                  "Unnamed: 0": 22,
                  "ADDRESS_X": "36XX READING RD",
                  "LATITUDE_X": 39.147889,
                  "LONGITUDE_X": -84.489222,
                  "AGE": "61-70",
                  "COMMUNITY_COUNCIL_NEIGHBORHOOD": "AVONDALE",
                  "CPD_NEIGHBORHOOD": "AVONDALE",
                  "CRASHDATE": "04/21/2018 01:00:00 PM",
                  "CRASHLOCATION": "01 - NOT AN INTERSECTION",
                  "CRASHSEVERITY": 3,
                  "CRASHSEVERITYID": 3,
                  "DATECRASHREPORTED": "04/21/2018 01:16:00 PM",
                  "DAYOFWEEK": "SAT",
                  "GENDER": "M - MALE",
                  "INJURIES": "1 - NO INJURY / NONE REPORTED",
                  "INSTANCEID": "3E01FFEB-D0B4-47A3-BFA9-94FD27CC454A",
                  "LIGHTCONDITIONSPRIMARY": "1 - DAYLIGHT",
                  "LOCALREPORTNO": 185005525,
                  "MANNEROFCRASH": "7 - SIDESWIPE, SAME DIRECTION",
                  "ROADCONDITIONSPRIMARY": "01 - DRY",
                  "ROADCONTOUR": "1 - STRAIGHT LEVEL",
                  "ROADSURFACE": "2 - BLACKTOP, BITUMINOUS, ASPHALT",
                  "SNA_NEIGHBORHOOD": "AVONDALE",
                  "TYPEOFPERSON": "D - DRIVER",
                  "WEATHER": "1 - CLEAR",
                  "ZIP": "45229.0",
                  "UNITTYPE": "07 - PICKUP",
                  "CRASH_YEAR": 2018,
                  "_deepnote_index_column": 3
                },
                {
                  "Unnamed: 0": 23,
                  "ADDRESS_X": "37XX WARSAW AV",
                  "LATITUDE_X": 39.110989,
                  "LONGITUDE_X": -84.573138,
                  "AGE": "31-40",
                  "COMMUNITY_COUNCIL_NEIGHBORHOOD": "EAST PRICE HILL",
                  "CPD_NEIGHBORHOOD": "EAST PRICE HILL",
                  "CRASHDATE": "09/01/2018 07:59:00 PM",
                  "CRASHLOCATION": "03 - T-INTERSECTION",
                  "CRASHSEVERITY": 3,
                  "CRASHSEVERITYID": 3,
                  "DATECRASHREPORTED": "09/01/2018 07:59:00 PM",
                  "DAYOFWEEK": "SAT",
                  "GENDER": "M - MALE",
                  "INJURIES": "1 - NO INJURY / NONE REPORTED",
                  "INSTANCEID": "0798B321-FD9A-487C-AF23-6CC2F21BB124",
                  "LIGHTCONDITIONSPRIMARY": "3 - DUSK",
                  "LOCALREPORTNO": 185012267,
                  "MANNEROFCRASH": "6 - ANGLE",
                  "ROADCONDITIONSPRIMARY": "01 - DRY",
                  "ROADCONTOUR": "1 - STRAIGHT LEVEL",
                  "ROADSURFACE": "2 - BLACKTOP, BITUMINOUS, ASPHALT",
                  "SNA_NEIGHBORHOOD": "EAST PRICE HILL",
                  "TYPEOFPERSON": "D - DRIVER",
                  "WEATHER": "1 - CLEAR",
                  "ZIP": "45205.0",
                  "UNITTYPE": "04 - FULL SIZE",
                  "CRASH_YEAR": 2018,
                  "_deepnote_index_column": 4
                }
              ]
            },
            "text/plain": "   Unnamed: 0        ADDRESS_X  LATITUDE_X  LONGITUDE_X    AGE  \\\n0          19     63XX GRACELY   39.107808   -84.688195  31-40   \n1          20   9XX CHATEAU AV   39.108110   -84.560280  18-25   \n2          21  30XX READING RD   39.135486   -84.496520  18-25   \n3          22  36XX READING RD   39.147889   -84.489222  61-70   \n4          23   37XX WARSAW AV   39.110989   -84.573138  31-40   \n\n  COMMUNITY_COUNCIL_NEIGHBORHOOD CPD_NEIGHBORHOOD               CRASHDATE  \\\n0                    SAYLER PARK     SAYLER  PARK  06/17/2014 05:25:00 PM   \n1                EAST PRICE HILL  EAST PRICE HILL  02/15/2015 03:00:00 PM   \n2                       AVONDALE         AVONDALE  07/23/2015 11:54:00 PM   \n3                       AVONDALE         AVONDALE  04/21/2018 01:00:00 PM   \n4                EAST PRICE HILL  EAST PRICE HILL  09/01/2018 07:59:00 PM   \n\n              CRASHLOCATION  CRASHSEVERITY  ...  \\\n0       03 - T-INTERSECTION              3  ...   \n1  01 - NOT AN INTERSECTION              2  ...   \n2  01 - NOT AN INTERSECTION              3  ...   \n3  01 - NOT AN INTERSECTION              3  ...   \n4       03 - T-INTERSECTION              3  ...   \n\n                                       MANNEROFCRASH ROADCONDITIONSPRIMARY  \\\n0                                       2 - REAR-END              01 - DRY   \n1  1 - NOT COLLISION BETWEEN TWO MOTOR VEHICLES I...              01 - DRY   \n2                      7 - SIDESWIPE, SAME DIRECTION              01 - DRY   \n3                      7 - SIDESWIPE, SAME DIRECTION              01 - DRY   \n4                                          6 - ANGLE              01 - DRY   \n\n          ROADCONTOUR                        ROADSURFACE SNA_NEIGHBORHOOD  \\\n0  1 - STRAIGHT LEVEL  2 - BLACKTOP, BITUMINOUS, ASPHALT      SAYLER PARK   \n1  2 - STRAIGHT GRADE  2 - BLACKTOP, BITUMINOUS, ASPHALT  EAST PRICE HILL   \n2  1 - STRAIGHT LEVEL  2 - BLACKTOP, BITUMINOUS, ASPHALT         AVONDALE   \n3  1 - STRAIGHT LEVEL  2 - BLACKTOP, BITUMINOUS, ASPHALT         AVONDALE   \n4  1 - STRAIGHT LEVEL  2 - BLACKTOP, BITUMINOUS, ASPHALT  EAST PRICE HILL   \n\n   TYPEOFPERSON    WEATHER      ZIP        UNITTYPE CRASH_YEAR  \n0    D - DRIVER  1 - CLEAR  45233.0   03 - MID SIZE     2014.0  \n1  O - OCCUPANT  1 - CLEAR  45204.0    02 - COMPACT     2015.0  \n2  O - OCCUPANT  1 - CLEAR  45206.0  04 - FULL SIZE     2015.0  \n3    D - DRIVER  1 - CLEAR  45229.0     07 - PICKUP     2018.0  \n4    D - DRIVER  1 - CLEAR  45205.0  04 - FULL SIZE     2018.0  \n\n[5 rows x 28 columns]",
            "text/html": "<div>\n<style scoped>\n    .dataframe tbody tr th:only-of-type {\n        vertical-align: middle;\n    }\n\n    .dataframe tbody tr th {\n        vertical-align: top;\n    }\n\n    .dataframe thead th {\n        text-align: right;\n    }\n</style>\n<table border=\"1\" class=\"dataframe\">\n  <thead>\n    <tr style=\"text-align: right;\">\n      <th></th>\n      <th>Unnamed: 0</th>\n      <th>ADDRESS_X</th>\n      <th>LATITUDE_X</th>\n      <th>LONGITUDE_X</th>\n      <th>AGE</th>\n      <th>COMMUNITY_COUNCIL_NEIGHBORHOOD</th>\n      <th>CPD_NEIGHBORHOOD</th>\n      <th>CRASHDATE</th>\n      <th>CRASHLOCATION</th>\n      <th>CRASHSEVERITY</th>\n      <th>...</th>\n      <th>MANNEROFCRASH</th>\n      <th>ROADCONDITIONSPRIMARY</th>\n      <th>ROADCONTOUR</th>\n      <th>ROADSURFACE</th>\n      <th>SNA_NEIGHBORHOOD</th>\n      <th>TYPEOFPERSON</th>\n      <th>WEATHER</th>\n      <th>ZIP</th>\n      <th>UNITTYPE</th>\n      <th>CRASH_YEAR</th>\n    </tr>\n  </thead>\n  <tbody>\n    <tr>\n      <th>0</th>\n      <td>19</td>\n      <td>63XX GRACELY</td>\n      <td>39.107808</td>\n      <td>-84.688195</td>\n      <td>31-40</td>\n      <td>SAYLER PARK</td>\n      <td>SAYLER  PARK</td>\n      <td>06/17/2014 05:25:00 PM</td>\n      <td>03 - T-INTERSECTION</td>\n      <td>3</td>\n      <td>...</td>\n      <td>2 - REAR-END</td>\n      <td>01 - DRY</td>\n      <td>1 - STRAIGHT LEVEL</td>\n      <td>2 - BLACKTOP, BITUMINOUS, ASPHALT</td>\n      <td>SAYLER PARK</td>\n      <td>D - DRIVER</td>\n      <td>1 - CLEAR</td>\n      <td>45233.0</td>\n      <td>03 - MID SIZE</td>\n      <td>2014.0</td>\n    </tr>\n    <tr>\n      <th>1</th>\n      <td>20</td>\n      <td>9XX CHATEAU AV</td>\n      <td>39.108110</td>\n      <td>-84.560280</td>\n      <td>18-25</td>\n      <td>EAST PRICE HILL</td>\n      <td>EAST PRICE HILL</td>\n      <td>02/15/2015 03:00:00 PM</td>\n      <td>01 - NOT AN INTERSECTION</td>\n      <td>2</td>\n      <td>...</td>\n      <td>1 - NOT COLLISION BETWEEN TWO MOTOR VEHICLES I...</td>\n      <td>01 - DRY</td>\n      <td>2 - STRAIGHT GRADE</td>\n      <td>2 - BLACKTOP, BITUMINOUS, ASPHALT</td>\n      <td>EAST PRICE HILL</td>\n      <td>O - OCCUPANT</td>\n      <td>1 - CLEAR</td>\n      <td>45204.0</td>\n      <td>02 - COMPACT</td>\n      <td>2015.0</td>\n    </tr>\n    <tr>\n      <th>2</th>\n      <td>21</td>\n      <td>30XX READING RD</td>\n      <td>39.135486</td>\n      <td>-84.496520</td>\n      <td>18-25</td>\n      <td>AVONDALE</td>\n      <td>AVONDALE</td>\n      <td>07/23/2015 11:54:00 PM</td>\n      <td>01 - NOT AN INTERSECTION</td>\n      <td>3</td>\n      <td>...</td>\n      <td>7 - SIDESWIPE, SAME DIRECTION</td>\n      <td>01 - DRY</td>\n      <td>1 - STRAIGHT LEVEL</td>\n      <td>2 - BLACKTOP, BITUMINOUS, ASPHALT</td>\n      <td>AVONDALE</td>\n      <td>O - OCCUPANT</td>\n      <td>1 - CLEAR</td>\n      <td>45206.0</td>\n      <td>04 - FULL SIZE</td>\n      <td>2015.0</td>\n    </tr>\n    <tr>\n      <th>3</th>\n      <td>22</td>\n      <td>36XX READING RD</td>\n      <td>39.147889</td>\n      <td>-84.489222</td>\n      <td>61-70</td>\n      <td>AVONDALE</td>\n      <td>AVONDALE</td>\n      <td>04/21/2018 01:00:00 PM</td>\n      <td>01 - NOT AN INTERSECTION</td>\n      <td>3</td>\n      <td>...</td>\n      <td>7 - SIDESWIPE, SAME DIRECTION</td>\n      <td>01 - DRY</td>\n      <td>1 - STRAIGHT LEVEL</td>\n      <td>2 - BLACKTOP, BITUMINOUS, ASPHALT</td>\n      <td>AVONDALE</td>\n      <td>D - DRIVER</td>\n      <td>1 - CLEAR</td>\n      <td>45229.0</td>\n      <td>07 - PICKUP</td>\n      <td>2018.0</td>\n    </tr>\n    <tr>\n      <th>4</th>\n      <td>23</td>\n      <td>37XX WARSAW AV</td>\n      <td>39.110989</td>\n      <td>-84.573138</td>\n      <td>31-40</td>\n      <td>EAST PRICE HILL</td>\n      <td>EAST PRICE HILL</td>\n      <td>09/01/2018 07:59:00 PM</td>\n      <td>03 - T-INTERSECTION</td>\n      <td>3</td>\n      <td>...</td>\n      <td>6 - ANGLE</td>\n      <td>01 - DRY</td>\n      <td>1 - STRAIGHT LEVEL</td>\n      <td>2 - BLACKTOP, BITUMINOUS, ASPHALT</td>\n      <td>EAST PRICE HILL</td>\n      <td>D - DRIVER</td>\n      <td>1 - CLEAR</td>\n      <td>45205.0</td>\n      <td>04 - FULL SIZE</td>\n      <td>2018.0</td>\n    </tr>\n  </tbody>\n</table>\n<p>5 rows × 28 columns</p>\n</div>"
          },
          "metadata": {}
        }
      ]
    },
    {
      "cell_type": "code",
      "metadata": {
        "source_hash": null,
        "execution_start": 1703896563468,
        "execution_millis": 583,
        "deepnote_to_be_reexecuted": false,
        "cell_id": "a707570098fb4a979d3ccbd90936d363",
        "deepnote_cell_type": "code",
        "id": "BKD8oArezEgj",
        "outputId": "5037a23e-4c49-47c3-988c-594e66edc124"
      },
      "source": [
        "print(df['WEATHER']._values)\n",
        "#vars(df['WEATHER'])\n",
        "\n",
        "df['LIGHTCONDITIONSPRIMARY'] = df['LIGHTCONDITIONSPRIMARY'].str[0]\n",
        "df['ROADCONDITIONSPRIMARY'] = df['ROADCONDITIONSPRIMARY'].str[0]\n",
        "df['INJURIES'] = df['INJURIES'].str[0]\n",
        "df['ROADSURFACE'] = df['ROADSURFACE'].str[0]\n",
        "\n",
        "\n",
        "print(df.head())\n",
        "\n",
        "#weather ->int"
      ],
      "execution_count": null,
      "outputs": [
        {
          "name": "stdout",
          "text": "['1 - CLEAR' '1 - CLEAR' '1 - CLEAR' ... '1 - CLEAR' '1 - CLEAR'\n '2 - CLOUDY']\n   Unnamed: 0        ADDRESS_X  LATITUDE_X  LONGITUDE_X    AGE  \\\n0          19     63XX GRACELY   39.107808   -84.688195  31-40   \n1          20   9XX CHATEAU AV   39.108110   -84.560280  18-25   \n2          21  30XX READING RD   39.135486   -84.496520  18-25   \n3          22  36XX READING RD   39.147889   -84.489222  61-70   \n4          23   37XX WARSAW AV   39.110989   -84.573138  31-40   \n\n  COMMUNITY_COUNCIL_NEIGHBORHOOD CPD_NEIGHBORHOOD               CRASHDATE  \\\n0                    SAYLER PARK     SAYLER  PARK  06/17/2014 05:25:00 PM   \n1                EAST PRICE HILL  EAST PRICE HILL  02/15/2015 03:00:00 PM   \n2                       AVONDALE         AVONDALE  07/23/2015 11:54:00 PM   \n3                       AVONDALE         AVONDALE  04/21/2018 01:00:00 PM   \n4                EAST PRICE HILL  EAST PRICE HILL  09/01/2018 07:59:00 PM   \n\n              CRASHLOCATION  CRASHSEVERITY  ...  \\\n0       03 - T-INTERSECTION              3  ...   \n1  01 - NOT AN INTERSECTION              2  ...   \n2  01 - NOT AN INTERSECTION              3  ...   \n3  01 - NOT AN INTERSECTION              3  ...   \n4       03 - T-INTERSECTION              3  ...   \n\n                                       MANNEROFCRASH ROADCONDITIONSPRIMARY  \\\n0                                       2 - REAR-END                     0   \n1  1 - NOT COLLISION BETWEEN TWO MOTOR VEHICLES I...                     0   \n2                      7 - SIDESWIPE, SAME DIRECTION                     0   \n3                      7 - SIDESWIPE, SAME DIRECTION                     0   \n4                                          6 - ANGLE                     0   \n\n          ROADCONTOUR ROADSURFACE SNA_NEIGHBORHOOD  TYPEOFPERSON    WEATHER  \\\n0  1 - STRAIGHT LEVEL           2      SAYLER PARK    D - DRIVER  1 - CLEAR   \n1  2 - STRAIGHT GRADE           2  EAST PRICE HILL  O - OCCUPANT  1 - CLEAR   \n2  1 - STRAIGHT LEVEL           2         AVONDALE  O - OCCUPANT  1 - CLEAR   \n3  1 - STRAIGHT LEVEL           2         AVONDALE    D - DRIVER  1 - CLEAR   \n4  1 - STRAIGHT LEVEL           2  EAST PRICE HILL    D - DRIVER  1 - CLEAR   \n\n       ZIP        UNITTYPE CRASH_YEAR  \n0  45233.0   03 - MID SIZE     2014.0  \n1  45204.0    02 - COMPACT     2015.0  \n2  45206.0  04 - FULL SIZE     2015.0  \n3  45229.0     07 - PICKUP     2018.0  \n4  45205.0  04 - FULL SIZE     2018.0  \n\n[5 rows x 28 columns]\n",
          "output_type": "stream"
        }
      ]
    },
    {
      "cell_type": "markdown",
      "metadata": {
        "formattedRanges": [],
        "cell_id": "4a6834cdb8c2481e9c77959023faeea0",
        "deepnote_cell_type": "text-cell-p",
        "id": "nbS6IeVizEgj"
      },
      "source": [
        "#"
      ]
    },
    {
      "cell_type": "code",
      "metadata": {
        "source_hash": null,
        "execution_start": 1703896564068,
        "execution_millis": 90,
        "deepnote_table_state": {
          "sortBy": [
            {
              "id": "CRASHSEVERITY",
              "type": "asc"
            }
          ],
          "filters": [],
          "pageSize": 100,
          "pageIndex": 0
        },
        "deepnote_table_loading": false,
        "deepnote_to_be_reexecuted": false,
        "cell_id": "385e3b19880a4eed824efe2c11d07f92",
        "deepnote_cell_type": "code",
        "id": "CBPps-RrzEgk",
        "outputId": "118c82c8-44b7-4f1a-ded6-31c8d7df0b6a"
      },
      "source": [
        "df.head(100)"
      ],
      "execution_count": null,
      "outputs": [
        {
          "output_type": "execute_result",
          "execution_count": 17,
          "data": {
            "application/vnd.deepnote.dataframe.v3+json": {
              "column_count": 28,
              "row_count": 100,
              "columns": [
                {
                  "name": "Unnamed: 0",
                  "dtype": "int64",
                  "stats": {
                    "unique_count": 100,
                    "nan_count": 0,
                    "min": "19",
                    "max": "120",
                    "histogram": [
                      {
                        "bin_start": 19,
                        "bin_end": 29.1,
                        "count": 10
                      },
                      {
                        "bin_start": 29.1,
                        "bin_end": 39.2,
                        "count": 10
                      },
                      {
                        "bin_start": 39.2,
                        "bin_end": 49.3,
                        "count": 10
                      },
                      {
                        "bin_start": 49.3,
                        "bin_end": 59.4,
                        "count": 10
                      },
                      {
                        "bin_start": 59.4,
                        "bin_end": 69.5,
                        "count": 10
                      },
                      {
                        "bin_start": 69.5,
                        "bin_end": 79.6,
                        "count": 10
                      },
                      {
                        "bin_start": 79.6,
                        "bin_end": 89.7,
                        "count": 9
                      },
                      {
                        "bin_start": 89.7,
                        "bin_end": 99.8,
                        "count": 10
                      },
                      {
                        "bin_start": 99.8,
                        "bin_end": 109.89999999999999,
                        "count": 10
                      },
                      {
                        "bin_start": 109.89999999999999,
                        "bin_end": 120,
                        "count": 11
                      }
                    ]
                  }
                },
                {
                  "name": "ADDRESS_X",
                  "dtype": "object",
                  "stats": {
                    "unique_count": 95,
                    "nan_count": 0,
                    "categories": [
                      {
                        "name": "24XX BOUDINOT AV",
                        "count": 2
                      },
                      {
                        "name": "5XX W KING DR",
                        "count": 2
                      },
                      {
                        "name": "93 others",
                        "count": 96
                      }
                    ]
                  }
                },
                {
                  "name": "LATITUDE_X",
                  "dtype": "float64",
                  "stats": {
                    "unique_count": 100,
                    "nan_count": 0,
                    "min": "39.096497",
                    "max": "39.207901",
                    "histogram": [
                      {
                        "bin_start": 39.096497,
                        "bin_end": 39.1076374,
                        "count": 15
                      },
                      {
                        "bin_start": 39.1076374,
                        "bin_end": 39.1187778,
                        "count": 22
                      },
                      {
                        "bin_start": 39.1187778,
                        "bin_end": 39.1299182,
                        "count": 15
                      },
                      {
                        "bin_start": 39.1299182,
                        "bin_end": 39.1410586,
                        "count": 15
                      },
                      {
                        "bin_start": 39.1410586,
                        "bin_end": 39.152198999999996,
                        "count": 9
                      },
                      {
                        "bin_start": 39.152198999999996,
                        "bin_end": 39.1633394,
                        "count": 8
                      },
                      {
                        "bin_start": 39.1633394,
                        "bin_end": 39.1744798,
                        "count": 4
                      },
                      {
                        "bin_start": 39.1744798,
                        "bin_end": 39.1856202,
                        "count": 6
                      },
                      {
                        "bin_start": 39.1856202,
                        "bin_end": 39.1967606,
                        "count": 2
                      },
                      {
                        "bin_start": 39.1967606,
                        "bin_end": 39.207901,
                        "count": 4
                      }
                    ]
                  }
                },
                {
                  "name": "LONGITUDE_X",
                  "dtype": "float64",
                  "stats": {
                    "unique_count": 100,
                    "nan_count": 0,
                    "min": "-84.688195",
                    "max": "-84.423098",
                    "histogram": [
                      {
                        "bin_start": -84.688195,
                        "bin_end": -84.66168529999999,
                        "count": 3
                      },
                      {
                        "bin_start": -84.66168529999999,
                        "bin_end": -84.6351756,
                        "count": 0
                      },
                      {
                        "bin_start": -84.6351756,
                        "bin_end": -84.60866589999999,
                        "count": 1
                      },
                      {
                        "bin_start": -84.60866589999999,
                        "bin_end": -84.5821562,
                        "count": 10
                      },
                      {
                        "bin_start": -84.5821562,
                        "bin_end": -84.5556465,
                        "count": 15
                      },
                      {
                        "bin_start": -84.5556465,
                        "bin_end": -84.52913679999999,
                        "count": 20
                      },
                      {
                        "bin_start": -84.52913679999999,
                        "bin_end": -84.5026271,
                        "count": 28
                      },
                      {
                        "bin_start": -84.5026271,
                        "bin_end": -84.47611739999999,
                        "count": 8
                      },
                      {
                        "bin_start": -84.47611739999999,
                        "bin_end": -84.4496077,
                        "count": 6
                      },
                      {
                        "bin_start": -84.4496077,
                        "bin_end": -84.423098,
                        "count": 9
                      }
                    ]
                  }
                },
                {
                  "name": "AGE",
                  "dtype": "object",
                  "stats": {
                    "unique_count": 9,
                    "nan_count": 0,
                    "categories": [
                      {
                        "name": "18-25",
                        "count": 19
                      },
                      {
                        "name": "31-40",
                        "count": 15
                      },
                      {
                        "name": "7 others",
                        "count": 66
                      }
                    ]
                  }
                },
                {
                  "name": "COMMUNITY_COUNCIL_NEIGHBORHOOD",
                  "dtype": "object",
                  "stats": {
                    "unique_count": 36,
                    "nan_count": 1,
                    "categories": [
                      {
                        "name": "WEST PRICE HILL",
                        "count": 8
                      },
                      {
                        "name": "35 others",
                        "count": 91
                      },
                      {
                        "name": "Missing",
                        "count": 1
                      }
                    ]
                  }
                },
                {
                  "name": "CPD_NEIGHBORHOOD",
                  "dtype": "object",
                  "stats": {
                    "unique_count": 33,
                    "nan_count": 1,
                    "categories": [
                      {
                        "name": "WESTWOOD",
                        "count": 8
                      },
                      {
                        "name": "32 others",
                        "count": 91
                      },
                      {
                        "name": "Missing",
                        "count": 1
                      }
                    ]
                  }
                },
                {
                  "name": "CRASHDATE",
                  "dtype": "object",
                  "stats": {
                    "unique_count": 99,
                    "nan_count": 0,
                    "categories": [
                      {
                        "name": "08/22/2019 04:15:00 PM",
                        "count": 2
                      },
                      {
                        "name": "05/05/2017 05:12:00 PM",
                        "count": 1
                      },
                      {
                        "name": "97 others",
                        "count": 97
                      }
                    ]
                  }
                },
                {
                  "name": "CRASHLOCATION",
                  "dtype": "object",
                  "stats": {
                    "unique_count": 6,
                    "nan_count": 31,
                    "categories": [
                      {
                        "name": "01 - NOT AN INTERSECTION",
                        "count": 42
                      },
                      {
                        "name": "5 others",
                        "count": 27
                      },
                      {
                        "name": "Missing",
                        "count": 31
                      }
                    ]
                  }
                },
                {
                  "name": "CRASHSEVERITY",
                  "dtype": "int64",
                  "stats": {
                    "unique_count": 4,
                    "nan_count": 0,
                    "min": "2",
                    "max": "5",
                    "histogram": [
                      {
                        "bin_start": 2,
                        "bin_end": 2.3,
                        "count": 14
                      },
                      {
                        "bin_start": 2.3,
                        "bin_end": 2.6,
                        "count": 0
                      },
                      {
                        "bin_start": 2.6,
                        "bin_end": 2.9,
                        "count": 0
                      },
                      {
                        "bin_start": 2.9,
                        "bin_end": 3.2,
                        "count": 60
                      },
                      {
                        "bin_start": 3.2,
                        "bin_end": 3.5,
                        "count": 0
                      },
                      {
                        "bin_start": 3.5,
                        "bin_end": 3.8,
                        "count": 0
                      },
                      {
                        "bin_start": 3.8,
                        "bin_end": 4.1,
                        "count": 4
                      },
                      {
                        "bin_start": 4.1,
                        "bin_end": 4.4,
                        "count": 0
                      },
                      {
                        "bin_start": 4.4,
                        "bin_end": 4.699999999999999,
                        "count": 0
                      },
                      {
                        "bin_start": 4.699999999999999,
                        "bin_end": 5,
                        "count": 22
                      }
                    ]
                  }
                },
                {
                  "name": "CRASHSEVERITYID",
                  "dtype": "float64",
                  "stats": {
                    "unique_count": 5,
                    "nan_count": 0,
                    "min": "2.0",
                    "max": "201905.0",
                    "histogram": [
                      {
                        "bin_start": 2,
                        "bin_end": 20192.3,
                        "count": 69
                      },
                      {
                        "bin_start": 20192.3,
                        "bin_end": 40382.6,
                        "count": 0
                      },
                      {
                        "bin_start": 40382.6,
                        "bin_end": 60572.899999999994,
                        "count": 0
                      },
                      {
                        "bin_start": 60572.899999999994,
                        "bin_end": 80763.2,
                        "count": 0
                      },
                      {
                        "bin_start": 80763.2,
                        "bin_end": 100953.5,
                        "count": 0
                      },
                      {
                        "bin_start": 100953.5,
                        "bin_end": 121143.79999999999,
                        "count": 0
                      },
                      {
                        "bin_start": 121143.79999999999,
                        "bin_end": 141334.1,
                        "count": 0
                      },
                      {
                        "bin_start": 141334.1,
                        "bin_end": 161524.4,
                        "count": 0
                      },
                      {
                        "bin_start": 161524.4,
                        "bin_end": 181714.69999999998,
                        "count": 0
                      },
                      {
                        "bin_start": 181714.69999999998,
                        "bin_end": 201905,
                        "count": 31
                      }
                    ]
                  }
                },
                {
                  "name": "DATECRASHREPORTED",
                  "dtype": "object",
                  "stats": {
                    "unique_count": 99,
                    "nan_count": 0,
                    "categories": [
                      {
                        "name": "08/22/2019 04:29:00 PM",
                        "count": 2
                      },
                      {
                        "name": "05/05/2017 05:12:00 PM",
                        "count": 1
                      },
                      {
                        "name": "97 others",
                        "count": 97
                      }
                    ]
                  }
                },
                {
                  "name": "DAYOFWEEK",
                  "dtype": "object",
                  "stats": {
                    "unique_count": 7,
                    "nan_count": 0,
                    "categories": [
                      {
                        "name": "THU",
                        "count": 19
                      },
                      {
                        "name": "TUE",
                        "count": 17
                      },
                      {
                        "name": "5 others",
                        "count": 64
                      }
                    ]
                  }
                },
                {
                  "name": "GENDER",
                  "dtype": "object",
                  "stats": {
                    "unique_count": 2,
                    "nan_count": 13,
                    "categories": [
                      {
                        "name": "F - FEMALE",
                        "count": 44
                      },
                      {
                        "name": "M - MALE",
                        "count": 43
                      },
                      {
                        "name": "Missing",
                        "count": 13
                      }
                    ]
                  }
                },
                {
                  "name": "INJURIES",
                  "dtype": "object",
                  "stats": {
                    "unique_count": 5,
                    "nan_count": 0,
                    "categories": [
                      {
                        "name": "1",
                        "count": 62
                      },
                      {
                        "name": "5",
                        "count": 27
                      },
                      {
                        "name": "3 others",
                        "count": 11
                      }
                    ]
                  }
                },
                {
                  "name": "INSTANCEID",
                  "dtype": "object",
                  "stats": {
                    "unique_count": 99,
                    "nan_count": 0,
                    "categories": [
                      {
                        "name": "7581AA19-E8C1-429C-8CE9-B2C1ED7F5E1C",
                        "count": 2
                      },
                      {
                        "name": "B9DA9769-3D83-4C7C-BC6D-B4ACC27926D7",
                        "count": 1
                      },
                      {
                        "name": "97 others",
                        "count": 97
                      }
                    ]
                  }
                },
                {
                  "name": "LIGHTCONDITIONSPRIMARY",
                  "dtype": "object",
                  "stats": {
                    "unique_count": 5,
                    "nan_count": 0,
                    "categories": [
                      {
                        "name": "1",
                        "count": 67
                      },
                      {
                        "name": "4",
                        "count": 22
                      },
                      {
                        "name": "3 others",
                        "count": 11
                      }
                    ]
                  }
                },
                {
                  "name": "LOCALREPORTNO",
                  "dtype": "int64",
                  "stats": {
                    "unique_count": 99,
                    "nan_count": 0,
                    "min": "125000791",
                    "max": "205015474",
                    "histogram": [
                      {
                        "bin_start": 125000791,
                        "bin_end": 133002259.3,
                        "count": 1
                      },
                      {
                        "bin_start": 133002259.3,
                        "bin_end": 141003727.6,
                        "count": 12
                      },
                      {
                        "bin_start": 141003727.6,
                        "bin_end": 149005195.9,
                        "count": 12
                      },
                      {
                        "bin_start": 149005195.9,
                        "bin_end": 157006664.2,
                        "count": 10
                      },
                      {
                        "bin_start": 157006664.2,
                        "bin_end": 165008132.5,
                        "count": 4
                      },
                      {
                        "bin_start": 165008132.5,
                        "bin_end": 173009600.8,
                        "count": 7
                      },
                      {
                        "bin_start": 173009600.8,
                        "bin_end": 181011069.1,
                        "count": 11
                      },
                      {
                        "bin_start": 181011069.1,
                        "bin_end": 189012537.4,
                        "count": 12
                      },
                      {
                        "bin_start": 189012537.4,
                        "bin_end": 197014005.7,
                        "count": 18
                      },
                      {
                        "bin_start": 197014005.7,
                        "bin_end": 205015474,
                        "count": 13
                      }
                    ]
                  }
                },
                {
                  "name": "MANNEROFCRASH",
                  "dtype": "object",
                  "stats": {
                    "unique_count": 8,
                    "nan_count": 0,
                    "categories": [
                      {
                        "name": "6 - ANGLE",
                        "count": 32
                      },
                      {
                        "name": "2 - REAR-END",
                        "count": 27
                      },
                      {
                        "name": "6 others",
                        "count": 41
                      }
                    ]
                  }
                },
                {
                  "name": "ROADCONDITIONSPRIMARY",
                  "dtype": "object",
                  "stats": {
                    "unique_count": 1,
                    "nan_count": 0,
                    "categories": [
                      {
                        "name": "0",
                        "count": 100
                      }
                    ]
                  }
                },
                {
                  "name": "ROADCONTOUR",
                  "dtype": "object",
                  "stats": {
                    "unique_count": 4,
                    "nan_count": 0,
                    "categories": [
                      {
                        "name": "1 - STRAIGHT LEVEL",
                        "count": 70
                      },
                      {
                        "name": "2 - STRAIGHT GRADE",
                        "count": 16
                      },
                      {
                        "name": "2 others",
                        "count": 14
                      }
                    ]
                  }
                },
                {
                  "name": "ROADSURFACE",
                  "dtype": "object",
                  "stats": {
                    "unique_count": 3,
                    "nan_count": 0,
                    "categories": [
                      {
                        "name": "2",
                        "count": 81
                      },
                      {
                        "name": "1",
                        "count": 18
                      },
                      {
                        "name": "3",
                        "count": 1
                      }
                    ]
                  }
                },
                {
                  "name": "SNA_NEIGHBORHOOD",
                  "dtype": "object",
                  "stats": {
                    "unique_count": 31,
                    "nan_count": 1,
                    "categories": [
                      {
                        "name": "WESTWOOD",
                        "count": 8
                      },
                      {
                        "name": "30 others",
                        "count": 91
                      },
                      {
                        "name": "Missing",
                        "count": 1
                      }
                    ]
                  }
                },
                {
                  "name": "TYPEOFPERSON",
                  "dtype": "object",
                  "stats": {
                    "unique_count": 3,
                    "nan_count": 0,
                    "categories": [
                      {
                        "name": "D - DRIVER",
                        "count": 88
                      },
                      {
                        "name": "O - OCCUPANT",
                        "count": 11
                      },
                      {
                        "name": "P - PEDESTRIAN",
                        "count": 1
                      }
                    ]
                  }
                },
                {
                  "name": "WEATHER",
                  "dtype": "object",
                  "stats": {
                    "unique_count": 5,
                    "nan_count": 0,
                    "categories": [
                      {
                        "name": "1 - CLEAR",
                        "count": 59
                      },
                      {
                        "name": "4 - RAIN",
                        "count": 20
                      },
                      {
                        "name": "3 others",
                        "count": 21
                      }
                    ]
                  }
                },
                {
                  "name": "ZIP",
                  "dtype": "object",
                  "stats": {
                    "unique_count": 24,
                    "nan_count": 0,
                    "categories": [
                      {
                        "name": "45202.0",
                        "count": 13
                      },
                      {
                        "name": "45214.0",
                        "count": 9
                      },
                      {
                        "name": "22 others",
                        "count": 78
                      }
                    ]
                  }
                },
                {
                  "name": "UNITTYPE",
                  "dtype": "object",
                  "stats": {
                    "unique_count": 16,
                    "nan_count": 0,
                    "categories": [
                      {
                        "name": "01 - PASSENGER CAR",
                        "count": 21
                      },
                      {
                        "name": "03 - MID SIZE",
                        "count": 20
                      },
                      {
                        "name": "14 others",
                        "count": 59
                      }
                    ]
                  }
                },
                {
                  "name": "CRASH_YEAR",
                  "dtype": "float64",
                  "stats": {
                    "unique_count": 9,
                    "nan_count": 0,
                    "min": "2012.0",
                    "max": "2020.0",
                    "histogram": [
                      {
                        "bin_start": 2012,
                        "bin_end": 2012.8,
                        "count": 1
                      },
                      {
                        "bin_start": 2012.8,
                        "bin_end": 2013.6,
                        "count": 12
                      },
                      {
                        "bin_start": 2013.6,
                        "bin_end": 2014.4,
                        "count": 12
                      },
                      {
                        "bin_start": 2014.4,
                        "bin_end": 2015.2,
                        "count": 10
                      },
                      {
                        "bin_start": 2015.2,
                        "bin_end": 2016,
                        "count": 0
                      },
                      {
                        "bin_start": 2016,
                        "bin_end": 2016.8,
                        "count": 11
                      },
                      {
                        "bin_start": 2016.8,
                        "bin_end": 2017.6,
                        "count": 11
                      },
                      {
                        "bin_start": 2017.6,
                        "bin_end": 2018.4,
                        "count": 12
                      },
                      {
                        "bin_start": 2018.4,
                        "bin_end": 2019.2,
                        "count": 18
                      },
                      {
                        "bin_start": 2019.2,
                        "bin_end": 2020,
                        "count": 13
                      }
                    ]
                  }
                },
                {
                  "name": "_deepnote_index_column",
                  "dtype": "int64"
                }
              ],
              "rows": [
                {
                  "Unnamed: 0": 74,
                  "ADDRESS_X": "46XX SPRING GROVE AV",
                  "LATITUDE_X": 39.165496000000005,
                  "LONGITUDE_X": -84.518325,
                  "AGE": "51-60",
                  "COMMUNITY_COUNCIL_NEIGHBORHOOD": "SPRING GROVE VILLAGE",
                  "CPD_NEIGHBORHOOD": "SPRING GROVE VILLAGE",
                  "CRASHDATE": "05/05/2017 05:12:00 PM",
                  "CRASHLOCATION": "01 - NOT AN INTERSECTION",
                  "CRASHSEVERITY": 2,
                  "CRASHSEVERITYID": 2,
                  "DATECRASHREPORTED": "05/05/2017 05:12:00 PM",
                  "DAYOFWEEK": "FRI",
                  "GENDER": "F - FEMALE",
                  "INJURIES": "2",
                  "INSTANCEID": "B9DA9769-3D83-4C7C-BC6D-B4ACC27926D7",
                  "LIGHTCONDITIONSPRIMARY": "1",
                  "LOCALREPORTNO": 175006691,
                  "MANNEROFCRASH": "6 - ANGLE",
                  "ROADCONDITIONSPRIMARY": "0",
                  "ROADCONTOUR": "1 - STRAIGHT LEVEL",
                  "ROADSURFACE": "2",
                  "SNA_NEIGHBORHOOD": "SPRING GROVE VILLAGE",
                  "TYPEOFPERSON": "D - DRIVER",
                  "WEATHER": "4 - RAIN",
                  "ZIP": "45232.0",
                  "UNITTYPE": "03 - MID SIZE",
                  "CRASH_YEAR": 2017,
                  "_deepnote_index_column": 55
                },
                {
                  "Unnamed: 0": 85,
                  "ADDRESS_X": "58XX RIVER",
                  "LATITUDE_X": 39.101615,
                  "LONGITUDE_X": -84.67266500000001,
                  "AGE": "51-60",
                  "COMMUNITY_COUNCIL_NEIGHBORHOOD": "RIVERSIDE - SAYLER PARK",
                  "CPD_NEIGHBORHOOD": "SAYLER  PARK",
                  "CRASHDATE": "04/19/2016 06:42:00 AM",
                  "CRASHLOCATION": "01 - NOT AN INTERSECTION",
                  "CRASHSEVERITY": 2,
                  "CRASHSEVERITYID": 2,
                  "DATECRASHREPORTED": "04/19/2016 06:55:00 AM",
                  "DAYOFWEEK": "TUE",
                  "GENDER": "F - FEMALE",
                  "INJURIES": "2",
                  "INSTANCEID": "7F7F068C-39BC-40E5-B717-AB48619FCC4D",
                  "LIGHTCONDITIONSPRIMARY": "1",
                  "LOCALREPORTNO": 165005855,
                  "MANNEROFCRASH": "3 - HEAD-ON",
                  "ROADCONDITIONSPRIMARY": "0",
                  "ROADCONTOUR": "1 - STRAIGHT LEVEL",
                  "ROADSURFACE": "2",
                  "SNA_NEIGHBORHOOD": "RIVERSIDE",
                  "TYPEOFPERSON": "D - DRIVER",
                  "WEATHER": "1 - CLEAR",
                  "ZIP": "45233.0",
                  "UNITTYPE": "03 - MID SIZE",
                  "CRASH_YEAR": 2016,
                  "_deepnote_index_column": 66
                },
                {
                  "Unnamed: 0": 91,
                  "ADDRESS_X": "10XX W MCMILLAN ST",
                  "LATITUDE_X": 39.124915,
                  "LONGITUDE_X": -84.53311500000001,
                  "AGE": "41-50",
                  "COMMUNITY_COUNCIL_NEIGHBORHOOD": "CUF",
                  "CPD_NEIGHBORHOOD": "CLIFTON/UNIVERSITY HEIGHTS",
                  "CRASHDATE": "10/31/2014 01:36:00 PM",
                  "CRASHLOCATION": "01 - NOT AN INTERSECTION",
                  "CRASHSEVERITY": 2,
                  "CRASHSEVERITYID": 2,
                  "DATECRASHREPORTED": "10/31/2014 01:36:00 PM",
                  "DAYOFWEEK": "FRI",
                  "GENDER": "F - FEMALE",
                  "INJURIES": "2",
                  "INSTANCEID": "21C5BE97-58B3-4B6B-87FF-5D8334763447",
                  "LIGHTCONDITIONSPRIMARY": "1",
                  "LOCALREPORTNO": 145010966,
                  "MANNEROFCRASH": "3 - HEAD-ON",
                  "ROADCONDITIONSPRIMARY": "0",
                  "ROADCONTOUR": "2 - STRAIGHT GRADE",
                  "ROADSURFACE": "2",
                  "SNA_NEIGHBORHOOD": "WEST END",
                  "TYPEOFPERSON": "O - OCCUPANT",
                  "WEATHER": "4 - RAIN",
                  "ZIP": "45214.0",
                  "UNITTYPE": "05 - MINIVAN",
                  "CRASH_YEAR": 2014,
                  "_deepnote_index_column": 72
                },
                {
                  "Unnamed: 0": 96,
                  "ADDRESS_X": "4XX W LIBERTY ST",
                  "LATITUDE_X": 39.113694,
                  "LONGITUDE_X": -84.52562900000001,
                  "AGE": "26-30",
                  "COMMUNITY_COUNCIL_NEIGHBORHOOD": "WEST END",
                  "CPD_NEIGHBORHOOD": "WEST  END",
                  "CRASHDATE": "09/22/2016 11:05:00 AM",
                  "CRASHLOCATION": "02 - FOUR-WAY INTERSECTION",
                  "CRASHSEVERITY": 2,
                  "CRASHSEVERITYID": 2,
                  "DATECRASHREPORTED": "09/22/2016 11:15:00 AM",
                  "DAYOFWEEK": "THU",
                  "GENDER": "F - FEMALE",
                  "INJURIES": "1",
                  "INSTANCEID": "96DD0775-C602-40F9-9D31-B1938E116AD2",
                  "LIGHTCONDITIONSPRIMARY": "1",
                  "LOCALREPORTNO": 165015465,
                  "MANNEROFCRASH": "6 - ANGLE",
                  "ROADCONDITIONSPRIMARY": "0",
                  "ROADCONTOUR": "1 - STRAIGHT LEVEL",
                  "ROADSURFACE": "2",
                  "SNA_NEIGHBORHOOD": "WEST END",
                  "TYPEOFPERSON": "D - DRIVER",
                  "WEATHER": "1 - CLEAR",
                  "ZIP": "45214.0",
                  "UNITTYPE": "22 - BUS (16+ SEATS, INCLUDING THE DRIVER)",
                  "CRASH_YEAR": 2016,
                  "_deepnote_index_column": 77
                },
                {
                  "Unnamed: 0": 76,
                  "ADDRESS_X": "29XX MARKBREIT",
                  "LATITUDE_X": 39.152248,
                  "LONGITUDE_X": -84.43401,
                  "AGE": "18-25",
                  "COMMUNITY_COUNCIL_NEIGHBORHOOD": "OAKLEY",
                  "CPD_NEIGHBORHOOD": "OAKLEY",
                  "CRASHDATE": "11/28/2013 02:22:00 AM",
                  "CRASHLOCATION": "01 - NOT AN INTERSECTION",
                  "CRASHSEVERITY": 2,
                  "CRASHSEVERITYID": 2,
                  "DATECRASHREPORTED": "11/28/2013 02:23:00 AM",
                  "DAYOFWEEK": "THU",
                  "GENDER": "M - MALE",
                  "INJURIES": "3",
                  "INSTANCEID": "51176A7C-1D82-4407-901A-1A67A0BAD21E",
                  "LIGHTCONDITIONSPRIMARY": "4",
                  "LOCALREPORTNO": 135012395,
                  "MANNEROFCRASH": "1 - NOT COLLISION BETWEEN TWO MOTOR VEHICLES IN TRANSPORT",
                  "ROADCONDITIONSPRIMARY": "0",
                  "ROADCONTOUR": "1 - STRAIGHT LEVEL",
                  "ROADSURFACE": "2",
                  "SNA_NEIGHBORHOOD": "OAKLEY",
                  "TYPEOFPERSON": "P - PEDESTRIAN",
                  "WEATHER": "1 - CLEAR",
                  "ZIP": "45209.0",
                  "UNITTYPE": "26 - PEDESTRIAN/SKATER",
                  "CRASH_YEAR": 2013,
                  "_deepnote_index_column": 57
                },
                {
                  "Unnamed: 0": 86,
                  "ADDRESS_X": "11XX GRAND",
                  "LATITUDE_X": 39.114107,
                  "LONGITUDE_X": -84.560803,
                  "AGE": "61-70",
                  "COMMUNITY_COUNCIL_NEIGHBORHOOD": "EAST PRICE HILL",
                  "CPD_NEIGHBORHOOD": "EAST PRICE HILL",
                  "CRASHDATE": "07/18/2014 03:15:00 PM",
                  "CRASHLOCATION": "01 - NOT AN INTERSECTION",
                  "CRASHSEVERITY": 2,
                  "CRASHSEVERITYID": 2,
                  "DATECRASHREPORTED": "07/18/2014 03:15:00 PM",
                  "DAYOFWEEK": "FRI",
                  "GENDER": "F - FEMALE",
                  "INJURIES": "1",
                  "INSTANCEID": "FBA10D50-4D62-47ED-8988-F4273A8B998A",
                  "LIGHTCONDITIONSPRIMARY": "1",
                  "LOCALREPORTNO": 145006232,
                  "MANNEROFCRASH": "2 - REAR-END",
                  "ROADCONDITIONSPRIMARY": "0",
                  "ROADCONTOUR": "2 - STRAIGHT GRADE",
                  "ROADSURFACE": "2",
                  "SNA_NEIGHBORHOOD": "EAST PRICE HILL",
                  "TYPEOFPERSON": "D - DRIVER",
                  "WEATHER": "4 - RAIN",
                  "ZIP": "45204.0",
                  "UNITTYPE": "06 - SPORT UTILITY VEHICLE",
                  "CRASH_YEAR": 2014,
                  "_deepnote_index_column": 67
                },
                {
                  "Unnamed: 0": 103,
                  "ADDRESS_X": "3XX E 3RD ST",
                  "LATITUDE_X": 39.100364,
                  "LONGITUDE_X": -84.5059,
                  "AGE": "18-25",
                  "COMMUNITY_COUNCIL_NEIGHBORHOOD": "DOWNTOWN",
                  "CPD_NEIGHBORHOOD": "C. B. D. / RIVERFRONT",
                  "CRASHDATE": "10/06/2013 05:48:00 PM",
                  "CRASHLOCATION": "02 - FOUR-WAY INTERSECTION",
                  "CRASHSEVERITY": 2,
                  "CRASHSEVERITYID": 2,
                  "DATECRASHREPORTED": "10/06/2013 05:49:00 PM",
                  "DAYOFWEEK": "SUN",
                  "GENDER": "M - MALE",
                  "INJURIES": "1",
                  "INSTANCEID": "DD6E99FA-37E2-4960-82E0-B5F8090D4B2E",
                  "LIGHTCONDITIONSPRIMARY": "1",
                  "LOCALREPORTNO": 135010867,
                  "MANNEROFCRASH": "6 - ANGLE",
                  "ROADCONDITIONSPRIMARY": "0",
                  "ROADCONTOUR": "2 - STRAIGHT GRADE",
                  "ROADSURFACE": "2",
                  "SNA_NEIGHBORHOOD": "DOWNTOWN",
                  "TYPEOFPERSON": "D - DRIVER",
                  "WEATHER": "4 - RAIN",
                  "ZIP": "45202.0",
                  "UNITTYPE": "03 - MID SIZE",
                  "CRASH_YEAR": 2013,
                  "_deepnote_index_column": 84
                },
                {
                  "Unnamed: 0": 70,
                  "ADDRESS_X": "49XX READING RD",
                  "LATITUDE_X": 39.176148,
                  "LONGITUDE_X": -84.467251,
                  "AGE": "31-40",
                  "COMMUNITY_COUNCIL_NEIGHBORHOOD": "BOND HILL",
                  "CPD_NEIGHBORHOOD": "BONDHILL",
                  "CRASHDATE": "07/04/2013 12:02:00 AM",
                  "CRASHLOCATION": "03 - T-INTERSECTION",
                  "CRASHSEVERITY": 2,
                  "CRASHSEVERITYID": 2,
                  "DATECRASHREPORTED": "07/04/2013 01:00:00 AM",
                  "DAYOFWEEK": "THU",
                  "GENDER": "M - MALE",
                  "INJURIES": "1",
                  "INSTANCEID": "672FD9D5-3E73-41C6-828C-58B9133D2D8F",
                  "LIGHTCONDITIONSPRIMARY": "4",
                  "LOCALREPORTNO": 135008106,
                  "MANNEROFCRASH": "6 - ANGLE",
                  "ROADCONDITIONSPRIMARY": "0",
                  "ROADCONTOUR": "1 - STRAIGHT LEVEL",
                  "ROADSURFACE": "2",
                  "SNA_NEIGHBORHOOD": "BOND HILL",
                  "TYPEOFPERSON": "D - DRIVER",
                  "WEATHER": "4 - RAIN",
                  "ZIP": "45237.0",
                  "UNITTYPE": "07 - PICKUP",
                  "CRASH_YEAR": 2013,
                  "_deepnote_index_column": 51
                },
                {
                  "Unnamed: 0": 46,
                  "ADDRESS_X": "31XX BURNET AV",
                  "LATITUDE_X": 39.135911,
                  "LONGITUDE_X": -84.502011,
                  "AGE": "61-70",
                  "COMMUNITY_COUNCIL_NEIGHBORHOOD": "CORRYVILLE",
                  "CPD_NEIGHBORHOOD": "CORRYVILLE",
                  "CRASHDATE": "03/12/2018 04:03:00 PM",
                  "CRASHLOCATION": "03 - T-INTERSECTION",
                  "CRASHSEVERITY": 2,
                  "CRASHSEVERITYID": 2,
                  "DATECRASHREPORTED": "03/12/2018 04:04:00 PM",
                  "DAYOFWEEK": "MON",
                  "GENDER": "F - FEMALE",
                  "INJURIES": "3",
                  "INSTANCEID": "561AC1CE-AE33-4A99-8F60-BCA85C465C80",
                  "LIGHTCONDITIONSPRIMARY": "1",
                  "LOCALREPORTNO": 185003521,
                  "MANNEROFCRASH": "6 - ANGLE",
                  "ROADCONDITIONSPRIMARY": "0",
                  "ROADCONTOUR": "1 - STRAIGHT LEVEL",
                  "ROADSURFACE": "2",
                  "SNA_NEIGHBORHOOD": "CORRYVILLE",
                  "TYPEOFPERSON": "O - OCCUPANT",
                  "WEATHER": "1 - CLEAR",
                  "ZIP": "45229.0",
                  "UNITTYPE": "05 - MINIVAN",
                  "CRASH_YEAR": 2018,
                  "_deepnote_index_column": 27
                },
                {
                  "Unnamed: 0": 20,
                  "ADDRESS_X": "9XX CHATEAU AV",
                  "LATITUDE_X": 39.10811,
                  "LONGITUDE_X": -84.56028,
                  "AGE": "18-25",
                  "COMMUNITY_COUNCIL_NEIGHBORHOOD": "EAST PRICE HILL",
                  "CPD_NEIGHBORHOOD": "EAST PRICE HILL",
                  "CRASHDATE": "02/15/2015 03:00:00 PM",
                  "CRASHLOCATION": "01 - NOT AN INTERSECTION",
                  "CRASHSEVERITY": 2,
                  "CRASHSEVERITYID": 2,
                  "DATECRASHREPORTED": "02/15/2015 03:10:00 PM",
                  "DAYOFWEEK": "SUN",
                  "GENDER": "F - FEMALE",
                  "INJURIES": "3",
                  "INSTANCEID": "01F3FED0-EE1C-47A5-9B4C-B70516DC4154",
                  "LIGHTCONDITIONSPRIMARY": "1",
                  "LOCALREPORTNO": 155002081,
                  "MANNEROFCRASH": "1 - NOT COLLISION BETWEEN TWO MOTOR VEHICLES IN TRANSPORT",
                  "ROADCONDITIONSPRIMARY": "0",
                  "ROADCONTOUR": "2 - STRAIGHT GRADE",
                  "ROADSURFACE": "2",
                  "SNA_NEIGHBORHOOD": "EAST PRICE HILL",
                  "TYPEOFPERSON": "O - OCCUPANT",
                  "WEATHER": "1 - CLEAR",
                  "ZIP": "45204.0",
                  "UNITTYPE": "02 - COMPACT",
                  "CRASH_YEAR": 2015,
                  "_deepnote_index_column": 1
                },
                {
                  "Unnamed: 0": 26,
                  "ADDRESS_X": "73XX VINE ST",
                  "LATITUDE_X": 39.197194,
                  "LONGITUDE_X": -84.478716,
                  "AGE": "OVER 70",
                  "COMMUNITY_COUNCIL_NEIGHBORHOOD": "CARTHAGE",
                  "CPD_NEIGHBORHOOD": "CARTHAGE",
                  "CRASHDATE": "12/08/2015 01:33:00 PM",
                  "CRASHLOCATION": "02 - FOUR-WAY INTERSECTION",
                  "CRASHSEVERITY": 2,
                  "CRASHSEVERITYID": 2,
                  "DATECRASHREPORTED": "12/08/2015 01:36:00 PM",
                  "DAYOFWEEK": "TUE",
                  "GENDER": "M - MALE",
                  "INJURIES": "1",
                  "INSTANCEID": "75B46719-DB14-4E29-9B8A-E1CE6F452795",
                  "LIGHTCONDITIONSPRIMARY": "1",
                  "LOCALREPORTNO": 155017959,
                  "MANNEROFCRASH": "6 - ANGLE",
                  "ROADCONDITIONSPRIMARY": "0",
                  "ROADCONTOUR": "1 - STRAIGHT LEVEL",
                  "ROADSURFACE": "2",
                  "SNA_NEIGHBORHOOD": "CARTHAGE",
                  "TYPEOFPERSON": "D - DRIVER",
                  "WEATHER": "1 - CLEAR",
                  "ZIP": "45216.0",
                  "UNITTYPE": "05 - MINIVAN",
                  "CRASH_YEAR": 2015,
                  "_deepnote_index_column": 7
                },
                {
                  "Unnamed: 0": 113,
                  "ADDRESS_X": "26XX KIPLING AV",
                  "LATITUDE_X": 39.201805,
                  "LONGITUDE_X": -84.57933100000001,
                  "AGE": "31-40",
                  "COMMUNITY_COUNCIL_NEIGHBORHOOD": "MOUNT AIRY",
                  "CPD_NEIGHBORHOOD": "MOUNT AIRY",
                  "CRASHDATE": "12/04/2016 02:14:43 PM",
                  "CRASHLOCATION": "01 - NOT AN INTERSECTION",
                  "CRASHSEVERITY": 2,
                  "CRASHSEVERITYID": 2,
                  "DATECRASHREPORTED": "12/04/2016 02:14:45 PM",
                  "DAYOFWEEK": "SUN",
                  "GENDER": "F - FEMALE",
                  "INJURIES": "1",
                  "INSTANCEID": "892BE917-BF5F-47B3-84ED-E9F803294720",
                  "LIGHTCONDITIONSPRIMARY": "1",
                  "LOCALREPORTNO": 165020150,
                  "MANNEROFCRASH": "2 - REAR-END",
                  "ROADCONDITIONSPRIMARY": "0",
                  "ROADCONTOUR": "1 - STRAIGHT LEVEL",
                  "ROADSURFACE": "2",
                  "SNA_NEIGHBORHOOD": "MT. AIRY",
                  "TYPEOFPERSON": "D - DRIVER",
                  "WEATHER": "1 - CLEAR",
                  "ZIP": "45239.0",
                  "UNITTYPE": "06 - SPORT UTILITY VEHICLE",
                  "CRASH_YEAR": 2016,
                  "_deepnote_index_column": 94
                },
                {
                  "Unnamed: 0": 114,
                  "ADDRESS_X": "N I71 AT 7-8 MM",
                  "LATITUDE_X": 39.164031,
                  "LONGITUDE_X": -84.435071,
                  "AGE": "26-30",
                  "COMMUNITY_COUNCIL_NEIGHBORHOOD": "OAKLEY",
                  "CPD_NEIGHBORHOOD": "OAKLEY",
                  "CRASHDATE": "02/24/2018 09:28:00 PM",
                  "CRASHLOCATION": "08 - OFF RAMP",
                  "CRASHSEVERITY": 2,
                  "CRASHSEVERITYID": 2,
                  "DATECRASHREPORTED": "02/24/2018 09:28:00 PM",
                  "DAYOFWEEK": "SAT",
                  "GENDER": "F - FEMALE",
                  "INJURIES": "1",
                  "INSTANCEID": "D016DECA-A153-4570-9C65-D462ED69D43F",
                  "LIGHTCONDITIONSPRIMARY": "4",
                  "LOCALREPORTNO": 185002760,
                  "MANNEROFCRASH": "2 - REAR-END",
                  "ROADCONDITIONSPRIMARY": "0",
                  "ROADCONTOUR": "3 - CURVE LEVEL",
                  "ROADSURFACE": "2",
                  "SNA_NEIGHBORHOOD": "OAKLEY",
                  "TYPEOFPERSON": "O - OCCUPANT",
                  "WEATHER": "4 - RAIN",
                  "ZIP": "45224.0",
                  "UNITTYPE": "03 - MID SIZE",
                  "CRASH_YEAR": 2018,
                  "_deepnote_index_column": 95
                },
                {
                  "Unnamed: 0": 111,
                  "ADDRESS_X": "24XX BOUDINOT AV",
                  "LATITUDE_X": 39.132014,
                  "LONGITUDE_X": -84.604913,
                  "AGE": "31-40",
                  "COMMUNITY_COUNCIL_NEIGHBORHOOD": "WESTWOOD",
                  "CPD_NEIGHBORHOOD": "WESTWOOD",
                  "CRASHDATE": "12/09/2016 09:22:00 PM",
                  "CRASHLOCATION": "01 - NOT AN INTERSECTION",
                  "CRASHSEVERITY": 2,
                  "CRASHSEVERITYID": 2,
                  "DATECRASHREPORTED": "12/09/2016 09:22:00 PM",
                  "DAYOFWEEK": "FRI",
                  "GENDER": "F - FEMALE",
                  "INJURIES": "2",
                  "INSTANCEID": "A24E30F1-B9E7-479E-A19B-A9E1F7DF7617",
                  "LIGHTCONDITIONSPRIMARY": "4",
                  "LOCALREPORTNO": 165020545,
                  "MANNEROFCRASH": "8 - SIDESWIPE, OPPOSITE DIRECTION",
                  "ROADCONDITIONSPRIMARY": "0",
                  "ROADCONTOUR": "1 - STRAIGHT LEVEL",
                  "ROADSURFACE": "1",
                  "SNA_NEIGHBORHOOD": "WESTWOOD",
                  "TYPEOFPERSON": "D - DRIVER",
                  "WEATHER": "1 - CLEAR",
                  "ZIP": "45238.0",
                  "UNITTYPE": "04 - FULL SIZE",
                  "CRASH_YEAR": 2016,
                  "_deepnote_index_column": 92
                },
                {
                  "Unnamed: 0": 71,
                  "ADDRESS_X": "4XX W 9TH ST",
                  "LATITUDE_X": 39.102954,
                  "LONGITUDE_X": -84.519736,
                  "AGE": "31-40",
                  "COMMUNITY_COUNCIL_NEIGHBORHOOD": "WEST END",
                  "CPD_NEIGHBORHOOD": "WEST  END",
                  "CRASHDATE": "01/26/2017 05:50:00 PM",
                  "CRASHLOCATION": "07 - ON RAMP",
                  "CRASHSEVERITY": 3,
                  "CRASHSEVERITYID": 3,
                  "DATECRASHREPORTED": "01/26/2017 05:55:00 PM",
                  "DAYOFWEEK": "THU",
                  "GENDER": "M - MALE",
                  "INJURIES": "1",
                  "INSTANCEID": "34E1E810-E02A-45CA-879A-BF31D387AD5F",
                  "LIGHTCONDITIONSPRIMARY": "3",
                  "LOCALREPORTNO": 175001278,
                  "MANNEROFCRASH": "2 - REAR-END",
                  "ROADCONDITIONSPRIMARY": "0",
                  "ROADCONTOUR": "4 - CURVE GRADE",
                  "ROADSURFACE": "2",
                  "SNA_NEIGHBORHOOD": "WEST END",
                  "TYPEOFPERSON": "D - DRIVER",
                  "WEATHER": "1 - CLEAR",
                  "ZIP": "45203.0",
                  "UNITTYPE": "03 - MID SIZE",
                  "CRASH_YEAR": 2017,
                  "_deepnote_index_column": 52
                },
                {
                  "Unnamed: 0": 68,
                  "ADDRESS_X": "24XX RIVERSIDE DR",
                  "LATITUDE_X": 39.124191,
                  "LONGITUDE_X": -84.46478499999999,
                  "AGE": "OVER 70",
                  "COMMUNITY_COUNCIL_NEIGHBORHOOD": "EAST END",
                  "CPD_NEIGHBORHOOD": "EAST  END",
                  "CRASHDATE": "06/08/2018 04:40:00 PM",
                  "CRASHLOCATION": "01 - NOT AN INTERSECTION",
                  "CRASHSEVERITY": 3,
                  "CRASHSEVERITYID": 3,
                  "DATECRASHREPORTED": "06/08/2018 04:41:00 PM",
                  "DAYOFWEEK": "FRI",
                  "GENDER": "M - MALE",
                  "INJURIES": "1",
                  "INSTANCEID": "F399A573-0E85-4C0C-8609-236FFBC8CDBB",
                  "LIGHTCONDITIONSPRIMARY": "1",
                  "LOCALREPORTNO": 185008028,
                  "MANNEROFCRASH": "6 - ANGLE",
                  "ROADCONDITIONSPRIMARY": "0",
                  "ROADCONTOUR": "1 - STRAIGHT LEVEL",
                  "ROADSURFACE": "2",
                  "SNA_NEIGHBORHOOD": "EAST END",
                  "TYPEOFPERSON": "D - DRIVER",
                  "WEATHER": "1 - CLEAR",
                  "ZIP": "45202.0",
                  "UNITTYPE": "07 - PICKUP",
                  "CRASH_YEAR": 2018,
                  "_deepnote_index_column": 49
                },
                {
                  "Unnamed: 0": 84,
                  "ADDRESS_X": "16XX BLUE ROCK ST",
                  "LATITUDE_X": 39.160611,
                  "LONGITUDE_X": -84.54396899999999,
                  "AGE": "26-30",
                  "COMMUNITY_COUNCIL_NEIGHBORHOOD": "NORTHSIDE",
                  "CPD_NEIGHBORHOOD": "NORTHSIDE",
                  "CRASHDATE": "04/11/2013 02:54:19 PM",
                  "CRASHLOCATION": "01 - NOT AN INTERSECTION",
                  "CRASHSEVERITY": 3,
                  "CRASHSEVERITYID": 3,
                  "DATECRASHREPORTED": "04/11/2013 02:55:54 PM",
                  "DAYOFWEEK": "THU",
                  "GENDER": "F - FEMALE",
                  "INJURIES": "1",
                  "INSTANCEID": "39A752F0-662D-4FD9-B685-E4585954608A",
                  "LIGHTCONDITIONSPRIMARY": "1",
                  "LOCALREPORTNO": 135004412,
                  "MANNEROFCRASH": "6 - ANGLE",
                  "ROADCONDITIONSPRIMARY": "0",
                  "ROADCONTOUR": "1 - STRAIGHT LEVEL",
                  "ROADSURFACE": "2",
                  "SNA_NEIGHBORHOOD": "NORTHSIDE",
                  "TYPEOFPERSON": "D - DRIVER",
                  "WEATHER": "4 - RAIN",
                  "ZIP": "45223.0",
                  "UNITTYPE": "03 - MID SIZE",
                  "CRASH_YEAR": 2013,
                  "_deepnote_index_column": 65
                },
                {
                  "Unnamed: 0": 83,
                  "ADDRESS_X": "E I74 AT 19-0 MM",
                  "LATITUDE_X": 39.155683,
                  "LONGITUDE_X": -84.544225,
                  "AGE": "41-50",
                  "COMMUNITY_COUNCIL_NEIGHBORHOOD": "SOUTH CUMMINSVILLE",
                  "CPD_NEIGHBORHOOD": "S.. CUMMINSVILLE",
                  "CRASHDATE": "02/13/2016 10:22:00 AM",
                  "CRASHLOCATION": "08 - OFF RAMP",
                  "CRASHSEVERITY": 3,
                  "CRASHSEVERITYID": 3,
                  "DATECRASHREPORTED": "02/13/2016 10:22:00 AM",
                  "DAYOFWEEK": "SAT",
                  "GENDER": "F - FEMALE",
                  "INJURIES": "1",
                  "INSTANCEID": "73208025-B80C-47B1-BC6D-9EB3E7996FE8",
                  "LIGHTCONDITIONSPRIMARY": "1",
                  "LOCALREPORTNO": 165002198,
                  "MANNEROFCRASH": "7 - SIDESWIPE, SAME DIRECTION",
                  "ROADCONDITIONSPRIMARY": "0",
                  "ROADCONTOUR": "3 - CURVE LEVEL",
                  "ROADSURFACE": "2",
                  "SNA_NEIGHBORHOOD": "SOUTH CUMMINSVILLE",
                  "TYPEOFPERSON": "D - DRIVER",
                  "WEATHER": "1 - CLEAR",
                  "ZIP": "45225.0",
                  "UNITTYPE": "03 - MID SIZE",
                  "CRASH_YEAR": 2016,
                  "_deepnote_index_column": 64
                },
                {
                  "Unnamed: 0": 82,
                  "ADDRESS_X": "25XX SEEGAR",
                  "LATITUDE_X": 39.130735,
                  "LONGITUDE_X": -84.553885,
                  "AGE": "UNKNOWN",
                  "COMMUNITY_COUNCIL_NEIGHBORHOOD": "NORTH FAIRMOUNT",
                  "CPD_NEIGHBORHOOD": "NORTH FAIRMOUNT",
                  "CRASHDATE": "12/13/2014 03:40:00 AM",
                  "CRASHLOCATION": "01 - NOT AN INTERSECTION",
                  "CRASHSEVERITY": 3,
                  "CRASHSEVERITYID": 3,
                  "DATECRASHREPORTED": "12/13/2014 03:48:00 AM",
                  "DAYOFWEEK": "SAT",
                  "GENDER": "nan",
                  "INJURIES": "1",
                  "INSTANCEID": "13B6EF28-FC1F-4CE1-B0FB-52E9FED352D8",
                  "LIGHTCONDITIONSPRIMARY": "4",
                  "LOCALREPORTNO": 145013078,
                  "MANNEROFCRASH": "1 - NOT COLLISION BETWEEN TWO MOTOR VEHICLES IN TRANSPORT",
                  "ROADCONDITIONSPRIMARY": "0",
                  "ROADCONTOUR": "2 - STRAIGHT GRADE",
                  "ROADSURFACE": "2",
                  "SNA_NEIGHBORHOOD": "NORTH FAIRMOUNT",
                  "TYPEOFPERSON": "D - DRIVER",
                  "WEATHER": "2 - CLOUDY",
                  "ZIP": "45225.0",
                  "UNITTYPE": "06 - SPORT UTILITY VEHICLE",
                  "CRASH_YEAR": 2014,
                  "_deepnote_index_column": 63
                },
                {
                  "Unnamed: 0": 78,
                  "ADDRESS_X": "9XX E MCMILLAN ST",
                  "LATITUDE_X": 39.125976,
                  "LONGITUDE_X": -84.489421,
                  "AGE": "OVER 70",
                  "COMMUNITY_COUNCIL_NEIGHBORHOOD": "WALNUT HILLS",
                  "CPD_NEIGHBORHOOD": "WALNUT HILLS",
                  "CRASHDATE": "06/11/2013 06:30:00 PM",
                  "CRASHLOCATION": "01 - NOT AN INTERSECTION",
                  "CRASHSEVERITY": 3,
                  "CRASHSEVERITYID": 3,
                  "DATECRASHREPORTED": "06/11/2013 07:30:00 PM",
                  "DAYOFWEEK": "TUE",
                  "GENDER": "M - MALE",
                  "INJURIES": "1",
                  "INSTANCEID": "593979BA-26A5-4B56-8F3C-F07FB2A7E55D",
                  "LIGHTCONDITIONSPRIMARY": "1",
                  "LOCALREPORTNO": 135007133,
                  "MANNEROFCRASH": "3 - HEAD-ON",
                  "ROADCONDITIONSPRIMARY": "0",
                  "ROADCONTOUR": "1 - STRAIGHT LEVEL",
                  "ROADSURFACE": "1",
                  "SNA_NEIGHBORHOOD": "WALNUT HILLS",
                  "TYPEOFPERSON": "D - DRIVER",
                  "WEATHER": "1 - CLEAR",
                  "ZIP": "45206.0",
                  "UNITTYPE": "03 - MID SIZE",
                  "CRASH_YEAR": 2013,
                  "_deepnote_index_column": 59
                },
                {
                  "Unnamed: 0": 119,
                  "ADDRESS_X": "58XX BELMONT AV",
                  "LATITUDE_X": 39.198033,
                  "LONGITUDE_X": -84.553678,
                  "AGE": "18-25",
                  "COMMUNITY_COUNCIL_NEIGHBORHOOD": "COLLEGE HILL",
                  "CPD_NEIGHBORHOOD": "COLLEGE  HILL",
                  "CRASHDATE": "01/11/2017 07:00:00 AM",
                  "CRASHLOCATION": "01 - NOT AN INTERSECTION",
                  "CRASHSEVERITY": 3,
                  "CRASHSEVERITYID": 3,
                  "DATECRASHREPORTED": "01/11/2017 07:09:00 AM",
                  "DAYOFWEEK": "WED",
                  "GENDER": "M - MALE",
                  "INJURIES": "1",
                  "INSTANCEID": "4C3FD5CC-8726-448D-B93E-CF0415532B0F",
                  "LIGHTCONDITIONSPRIMARY": "4",
                  "LOCALREPORTNO": 175000563,
                  "MANNEROFCRASH": "1 - NOT COLLISION BETWEEN TWO MOTOR VEHICLES IN TRANSPORT",
                  "ROADCONDITIONSPRIMARY": "0",
                  "ROADCONTOUR": "3 - CURVE LEVEL",
                  "ROADSURFACE": "2",
                  "SNA_NEIGHBORHOOD": "COLLEGE HILL",
                  "TYPEOFPERSON": "D - DRIVER",
                  "WEATHER": "1 - CLEAR",
                  "ZIP": "45224.0",
                  "UNITTYPE": "07 - PICKUP",
                  "CRASH_YEAR": 2017,
                  "_deepnote_index_column": 100
                },
                {
                  "Unnamed: 0": 77,
                  "ADDRESS_X": "15XX WESTERN HILLS VIA",
                  "LATITUDE_X": 39.12409,
                  "LONGITUDE_X": -84.545327,
                  "AGE": "18-25",
                  "COMMUNITY_COUNCIL_NEIGHBORHOOD": "SOUTH FAIRMOUNT",
                  "CPD_NEIGHBORHOOD": "SOUTH  FAIRMOUNT",
                  "CRASHDATE": "08/06/2014 01:55:00 AM",
                  "CRASHLOCATION": "01 - NOT AN INTERSECTION",
                  "CRASHSEVERITY": 3,
                  "CRASHSEVERITYID": 3,
                  "DATECRASHREPORTED": "08/06/2014 01:58:00 AM",
                  "DAYOFWEEK": "WED",
                  "GENDER": "M - MALE",
                  "INJURIES": "1",
                  "INSTANCEID": "706FF4D6-E553-48CC-BA84-859A69569042",
                  "LIGHTCONDITIONSPRIMARY": "4",
                  "LOCALREPORTNO": 145006963,
                  "MANNEROFCRASH": "1 - NOT COLLISION BETWEEN TWO MOTOR VEHICLES IN TRANSPORT",
                  "ROADCONDITIONSPRIMARY": "0",
                  "ROADCONTOUR": "4 - CURVE GRADE",
                  "ROADSURFACE": "1",
                  "SNA_NEIGHBORHOOD": "SOUTH FAIRMOUNT",
                  "TYPEOFPERSON": "D - DRIVER",
                  "WEATHER": "1 - CLEAR",
                  "ZIP": "45214.0",
                  "UNITTYPE": "03 - MID SIZE",
                  "CRASH_YEAR": 2014,
                  "_deepnote_index_column": 58
                },
                {
                  "Unnamed: 0": 75,
                  "ADDRESS_X": "8XX OVERLOOK AV",
                  "LATITUDE_X": 39.111794,
                  "LONGITUDE_X": -84.598838,
                  "AGE": "31-40",
                  "COMMUNITY_COUNCIL_NEIGHBORHOOD": "WEST PRICE HILL",
                  "CPD_NEIGHBORHOOD": "WEST PRICE HILL",
                  "CRASHDATE": "10/25/2016 03:15:00 PM",
                  "CRASHLOCATION": "02 - FOUR-WAY INTERSECTION",
                  "CRASHSEVERITY": 3,
                  "CRASHSEVERITYID": 3,
                  "DATECRASHREPORTED": "10/25/2016 03:16:00 PM",
                  "DAYOFWEEK": "TUE",
                  "GENDER": "M - MALE",
                  "INJURIES": "1",
                  "INSTANCEID": "6596980B-AC17-4FAA-9C80-E3A7B061B397",
                  "LIGHTCONDITIONSPRIMARY": "1",
                  "LOCALREPORTNO": 165017651,
                  "MANNEROFCRASH": "2 - REAR-END",
                  "ROADCONDITIONSPRIMARY": "0",
                  "ROADCONTOUR": "1 - STRAIGHT LEVEL",
                  "ROADSURFACE": "2",
                  "SNA_NEIGHBORHOOD": "WEST PRICE HILL",
                  "TYPEOFPERSON": "D - DRIVER",
                  "WEATHER": "1 - CLEAR",
                  "ZIP": "45238.0",
                  "UNITTYPE": "08 - VAN",
                  "CRASH_YEAR": 2016,
                  "_deepnote_index_column": 56
                },
                {
                  "Unnamed: 0": 73,
                  "ADDRESS_X": "9XX HAWTHORNE AV",
                  "LATITUDE_X": 39.109658,
                  "LONGITUDE_X": -84.56224499999999,
                  "AGE": "UNKNOWN",
                  "COMMUNITY_COUNCIL_NEIGHBORHOOD": "EAST PRICE HILL",
                  "CPD_NEIGHBORHOOD": "EAST PRICE HILL",
                  "CRASHDATE": "03/25/2017 08:30:00 PM",
                  "CRASHLOCATION": "01 - NOT AN INTERSECTION",
                  "CRASHSEVERITY": 3,
                  "CRASHSEVERITYID": 3,
                  "DATECRASHREPORTED": "03/25/2017 08:30:11 PM",
                  "DAYOFWEEK": "SAT",
                  "GENDER": "nan",
                  "INJURIES": "1",
                  "INSTANCEID": "BE611B9F-D527-4787-BCF6-B531D4DB086A",
                  "LIGHTCONDITIONSPRIMARY": "3",
                  "LOCALREPORTNO": 175004337,
                  "MANNEROFCRASH": "5 - BACKING",
                  "ROADCONDITIONSPRIMARY": "0",
                  "ROADCONTOUR": "1 - STRAIGHT LEVEL",
                  "ROADSURFACE": "2",
                  "SNA_NEIGHBORHOOD": "EAST PRICE HILL",
                  "TYPEOFPERSON": "D - DRIVER",
                  "WEATHER": "1 - CLEAR",
                  "ZIP": "45205.0",
                  "UNITTYPE": "03 - MID SIZE",
                  "CRASH_YEAR": 2017,
                  "_deepnote_index_column": 54
                },
                {
                  "Unnamed: 0": 72,
                  "ADDRESS_X": "31XX WOODFORD RD",
                  "LATITUDE_X": 39.180124,
                  "LONGITUDE_X": -84.426777,
                  "AGE": "18-25",
                  "COMMUNITY_COUNCIL_NEIGHBORHOOD": "PLEASANT RIDGE",
                  "CPD_NEIGHBORHOOD": "PLEASANT RIDGE",
                  "CRASHDATE": "09/19/2017 10:15:00 PM",
                  "CRASHLOCATION": "01 - NOT AN INTERSECTION",
                  "CRASHSEVERITY": 3,
                  "CRASHSEVERITYID": 3,
                  "DATECRASHREPORTED": "09/19/2017 10:17:00 PM",
                  "DAYOFWEEK": "TUE",
                  "GENDER": "F - FEMALE",
                  "INJURIES": "1",
                  "INSTANCEID": "868D900B-C1CA-4E80-8E0D-11906C78970F",
                  "LIGHTCONDITIONSPRIMARY": "4",
                  "LOCALREPORTNO": 175014192,
                  "MANNEROFCRASH": "5 - BACKING",
                  "ROADCONDITIONSPRIMARY": "0",
                  "ROADCONTOUR": "1 - STRAIGHT LEVEL",
                  "ROADSURFACE": "2",
                  "SNA_NEIGHBORHOOD": "PLEASANT RIDGE",
                  "TYPEOFPERSON": "D - DRIVER",
                  "WEATHER": "1 - CLEAR",
                  "ZIP": "45213.0",
                  "UNITTYPE": "02 - COMPACT",
                  "CRASH_YEAR": 2017,
                  "_deepnote_index_column": 53
                },
                {
                  "Unnamed: 0": 81,
                  "ADDRESS_X": "COLERAIN AV",
                  "LATITUDE_X": 39.163751,
                  "LONGITUDE_X": -84.55176,
                  "AGE": "41-50",
                  "COMMUNITY_COUNCIL_NEIGHBORHOOD": "NORTHSIDE",
                  "CPD_NEIGHBORHOOD": "NORTHSIDE",
                  "CRASHDATE": "02/01/2013 05:30:00 PM",
                  "CRASHLOCATION": "02 - FOUR-WAY INTERSECTION",
                  "CRASHSEVERITY": 3,
                  "CRASHSEVERITYID": 3,
                  "DATECRASHREPORTED": "02/01/2013 05:42:00 PM",
                  "DAYOFWEEK": "FRI",
                  "GENDER": "M - MALE",
                  "INJURIES": "1",
                  "INSTANCEID": "40141199-1A61-4B0C-9260-68AE704C9EE6",
                  "LIGHTCONDITIONSPRIMARY": "1",
                  "LOCALREPORTNO": 135001401,
                  "MANNEROFCRASH": "2 - REAR-END",
                  "ROADCONDITIONSPRIMARY": "0",
                  "ROADCONTOUR": "2 - STRAIGHT GRADE",
                  "ROADSURFACE": "2",
                  "SNA_NEIGHBORHOOD": "MT. AIRY",
                  "TYPEOFPERSON": "D - DRIVER",
                  "WEATHER": "6 - SNOW",
                  "ZIP": "45223.0",
                  "UNITTYPE": "03 - MID SIZE",
                  "CRASH_YEAR": 2013,
                  "_deepnote_index_column": 62
                },
                {
                  "Unnamed: 0": 19,
                  "ADDRESS_X": "63XX GRACELY",
                  "LATITUDE_X": 39.107808,
                  "LONGITUDE_X": -84.688195,
                  "AGE": "31-40",
                  "COMMUNITY_COUNCIL_NEIGHBORHOOD": "SAYLER PARK",
                  "CPD_NEIGHBORHOOD": "SAYLER  PARK",
                  "CRASHDATE": "06/17/2014 05:25:00 PM",
                  "CRASHLOCATION": "03 - T-INTERSECTION",
                  "CRASHSEVERITY": 3,
                  "CRASHSEVERITYID": 3,
                  "DATECRASHREPORTED": "06/17/2014 05:29:00 PM",
                  "DAYOFWEEK": "TUE",
                  "GENDER": "F - FEMALE",
                  "INJURIES": "1",
                  "INSTANCEID": "70FA6259-C675-4C87-B220-6968F167FE0E",
                  "LIGHTCONDITIONSPRIMARY": "1",
                  "LOCALREPORTNO": 145004877,
                  "MANNEROFCRASH": "2 - REAR-END",
                  "ROADCONDITIONSPRIMARY": "0",
                  "ROADCONTOUR": "1 - STRAIGHT LEVEL",
                  "ROADSURFACE": "2",
                  "SNA_NEIGHBORHOOD": "SAYLER PARK",
                  "TYPEOFPERSON": "D - DRIVER",
                  "WEATHER": "1 - CLEAR",
                  "ZIP": "45233.0",
                  "UNITTYPE": "03 - MID SIZE",
                  "CRASH_YEAR": 2014,
                  "_deepnote_index_column": 0
                },
                {
                  "Unnamed: 0": 92,
                  "ADDRESS_X": "50XX RIDGE",
                  "LATITUDE_X": 39.166273,
                  "LONGITUDE_X": -84.42311099999999,
                  "AGE": "UNKNOWN",
                  "COMMUNITY_COUNCIL_NEIGHBORHOOD": "OAKLEY",
                  "CPD_NEIGHBORHOOD": "MADISONVILLE",
                  "CRASHDATE": "02/18/2013 07:00:59 PM",
                  "CRASHLOCATION": "03 - T-INTERSECTION",
                  "CRASHSEVERITY": 3,
                  "CRASHSEVERITYID": 3,
                  "DATECRASHREPORTED": "02/18/2013 07:04:00 PM",
                  "DAYOFWEEK": "MON",
                  "GENDER": "nan",
                  "INJURIES": "1",
                  "INSTANCEID": "44CC81A7-5C8D-43FB-9DF2-64C0AAAA331B",
                  "LIGHTCONDITIONSPRIMARY": "3",
                  "LOCALREPORTNO": 135002162,
                  "MANNEROFCRASH": "2 - REAR-END",
                  "ROADCONDITIONSPRIMARY": "0",
                  "ROADCONTOUR": "4 - CURVE GRADE",
                  "ROADSURFACE": "1",
                  "SNA_NEIGHBORHOOD": "OAKLEY",
                  "TYPEOFPERSON": "D - DRIVER",
                  "WEATHER": "1 - CLEAR",
                  "ZIP": "45209.0",
                  "UNITTYPE": "02 - COMPACT",
                  "CRASH_YEAR": 2013,
                  "_deepnote_index_column": 73
                },
                {
                  "Unnamed: 0": 88,
                  "ADDRESS_X": "5XX W KING DR",
                  "LATITUDE_X": 39.14031,
                  "LONGITUDE_X": -84.52745,
                  "AGE": "31-40",
                  "COMMUNITY_COUNCIL_NEIGHBORHOOD": "CLIFTON",
                  "CPD_NEIGHBORHOOD": "CLIFTON",
                  "CRASHDATE": "09/09/2013 12:04:00 AM",
                  "CRASHLOCATION": "01 - NOT AN INTERSECTION",
                  "CRASHSEVERITY": 3,
                  "CRASHSEVERITYID": 3,
                  "DATECRASHREPORTED": "09/09/2013 12:04:00 AM",
                  "DAYOFWEEK": "MON",
                  "GENDER": "M - MALE",
                  "INJURIES": "1",
                  "INSTANCEID": "6E2955DB-5FEE-4915-BBAC-493A09353E52",
                  "LIGHTCONDITIONSPRIMARY": "4",
                  "LOCALREPORTNO": 135010000,
                  "MANNEROFCRASH": "1 - NOT COLLISION BETWEEN TWO MOTOR VEHICLES IN TRANSPORT",
                  "ROADCONDITIONSPRIMARY": "0",
                  "ROADCONTOUR": "4 - CURVE GRADE",
                  "ROADSURFACE": "2",
                  "SNA_NEIGHBORHOOD": "CLIFTON",
                  "TYPEOFPERSON": "D - DRIVER",
                  "WEATHER": "1 - CLEAR",
                  "ZIP": "45220.0",
                  "UNITTYPE": "03 - MID SIZE",
                  "CRASH_YEAR": 2013,
                  "_deepnote_index_column": 69
                },
                {
                  "Unnamed: 0": 118,
                  "ADDRESS_X": "61XX RIVER RD",
                  "LATITUDE_X": 39.103574,
                  "LONGITUDE_X": -84.68374399999999,
                  "AGE": "OVER 70",
                  "COMMUNITY_COUNCIL_NEIGHBORHOOD": "SAYLER PARK",
                  "CPD_NEIGHBORHOOD": "SAYLER  PARK",
                  "CRASHDATE": "10/03/2020 02:50:00 PM",
                  "CRASHLOCATION": "nan",
                  "CRASHSEVERITY": 3,
                  "CRASHSEVERITYID": 201903,
                  "DATECRASHREPORTED": "10/03/2020 02:50:00 PM",
                  "DAYOFWEEK": "SAT",
                  "GENDER": "M - MALE",
                  "INJURIES": "5",
                  "INSTANCEID": "30D7A406-77AC-48AC-905C-CE6A683FC90E",
                  "LIGHTCONDITIONSPRIMARY": "1",
                  "LOCALREPORTNO": 205011398,
                  "MANNEROFCRASH": "2 - REAR-END",
                  "ROADCONDITIONSPRIMARY": "0",
                  "ROADCONTOUR": "1 - STRAIGHT LEVEL",
                  "ROADSURFACE": "1",
                  "SNA_NEIGHBORHOOD": "RIVERSIDE",
                  "TYPEOFPERSON": "D - DRIVER",
                  "WEATHER": "2 - CLOUDY",
                  "ZIP": "45233.0",
                  "UNITTYPE": "03 - SPORT UTILITY VEHICLE",
                  "CRASH_YEAR": 2020,
                  "_deepnote_index_column": 99
                },
                {
                  "Unnamed: 0": 117,
                  "ADDRESS_X": "10XX YORK ST",
                  "LATITUDE_X": 39.117281,
                  "LONGITUDE_X": -84.532641,
                  "AGE": "41-50",
                  "COMMUNITY_COUNCIL_NEIGHBORHOOD": "WEST END",
                  "CPD_NEIGHBORHOOD": "WEST  END",
                  "CRASHDATE": "09/06/2018 06:59:00 PM",
                  "CRASHLOCATION": "03 - T-INTERSECTION",
                  "CRASHSEVERITY": 3,
                  "CRASHSEVERITYID": 3,
                  "DATECRASHREPORTED": "09/06/2018 07:00:00 PM",
                  "DAYOFWEEK": "THU",
                  "GENDER": "M - MALE",
                  "INJURIES": "1",
                  "INSTANCEID": "E82A46EE-CBB0-41BE-9F96-0ECB4296A730",
                  "LIGHTCONDITIONSPRIMARY": "1",
                  "LOCALREPORTNO": 185012538,
                  "MANNEROFCRASH": "6 - ANGLE",
                  "ROADCONDITIONSPRIMARY": "0",
                  "ROADCONTOUR": "2 - STRAIGHT GRADE",
                  "ROADSURFACE": "2",
                  "SNA_NEIGHBORHOOD": "WEST END",
                  "TYPEOFPERSON": "D - DRIVER",
                  "WEATHER": "1 - CLEAR",
                  "ZIP": "45214.0",
                  "UNITTYPE": "08 - VAN",
                  "CRASH_YEAR": 2018,
                  "_deepnote_index_column": 98
                },
                {
                  "Unnamed: 0": 110,
                  "ADDRESS_X": "3XX CRESTLINE AV",
                  "LATITUDE_X": 39.096497,
                  "LONGITUDE_X": -84.568073,
                  "AGE": "31-40",
                  "COMMUNITY_COUNCIL_NEIGHBORHOOD": "EAST PRICE HILL",
                  "CPD_NEIGHBORHOOD": "EAST PRICE HILL",
                  "CRASHDATE": "08/21/2017 01:55:08 PM",
                  "CRASHLOCATION": "01 - NOT AN INTERSECTION",
                  "CRASHSEVERITY": 3,
                  "CRASHSEVERITYID": 3,
                  "DATECRASHREPORTED": "08/21/2017 04:02:06 PM",
                  "DAYOFWEEK": "MON",
                  "GENDER": "F - FEMALE",
                  "INJURIES": "1",
                  "INSTANCEID": "B8BF6FF5-C6E0-4DC5-9252-D6D1C5DB5B33",
                  "LIGHTCONDITIONSPRIMARY": "1",
                  "LOCALREPORTNO": 175012507,
                  "MANNEROFCRASH": "8 - SIDESWIPE, OPPOSITE DIRECTION",
                  "ROADCONDITIONSPRIMARY": "0",
                  "ROADCONTOUR": "1 - STRAIGHT LEVEL",
                  "ROADSURFACE": "1",
                  "SNA_NEIGHBORHOOD": "EAST PRICE HILL",
                  "TYPEOFPERSON": "D - DRIVER",
                  "WEATHER": "1 - CLEAR",
                  "ZIP": "45205.0",
                  "UNITTYPE": "08 - VAN",
                  "CRASH_YEAR": 2017,
                  "_deepnote_index_column": 91
                },
                {
                  "Unnamed: 0": 107,
                  "ADDRESS_X": "48XX HAWAIIAN TE",
                  "LATITUDE_X": 39.18476,
                  "LONGITUDE_X": -84.56253000000001,
                  "AGE": "UNKNOWN",
                  "COMMUNITY_COUNCIL_NEIGHBORHOOD": "MOUNT AIRY",
                  "CPD_NEIGHBORHOOD": "MOUNT AIRY",
                  "CRASHDATE": "05/14/2015 07:30:00 PM",
                  "CRASHLOCATION": "01 - NOT AN INTERSECTION",
                  "CRASHSEVERITY": 3,
                  "CRASHSEVERITYID": 3,
                  "DATECRASHREPORTED": "05/14/2015 08:30:00 PM",
                  "DAYOFWEEK": "THU",
                  "GENDER": "nan",
                  "INJURIES": "1",
                  "INSTANCEID": "7375F152-61E8-4D31-91F4-1618D37D7155",
                  "LIGHTCONDITIONSPRIMARY": "4",
                  "LOCALREPORTNO": 155006649,
                  "MANNEROFCRASH": "9 - UNKNOWN",
                  "ROADCONDITIONSPRIMARY": "0",
                  "ROADCONTOUR": "1 - STRAIGHT LEVEL",
                  "ROADSURFACE": "2",
                  "SNA_NEIGHBORHOOD": "MT. AIRY",
                  "TYPEOFPERSON": "D - DRIVER",
                  "WEATHER": "2 - CLOUDY",
                  "ZIP": "45223.0",
                  "UNITTYPE": "99 - UNKNOWN",
                  "CRASH_YEAR": 2015,
                  "_deepnote_index_column": 88
                },
                {
                  "Unnamed: 0": 106,
                  "ADDRESS_X": "16XX CENTRAL PY",
                  "LATITUDE_X": 39.115399,
                  "LONGITUDE_X": -84.522195,
                  "AGE": "UNKNOWN",
                  "COMMUNITY_COUNCIL_NEIGHBORHOOD": "OTR",
                  "CPD_NEIGHBORHOOD": "OVER-THE-RHINE",
                  "CRASHDATE": "06/26/2018 02:53:00 PM",
                  "CRASHLOCATION": "01 - NOT AN INTERSECTION",
                  "CRASHSEVERITY": 3,
                  "CRASHSEVERITYID": 3,
                  "DATECRASHREPORTED": "06/26/2018 02:53:00 PM",
                  "DAYOFWEEK": "TUE",
                  "GENDER": "nan",
                  "INJURIES": "1",
                  "INSTANCEID": "4E53CC23-01AE-473E-90D9-ABB6831D3593",
                  "LIGHTCONDITIONSPRIMARY": "1",
                  "LOCALREPORTNO": 185008898,
                  "MANNEROFCRASH": "2 - REAR-END",
                  "ROADCONDITIONSPRIMARY": "0",
                  "ROADCONTOUR": "1 - STRAIGHT LEVEL",
                  "ROADSURFACE": "2",
                  "SNA_NEIGHBORHOOD": "OVER-THE-RHINE",
                  "TYPEOFPERSON": "D - DRIVER",
                  "WEATHER": "4 - RAIN",
                  "ZIP": "45214.0",
                  "UNITTYPE": "06 - SPORT UTILITY VEHICLE",
                  "CRASH_YEAR": 2018,
                  "_deepnote_index_column": 87
                },
                {
                  "Unnamed: 0": 104,
                  "ADDRESS_X": "47XX HAMILTON AV",
                  "LATITUDE_X": 39.177561,
                  "LONGITUDE_X": -84.544661,
                  "AGE": "18-25",
                  "COMMUNITY_COUNCIL_NEIGHBORHOOD": "NORTHSIDE",
                  "CPD_NEIGHBORHOOD": "NORTHSIDE",
                  "CRASHDATE": "12/23/2017 03:32:00 PM",
                  "CRASHLOCATION": "01 - NOT AN INTERSECTION",
                  "CRASHSEVERITY": 3,
                  "CRASHSEVERITYID": 3,
                  "DATECRASHREPORTED": "12/23/2017 03:34:00 PM",
                  "DAYOFWEEK": "SAT",
                  "GENDER": "M - MALE",
                  "INJURIES": "1",
                  "INSTANCEID": "3CCCC92A-1CEC-4CE3-AA79-0D6D48293ACB",
                  "LIGHTCONDITIONSPRIMARY": "1",
                  "LOCALREPORTNO": 175019527,
                  "MANNEROFCRASH": "6 - ANGLE",
                  "ROADCONDITIONSPRIMARY": "0",
                  "ROADCONTOUR": "1 - STRAIGHT LEVEL",
                  "ROADSURFACE": "2",
                  "SNA_NEIGHBORHOOD": "NORTHSIDE",
                  "TYPEOFPERSON": "D - DRIVER",
                  "WEATHER": "2 - CLOUDY",
                  "ZIP": "45223.0",
                  "UNITTYPE": "04 - FULL SIZE",
                  "CRASH_YEAR": 2017,
                  "_deepnote_index_column": 85
                },
                {
                  "Unnamed: 0": 102,
                  "ADDRESS_X": "16XX MADISON RD",
                  "LATITUDE_X": 39.130878,
                  "LONGITUDE_X": -84.474878,
                  "AGE": "26-30",
                  "COMMUNITY_COUNCIL_NEIGHBORHOOD": "EAST WALNUT HILLS",
                  "CPD_NEIGHBORHOOD": "EAST WALNUT HILLS",
                  "CRASHDATE": "06/22/2017 07:41:00 AM",
                  "CRASHLOCATION": "01 - NOT AN INTERSECTION",
                  "CRASHSEVERITY": 3,
                  "CRASHSEVERITYID": 3,
                  "DATECRASHREPORTED": "06/22/2017 07:41:00 AM",
                  "DAYOFWEEK": "THU",
                  "GENDER": "F - FEMALE",
                  "INJURIES": "1",
                  "INSTANCEID": "A429F91B-D930-458E-8B27-D276D1A61B5D",
                  "LIGHTCONDITIONSPRIMARY": "1",
                  "LOCALREPORTNO": 175009291,
                  "MANNEROFCRASH": "2 - REAR-END",
                  "ROADCONDITIONSPRIMARY": "0",
                  "ROADCONTOUR": "1 - STRAIGHT LEVEL",
                  "ROADSURFACE": "2",
                  "SNA_NEIGHBORHOOD": "EAST WALNUT HILLS",
                  "TYPEOFPERSON": "D - DRIVER",
                  "WEATHER": "1 - CLEAR",
                  "ZIP": "45206.0",
                  "UNITTYPE": "02 - COMPACT",
                  "CRASH_YEAR": 2017,
                  "_deepnote_index_column": 83
                },
                {
                  "Unnamed: 0": 101,
                  "ADDRESS_X": "55XX KIRBY AV",
                  "LATITUDE_X": 39.194320000000005,
                  "LONGITUDE_X": -84.568384,
                  "AGE": "51-60",
                  "COMMUNITY_COUNCIL_NEIGHBORHOOD": "MOUNT AIRY",
                  "CPD_NEIGHBORHOOD": "MOUNT AIRY",
                  "CRASHDATE": "03/01/2014 05:20:00 PM",
                  "CRASHLOCATION": "02 - FOUR-WAY INTERSECTION",
                  "CRASHSEVERITY": 3,
                  "CRASHSEVERITYID": 3,
                  "DATECRASHREPORTED": "03/01/2014 05:25:00 PM",
                  "DAYOFWEEK": "SAT",
                  "GENDER": "M - MALE",
                  "INJURIES": "1",
                  "INSTANCEID": "6562E2C8-93DC-471D-AF00-A31A097C936E",
                  "LIGHTCONDITIONSPRIMARY": "1",
                  "LOCALREPORTNO": 145001698,
                  "MANNEROFCRASH": "6 - ANGLE",
                  "ROADCONDITIONSPRIMARY": "0",
                  "ROADCONTOUR": "3 - CURVE LEVEL",
                  "ROADSURFACE": "1",
                  "SNA_NEIGHBORHOOD": "MT. AIRY",
                  "TYPEOFPERSON": "D - DRIVER",
                  "WEATHER": "1 - CLEAR",
                  "ZIP": "45239.0",
                  "UNITTYPE": "06 - SPORT UTILITY VEHICLE",
                  "CRASH_YEAR": 2014,
                  "_deepnote_index_column": 82
                },
                {
                  "Unnamed: 0": 99,
                  "ADDRESS_X": "8XX W 6TH ST",
                  "LATITUDE_X": 39.100191,
                  "LONGITUDE_X": -84.536311,
                  "AGE": "41-50",
                  "COMMUNITY_COUNCIL_NEIGHBORHOOD": "QUEENSGATE",
                  "CPD_NEIGHBORHOOD": "QUEENSGATE",
                  "CRASHDATE": "01/02/2019 02:00:00 PM",
                  "CRASHLOCATION": "nan",
                  "CRASHSEVERITY": 3,
                  "CRASHSEVERITYID": 201903,
                  "DATECRASHREPORTED": "01/02/2019 02:02:00 PM",
                  "DAYOFWEEK": "WED",
                  "GENDER": "M - MALE",
                  "INJURIES": "3",
                  "INSTANCEID": "76B0DFC4-FB56-44B6-9C12-E79FCDEF276E",
                  "LIGHTCONDITIONSPRIMARY": "1",
                  "LOCALREPORTNO": 195000021,
                  "MANNEROFCRASH": "1 - NOT COLLISION BETWEEN TWO MOTOR VEHICLES IN TRANSPORT",
                  "ROADCONDITIONSPRIMARY": "0",
                  "ROADCONTOUR": "2 - STRAIGHT GRADE",
                  "ROADSURFACE": "2",
                  "SNA_NEIGHBORHOOD": "QUEENSGATE",
                  "TYPEOFPERSON": "D - DRIVER",
                  "WEATHER": "1 - CLEAR",
                  "ZIP": "45203.0",
                  "UNITTYPE": "15 - SEMI-TRACTOR",
                  "CRASH_YEAR": 2019,
                  "_deepnote_index_column": 80
                },
                {
                  "Unnamed: 0": 98,
                  "ADDRESS_X": "33XX MORRISON AV",
                  "LATITUDE_X": 39.14386,
                  "LONGITUDE_X": -84.52869,
                  "AGE": "51-60",
                  "COMMUNITY_COUNCIL_NEIGHBORHOOD": "CLIFTON",
                  "CPD_NEIGHBORHOOD": "CLIFTON",
                  "CRASHDATE": "09/09/2015 06:30:00 PM",
                  "CRASHLOCATION": "03 - T-INTERSECTION",
                  "CRASHSEVERITY": 3,
                  "CRASHSEVERITYID": 3,
                  "DATECRASHREPORTED": "09/09/2015 06:50:00 PM",
                  "DAYOFWEEK": "WED",
                  "GENDER": "F - FEMALE",
                  "INJURIES": "1",
                  "INSTANCEID": "5DD4AD6F-0FB7-4A7A-A6F3-FEA00912A3BC",
                  "LIGHTCONDITIONSPRIMARY": "1",
                  "LOCALREPORTNO": 155012855,
                  "MANNEROFCRASH": "6 - ANGLE",
                  "ROADCONDITIONSPRIMARY": "0",
                  "ROADCONTOUR": "2 - STRAIGHT GRADE",
                  "ROADSURFACE": "2",
                  "SNA_NEIGHBORHOOD": "CLIFTON",
                  "TYPEOFPERSON": "D - DRIVER",
                  "WEATHER": "1 - CLEAR",
                  "ZIP": "45220.0",
                  "UNITTYPE": "02 - COMPACT",
                  "CRASH_YEAR": 2015,
                  "_deepnote_index_column": 79
                },
                {
                  "Unnamed: 0": 97,
                  "ADDRESS_X": "7XX MCGREGOR AV",
                  "LATITUDE_X": 39.122765,
                  "LONGITUDE_X": -84.495511,
                  "AGE": "51-60",
                  "COMMUNITY_COUNCIL_NEIGHBORHOOD": "WALNUT HILLS",
                  "CPD_NEIGHBORHOOD": "WALNUT HILLS",
                  "CRASHDATE": "09/16/2017 12:53:00 PM",
                  "CRASHLOCATION": "02 - FOUR-WAY INTERSECTION",
                  "CRASHSEVERITY": 3,
                  "CRASHSEVERITYID": 3,
                  "DATECRASHREPORTED": "09/16/2017 12:53:00 PM",
                  "DAYOFWEEK": "SAT",
                  "GENDER": "F - FEMALE",
                  "INJURIES": "1",
                  "INSTANCEID": "CB415223-7A17-4E57-9221-9A375736A715",
                  "LIGHTCONDITIONSPRIMARY": "1",
                  "LOCALREPORTNO": 175014044,
                  "MANNEROFCRASH": "6 - ANGLE",
                  "ROADCONDITIONSPRIMARY": "0",
                  "ROADCONTOUR": "1 - STRAIGHT LEVEL",
                  "ROADSURFACE": "2",
                  "SNA_NEIGHBORHOOD": "WALNUT HILLS",
                  "TYPEOFPERSON": "D - DRIVER",
                  "WEATHER": "1 - CLEAR",
                  "ZIP": "45206.0",
                  "UNITTYPE": "08 - VAN",
                  "CRASH_YEAR": 2017,
                  "_deepnote_index_column": 78
                },
                {
                  "Unnamed: 0": 95,
                  "ADDRESS_X": "24XX BOUDINOT AV",
                  "LATITUDE_X": 39.132235,
                  "LONGITUDE_X": -84.60494,
                  "AGE": "UNDER 18",
                  "COMMUNITY_COUNCIL_NEIGHBORHOOD": "WESTWOOD",
                  "CPD_NEIGHBORHOOD": "WESTWOOD",
                  "CRASHDATE": "06/30/2014 01:15:00 PM",
                  "CRASHLOCATION": "02 - FOUR-WAY INTERSECTION",
                  "CRASHSEVERITY": 3,
                  "CRASHSEVERITYID": 3,
                  "DATECRASHREPORTED": "06/30/2014 02:05:51 PM",
                  "DAYOFWEEK": "MON",
                  "GENDER": "M - MALE",
                  "INJURIES": "1",
                  "INSTANCEID": "7EC37837-8350-43D6-8CCF-254945478328",
                  "LIGHTCONDITIONSPRIMARY": "1",
                  "LOCALREPORTNO": 145005423,
                  "MANNEROFCRASH": "6 - ANGLE",
                  "ROADCONDITIONSPRIMARY": "0",
                  "ROADCONTOUR": "1 - STRAIGHT LEVEL",
                  "ROADSURFACE": "2",
                  "SNA_NEIGHBORHOOD": "WESTWOOD",
                  "TYPEOFPERSON": "D - DRIVER",
                  "WEATHER": "1 - CLEAR",
                  "ZIP": "45238.0",
                  "UNITTYPE": "02 - COMPACT",
                  "CRASH_YEAR": 2014,
                  "_deepnote_index_column": 76
                },
                {
                  "Unnamed: 0": 94,
                  "ADDRESS_X": "10XX W NORTH BEND RD",
                  "LATITUDE_X": 39.207901,
                  "LONGITUDE_X": -84.52789200000001,
                  "AGE": "26-30",
                  "COMMUNITY_COUNCIL_NEIGHBORHOOD": "nan",
                  "CPD_NEIGHBORHOOD": "nan",
                  "CRASHDATE": "03/31/2015 06:35:00 AM",
                  "CRASHLOCATION": "02 - FOUR-WAY INTERSECTION",
                  "CRASHSEVERITY": 3,
                  "CRASHSEVERITYID": 3,
                  "DATECRASHREPORTED": "04/01/2015 11:04:12 AM",
                  "DAYOFWEEK": "TUE",
                  "GENDER": "F - FEMALE",
                  "INJURIES": "1",
                  "INSTANCEID": "EFCC6F26-4081-480B-AA8A-E989346CEFCA",
                  "LIGHTCONDITIONSPRIMARY": "1",
                  "LOCALREPORTNO": 155004414,
                  "MANNEROFCRASH": "1 - NOT COLLISION BETWEEN TWO MOTOR VEHICLES IN TRANSPORT",
                  "ROADCONDITIONSPRIMARY": "0",
                  "ROADCONTOUR": "1 - STRAIGHT LEVEL",
                  "ROADSURFACE": "2",
                  "SNA_NEIGHBORHOOD": "nan",
                  "TYPEOFPERSON": "D - DRIVER",
                  "WEATHER": "1 - CLEAR",
                  "ZIP": "45224.0",
                  "UNITTYPE": "04 - FULL SIZE",
                  "CRASH_YEAR": 2015,
                  "_deepnote_index_column": 75
                },
                {
                  "Unnamed: 0": 93,
                  "ADDRESS_X": "27XX MONTANA",
                  "LATITUDE_X": 39.149656,
                  "LONGITUDE_X": -84.58953299999999,
                  "AGE": "26-30",
                  "COMMUNITY_COUNCIL_NEIGHBORHOOD": "WESTWOOD",
                  "CPD_NEIGHBORHOOD": "WESTWOOD",
                  "CRASHDATE": "10/12/2015 08:40:00 PM",
                  "CRASHLOCATION": "01 - NOT AN INTERSECTION",
                  "CRASHSEVERITY": 3,
                  "CRASHSEVERITYID": 3,
                  "DATECRASHREPORTED": "10/12/2015 08:40:00 PM",
                  "DAYOFWEEK": "MON",
                  "GENDER": "F - FEMALE",
                  "INJURIES": "1",
                  "INSTANCEID": "86981A92-A873-4794-932B-E38C64B45E39",
                  "LIGHTCONDITIONSPRIMARY": "4",
                  "LOCALREPORTNO": 155014828,
                  "MANNEROFCRASH": "2 - REAR-END",
                  "ROADCONDITIONSPRIMARY": "0",
                  "ROADCONTOUR": "1 - STRAIGHT LEVEL",
                  "ROADSURFACE": "2",
                  "SNA_NEIGHBORHOOD": "WESTWOOD",
                  "TYPEOFPERSON": "D - DRIVER",
                  "WEATHER": "4 - RAIN",
                  "ZIP": "45211.0",
                  "UNITTYPE": "06 - SPORT UTILITY VEHICLE",
                  "CRASH_YEAR": 2015,
                  "_deepnote_index_column": 74
                },
                {
                  "Unnamed: 0": 67,
                  "ADDRESS_X": "4XX E PETE ROSE WY",
                  "LATITUDE_X": 39.099312,
                  "LONGITUDE_X": -84.504514,
                  "AGE": "51-60",
                  "COMMUNITY_COUNCIL_NEIGHBORHOOD": "DOWNTOWN",
                  "CPD_NEIGHBORHOOD": "C. B. D. / RIVERFRONT",
                  "CRASHDATE": "07/05/2020 06:11:00 PM",
                  "CRASHLOCATION": "nan",
                  "CRASHSEVERITY": 3,
                  "CRASHSEVERITYID": 201903,
                  "DATECRASHREPORTED": "07/05/2020 06:11:00 PM",
                  "DAYOFWEEK": "SUN",
                  "GENDER": "M - MALE",
                  "INJURIES": "5",
                  "INSTANCEID": "F68F8A65-E534-4AAF-B4D1-02581F3DB89C",
                  "LIGHTCONDITIONSPRIMARY": "1",
                  "LOCALREPORTNO": 205007208,
                  "MANNEROFCRASH": "6 - ANGLE",
                  "ROADCONDITIONSPRIMARY": "0",
                  "ROADCONTOUR": "1 - STRAIGHT LEVEL",
                  "ROADSURFACE": "1",
                  "SNA_NEIGHBORHOOD": "DOWNTOWN",
                  "TYPEOFPERSON": "D - DRIVER",
                  "WEATHER": "1 - CLEAR",
                  "ZIP": "45202.0",
                  "UNITTYPE": "01 - PASSENGER CAR",
                  "CRASH_YEAR": 2020,
                  "_deepnote_index_column": 48
                },
                {
                  "Unnamed: 0": 87,
                  "ADDRESS_X": "6XX PLUM ST",
                  "LATITUDE_X": 39.101065000000006,
                  "LONGITUDE_X": -84.51795899999999,
                  "AGE": "51-60",
                  "COMMUNITY_COUNCIL_NEIGHBORHOOD": "DOWNTOWN",
                  "CPD_NEIGHBORHOOD": "C. B. D. / RIVERFRONT",
                  "CRASHDATE": "05/20/2013 03:00:00 PM",
                  "CRASHLOCATION": "03 - T-INTERSECTION",
                  "CRASHSEVERITY": 3,
                  "CRASHSEVERITYID": 3,
                  "DATECRASHREPORTED": "05/20/2013 03:00:00 PM",
                  "DAYOFWEEK": "MON",
                  "GENDER": "M - MALE",
                  "INJURIES": "1",
                  "INSTANCEID": "1C5658B6-53FA-4A56-BD2E-1F539F9DD774",
                  "LIGHTCONDITIONSPRIMARY": "1",
                  "LOCALREPORTNO": 135006160,
                  "MANNEROFCRASH": "6 - ANGLE",
                  "ROADCONDITIONSPRIMARY": "0",
                  "ROADCONTOUR": "1 - STRAIGHT LEVEL",
                  "ROADSURFACE": "2",
                  "SNA_NEIGHBORHOOD": "DOWNTOWN",
                  "TYPEOFPERSON": "D - DRIVER",
                  "WEATHER": "1 - CLEAR",
                  "ZIP": "45202.0",
                  "UNITTYPE": "06 - SPORT UTILITY VEHICLE",
                  "CRASH_YEAR": 2013,
                  "_deepnote_index_column": 68
                },
                {
                  "Unnamed: 0": 66,
                  "ADDRESS_X": "33XX ERIE AV",
                  "LATITUDE_X": 39.140511,
                  "LONGITUDE_X": -84.423098,
                  "AGE": "41-50",
                  "COMMUNITY_COUNCIL_NEIGHBORHOOD": "HYDE PARK",
                  "CPD_NEIGHBORHOOD": "HYDE PARK",
                  "CRASHDATE": "12/26/2016 01:14:00 PM",
                  "CRASHLOCATION": "03 - T-INTERSECTION",
                  "CRASHSEVERITY": 3,
                  "CRASHSEVERITYID": 3,
                  "DATECRASHREPORTED": "12/26/2016 01:14:00 PM",
                  "DAYOFWEEK": "MON",
                  "GENDER": "M - MALE",
                  "INJURIES": "1",
                  "INSTANCEID": "E793292C-C349-4018-AD66-8135D46B2A3F",
                  "LIGHTCONDITIONSPRIMARY": "1",
                  "LOCALREPORTNO": 165021577,
                  "MANNEROFCRASH": "7 - SIDESWIPE, SAME DIRECTION",
                  "ROADCONDITIONSPRIMARY": "0",
                  "ROADCONTOUR": "1 - STRAIGHT LEVEL",
                  "ROADSURFACE": "2",
                  "SNA_NEIGHBORHOOD": "HYDE PARK",
                  "TYPEOFPERSON": "D - DRIVER",
                  "WEATHER": "1 - CLEAR",
                  "ZIP": "45208.0",
                  "UNITTYPE": "06 - SPORT UTILITY VEHICLE",
                  "CRASH_YEAR": 2016,
                  "_deepnote_index_column": 47
                },
                {
                  "Unnamed: 0": 69,
                  "ADDRESS_X": "47XX ESTE AV",
                  "LATITUDE_X": 39.179161,
                  "LONGITUDE_X": -84.508521,
                  "AGE": "UNDER 18",
                  "COMMUNITY_COUNCIL_NEIGHBORHOOD": "WINTON HILLS",
                  "CPD_NEIGHBORHOOD": "WINTON HILLS",
                  "CRASHDATE": "12/09/2019 06:20:00 PM",
                  "CRASHLOCATION": "nan",
                  "CRASHSEVERITY": 3,
                  "CRASHSEVERITYID": 201903,
                  "DATECRASHREPORTED": "12/09/2019 06:21:00 PM",
                  "DAYOFWEEK": "MON",
                  "GENDER": "F - FEMALE",
                  "INJURIES": "5",
                  "INSTANCEID": "5248D0A6-F01E-4BEF-BF2E-97CE1C28B4A6",
                  "LIGHTCONDITIONSPRIMARY": "3",
                  "LOCALREPORTNO": 195017396,
                  "MANNEROFCRASH": "6 - ANGLE",
                  "ROADCONDITIONSPRIMARY": "0",
                  "ROADCONTOUR": "3 - CURVE LEVEL",
                  "ROADSURFACE": "2",
                  "SNA_NEIGHBORHOOD": "WINTON HILLS",
                  "TYPEOFPERSON": "O - OCCUPANT",
                  "WEATHER": "4 - RAIN",
                  "ZIP": "45232.0",
                  "UNITTYPE": "01 - PASSENGER CAR",
                  "CRASH_YEAR": 2019,
                  "_deepnote_index_column": 50
                },
                {
                  "Unnamed: 0": 64,
                  "ADDRESS_X": "X W MITCHELL AV",
                  "LATITUDE_X": 39.159632,
                  "LONGITUDE_X": -84.505561,
                  "AGE": "31-40",
                  "COMMUNITY_COUNCIL_NEIGHBORHOOD": "CLIFTON",
                  "CPD_NEIGHBORHOOD": "CLIFTON",
                  "CRASHDATE": "10/21/2014 05:43:00 PM",
                  "CRASHLOCATION": "01 - NOT AN INTERSECTION",
                  "CRASHSEVERITY": 3,
                  "CRASHSEVERITYID": 3,
                  "DATECRASHREPORTED": "10/21/2014 05:50:00 PM",
                  "DAYOFWEEK": "TUE",
                  "GENDER": "F - FEMALE",
                  "INJURIES": "1",
                  "INSTANCEID": "4FC27F59-3FCB-4EFA-A6ED-569736B1FFF2",
                  "LIGHTCONDITIONSPRIMARY": "1",
                  "LOCALREPORTNO": 145010497,
                  "MANNEROFCRASH": "6 - ANGLE",
                  "ROADCONDITIONSPRIMARY": "0",
                  "ROADCONTOUR": "1 - STRAIGHT LEVEL",
                  "ROADSURFACE": "1",
                  "SNA_NEIGHBORHOOD": "CLIFTON",
                  "TYPEOFPERSON": "D - DRIVER",
                  "WEATHER": "2 - CLOUDY",
                  "ZIP": "45217.0",
                  "UNITTYPE": "05 - MINIVAN",
                  "CRASH_YEAR": 2014,
                  "_deepnote_index_column": 45
                },
                {
                  "Unnamed: 0": 42,
                  "ADDRESS_X": "34XX FERNCROFT",
                  "LATITUDE_X": 39.149425,
                  "LONGITUDE_X": -84.58442600000001,
                  "AGE": "UNKNOWN",
                  "COMMUNITY_COUNCIL_NEIGHBORHOOD": "WESTWOOD",
                  "CPD_NEIGHBORHOOD": "WESTWOOD",
                  "CRASHDATE": "09/04/2015 02:20:00 AM",
                  "CRASHLOCATION": "01 - NOT AN INTERSECTION",
                  "CRASHSEVERITY": 3,
                  "CRASHSEVERITYID": 3,
                  "DATECRASHREPORTED": "09/04/2015 02:26:00 AM",
                  "DAYOFWEEK": "FRI",
                  "GENDER": "nan",
                  "INJURIES": "1",
                  "INSTANCEID": "2A75862B-4D7C-42E5-A735-458A42387E58",
                  "LIGHTCONDITIONSPRIMARY": "4",
                  "LOCALREPORTNO": 155012515,
                  "MANNEROFCRASH": "8 - SIDESWIPE, OPPOSITE DIRECTION",
                  "ROADCONDITIONSPRIMARY": "0",
                  "ROADCONTOUR": "1 - STRAIGHT LEVEL",
                  "ROADSURFACE": "2",
                  "SNA_NEIGHBORHOOD": "WESTWOOD",
                  "TYPEOFPERSON": "O - OCCUPANT",
                  "WEATHER": "1 - CLEAR",
                  "ZIP": "45211.0",
                  "UNITTYPE": "06 - SPORT UTILITY VEHICLE",
                  "CRASH_YEAR": 2015,
                  "_deepnote_index_column": 23
                },
                {
                  "Unnamed: 0": 41,
                  "ADDRESS_X": "39XX GLENWAY AV",
                  "LATITUDE_X": 39.113938,
                  "LONGITUDE_X": -84.577978,
                  "AGE": "26-30",
                  "COMMUNITY_COUNCIL_NEIGHBORHOOD": "WEST PRICE HILL",
                  "CPD_NEIGHBORHOOD": "WEST PRICE HILL",
                  "CRASHDATE": "03/31/2016 07:30:00 PM",
                  "CRASHLOCATION": "01 - NOT AN INTERSECTION",
                  "CRASHSEVERITY": 3,
                  "CRASHSEVERITYID": 3,
                  "DATECRASHREPORTED": "03/31/2016 07:35:00 PM",
                  "DAYOFWEEK": "THU",
                  "GENDER": "M - MALE",
                  "INJURIES": "1",
                  "INSTANCEID": "6BF96E08-2D17-4A91-9888-484294C1AA1A",
                  "LIGHTCONDITIONSPRIMARY": "3",
                  "LOCALREPORTNO": 165004781,
                  "MANNEROFCRASH": "6 - ANGLE",
                  "ROADCONDITIONSPRIMARY": "0",
                  "ROADCONTOUR": "1 - STRAIGHT LEVEL",
                  "ROADSURFACE": "2",
                  "SNA_NEIGHBORHOOD": "WEST PRICE HILL",
                  "TYPEOFPERSON": "D - DRIVER",
                  "WEATHER": "2 - CLOUDY",
                  "ZIP": "45205.0",
                  "UNITTYPE": "03 - MID SIZE",
                  "CRASH_YEAR": 2016,
                  "_deepnote_index_column": 22
                },
                {
                  "Unnamed: 0": 65,
                  "ADDRESS_X": "26XX VICTORY PY",
                  "LATITUDE_X": 39.126336,
                  "LONGITUDE_X": -84.48380300000001,
                  "AGE": "61-70",
                  "COMMUNITY_COUNCIL_NEIGHBORHOOD": "EAST WALNUT HILLS",
                  "CPD_NEIGHBORHOOD": "EAST WALNUT HILLS",
                  "CRASHDATE": "11/02/2019 05:48:00 PM",
                  "CRASHLOCATION": "nan",
                  "CRASHSEVERITY": 3,
                  "CRASHSEVERITYID": 201903,
                  "DATECRASHREPORTED": "11/02/2019 05:50:00 PM",
                  "DAYOFWEEK": "SAT",
                  "GENDER": "F - FEMALE",
                  "INJURIES": "3",
                  "INSTANCEID": "5ACED765-A7E4-476F-B646-F8A40CC3A485",
                  "LIGHTCONDITIONSPRIMARY": "1",
                  "LOCALREPORTNO": 195015398,
                  "MANNEROFCRASH": "6 - ANGLE",
                  "ROADCONDITIONSPRIMARY": "0",
                  "ROADCONTOUR": "1 - STRAIGHT LEVEL",
                  "ROADSURFACE": "2",
                  "SNA_NEIGHBORHOOD": "WALNUT HILLS",
                  "TYPEOFPERSON": "D - DRIVER",
                  "WEATHER": "1 - CLEAR",
                  "ZIP": "45206.0",
                  "UNITTYPE": "03 - SPORT UTILITY VEHICLE",
                  "CRASH_YEAR": 2019,
                  "_deepnote_index_column": 46
                },
                {
                  "Unnamed: 0": 39,
                  "ADDRESS_X": "34XX RUTHER AV",
                  "LATITUDE_X": 39.143121,
                  "LONGITUDE_X": -84.512011,
                  "AGE": "UNKNOWN",
                  "COMMUNITY_COUNCIL_NEIGHBORHOOD": "CLIFTON",
                  "CPD_NEIGHBORHOOD": "CLIFTON",
                  "CRASHDATE": "09/24/2015 05:00:00 PM",
                  "CRASHLOCATION": "01 - NOT AN INTERSECTION",
                  "CRASHSEVERITY": 3,
                  "CRASHSEVERITYID": 3,
                  "DATECRASHREPORTED": "09/24/2015 06:20:31 PM",
                  "DAYOFWEEK": "THU",
                  "GENDER": "nan",
                  "INJURIES": "1",
                  "INSTANCEID": "ADBE1694-C9A9-4572-8F56-6F4E4C8430C5",
                  "LIGHTCONDITIONSPRIMARY": "1",
                  "LOCALREPORTNO": 155013760,
                  "MANNEROFCRASH": "9 - UNKNOWN",
                  "ROADCONDITIONSPRIMARY": "0",
                  "ROADCONTOUR": "4 - CURVE GRADE",
                  "ROADSURFACE": "2",
                  "SNA_NEIGHBORHOOD": "CLIFTON",
                  "TYPEOFPERSON": "D - DRIVER",
                  "WEATHER": "1 - CLEAR",
                  "ZIP": "45220.0",
                  "UNITTYPE": "99 - UNKNOWN",
                  "CRASH_YEAR": 2015,
                  "_deepnote_index_column": 20
                },
                {
                  "Unnamed: 0": 37,
                  "ADDRESS_X": "X W CORRY",
                  "LATITUDE_X": 39.129381,
                  "LONGITUDE_X": -84.508234,
                  "AGE": "26-30",
                  "COMMUNITY_COUNCIL_NEIGHBORHOOD": "CORRYVILLE",
                  "CPD_NEIGHBORHOOD": "CORRYVILLE",
                  "CRASHDATE": "05/19/2013 09:45:00 PM",
                  "CRASHLOCATION": "01 - NOT AN INTERSECTION",
                  "CRASHSEVERITY": 3,
                  "CRASHSEVERITYID": 3,
                  "DATECRASHREPORTED": "05/19/2013 09:45:00 PM",
                  "DAYOFWEEK": "SUN",
                  "GENDER": "M - MALE",
                  "INJURIES": "1",
                  "INSTANCEID": "070FCE72-1433-4009-BC77-B7F4A14A23A3",
                  "LIGHTCONDITIONSPRIMARY": "4",
                  "LOCALREPORTNO": 135006135,
                  "MANNEROFCRASH": "5 - BACKING",
                  "ROADCONDITIONSPRIMARY": "0",
                  "ROADCONTOUR": "1 - STRAIGHT LEVEL",
                  "ROADSURFACE": "3",
                  "SNA_NEIGHBORHOOD": "CORRYVILLE",
                  "TYPEOFPERSON": "D - DRIVER",
                  "WEATHER": "1 - CLEAR",
                  "ZIP": "45219.0",
                  "UNITTYPE": "06 - SPORT UTILITY VEHICLE",
                  "CRASH_YEAR": 2013,
                  "_deepnote_index_column": 18
                },
                {
                  "Unnamed: 0": 35,
                  "ADDRESS_X": "2XX W CENTRAL PY",
                  "LATITUDE_X": 39.105853,
                  "LONGITUDE_X": -84.517993,
                  "AGE": "UNDER 18",
                  "COMMUNITY_COUNCIL_NEIGHBORHOOD": "DOWNTOWN",
                  "CPD_NEIGHBORHOOD": "C. B. D. / RIVERFRONT",
                  "CRASHDATE": "12/01/2015 10:37:59 PM",
                  "CRASHLOCATION": "03 - T-INTERSECTION",
                  "CRASHSEVERITY": 3,
                  "CRASHSEVERITYID": 3,
                  "DATECRASHREPORTED": "12/01/2015 11:37:19 PM",
                  "DAYOFWEEK": "TUE",
                  "GENDER": "F - FEMALE",
                  "INJURIES": "1",
                  "INSTANCEID": "115BA74D-2C49-429E-8B00-CAEA6B5211BF",
                  "LIGHTCONDITIONSPRIMARY": "4",
                  "LOCALREPORTNO": 155017612,
                  "MANNEROFCRASH": "7 - SIDESWIPE, SAME DIRECTION",
                  "ROADCONDITIONSPRIMARY": "0",
                  "ROADCONTOUR": "1 - STRAIGHT LEVEL",
                  "ROADSURFACE": "1",
                  "SNA_NEIGHBORHOOD": "DOWNTOWN",
                  "TYPEOFPERSON": "O - OCCUPANT",
                  "WEATHER": "1 - CLEAR",
                  "ZIP": "45202.0",
                  "UNITTYPE": "03 - MID SIZE",
                  "CRASH_YEAR": 2015,
                  "_deepnote_index_column": 16
                },
                {
                  "Unnamed: 0": 34,
                  "ADDRESS_X": "S I75 AT 1-0 MM",
                  "LATITUDE_X": 39.103857,
                  "LONGITUDE_X": -84.52905799999999,
                  "AGE": "41-50",
                  "COMMUNITY_COUNCIL_NEIGHBORHOOD": "QUEENSGATE",
                  "CPD_NEIGHBORHOOD": "QUEENSGATE",
                  "CRASHDATE": "05/05/2017 04:00:34 PM",
                  "CRASHLOCATION": "01 - NOT AN INTERSECTION",
                  "CRASHSEVERITY": 3,
                  "CRASHSEVERITYID": 3,
                  "DATECRASHREPORTED": "05/05/2017 04:05:36 PM",
                  "DAYOFWEEK": "FRI",
                  "GENDER": "M - MALE",
                  "INJURIES": "1",
                  "INSTANCEID": "27F65A56-61C1-495F-88C7-88F2D304DE0E",
                  "LIGHTCONDITIONSPRIMARY": "1",
                  "LOCALREPORTNO": 175006659,
                  "MANNEROFCRASH": "2 - REAR-END",
                  "ROADCONDITIONSPRIMARY": "0",
                  "ROADCONTOUR": "1 - STRAIGHT LEVEL",
                  "ROADSURFACE": "2",
                  "SNA_NEIGHBORHOOD": "QUEENSGATE",
                  "TYPEOFPERSON": "D - DRIVER",
                  "WEATHER": "4 - RAIN",
                  "ZIP": "45202.0",
                  "UNITTYPE": "07 - PICKUP",
                  "CRASH_YEAR": 2017,
                  "_deepnote_index_column": 15
                },
                {
                  "Unnamed: 0": 45,
                  "ADDRESS_X": "49XX GLENWAY AV",
                  "LATITUDE_X": 39.119355,
                  "LONGITUDE_X": -84.59897099999999,
                  "AGE": "18-25",
                  "COMMUNITY_COUNCIL_NEIGHBORHOOD": "WEST PRICE HILL",
                  "CPD_NEIGHBORHOOD": "WEST PRICE HILL",
                  "CRASHDATE": "12/30/2016 02:45:00 PM",
                  "CRASHLOCATION": "01 - NOT AN INTERSECTION",
                  "CRASHSEVERITY": 3,
                  "CRASHSEVERITYID": 3,
                  "DATECRASHREPORTED": "12/30/2016 02:47:00 PM",
                  "DAYOFWEEK": "FRI",
                  "GENDER": "M - MALE",
                  "INJURIES": "1",
                  "INSTANCEID": "17044AFE-9354-4233-A2C6-5FFC73B4F99D",
                  "LIGHTCONDITIONSPRIMARY": "1",
                  "LOCALREPORTNO": 165021776,
                  "MANNEROFCRASH": "6 - ANGLE",
                  "ROADCONDITIONSPRIMARY": "0",
                  "ROADCONTOUR": "1 - STRAIGHT LEVEL",
                  "ROADSURFACE": "2",
                  "SNA_NEIGHBORHOOD": "WEST PRICE HILL",
                  "TYPEOFPERSON": "D - DRIVER",
                  "WEATHER": "1 - CLEAR",
                  "ZIP": "45238.0",
                  "UNITTYPE": "03 - MID SIZE",
                  "CRASH_YEAR": 2016,
                  "_deepnote_index_column": 26
                },
                {
                  "Unnamed: 0": 32,
                  "ADDRESS_X": "2XX W RONALD REAGAN HW",
                  "LATITUDE_X": 39.116117,
                  "LONGITUDE_X": -84.563376,
                  "AGE": "18-25",
                  "COMMUNITY_COUNCIL_NEIGHBORHOOD": "EAST PRICE HILL",
                  "CPD_NEIGHBORHOOD": "EAST PRICE HILL",
                  "CRASHDATE": "03/08/2018 09:29:00 AM",
                  "CRASHLOCATION": "01 - NOT AN INTERSECTION",
                  "CRASHSEVERITY": 3,
                  "CRASHSEVERITYID": 3,
                  "DATECRASHREPORTED": "03/08/2018 09:29:00 AM",
                  "DAYOFWEEK": "THU",
                  "GENDER": "M - MALE",
                  "INJURIES": "1",
                  "INSTANCEID": "0A713577-667B-4740-BF3E-6E5AC988473E",
                  "LIGHTCONDITIONSPRIMARY": "1",
                  "LOCALREPORTNO": 185003325,
                  "MANNEROFCRASH": "1 - NOT COLLISION BETWEEN TWO MOTOR VEHICLES IN TRANSPORT",
                  "ROADCONDITIONSPRIMARY": "0",
                  "ROADCONTOUR": "1 - STRAIGHT LEVEL",
                  "ROADSURFACE": "1",
                  "SNA_NEIGHBORHOOD": "EAST PRICE HILL",
                  "TYPEOFPERSON": "D - DRIVER",
                  "WEATHER": "6 - SNOW",
                  "ZIP": "45216.0",
                  "UNITTYPE": "06 - SPORT UTILITY VEHICLE",
                  "CRASH_YEAR": 2018,
                  "_deepnote_index_column": 13
                },
                {
                  "Unnamed: 0": 30,
                  "ADDRESS_X": "16XX WALNUT ST",
                  "LATITUDE_X": 39.113551,
                  "LONGITUDE_X": -84.513403,
                  "AGE": "51-60",
                  "COMMUNITY_COUNCIL_NEIGHBORHOOD": "OTR",
                  "CPD_NEIGHBORHOOD": "OVER-THE-RHINE",
                  "CRASHDATE": "03/05/2018 07:25:53 AM",
                  "CRASHLOCATION": "03 - T-INTERSECTION",
                  "CRASHSEVERITY": 3,
                  "CRASHSEVERITYID": 3,
                  "DATECRASHREPORTED": "03/05/2018 07:29:55 AM",
                  "DAYOFWEEK": "MON",
                  "GENDER": "M - MALE",
                  "INJURIES": "1",
                  "INSTANCEID": "ED531D35-F997-4A10-9BCC-05F78B23A20D",
                  "LIGHTCONDITIONSPRIMARY": "1",
                  "LOCALREPORTNO": 185003139,
                  "MANNEROFCRASH": "3 - HEAD-ON",
                  "ROADCONDITIONSPRIMARY": "0",
                  "ROADCONTOUR": "1 - STRAIGHT LEVEL",
                  "ROADSURFACE": "1",
                  "SNA_NEIGHBORHOOD": "OVER-THE-RHINE",
                  "TYPEOFPERSON": "D - DRIVER",
                  "WEATHER": "2 - CLOUDY",
                  "ZIP": "45202.0",
                  "UNITTYPE": "06 - SPORT UTILITY VEHICLE",
                  "CRASH_YEAR": 2018,
                  "_deepnote_index_column": 11
                },
                {
                  "Unnamed: 0": 29,
                  "ADDRESS_X": "59XX RIDGE AV",
                  "LATITUDE_X": 39.180341,
                  "LONGITUDE_X": -84.427204,
                  "AGE": "18-25",
                  "COMMUNITY_COUNCIL_NEIGHBORHOOD": "PLEASANT RIDGE",
                  "CPD_NEIGHBORHOOD": "PLEASANT RIDGE",
                  "CRASHDATE": "08/01/2017 04:55:27 PM",
                  "CRASHLOCATION": "02 - FOUR-WAY INTERSECTION",
                  "CRASHSEVERITY": 3,
                  "CRASHSEVERITYID": 3,
                  "DATECRASHREPORTED": "08/01/2017 05:01:41 PM",
                  "DAYOFWEEK": "TUE",
                  "GENDER": "M - MALE",
                  "INJURIES": "1",
                  "INSTANCEID": "3475401A-6DD0-4661-9E8B-54E8364AD777",
                  "LIGHTCONDITIONSPRIMARY": "1",
                  "LOCALREPORTNO": 175011494,
                  "MANNEROFCRASH": "2 - REAR-END",
                  "ROADCONDITIONSPRIMARY": "0",
                  "ROADCONTOUR": "1 - STRAIGHT LEVEL",
                  "ROADSURFACE": "1",
                  "SNA_NEIGHBORHOOD": "PLEASANT RIDGE",
                  "TYPEOFPERSON": "D - DRIVER",
                  "WEATHER": "1 - CLEAR",
                  "ZIP": "45213.0",
                  "UNITTYPE": "06 - SPORT UTILITY VEHICLE",
                  "CRASH_YEAR": 2017,
                  "_deepnote_index_column": 10
                },
                {
                  "Unnamed: 0": 28,
                  "ADDRESS_X": "N I75 AT 9-3 MM",
                  "LATITUDE_X": 39.192888,
                  "LONGITUDE_X": -84.475975,
                  "AGE": "61-70",
                  "COMMUNITY_COUNCIL_NEIGHBORHOOD": "ROSELAWN",
                  "CPD_NEIGHBORHOOD": "ROSELAWN",
                  "CRASHDATE": "06/12/2013 04:08:00 PM",
                  "CRASHLOCATION": "01 - NOT AN INTERSECTION",
                  "CRASHSEVERITY": 3,
                  "CRASHSEVERITYID": 3,
                  "DATECRASHREPORTED": "06/12/2013 04:08:00 PM",
                  "DAYOFWEEK": "WED",
                  "GENDER": "M - MALE",
                  "INJURIES": "1",
                  "INSTANCEID": "C8B0A05A-381B-4E39-9814-5E94E2568FB4",
                  "LIGHTCONDITIONSPRIMARY": "1",
                  "LOCALREPORTNO": 135007172,
                  "MANNEROFCRASH": "2 - REAR-END",
                  "ROADCONDITIONSPRIMARY": "0",
                  "ROADCONTOUR": "1 - STRAIGHT LEVEL",
                  "ROADSURFACE": "2",
                  "SNA_NEIGHBORHOOD": "ROSELAWN",
                  "TYPEOFPERSON": "D - DRIVER",
                  "WEATHER": "2 - CLOUDY",
                  "ZIP": "45216.0",
                  "UNITTYPE": "06 - SPORT UTILITY VEHICLE",
                  "CRASH_YEAR": 2013,
                  "_deepnote_index_column": 9
                },
                {
                  "Unnamed: 0": 25,
                  "ADDRESS_X": "25XX COOK ST",
                  "LATITUDE_X": 39.127101,
                  "LONGITUDE_X": -84.53545799999999,
                  "AGE": "UNKNOWN",
                  "COMMUNITY_COUNCIL_NEIGHBORHOOD": "CAMP WASHINGTON",
                  "CPD_NEIGHBORHOOD": "CAMP  WASHINGTON",
                  "CRASHDATE": "11/07/2014 09:30:00 PM",
                  "CRASHLOCATION": "01 - NOT AN INTERSECTION",
                  "CRASHSEVERITY": 3,
                  "CRASHSEVERITYID": 3,
                  "DATECRASHREPORTED": "11/08/2014 04:49:00 PM",
                  "DAYOFWEEK": "FRI",
                  "GENDER": "nan",
                  "INJURIES": "1",
                  "INSTANCEID": "3C73A63B-0CCE-47D0-ABFC-6849F6679726",
                  "LIGHTCONDITIONSPRIMARY": "4",
                  "LOCALREPORTNO": 145011443,
                  "MANNEROFCRASH": "1 - NOT COLLISION BETWEEN TWO MOTOR VEHICLES IN TRANSPORT",
                  "ROADCONDITIONSPRIMARY": "0",
                  "ROADCONTOUR": "1 - STRAIGHT LEVEL",
                  "ROADSURFACE": "2",
                  "SNA_NEIGHBORHOOD": "CAMP WASHINGTON",
                  "TYPEOFPERSON": "D - DRIVER",
                  "WEATHER": "1 - CLEAR",
                  "ZIP": "45214.0",
                  "UNITTYPE": "99 - UNKNOWN",
                  "CRASH_YEAR": 2014,
                  "_deepnote_index_column": 6
                },
                {
                  "Unnamed: 0": 23,
                  "ADDRESS_X": "37XX WARSAW AV",
                  "LATITUDE_X": 39.110989,
                  "LONGITUDE_X": -84.573138,
                  "AGE": "31-40",
                  "COMMUNITY_COUNCIL_NEIGHBORHOOD": "EAST PRICE HILL",
                  "CPD_NEIGHBORHOOD": "EAST PRICE HILL",
                  "CRASHDATE": "09/01/2018 07:59:00 PM",
                  "CRASHLOCATION": "03 - T-INTERSECTION",
                  "CRASHSEVERITY": 3,
                  "CRASHSEVERITYID": 3,
                  "DATECRASHREPORTED": "09/01/2018 07:59:00 PM",
                  "DAYOFWEEK": "SAT",
                  "GENDER": "M - MALE",
                  "INJURIES": "1",
                  "INSTANCEID": "0798B321-FD9A-487C-AF23-6CC2F21BB124",
                  "LIGHTCONDITIONSPRIMARY": "3",
                  "LOCALREPORTNO": 185012267,
                  "MANNEROFCRASH": "6 - ANGLE",
                  "ROADCONDITIONSPRIMARY": "0",
                  "ROADCONTOUR": "1 - STRAIGHT LEVEL",
                  "ROADSURFACE": "2",
                  "SNA_NEIGHBORHOOD": "EAST PRICE HILL",
                  "TYPEOFPERSON": "D - DRIVER",
                  "WEATHER": "1 - CLEAR",
                  "ZIP": "45205.0",
                  "UNITTYPE": "04 - FULL SIZE",
                  "CRASH_YEAR": 2018,
                  "_deepnote_index_column": 4
                },
                {
                  "Unnamed: 0": 22,
                  "ADDRESS_X": "36XX READING RD",
                  "LATITUDE_X": 39.147889,
                  "LONGITUDE_X": -84.489222,
                  "AGE": "61-70",
                  "COMMUNITY_COUNCIL_NEIGHBORHOOD": "AVONDALE",
                  "CPD_NEIGHBORHOOD": "AVONDALE",
                  "CRASHDATE": "04/21/2018 01:00:00 PM",
                  "CRASHLOCATION": "01 - NOT AN INTERSECTION",
                  "CRASHSEVERITY": 3,
                  "CRASHSEVERITYID": 3,
                  "DATECRASHREPORTED": "04/21/2018 01:16:00 PM",
                  "DAYOFWEEK": "SAT",
                  "GENDER": "M - MALE",
                  "INJURIES": "1",
                  "INSTANCEID": "3E01FFEB-D0B4-47A3-BFA9-94FD27CC454A",
                  "LIGHTCONDITIONSPRIMARY": "1",
                  "LOCALREPORTNO": 185005525,
                  "MANNEROFCRASH": "7 - SIDESWIPE, SAME DIRECTION",
                  "ROADCONDITIONSPRIMARY": "0",
                  "ROADCONTOUR": "1 - STRAIGHT LEVEL",
                  "ROADSURFACE": "2",
                  "SNA_NEIGHBORHOOD": "AVONDALE",
                  "TYPEOFPERSON": "D - DRIVER",
                  "WEATHER": "1 - CLEAR",
                  "ZIP": "45229.0",
                  "UNITTYPE": "07 - PICKUP",
                  "CRASH_YEAR": 2018,
                  "_deepnote_index_column": 3
                },
                {
                  "Unnamed: 0": 21,
                  "ADDRESS_X": "30XX READING RD",
                  "LATITUDE_X": 39.135486,
                  "LONGITUDE_X": -84.49651999999999,
                  "AGE": "18-25",
                  "COMMUNITY_COUNCIL_NEIGHBORHOOD": "AVONDALE",
                  "CPD_NEIGHBORHOOD": "AVONDALE",
                  "CRASHDATE": "07/23/2015 11:54:00 PM",
                  "CRASHLOCATION": "01 - NOT AN INTERSECTION",
                  "CRASHSEVERITY": 3,
                  "CRASHSEVERITYID": 3,
                  "DATECRASHREPORTED": "07/23/2015 11:54:00 PM",
                  "DAYOFWEEK": "THU",
                  "GENDER": "F - FEMALE",
                  "INJURIES": "1",
                  "INSTANCEID": "8D65153D-2ADA-406C-998B-47533B32ACFD",
                  "LIGHTCONDITIONSPRIMARY": "4",
                  "LOCALREPORTNO": 155010090,
                  "MANNEROFCRASH": "7 - SIDESWIPE, SAME DIRECTION",
                  "ROADCONDITIONSPRIMARY": "0",
                  "ROADCONTOUR": "1 - STRAIGHT LEVEL",
                  "ROADSURFACE": "2",
                  "SNA_NEIGHBORHOOD": "AVONDALE",
                  "TYPEOFPERSON": "O - OCCUPANT",
                  "WEATHER": "1 - CLEAR",
                  "ZIP": "45206.0",
                  "UNITTYPE": "04 - FULL SIZE",
                  "CRASH_YEAR": 2015,
                  "_deepnote_index_column": 2
                },
                {
                  "Unnamed: 0": 31,
                  "ADDRESS_X": "40XX GLENWAY AV",
                  "LATITUDE_X": 39.114526,
                  "LONGITUDE_X": -84.581393,
                  "AGE": "31-40",
                  "COMMUNITY_COUNCIL_NEIGHBORHOOD": "WEST PRICE HILL",
                  "CPD_NEIGHBORHOOD": "WEST PRICE HILL",
                  "CRASHDATE": "08/20/2018 02:45:00 PM",
                  "CRASHLOCATION": "01 - NOT AN INTERSECTION",
                  "CRASHSEVERITY": 3,
                  "CRASHSEVERITYID": 3,
                  "DATECRASHREPORTED": "08/20/2018 02:45:00 PM",
                  "DAYOFWEEK": "MON",
                  "GENDER": "F - FEMALE",
                  "INJURIES": "1",
                  "INSTANCEID": "CE3CA225-84A7-4F3A-BA71-C236D70BFB2C",
                  "LIGHTCONDITIONSPRIMARY": "1",
                  "LOCALREPORTNO": 185011679,
                  "MANNEROFCRASH": "7 - SIDESWIPE, SAME DIRECTION",
                  "ROADCONDITIONSPRIMARY": "0",
                  "ROADCONTOUR": "1 - STRAIGHT LEVEL",
                  "ROADSURFACE": "2",
                  "SNA_NEIGHBORHOOD": "WEST PRICE HILL",
                  "TYPEOFPERSON": "D - DRIVER",
                  "WEATHER": "4 - RAIN",
                  "ZIP": "45205.0",
                  "UNITTYPE": "02 - COMPACT",
                  "CRASH_YEAR": 2018,
                  "_deepnote_index_column": 12
                },
                {
                  "Unnamed: 0": 47,
                  "ADDRESS_X": "N I75 AT 2-0 MM",
                  "LATITUDE_X": 39.116586,
                  "LONGITUDE_X": -84.534676,
                  "AGE": "18-25",
                  "COMMUNITY_COUNCIL_NEIGHBORHOOD": "WEST END",
                  "CPD_NEIGHBORHOOD": "WEST  END",
                  "CRASHDATE": "12/05/2014 10:43:00 PM",
                  "CRASHLOCATION": "01 - NOT AN INTERSECTION",
                  "CRASHSEVERITY": 3,
                  "CRASHSEVERITYID": 3,
                  "DATECRASHREPORTED": "12/05/2014 10:44:00 PM",
                  "DAYOFWEEK": "FRI",
                  "GENDER": "M - MALE",
                  "INJURIES": "1",
                  "INSTANCEID": "A76D0B2B-1952-4E4E-BAF2-0AD67C26A822",
                  "LIGHTCONDITIONSPRIMARY": "4",
                  "LOCALREPORTNO": 145012714,
                  "MANNEROFCRASH": "1 - NOT COLLISION BETWEEN TWO MOTOR VEHICLES IN TRANSPORT",
                  "ROADCONDITIONSPRIMARY": "0",
                  "ROADCONTOUR": "4 - CURVE GRADE",
                  "ROADSURFACE": "2",
                  "SNA_NEIGHBORHOOD": "QUEENSGATE",
                  "TYPEOFPERSON": "D - DRIVER",
                  "WEATHER": "4 - RAIN",
                  "ZIP": "45202.0",
                  "UNITTYPE": "03 - MID SIZE",
                  "CRASH_YEAR": 2014,
                  "_deepnote_index_column": 28
                },
                {
                  "Unnamed: 0": 40,
                  "ADDRESS_X": "6XX LINN",
                  "LATITUDE_X": 39.106557,
                  "LONGITUDE_X": -84.528423,
                  "AGE": "41-50",
                  "COMMUNITY_COUNCIL_NEIGHBORHOOD": "WEST END",
                  "CPD_NEIGHBORHOOD": "WEST  END",
                  "CRASHDATE": "06/30/2014 06:55:00 PM",
                  "CRASHLOCATION": "07 - ON RAMP",
                  "CRASHSEVERITY": 3,
                  "CRASHSEVERITYID": 3,
                  "DATECRASHREPORTED": "06/30/2014 07:30:00 PM",
                  "DAYOFWEEK": "MON",
                  "GENDER": "F - FEMALE",
                  "INJURIES": "1",
                  "INSTANCEID": "C4259CA8-9AFC-4ED4-B5DB-06519F806BCD",
                  "LIGHTCONDITIONSPRIMARY": "1",
                  "LOCALREPORTNO": 145005445,
                  "MANNEROFCRASH": "2 - REAR-END",
                  "ROADCONDITIONSPRIMARY": "0",
                  "ROADCONTOUR": "2 - STRAIGHT GRADE",
                  "ROADSURFACE": "1",
                  "SNA_NEIGHBORHOOD": "WEST END",
                  "TYPEOFPERSON": "D - DRIVER",
                  "WEATHER": "1 - CLEAR",
                  "ZIP": "45203.0",
                  "UNITTYPE": "03 - MID SIZE",
                  "CRASH_YEAR": 2014,
                  "_deepnote_index_column": 21
                },
                {
                  "Unnamed: 0": 49,
                  "ADDRESS_X": "X W MITCHELL AV",
                  "LATITUDE_X": 39.159585,
                  "LONGITUDE_X": -84.504735,
                  "AGE": "UNKNOWN",
                  "COMMUNITY_COUNCIL_NEIGHBORHOOD": "CLIFTON",
                  "CPD_NEIGHBORHOOD": "CLIFTON",
                  "CRASHDATE": "10/10/2016 06:30:00 PM",
                  "CRASHLOCATION": "10 - DRIVEWAY/ALLEY ACCESS",
                  "CRASHSEVERITY": 3,
                  "CRASHSEVERITYID": 3,
                  "DATECRASHREPORTED": "10/10/2016 07:49:00 PM",
                  "DAYOFWEEK": "MON",
                  "GENDER": "nan",
                  "INJURIES": "1",
                  "INSTANCEID": "E933ECA1-F13D-48DC-A87E-622DA8C69337",
                  "LIGHTCONDITIONSPRIMARY": "5",
                  "LOCALREPORTNO": 165016684,
                  "MANNEROFCRASH": "6 - ANGLE",
                  "ROADCONDITIONSPRIMARY": "0",
                  "ROADCONTOUR": "1 - STRAIGHT LEVEL",
                  "ROADSURFACE": "2",
                  "SNA_NEIGHBORHOOD": "CLIFTON",
                  "TYPEOFPERSON": "D - DRIVER",
                  "WEATHER": "1 - CLEAR",
                  "ZIP": "45217.0",
                  "UNITTYPE": "04 - FULL SIZE",
                  "CRASH_YEAR": 2016,
                  "_deepnote_index_column": 30
                },
                {
                  "Unnamed: 0": 59,
                  "ADDRESS_X": "40XX GLENWAY AV",
                  "LATITUDE_X": 39.114616,
                  "LONGITUDE_X": -84.580502,
                  "AGE": "41-50",
                  "COMMUNITY_COUNCIL_NEIGHBORHOOD": "WEST PRICE HILL",
                  "CPD_NEIGHBORHOOD": "WEST PRICE HILL",
                  "CRASHDATE": "02/04/2018 07:37:00 PM",
                  "CRASHLOCATION": "01 - NOT AN INTERSECTION",
                  "CRASHSEVERITY": 3,
                  "CRASHSEVERITYID": 3,
                  "DATECRASHREPORTED": "02/04/2018 07:37:00 PM",
                  "DAYOFWEEK": "SUN",
                  "GENDER": "M - MALE",
                  "INJURIES": "1",
                  "INSTANCEID": "12B1430F-308C-4201-857B-325E7A5B3C07",
                  "LIGHTCONDITIONSPRIMARY": "4",
                  "LOCALREPORTNO": 185001750,
                  "MANNEROFCRASH": "6 - ANGLE",
                  "ROADCONDITIONSPRIMARY": "0",
                  "ROADCONTOUR": "1 - STRAIGHT LEVEL",
                  "ROADSURFACE": "2",
                  "SNA_NEIGHBORHOOD": "WEST PRICE HILL",
                  "TYPEOFPERSON": "D - DRIVER",
                  "WEATHER": "4 - RAIN",
                  "ZIP": "45205.0",
                  "UNITTYPE": "02 - COMPACT",
                  "CRASH_YEAR": 2018,
                  "_deepnote_index_column": 40
                },
                {
                  "Unnamed: 0": 58,
                  "ADDRESS_X": "46XX GLENWAY",
                  "LATITUDE_X": 39.115095,
                  "LONGITUDE_X": -84.592472,
                  "AGE": "18-25",
                  "COMMUNITY_COUNCIL_NEIGHBORHOOD": "WEST PRICE HILL",
                  "CPD_NEIGHBORHOOD": "WEST PRICE HILL",
                  "CRASHDATE": "12/23/2012 06:00:00 PM",
                  "CRASHLOCATION": "01 - NOT AN INTERSECTION",
                  "CRASHSEVERITY": 3,
                  "CRASHSEVERITYID": 3,
                  "DATECRASHREPORTED": "12/23/2012 06:13:00 PM",
                  "DAYOFWEEK": "SUN",
                  "GENDER": "F - FEMALE",
                  "INJURIES": "1",
                  "INSTANCEID": "F2D3D142-EC47-4669-B61D-18F5F72AD864",
                  "LIGHTCONDITIONSPRIMARY": "4",
                  "LOCALREPORTNO": 125000791,
                  "MANNEROFCRASH": "2 - REAR-END",
                  "ROADCONDITIONSPRIMARY": "0",
                  "ROADCONTOUR": "1 - STRAIGHT LEVEL",
                  "ROADSURFACE": "2",
                  "SNA_NEIGHBORHOOD": "WEST PRICE HILL",
                  "TYPEOFPERSON": "D - DRIVER",
                  "WEATHER": "1 - CLEAR",
                  "ZIP": "45211.0",
                  "UNITTYPE": "03 - MID SIZE",
                  "CRASH_YEAR": 2012,
                  "_deepnote_index_column": 39
                },
                {
                  "Unnamed: 0": 53,
                  "ADDRESS_X": "31XX EDEN AV",
                  "LATITUDE_X": 39.103159000000005,
                  "LONGITUDE_X": -84.511726,
                  "AGE": "31-40",
                  "COMMUNITY_COUNCIL_NEIGHBORHOOD": "DOWNTOWN",
                  "CPD_NEIGHBORHOOD": "C. B. D. / RIVERFRONT",
                  "CRASHDATE": "10/09/2018 12:40:00 PM",
                  "CRASHLOCATION": "01 - NOT AN INTERSECTION",
                  "CRASHSEVERITY": 3,
                  "CRASHSEVERITYID": 3,
                  "DATECRASHREPORTED": "10/09/2018 12:45:00 PM",
                  "DAYOFWEEK": "TUE",
                  "GENDER": "F - FEMALE",
                  "INJURIES": "1",
                  "INSTANCEID": "FA863823-225F-401E-B3C0-E4A0B41B515A",
                  "LIGHTCONDITIONSPRIMARY": "1",
                  "LOCALREPORTNO": 185014274,
                  "MANNEROFCRASH": "6 - ANGLE",
                  "ROADCONDITIONSPRIMARY": "0",
                  "ROADCONTOUR": "1 - STRAIGHT LEVEL",
                  "ROADSURFACE": "2",
                  "SNA_NEIGHBORHOOD": "DOWNTOWN",
                  "TYPEOFPERSON": "D - DRIVER",
                  "WEATHER": "1 - CLEAR",
                  "ZIP": "45219.0",
                  "UNITTYPE": "02 - COMPACT",
                  "CRASH_YEAR": 2018,
                  "_deepnote_index_column": 34
                },
                {
                  "Unnamed: 0": 52,
                  "ADDRESS_X": "6.X S I75 EX",
                  "LATITUDE_X": 39.161052000000005,
                  "LONGITUDE_X": -84.52533199999999,
                  "AGE": "26-30",
                  "COMMUNITY_COUNCIL_NEIGHBORHOOD": "CLIFTON",
                  "CPD_NEIGHBORHOOD": "CLIFTON",
                  "CRASHDATE": "03/24/2013 06:56:00 PM",
                  "CRASHLOCATION": "01 - NOT AN INTERSECTION",
                  "CRASHSEVERITY": 3,
                  "CRASHSEVERITYID": 3,
                  "DATECRASHREPORTED": "03/24/2013 06:56:00 PM",
                  "DAYOFWEEK": "SUN",
                  "GENDER": "F - FEMALE",
                  "INJURIES": "1",
                  "INSTANCEID": "A447F731-79D8-4D77-AA55-A0DC61D9A938",
                  "LIGHTCONDITIONSPRIMARY": "3",
                  "LOCALREPORTNO": 135003703,
                  "MANNEROFCRASH": "1 - NOT COLLISION BETWEEN TWO MOTOR VEHICLES IN TRANSPORT",
                  "ROADCONDITIONSPRIMARY": "0",
                  "ROADCONTOUR": "1 - STRAIGHT LEVEL",
                  "ROADSURFACE": "2",
                  "SNA_NEIGHBORHOOD": "CLIFTON",
                  "TYPEOFPERSON": "D - DRIVER",
                  "WEATHER": "6 - SNOW",
                  "ZIP": "45220.0",
                  "UNITTYPE": "03 - MID SIZE",
                  "CRASH_YEAR": 2013,
                  "_deepnote_index_column": 33
                },
                {
                  "Unnamed: 0": 56,
                  "ADDRESS_X": "25XX GLENWAY AV",
                  "LATITUDE_X": 39.108165,
                  "LONGITUDE_X": -84.55464,
                  "AGE": "18-25",
                  "COMMUNITY_COUNCIL_NEIGHBORHOOD": "LOWER PRICE HILL",
                  "CPD_NEIGHBORHOOD": "EAST PRICE HILL",
                  "CRASHDATE": "07/27/2014 09:36:00 PM",
                  "CRASHLOCATION": "01 - NOT AN INTERSECTION",
                  "CRASHSEVERITY": 3,
                  "CRASHSEVERITYID": 3,
                  "DATECRASHREPORTED": "07/27/2014 09:37:00 PM",
                  "DAYOFWEEK": "SUN",
                  "GENDER": "M - MALE",
                  "INJURIES": "1",
                  "INSTANCEID": "0AE4694B-25D7-4DF4-AE10-3DDB3FF8A192",
                  "LIGHTCONDITIONSPRIMARY": "4",
                  "LOCALREPORTNO": 145006622,
                  "MANNEROFCRASH": "1 - NOT COLLISION BETWEEN TWO MOTOR VEHICLES IN TRANSPORT",
                  "ROADCONDITIONSPRIMARY": "0",
                  "ROADCONTOUR": "4 - CURVE GRADE",
                  "ROADSURFACE": "1",
                  "SNA_NEIGHBORHOOD": "EAST PRICE HILL",
                  "TYPEOFPERSON": "D - DRIVER",
                  "WEATHER": "1 - CLEAR",
                  "ZIP": "45204.0",
                  "UNITTYPE": "06 - SPORT UTILITY VEHICLE",
                  "CRASH_YEAR": 2014,
                  "_deepnote_index_column": 37
                },
                {
                  "Unnamed: 0": 51,
                  "ADDRESS_X": "28XX HARRISON",
                  "LATITUDE_X": 39.137412,
                  "LONGITUDE_X": -84.577464,
                  "AGE": "61-70",
                  "COMMUNITY_COUNCIL_NEIGHBORHOOD": "SOUTH FAIRMOUNT - WESTWOOD",
                  "CPD_NEIGHBORHOOD": "WESTWOOD",
                  "CRASHDATE": "01/21/2016 05:50:00 PM",
                  "CRASHLOCATION": "02 - FOUR-WAY INTERSECTION",
                  "CRASHSEVERITY": 3,
                  "CRASHSEVERITYID": 3,
                  "DATECRASHREPORTED": "01/21/2016 05:53:00 PM",
                  "DAYOFWEEK": "THU",
                  "GENDER": "M - MALE",
                  "INJURIES": "1",
                  "INSTANCEID": "7134C126-7AED-4128-84ED-543D0933E384",
                  "LIGHTCONDITIONSPRIMARY": "4",
                  "LOCALREPORTNO": 165001069,
                  "MANNEROFCRASH": "6 - ANGLE",
                  "ROADCONDITIONSPRIMARY": "0",
                  "ROADCONTOUR": "1 - STRAIGHT LEVEL",
                  "ROADSURFACE": "2",
                  "SNA_NEIGHBORHOOD": "WESTWOOD",
                  "TYPEOFPERSON": "D - DRIVER",
                  "WEATHER": "1 - CLEAR",
                  "ZIP": "45211.0",
                  "UNITTYPE": "02 - COMPACT",
                  "CRASH_YEAR": 2016,
                  "_deepnote_index_column": 32
                },
                {
                  "Unnamed: 0": 38,
                  "ADDRESS_X": "XX FINDLAY ST",
                  "LATITUDE_X": 39.116631,
                  "LONGITUDE_X": -84.516961,
                  "AGE": "51-60",
                  "COMMUNITY_COUNCIL_NEIGHBORHOOD": "OTR",
                  "CPD_NEIGHBORHOOD": "OVER-THE-RHINE",
                  "CRASHDATE": "02/11/2020 01:33:00 PM",
                  "CRASHLOCATION": "nan",
                  "CRASHSEVERITY": 4,
                  "CRASHSEVERITYID": 201904,
                  "DATECRASHREPORTED": "02/11/2020 01:33:00 PM",
                  "DAYOFWEEK": "TUE",
                  "GENDER": "F - FEMALE",
                  "INJURIES": "5",
                  "INSTANCEID": "CA3F46E2-C8E9-41B7-B186-95860757BCF3",
                  "LIGHTCONDITIONSPRIMARY": "1",
                  "LOCALREPORTNO": 205001915,
                  "MANNEROFCRASH": "7 - SIDESWIPE, SAME DIRECTION",
                  "ROADCONDITIONSPRIMARY": "0",
                  "ROADCONTOUR": "1 - STRAIGHT LEVEL",
                  "ROADSURFACE": "2",
                  "SNA_NEIGHBORHOOD": "OVER-THE-RHINE",
                  "TYPEOFPERSON": "D - DRIVER",
                  "WEATHER": "2 - CLOUDY",
                  "ZIP": "45202.0",
                  "UNITTYPE": "19 - BUS (16+ PASSENGERS)",
                  "CRASH_YEAR": 2020,
                  "_deepnote_index_column": 19
                },
                {
                  "Unnamed: 0": 43,
                  "ADDRESS_X": "33XX MEYER PL",
                  "LATITUDE_X": 39.148631,
                  "LONGITUDE_X": -84.591179,
                  "AGE": "18-25",
                  "COMMUNITY_COUNCIL_NEIGHBORHOOD": "WESTWOOD",
                  "CPD_NEIGHBORHOOD": "WESTWOOD",
                  "CRASHDATE": "06/19/2019 07:47:00 PM",
                  "CRASHLOCATION": "nan",
                  "CRASHSEVERITY": 4,
                  "CRASHSEVERITYID": 201904,
                  "DATECRASHREPORTED": "06/19/2019 07:48:00 PM",
                  "DAYOFWEEK": "WED",
                  "GENDER": "M - MALE",
                  "INJURIES": "5",
                  "INSTANCEID": "226178F4-A7E7-45A7-8F8B-DC81F6DFCD91",
                  "LIGHTCONDITIONSPRIMARY": "1",
                  "LOCALREPORTNO": 195008231,
                  "MANNEROFCRASH": "6 - ANGLE",
                  "ROADCONDITIONSPRIMARY": "0",
                  "ROADCONTOUR": "3 - CURVE LEVEL",
                  "ROADSURFACE": "1",
                  "SNA_NEIGHBORHOOD": "WESTWOOD",
                  "TYPEOFPERSON": "D - DRIVER",
                  "WEATHER": "4 - RAIN",
                  "ZIP": "45211.0",
                  "UNITTYPE": "01 - PASSENGER CAR",
                  "CRASH_YEAR": 2019,
                  "_deepnote_index_column": 24
                },
                {
                  "Unnamed: 0": 54,
                  "ADDRESS_X": "10XX OVERLOOK AV",
                  "LATITUDE_X": 39.111611,
                  "LONGITUDE_X": -84.599475,
                  "AGE": "51-60",
                  "COMMUNITY_COUNCIL_NEIGHBORHOOD": "WEST PRICE HILL",
                  "CPD_NEIGHBORHOOD": "WEST PRICE HILL",
                  "CRASHDATE": "06/04/2020 09:34:00 AM",
                  "CRASHLOCATION": "nan",
                  "CRASHSEVERITY": 4,
                  "CRASHSEVERITYID": 201904,
                  "DATECRASHREPORTED": "06/04/2020 09:37:00 AM",
                  "DAYOFWEEK": "THU",
                  "GENDER": "F - FEMALE",
                  "INJURIES": "4",
                  "INSTANCEID": "D404FDAF-A07F-45A9-BA0B-A1524B451355",
                  "LIGHTCONDITIONSPRIMARY": "1",
                  "LOCALREPORTNO": 205005750,
                  "MANNEROFCRASH": "6 - ANGLE",
                  "ROADCONDITIONSPRIMARY": "0",
                  "ROADCONTOUR": "1 - STRAIGHT LEVEL",
                  "ROADSURFACE": "2",
                  "SNA_NEIGHBORHOOD": "WEST PRICE HILL",
                  "TYPEOFPERSON": "D - DRIVER",
                  "WEATHER": "1 - CLEAR",
                  "ZIP": "45238.0",
                  "UNITTYPE": "03 - SPORT UTILITY VEHICLE",
                  "CRASH_YEAR": 2020,
                  "_deepnote_index_column": 35
                },
                {
                  "Unnamed: 0": 60,
                  "ADDRESS_X": "29XX MADISON RD",
                  "LATITUDE_X": 39.149085,
                  "LONGITUDE_X": -84.436038,
                  "AGE": "18-25",
                  "COMMUNITY_COUNCIL_NEIGHBORHOOD": "OAKLEY",
                  "CPD_NEIGHBORHOOD": "OAKLEY",
                  "CRASHDATE": "01/24/2020 04:15:00 PM",
                  "CRASHLOCATION": "nan",
                  "CRASHSEVERITY": 4,
                  "CRASHSEVERITYID": 201904,
                  "DATECRASHREPORTED": "01/24/2020 06:15:00 PM",
                  "DAYOFWEEK": "FRI",
                  "GENDER": "F - FEMALE",
                  "INJURIES": "4",
                  "INSTANCEID": "63E06A24-52B7-421D-9F2F-6620ADF503AA",
                  "LIGHTCONDITIONSPRIMARY": "1",
                  "LOCALREPORTNO": 205001162,
                  "MANNEROFCRASH": "2 - REAR-END",
                  "ROADCONDITIONSPRIMARY": "0",
                  "ROADCONTOUR": "1 - STRAIGHT LEVEL",
                  "ROADSURFACE": "2",
                  "SNA_NEIGHBORHOOD": "OAKLEY",
                  "TYPEOFPERSON": "O - OCCUPANT",
                  "WEATHER": "2 - CLOUDY",
                  "ZIP": "45209.0",
                  "UNITTYPE": "01 - PASSENGER CAR",
                  "CRASH_YEAR": 2020,
                  "_deepnote_index_column": 41
                },
                {
                  "Unnamed: 0": 50,
                  "ADDRESS_X": "10XX GEST ST",
                  "LATITUDE_X": 39.106591,
                  "LONGITUDE_X": -84.53348100000001,
                  "AGE": "61-70",
                  "COMMUNITY_COUNCIL_NEIGHBORHOOD": "QUEENSGATE",
                  "CPD_NEIGHBORHOOD": "QUEENSGATE",
                  "CRASHDATE": "11/05/2019 01:26:00 PM",
                  "CRASHLOCATION": "nan",
                  "CRASHSEVERITY": 5,
                  "CRASHSEVERITYID": 201905,
                  "DATECRASHREPORTED": "11/05/2019 01:26:00 PM",
                  "DAYOFWEEK": "TUE",
                  "GENDER": "M - MALE",
                  "INJURIES": "5",
                  "INSTANCEID": "1A6225F7-6BD4-409A-929E-AC39B732C4A1",
                  "LIGHTCONDITIONSPRIMARY": "1",
                  "LOCALREPORTNO": 195015501,
                  "MANNEROFCRASH": "2 - REAR-END",
                  "ROADCONDITIONSPRIMARY": "0",
                  "ROADCONTOUR": "1 - STRAIGHT LEVEL",
                  "ROADSURFACE": "2",
                  "SNA_NEIGHBORHOOD": "QUEENSGATE",
                  "TYPEOFPERSON": "D - DRIVER",
                  "WEATHER": "1 - CLEAR",
                  "ZIP": "45203.0",
                  "UNITTYPE": "01 - PASSENGER CAR",
                  "CRASH_YEAR": 2019,
                  "_deepnote_index_column": 31
                },
                {
                  "Unnamed: 0": 63,
                  "ADDRESS_X": "S I71 AT 2-8 MM",
                  "LATITUDE_X": 39.122106,
                  "LONGITUDE_X": -84.498793,
                  "AGE": "26-30",
                  "COMMUNITY_COUNCIL_NEIGHBORHOOD": "WALNUT HILLS",
                  "CPD_NEIGHBORHOOD": "WALNUT HILLS",
                  "CRASHDATE": "01/30/2019 03:24:00 PM",
                  "CRASHLOCATION": "nan",
                  "CRASHSEVERITY": 5,
                  "CRASHSEVERITYID": 201905,
                  "DATECRASHREPORTED": "01/30/2019 03:24:11 PM",
                  "DAYOFWEEK": "WED",
                  "GENDER": "F - FEMALE",
                  "INJURIES": "5",
                  "INSTANCEID": "9092B337-790C-4399-9723-5C1D53A000F5",
                  "LIGHTCONDITIONSPRIMARY": "1",
                  "LOCALREPORTNO": 195001376,
                  "MANNEROFCRASH": "2 - REAR-END",
                  "ROADCONDITIONSPRIMARY": "0",
                  "ROADCONTOUR": "1 - STRAIGHT LEVEL",
                  "ROADSURFACE": "1",
                  "SNA_NEIGHBORHOOD": "WALNUT HILLS",
                  "TYPEOFPERSON": "D - DRIVER",
                  "WEATHER": "1 - CLEAR",
                  "ZIP": "45202.0",
                  "UNITTYPE": "01 - PASSENGER CAR",
                  "CRASH_YEAR": 2019,
                  "_deepnote_index_column": 44
                },
                {
                  "Unnamed: 0": 62,
                  "ADDRESS_X": "46XX MARBURG AV",
                  "LATITUDE_X": 39.159016,
                  "LONGITUDE_X": -84.424991,
                  "AGE": "UNDER 18",
                  "COMMUNITY_COUNCIL_NEIGHBORHOOD": "OAKLEY",
                  "CPD_NEIGHBORHOOD": "OAKLEY",
                  "CRASHDATE": "12/01/2019 06:08:00 PM",
                  "CRASHLOCATION": "nan",
                  "CRASHSEVERITY": 5,
                  "CRASHSEVERITYID": 201905,
                  "DATECRASHREPORTED": "12/01/2019 06:08:00 PM",
                  "DAYOFWEEK": "SUN",
                  "GENDER": "F - FEMALE",
                  "INJURIES": "5",
                  "INSTANCEID": "C4BAC7DA-4001-4166-917D-1BCFBAE773CC",
                  "LIGHTCONDITIONSPRIMARY": "4",
                  "LOCALREPORTNO": 195016953,
                  "MANNEROFCRASH": "6 - ANGLE",
                  "ROADCONDITIONSPRIMARY": "0",
                  "ROADCONTOUR": "1 - STRAIGHT LEVEL",
                  "ROADSURFACE": "2",
                  "SNA_NEIGHBORHOOD": "OAKLEY",
                  "TYPEOFPERSON": "D - DRIVER",
                  "WEATHER": "4 - RAIN",
                  "ZIP": "45209.0",
                  "UNITTYPE": "01 - PASSENGER CAR",
                  "CRASH_YEAR": 2019,
                  "_deepnote_index_column": 43
                },
                {
                  "Unnamed: 0": 116,
                  "ADDRESS_X": "24XX OHIO AV",
                  "LATITUDE_X": 39.126691,
                  "LONGITUDE_X": -84.51469499999999,
                  "AGE": "18-25",
                  "COMMUNITY_COUNCIL_NEIGHBORHOOD": "CUF",
                  "CPD_NEIGHBORHOOD": "FAIRVIEW",
                  "CRASHDATE": "03/17/2019 07:50:00 PM",
                  "CRASHLOCATION": "nan",
                  "CRASHSEVERITY": 5,
                  "CRASHSEVERITYID": 201905,
                  "DATECRASHREPORTED": "03/17/2019 07:50:00 PM",
                  "DAYOFWEEK": "SUN",
                  "GENDER": "M - MALE",
                  "INJURIES": "5",
                  "INSTANCEID": "79C16408-BF59-4659-A27D-67798121A5AF",
                  "LIGHTCONDITIONSPRIMARY": "2",
                  "LOCALREPORTNO": 195003555,
                  "MANNEROFCRASH": "2 - REAR-END",
                  "ROADCONDITIONSPRIMARY": "0",
                  "ROADCONTOUR": "2 - STRAIGHT GRADE",
                  "ROADSURFACE": "2",
                  "SNA_NEIGHBORHOOD": "CUF",
                  "TYPEOFPERSON": "O - OCCUPANT",
                  "WEATHER": "2 - CLOUDY",
                  "ZIP": "45219.0",
                  "UNITTYPE": "01 - PASSENGER CAR",
                  "CRASH_YEAR": 2019,
                  "_deepnote_index_column": 97
                },
                {
                  "Unnamed: 0": 115,
                  "ADDRESS_X": "W I74 AT 17-0 MM",
                  "LATITUDE_X": 39.158098,
                  "LONGITUDE_X": -84.568843,
                  "AGE": "18-25",
                  "COMMUNITY_COUNCIL_NEIGHBORHOOD": "NORTHSIDE - WESTWOOD",
                  "CPD_NEIGHBORHOOD": "NORTHSIDE",
                  "CRASHDATE": "06/10/2020 11:21:00 AM",
                  "CRASHLOCATION": "nan",
                  "CRASHSEVERITY": 5,
                  "CRASHSEVERITYID": 201905,
                  "DATECRASHREPORTED": "06/10/2020 11:43:00 AM",
                  "DAYOFWEEK": "WED",
                  "GENDER": "F - FEMALE",
                  "INJURIES": "5",
                  "INSTANCEID": "D929FC22-67F0-4DFD-978D-2A3E4A1C7405",
                  "LIGHTCONDITIONSPRIMARY": "1",
                  "LOCALREPORTNO": 205006003,
                  "MANNEROFCRASH": "2 - REAR-END",
                  "ROADCONDITIONSPRIMARY": "0",
                  "ROADCONTOUR": "2 - STRAIGHT GRADE",
                  "ROADSURFACE": "2",
                  "SNA_NEIGHBORHOOD": "MT. AIRY",
                  "TYPEOFPERSON": "O - OCCUPANT",
                  "WEATHER": "1 - CLEAR",
                  "ZIP": "45211.0",
                  "UNITTYPE": "01 - PASSENGER CAR",
                  "CRASH_YEAR": 2020,
                  "_deepnote_index_column": 96
                },
                {
                  "Unnamed: 0": 61,
                  "ADDRESS_X": "17XX QUEEN CITY AV",
                  "LATITUDE_X": 39.126016,
                  "LONGITUDE_X": -84.553431,
                  "AGE": "31-40",
                  "COMMUNITY_COUNCIL_NEIGHBORHOOD": "SOUTH FAIRMOUNT",
                  "CPD_NEIGHBORHOOD": "SOUTH  FAIRMOUNT",
                  "CRASHDATE": "03/01/2019 02:15:00 PM",
                  "CRASHLOCATION": "nan",
                  "CRASHSEVERITY": 5,
                  "CRASHSEVERITYID": 201905,
                  "DATECRASHREPORTED": "03/01/2019 03:17:56 PM",
                  "DAYOFWEEK": "FRI",
                  "GENDER": "F - FEMALE",
                  "INJURIES": "5",
                  "INSTANCEID": "4397B999-C308-4DA6-A8CD-7ADAA8F33230",
                  "LIGHTCONDITIONSPRIMARY": "1",
                  "LOCALREPORTNO": 195002801,
                  "MANNEROFCRASH": "9 - UNKNOWN",
                  "ROADCONDITIONSPRIMARY": "0",
                  "ROADCONTOUR": "1 - STRAIGHT LEVEL",
                  "ROADSURFACE": "2",
                  "SNA_NEIGHBORHOOD": "SOUTH FAIRMOUNT",
                  "TYPEOFPERSON": "D - DRIVER",
                  "WEATHER": "2 - CLOUDY",
                  "ZIP": "45214.0",
                  "UNITTYPE": "03 - SPORT UTILITY VEHICLE",
                  "CRASH_YEAR": 2019,
                  "_deepnote_index_column": 42
                },
                {
                  "Unnamed: 0": 112,
                  "ADDRESS_X": "29XX WOODROW AV",
                  "LATITUDE_X": 39.142001,
                  "LONGITUDE_X": -84.58573100000001,
                  "AGE": "41-50",
                  "COMMUNITY_COUNCIL_NEIGHBORHOOD": "WESTWOOD",
                  "CPD_NEIGHBORHOOD": "WESTWOOD",
                  "CRASHDATE": "08/24/2019 05:10:00 PM",
                  "CRASHLOCATION": "nan",
                  "CRASHSEVERITY": 5,
                  "CRASHSEVERITYID": 201905,
                  "DATECRASHREPORTED": "08/24/2019 05:12:00 PM",
                  "DAYOFWEEK": "SAT",
                  "GENDER": "M - MALE",
                  "INJURIES": "5",
                  "INSTANCEID": "F6C75FE2-E2CA-44F3-A19B-63C1467C6812",
                  "LIGHTCONDITIONSPRIMARY": "1",
                  "LOCALREPORTNO": 195011576,
                  "MANNEROFCRASH": "7 - SIDESWIPE, SAME DIRECTION",
                  "ROADCONDITIONSPRIMARY": "0",
                  "ROADCONTOUR": "2 - STRAIGHT GRADE",
                  "ROADSURFACE": "2",
                  "SNA_NEIGHBORHOOD": "WESTWOOD",
                  "TYPEOFPERSON": "D - DRIVER",
                  "WEATHER": "1 - CLEAR",
                  "ZIP": "45211.0",
                  "UNITTYPE": "01 - PASSENGER CAR",
                  "CRASH_YEAR": 2019,
                  "_deepnote_index_column": 93
                },
                {
                  "Unnamed: 0": 27,
                  "ADDRESS_X": "S I75 AT 2-0 MM",
                  "LATITUDE_X": 39.116753,
                  "LONGITUDE_X": -84.53277800000001,
                  "AGE": "18-25",
                  "COMMUNITY_COUNCIL_NEIGHBORHOOD": "WEST END",
                  "CPD_NEIGHBORHOOD": "WEST  END",
                  "CRASHDATE": "01/24/2020 02:40:00 PM",
                  "CRASHLOCATION": "nan",
                  "CRASHSEVERITY": 5,
                  "CRASHSEVERITYID": 201905,
                  "DATECRASHREPORTED": "01/24/2020 02:50:00 PM",
                  "DAYOFWEEK": "FRI",
                  "GENDER": "F - FEMALE",
                  "INJURIES": "5",
                  "INSTANCEID": "9C50B2FC-1113-4266-924E-043E7053213C",
                  "LIGHTCONDITIONSPRIMARY": "1",
                  "LOCALREPORTNO": 205001099,
                  "MANNEROFCRASH": "2 - REAR-END",
                  "ROADCONDITIONSPRIMARY": "0",
                  "ROADCONTOUR": "1 - STRAIGHT LEVEL",
                  "ROADSURFACE": "2",
                  "SNA_NEIGHBORHOOD": "WEST END",
                  "TYPEOFPERSON": "D - DRIVER",
                  "WEATHER": "4 - RAIN",
                  "ZIP": "45214.0",
                  "UNITTYPE": "01 - PASSENGER CAR",
                  "CRASH_YEAR": 2020,
                  "_deepnote_index_column": 8
                },
                {
                  "Unnamed: 0": 44,
                  "ADDRESS_X": "25XX COLUMBIA PY",
                  "LATITUDE_X": 39.123864000000005,
                  "LONGITUDE_X": -84.458141,
                  "AGE": "UNKNOWN",
                  "COMMUNITY_COUNCIL_NEIGHBORHOOD": "EAST END",
                  "CPD_NEIGHBORHOOD": "EAST  END",
                  "CRASHDATE": "08/22/2019 04:15:00 PM",
                  "CRASHLOCATION": "nan",
                  "CRASHSEVERITY": 5,
                  "CRASHSEVERITYID": 201905,
                  "DATECRASHREPORTED": "08/22/2019 04:29:00 PM",
                  "DAYOFWEEK": "THU",
                  "GENDER": "nan",
                  "INJURIES": "5",
                  "INSTANCEID": "7581AA19-E8C1-429C-8CE9-B2C1ED7F5E1C",
                  "LIGHTCONDITIONSPRIMARY": "1",
                  "LOCALREPORTNO": 195011471,
                  "MANNEROFCRASH": "2 - REAR-END",
                  "ROADCONDITIONSPRIMARY": "0",
                  "ROADCONTOUR": "1 - STRAIGHT LEVEL",
                  "ROADSURFACE": "2",
                  "SNA_NEIGHBORHOOD": "EAST END",
                  "TYPEOFPERSON": "D - DRIVER",
                  "WEATHER": "2 - CLOUDY",
                  "ZIP": "45208.0",
                  "UNITTYPE": "01 - PASSENGER CAR",
                  "CRASH_YEAR": 2019,
                  "_deepnote_index_column": 25
                },
                {
                  "Unnamed: 0": 109,
                  "ADDRESS_X": "XX E MCMICKEN AV",
                  "LATITUDE_X": 39.115109,
                  "LONGITUDE_X": -84.514969,
                  "AGE": "UNKNOWN",
                  "COMMUNITY_COUNCIL_NEIGHBORHOOD": "OTR",
                  "CPD_NEIGHBORHOOD": "OVER-THE-RHINE",
                  "CRASHDATE": "06/16/2020 04:00:00 PM",
                  "CRASHLOCATION": "nan",
                  "CRASHSEVERITY": 5,
                  "CRASHSEVERITYID": 201905,
                  "DATECRASHREPORTED": "06/19/2020 09:50:45 AM",
                  "DAYOFWEEK": "TUE",
                  "GENDER": "nan",
                  "INJURIES": "5",
                  "INSTANCEID": "5D88BFF8-7E2D-4540-BC7F-4FDD33BE99F1",
                  "LIGHTCONDITIONSPRIMARY": "1",
                  "LOCALREPORTNO": 205006384,
                  "MANNEROFCRASH": "9 - UNKNOWN",
                  "ROADCONDITIONSPRIMARY": "0",
                  "ROADCONTOUR": "1 - STRAIGHT LEVEL",
                  "ROADSURFACE": "2",
                  "SNA_NEIGHBORHOOD": "OVER-THE-RHINE",
                  "TYPEOFPERSON": "D - DRIVER",
                  "WEATHER": "99 - OTHER/UNKNOWN",
                  "ZIP": "45202.0",
                  "UNITTYPE": "99 - UNKNOWN OR HIT/SKIP",
                  "CRASH_YEAR": 2020,
                  "_deepnote_index_column": 90
                },
                {
                  "Unnamed: 0": 90,
                  "ADDRESS_X": "17XX WESTWOOD NORTHERN BV",
                  "LATITUDE_X": 39.138401,
                  "LONGITUDE_X": -84.548501,
                  "AGE": "31-40",
                  "COMMUNITY_COUNCIL_NEIGHBORHOOD": "ENGLISH WOODS",
                  "CPD_NEIGHBORHOOD": "ENGLISH  WOODS",
                  "CRASHDATE": "12/19/2020 06:54:00 PM",
                  "CRASHLOCATION": "nan",
                  "CRASHSEVERITY": 5,
                  "CRASHSEVERITYID": 201905,
                  "DATECRASHREPORTED": "12/19/2020 06:54:00 PM",
                  "DAYOFWEEK": "SAT",
                  "GENDER": "M - MALE",
                  "INJURIES": "5",
                  "INSTANCEID": "29E616FE-477F-46A4-8B0A-2B0D7240E6DE",
                  "LIGHTCONDITIONSPRIMARY": "3",
                  "LOCALREPORTNO": 205015061,
                  "MANNEROFCRASH": "7 - SIDESWIPE, SAME DIRECTION",
                  "ROADCONDITIONSPRIMARY": "0",
                  "ROADCONTOUR": "2 - STRAIGHT GRADE",
                  "ROADSURFACE": "2",
                  "SNA_NEIGHBORHOOD": "NORTH FAIRMOUNT",
                  "TYPEOFPERSON": "D - DRIVER",
                  "WEATHER": "4 - RAIN",
                  "ZIP": "45225.0",
                  "UNITTYPE": "03 - SPORT UTILITY VEHICLE",
                  "CRASH_YEAR": 2020,
                  "_deepnote_index_column": 71
                },
                {
                  "Unnamed: 0": 57,
                  "ADDRESS_X": "6XX WESTERN HILLS VIA",
                  "LATITUDE_X": 39.124491,
                  "LONGITUDE_X": -84.541301,
                  "AGE": "31-40",
                  "COMMUNITY_COUNCIL_NEIGHBORHOOD": "QUEENSGATE",
                  "CPD_NEIGHBORHOOD": "QUEENSGATE",
                  "CRASHDATE": "07/17/2019 03:45:00 PM",
                  "CRASHLOCATION": "nan",
                  "CRASHSEVERITY": 5,
                  "CRASHSEVERITYID": 201905,
                  "DATECRASHREPORTED": "07/17/2019 07:58:35 PM",
                  "DAYOFWEEK": "WED",
                  "GENDER": "F - FEMALE",
                  "INJURIES": "5",
                  "INSTANCEID": "3EF9BDE0-D810-496C-BEAC-D6856A71F84E",
                  "LIGHTCONDITIONSPRIMARY": "1",
                  "LOCALREPORTNO": 195009651,
                  "MANNEROFCRASH": "7 - SIDESWIPE, SAME DIRECTION",
                  "ROADCONDITIONSPRIMARY": "0",
                  "ROADCONTOUR": "1 - STRAIGHT LEVEL",
                  "ROADSURFACE": "1",
                  "SNA_NEIGHBORHOOD": "QUEENSGATE",
                  "TYPEOFPERSON": "D - DRIVER",
                  "WEATHER": "1 - CLEAR",
                  "ZIP": "45214.0",
                  "UNITTYPE": "01 - PASSENGER CAR",
                  "CRASH_YEAR": 2019,
                  "_deepnote_index_column": 38
                },
                {
                  "Unnamed: 0": 105,
                  "ADDRESS_X": "6XX E MARTIN LUTHER KING DR",
                  "LATITUDE_X": 39.135502,
                  "LONGITUDE_X": -84.506174,
                  "AGE": "51-60",
                  "COMMUNITY_COUNCIL_NEIGHBORHOOD": "CORRYVILLE",
                  "CPD_NEIGHBORHOOD": "CORRYVILLE",
                  "CRASHDATE": "01/14/2019 12:05:00 PM",
                  "CRASHLOCATION": "nan",
                  "CRASHSEVERITY": 5,
                  "CRASHSEVERITYID": 201905,
                  "DATECRASHREPORTED": "01/14/2019 12:05:00 PM",
                  "DAYOFWEEK": "MON",
                  "GENDER": "F - FEMALE",
                  "INJURIES": "5",
                  "INSTANCEID": "E41888DE-A9E0-4949-BADC-E4BA1BF33180",
                  "LIGHTCONDITIONSPRIMARY": "1",
                  "LOCALREPORTNO": 195000562,
                  "MANNEROFCRASH": "6 - ANGLE",
                  "ROADCONDITIONSPRIMARY": "0",
                  "ROADCONTOUR": "1 - STRAIGHT LEVEL",
                  "ROADSURFACE": "2",
                  "SNA_NEIGHBORHOOD": "CORRYVILLE",
                  "TYPEOFPERSON": "D - DRIVER",
                  "WEATHER": "2 - CLOUDY",
                  "ZIP": "45219.0",
                  "UNITTYPE": "01 - PASSENGER CAR",
                  "CRASH_YEAR": 2019,
                  "_deepnote_index_column": 86
                },
                {
                  "Unnamed: 0": 48,
                  "ADDRESS_X": "X E 3RD ST",
                  "LATITUDE_X": 39.099274,
                  "LONGITUDE_X": -84.51094300000001,
                  "AGE": "26-30",
                  "COMMUNITY_COUNCIL_NEIGHBORHOOD": "DOWNTOWN",
                  "CPD_NEIGHBORHOOD": "C. B. D. / RIVERFRONT",
                  "CRASHDATE": "01/08/2019 08:32:00 AM",
                  "CRASHLOCATION": "nan",
                  "CRASHSEVERITY": 5,
                  "CRASHSEVERITYID": 201905,
                  "DATECRASHREPORTED": "01/08/2019 08:33:00 AM",
                  "DAYOFWEEK": "TUE",
                  "GENDER": "F - FEMALE",
                  "INJURIES": "5",
                  "INSTANCEID": "F14C0BFC-5281-4BD2-9F5F-EF92C2287350",
                  "LIGHTCONDITIONSPRIMARY": "1",
                  "LOCALREPORTNO": 195000267,
                  "MANNEROFCRASH": "6 - ANGLE",
                  "ROADCONDITIONSPRIMARY": "0",
                  "ROADCONTOUR": "1 - STRAIGHT LEVEL",
                  "ROADSURFACE": "2",
                  "SNA_NEIGHBORHOOD": "DOWNTOWN",
                  "TYPEOFPERSON": "D - DRIVER",
                  "WEATHER": "1 - CLEAR",
                  "ZIP": "45202.0",
                  "UNITTYPE": "03 - SPORT UTILITY VEHICLE",
                  "CRASH_YEAR": 2019,
                  "_deepnote_index_column": 29
                },
                {
                  "Unnamed: 0": 55,
                  "ADDRESS_X": "S I75 AT 3-5 MM",
                  "LATITUDE_X": 39.146568,
                  "LONGITUDE_X": -84.53970100000001,
                  "AGE": "61-70",
                  "COMMUNITY_COUNCIL_NEIGHBORHOOD": "CAMP WASHINGTON",
                  "CPD_NEIGHBORHOOD": "CAMP  WASHINGTON",
                  "CRASHDATE": "11/19/2020 10:30:00 AM",
                  "CRASHLOCATION": "nan",
                  "CRASHSEVERITY": 5,
                  "CRASHSEVERITYID": 201905,
                  "DATECRASHREPORTED": "11/19/2020 11:39:55 AM",
                  "DAYOFWEEK": "THU",
                  "GENDER": "F - FEMALE",
                  "INJURIES": "5",
                  "INSTANCEID": "E3184AF7-FAC6-4F45-8964-11B23333AE9A",
                  "LIGHTCONDITIONSPRIMARY": "1",
                  "LOCALREPORTNO": 205013727,
                  "MANNEROFCRASH": "7 - SIDESWIPE, SAME DIRECTION",
                  "ROADCONDITIONSPRIMARY": "0",
                  "ROADCONTOUR": "1 - STRAIGHT LEVEL",
                  "ROADSURFACE": "2",
                  "SNA_NEIGHBORHOOD": "CAMP WASHINGTON",
                  "TYPEOFPERSON": "D - DRIVER",
                  "WEATHER": "1 - CLEAR",
                  "ZIP": "45202.0",
                  "UNITTYPE": "01 - PASSENGER CAR",
                  "CRASH_YEAR": 2020,
                  "_deepnote_index_column": 36
                },
                {
                  "Unnamed: 0": 33,
                  "ADDRESS_X": "XX E KING DR",
                  "LATITUDE_X": 39.135617,
                  "LONGITUDE_X": -84.508476,
                  "AGE": "61-70",
                  "COMMUNITY_COUNCIL_NEIGHBORHOOD": "CORRYVILLE",
                  "CPD_NEIGHBORHOOD": "CORRYVILLE",
                  "CRASHDATE": "02/15/2019 12:21:00 PM",
                  "CRASHLOCATION": "nan",
                  "CRASHSEVERITY": 5,
                  "CRASHSEVERITYID": 201905,
                  "DATECRASHREPORTED": "02/15/2019 12:23:00 PM",
                  "DAYOFWEEK": "FRI",
                  "GENDER": "F - FEMALE",
                  "INJURIES": "5",
                  "INSTANCEID": "5A1CEC3B-96C9-4C06-8D1D-738789308126",
                  "LIGHTCONDITIONSPRIMARY": "1",
                  "LOCALREPORTNO": 195002172,
                  "MANNEROFCRASH": "7 - SIDESWIPE, SAME DIRECTION",
                  "ROADCONDITIONSPRIMARY": "0",
                  "ROADCONTOUR": "2 - STRAIGHT GRADE",
                  "ROADSURFACE": "2",
                  "SNA_NEIGHBORHOOD": "CORRYVILLE",
                  "TYPEOFPERSON": "D - DRIVER",
                  "WEATHER": "2 - CLOUDY",
                  "ZIP": "45219.0",
                  "UNITTYPE": "01 - PASSENGER CAR",
                  "CRASH_YEAR": 2019,
                  "_deepnote_index_column": 14
                },
                {
                  "Unnamed: 0": 100,
                  "ADDRESS_X": "9XX SUIRE AV",
                  "LATITUDE_X": 39.106274,
                  "LONGITUDE_X": -84.581154,
                  "AGE": "UNKNOWN",
                  "COMMUNITY_COUNCIL_NEIGHBORHOOD": "WEST PRICE HILL",
                  "CPD_NEIGHBORHOOD": "WEST PRICE HILL",
                  "CRASHDATE": "06/13/2019 01:50:00 PM",
                  "CRASHLOCATION": "nan",
                  "CRASHSEVERITY": 5,
                  "CRASHSEVERITYID": 201905,
                  "DATECRASHREPORTED": "06/13/2019 08:00:00 PM",
                  "DAYOFWEEK": "THU",
                  "GENDER": "nan",
                  "INJURIES": "5",
                  "INSTANCEID": "99A8CB42-D5DF-40A2-AE53-20C9640D3549",
                  "LIGHTCONDITIONSPRIMARY": "1",
                  "LOCALREPORTNO": 195007893,
                  "MANNEROFCRASH": "3 - HEAD-ON",
                  "ROADCONDITIONSPRIMARY": "0",
                  "ROADCONTOUR": "1 - STRAIGHT LEVEL",
                  "ROADSURFACE": "2",
                  "SNA_NEIGHBORHOOD": "WEST PRICE HILL",
                  "TYPEOFPERSON": "D - DRIVER",
                  "WEATHER": "1 - CLEAR",
                  "ZIP": "45205.0",
                  "UNITTYPE": "01 - PASSENGER CAR",
                  "CRASH_YEAR": 2019,
                  "_deepnote_index_column": 81
                },
                {
                  "Unnamed: 0": 36,
                  "ADDRESS_X": "59XX GLENWAY AV",
                  "LATITUDE_X": 39.140561,
                  "LONGITUDE_X": -84.617917,
                  "AGE": "41-50",
                  "COMMUNITY_COUNCIL_NEIGHBORHOOD": "WESTWOOD",
                  "CPD_NEIGHBORHOOD": "WESTWOOD",
                  "CRASHDATE": "12/30/2020 03:34:00 PM",
                  "CRASHLOCATION": "nan",
                  "CRASHSEVERITY": 5,
                  "CRASHSEVERITYID": 201905,
                  "DATECRASHREPORTED": "12/30/2020 03:34:00 PM",
                  "DAYOFWEEK": "WED",
                  "GENDER": "M - MALE",
                  "INJURIES": "5",
                  "INSTANCEID": "4E92F4D5-DAB1-48CE-85A2-2F0B33310BD1",
                  "LIGHTCONDITIONSPRIMARY": "1",
                  "LOCALREPORTNO": 205015474,
                  "MANNEROFCRASH": "2 - REAR-END",
                  "ROADCONDITIONSPRIMARY": "0",
                  "ROADCONTOUR": "1 - STRAIGHT LEVEL",
                  "ROADSURFACE": "2",
                  "SNA_NEIGHBORHOOD": "WESTWOOD",
                  "TYPEOFPERSON": "D - DRIVER",
                  "WEATHER": "4 - RAIN",
                  "ZIP": "45238.0",
                  "UNITTYPE": "01 - PASSENGER CAR",
                  "CRASH_YEAR": 2020,
                  "_deepnote_index_column": 17
                },
                {
                  "Unnamed: 0": 79,
                  "ADDRESS_X": "25XX COLUMBIA PY",
                  "LATITUDE_X": 39.125344,
                  "LONGITUDE_X": -84.458901,
                  "AGE": "41-50",
                  "COMMUNITY_COUNCIL_NEIGHBORHOOD": "EAST END",
                  "CPD_NEIGHBORHOOD": "EAST  END",
                  "CRASHDATE": "08/22/2019 04:15:00 PM",
                  "CRASHLOCATION": "nan",
                  "CRASHSEVERITY": 5,
                  "CRASHSEVERITYID": 201905,
                  "DATECRASHREPORTED": "08/22/2019 04:29:00 PM",
                  "DAYOFWEEK": "THU",
                  "GENDER": "F - FEMALE",
                  "INJURIES": "5",
                  "INSTANCEID": "7581AA19-E8C1-429C-8CE9-B2C1ED7F5E1C",
                  "LIGHTCONDITIONSPRIMARY": "1",
                  "LOCALREPORTNO": 195011471,
                  "MANNEROFCRASH": "2 - REAR-END",
                  "ROADCONDITIONSPRIMARY": "0",
                  "ROADCONTOUR": "1 - STRAIGHT LEVEL",
                  "ROADSURFACE": "2",
                  "SNA_NEIGHBORHOOD": "EAST END",
                  "TYPEOFPERSON": "D - DRIVER",
                  "WEATHER": "2 - CLOUDY",
                  "ZIP": "45208.0",
                  "UNITTYPE": "01 - PASSENGER CAR",
                  "CRASH_YEAR": 2019,
                  "_deepnote_index_column": 60
                },
                {
                  "Unnamed: 0": 80,
                  "ADDRESS_X": "39XX KELLOGG AV",
                  "LATITUDE_X": 39.108171,
                  "LONGITUDE_X": -84.437488,
                  "AGE": "26-30",
                  "COMMUNITY_COUNCIL_NEIGHBORHOOD": "COLUMBIA TUSCULUM - EAST END",
                  "CPD_NEIGHBORHOOD": "EAST  END",
                  "CRASHDATE": "11/21/2019 04:48:00 PM",
                  "CRASHLOCATION": "nan",
                  "CRASHSEVERITY": 5,
                  "CRASHSEVERITYID": 201905,
                  "DATECRASHREPORTED": "11/21/2019 04:48:00 PM",
                  "DAYOFWEEK": "THU",
                  "GENDER": "M - MALE",
                  "INJURIES": "5",
                  "INSTANCEID": "2A8469B9-D66D-4B60-878C-1267028D1155",
                  "LIGHTCONDITIONSPRIMARY": "1",
                  "LOCALREPORTNO": 195016427,
                  "MANNEROFCRASH": "6 - ANGLE",
                  "ROADCONDITIONSPRIMARY": "0",
                  "ROADCONTOUR": "1 - STRAIGHT LEVEL",
                  "ROADSURFACE": "2",
                  "SNA_NEIGHBORHOOD": "EAST END",
                  "TYPEOFPERSON": "D - DRIVER",
                  "WEATHER": "4 - RAIN",
                  "ZIP": "45226.0",
                  "UNITTYPE": "01 - PASSENGER CAR",
                  "CRASH_YEAR": 2019,
                  "_deepnote_index_column": 61
                },
                {
                  "Unnamed: 0": 108,
                  "ADDRESS_X": "5XX W KING DR",
                  "LATITUDE_X": 39.139751,
                  "LONGITUDE_X": -84.52278100000001,
                  "AGE": "UNKNOWN",
                  "COMMUNITY_COUNCIL_NEIGHBORHOOD": "CUF",
                  "CPD_NEIGHBORHOOD": "CLIFTON/UNIVERSITY HEIGHTS",
                  "CRASHDATE": "08/14/2020 07:43:00 AM",
                  "CRASHLOCATION": "nan",
                  "CRASHSEVERITY": 5,
                  "CRASHSEVERITYID": 201905,
                  "DATECRASHREPORTED": "08/14/2020 07:43:00 AM",
                  "DAYOFWEEK": "FRI",
                  "GENDER": "nan",
                  "INJURIES": "5",
                  "INSTANCEID": "2F69B81B-4798-4EB9-8145-DA8D594EC5D4",
                  "LIGHTCONDITIONSPRIMARY": "1",
                  "LOCALREPORTNO": 205009060,
                  "MANNEROFCRASH": "2 - REAR-END",
                  "ROADCONDITIONSPRIMARY": "0",
                  "ROADCONTOUR": "2 - STRAIGHT GRADE",
                  "ROADSURFACE": "2",
                  "SNA_NEIGHBORHOOD": "CUF",
                  "TYPEOFPERSON": "D - DRIVER",
                  "WEATHER": "2 - CLOUDY",
                  "ZIP": "45220.0",
                  "UNITTYPE": "01 - PASSENGER CAR",
                  "CRASH_YEAR": 2020,
                  "_deepnote_index_column": 89
                },
                {
                  "Unnamed: 0": 120,
                  "ADDRESS_X": "N I75 AT 4-0 MM",
                  "LATITUDE_X": 39.136645,
                  "LONGITUDE_X": -84.532754,
                  "AGE": "51-60",
                  "COMMUNITY_COUNCIL_NEIGHBORHOOD": "CAMP WASHINGTON",
                  "CPD_NEIGHBORHOOD": "CAMP  WASHINGTON",
                  "CRASHDATE": "08/04/2020 05:45:00 AM",
                  "CRASHLOCATION": "nan",
                  "CRASHSEVERITY": 5,
                  "CRASHSEVERITYID": 201905,
                  "DATECRASHREPORTED": "08/04/2020 06:52:00 AM",
                  "DAYOFWEEK": "TUE",
                  "GENDER": "M - MALE",
                  "INJURIES": "5",
                  "INSTANCEID": "FA1CDFB6-529E-4338-9403-2BBA2E3E9EFF",
                  "LIGHTCONDITIONSPRIMARY": "2",
                  "LOCALREPORTNO": 205008626,
                  "MANNEROFCRASH": "7 - SIDESWIPE, SAME DIRECTION",
                  "ROADCONDITIONSPRIMARY": "0",
                  "ROADCONTOUR": "4 - CURVE GRADE",
                  "ROADSURFACE": "2",
                  "SNA_NEIGHBORHOOD": "CAMP WASHINGTON",
                  "TYPEOFPERSON": "D - DRIVER",
                  "WEATHER": "1 - CLEAR",
                  "ZIP": "45220.0",
                  "UNITTYPE": "04 - PICK UP",
                  "CRASH_YEAR": 2020,
                  "_deepnote_index_column": 101
                }
              ]
            },
            "text/plain": "     Unnamed: 0        ADDRESS_X  LATITUDE_X  LONGITUDE_X      AGE  \\\n0            19     63XX GRACELY   39.107808   -84.688195    31-40   \n1            20   9XX CHATEAU AV   39.108110   -84.560280    18-25   \n2            21  30XX READING RD   39.135486   -84.496520    18-25   \n3            22  36XX READING RD   39.147889   -84.489222    61-70   \n4            23   37XX WARSAW AV   39.110989   -84.573138    31-40   \n..          ...              ...         ...          ...      ...   \n97          116     24XX OHIO AV   39.126691   -84.514695    18-25   \n98          117     10XX YORK ST   39.117281   -84.532641    41-50   \n99          118    61XX RIVER RD   39.103574   -84.683744  OVER 70   \n100         119  58XX BELMONT AV   39.198033   -84.553678    18-25   \n101         120  N I75 AT 4-0 MM   39.136645   -84.532754    51-60   \n\n    COMMUNITY_COUNCIL_NEIGHBORHOOD  CPD_NEIGHBORHOOD               CRASHDATE  \\\n0                      SAYLER PARK      SAYLER  PARK  06/17/2014 05:25:00 PM   \n1                  EAST PRICE HILL   EAST PRICE HILL  02/15/2015 03:00:00 PM   \n2                         AVONDALE          AVONDALE  07/23/2015 11:54:00 PM   \n3                         AVONDALE          AVONDALE  04/21/2018 01:00:00 PM   \n4                  EAST PRICE HILL   EAST PRICE HILL  09/01/2018 07:59:00 PM   \n..                             ...               ...                     ...   \n97                             CUF          FAIRVIEW  03/17/2019 07:50:00 PM   \n98                        WEST END         WEST  END  09/06/2018 06:59:00 PM   \n99                     SAYLER PARK      SAYLER  PARK  10/03/2020 02:50:00 PM   \n100                   COLLEGE HILL     COLLEGE  HILL  01/11/2017 07:00:00 AM   \n101                CAMP WASHINGTON  CAMP  WASHINGTON  08/04/2020 05:45:00 AM   \n\n                CRASHLOCATION  CRASHSEVERITY  ...  \\\n0         03 - T-INTERSECTION              3  ...   \n1    01 - NOT AN INTERSECTION              2  ...   \n2    01 - NOT AN INTERSECTION              3  ...   \n3    01 - NOT AN INTERSECTION              3  ...   \n4         03 - T-INTERSECTION              3  ...   \n..                        ...            ...  ...   \n97                        NaN              5  ...   \n98        03 - T-INTERSECTION              3  ...   \n99                        NaN              3  ...   \n100  01 - NOT AN INTERSECTION              3  ...   \n101                       NaN              5  ...   \n\n                                         MANNEROFCRASH ROADCONDITIONSPRIMARY  \\\n0                                         2 - REAR-END                     0   \n1    1 - NOT COLLISION BETWEEN TWO MOTOR VEHICLES I...                     0   \n2                        7 - SIDESWIPE, SAME DIRECTION                     0   \n3                        7 - SIDESWIPE, SAME DIRECTION                     0   \n4                                            6 - ANGLE                     0   \n..                                                 ...                   ...   \n97                                        2 - REAR-END                     0   \n98                                           6 - ANGLE                     0   \n99                                        2 - REAR-END                     0   \n100  1 - NOT COLLISION BETWEEN TWO MOTOR VEHICLES I...                     0   \n101                      7 - SIDESWIPE, SAME DIRECTION                     0   \n\n            ROADCONTOUR ROADSURFACE SNA_NEIGHBORHOOD  TYPEOFPERSON  \\\n0    1 - STRAIGHT LEVEL           2      SAYLER PARK    D - DRIVER   \n1    2 - STRAIGHT GRADE           2  EAST PRICE HILL  O - OCCUPANT   \n2    1 - STRAIGHT LEVEL           2         AVONDALE  O - OCCUPANT   \n3    1 - STRAIGHT LEVEL           2         AVONDALE    D - DRIVER   \n4    1 - STRAIGHT LEVEL           2  EAST PRICE HILL    D - DRIVER   \n..                  ...         ...              ...           ...   \n97   2 - STRAIGHT GRADE           2              CUF  O - OCCUPANT   \n98   2 - STRAIGHT GRADE           2         WEST END    D - DRIVER   \n99   1 - STRAIGHT LEVEL           1        RIVERSIDE    D - DRIVER   \n100     3 - CURVE LEVEL           2     COLLEGE HILL    D - DRIVER   \n101     4 - CURVE GRADE           2  CAMP WASHINGTON    D - DRIVER   \n\n        WEATHER      ZIP                    UNITTYPE CRASH_YEAR  \n0     1 - CLEAR  45233.0               03 - MID SIZE     2014.0  \n1     1 - CLEAR  45204.0                02 - COMPACT     2015.0  \n2     1 - CLEAR  45206.0              04 - FULL SIZE     2015.0  \n3     1 - CLEAR  45229.0                 07 - PICKUP     2018.0  \n4     1 - CLEAR  45205.0              04 - FULL SIZE     2018.0  \n..          ...      ...                         ...        ...  \n97   2 - CLOUDY  45219.0          01 - PASSENGER CAR     2019.0  \n98    1 - CLEAR  45214.0                    08 - VAN     2018.0  \n99   2 - CLOUDY  45233.0  03 - SPORT UTILITY VEHICLE     2020.0  \n100   1 - CLEAR  45224.0                 07 - PICKUP     2017.0  \n101   1 - CLEAR  45220.0                04 - PICK UP     2020.0  \n\n[100 rows x 28 columns]",
            "text/html": "<div>\n<style scoped>\n    .dataframe tbody tr th:only-of-type {\n        vertical-align: middle;\n    }\n\n    .dataframe tbody tr th {\n        vertical-align: top;\n    }\n\n    .dataframe thead th {\n        text-align: right;\n    }\n</style>\n<table border=\"1\" class=\"dataframe\">\n  <thead>\n    <tr style=\"text-align: right;\">\n      <th></th>\n      <th>Unnamed: 0</th>\n      <th>ADDRESS_X</th>\n      <th>LATITUDE_X</th>\n      <th>LONGITUDE_X</th>\n      <th>AGE</th>\n      <th>COMMUNITY_COUNCIL_NEIGHBORHOOD</th>\n      <th>CPD_NEIGHBORHOOD</th>\n      <th>CRASHDATE</th>\n      <th>CRASHLOCATION</th>\n      <th>CRASHSEVERITY</th>\n      <th>...</th>\n      <th>MANNEROFCRASH</th>\n      <th>ROADCONDITIONSPRIMARY</th>\n      <th>ROADCONTOUR</th>\n      <th>ROADSURFACE</th>\n      <th>SNA_NEIGHBORHOOD</th>\n      <th>TYPEOFPERSON</th>\n      <th>WEATHER</th>\n      <th>ZIP</th>\n      <th>UNITTYPE</th>\n      <th>CRASH_YEAR</th>\n    </tr>\n  </thead>\n  <tbody>\n    <tr>\n      <th>0</th>\n      <td>19</td>\n      <td>63XX GRACELY</td>\n      <td>39.107808</td>\n      <td>-84.688195</td>\n      <td>31-40</td>\n      <td>SAYLER PARK</td>\n      <td>SAYLER  PARK</td>\n      <td>06/17/2014 05:25:00 PM</td>\n      <td>03 - T-INTERSECTION</td>\n      <td>3</td>\n      <td>...</td>\n      <td>2 - REAR-END</td>\n      <td>0</td>\n      <td>1 - STRAIGHT LEVEL</td>\n      <td>2</td>\n      <td>SAYLER PARK</td>\n      <td>D - DRIVER</td>\n      <td>1 - CLEAR</td>\n      <td>45233.0</td>\n      <td>03 - MID SIZE</td>\n      <td>2014.0</td>\n    </tr>\n    <tr>\n      <th>1</th>\n      <td>20</td>\n      <td>9XX CHATEAU AV</td>\n      <td>39.108110</td>\n      <td>-84.560280</td>\n      <td>18-25</td>\n      <td>EAST PRICE HILL</td>\n      <td>EAST PRICE HILL</td>\n      <td>02/15/2015 03:00:00 PM</td>\n      <td>01 - NOT AN INTERSECTION</td>\n      <td>2</td>\n      <td>...</td>\n      <td>1 - NOT COLLISION BETWEEN TWO MOTOR VEHICLES I...</td>\n      <td>0</td>\n      <td>2 - STRAIGHT GRADE</td>\n      <td>2</td>\n      <td>EAST PRICE HILL</td>\n      <td>O - OCCUPANT</td>\n      <td>1 - CLEAR</td>\n      <td>45204.0</td>\n      <td>02 - COMPACT</td>\n      <td>2015.0</td>\n    </tr>\n    <tr>\n      <th>2</th>\n      <td>21</td>\n      <td>30XX READING RD</td>\n      <td>39.135486</td>\n      <td>-84.496520</td>\n      <td>18-25</td>\n      <td>AVONDALE</td>\n      <td>AVONDALE</td>\n      <td>07/23/2015 11:54:00 PM</td>\n      <td>01 - NOT AN INTERSECTION</td>\n      <td>3</td>\n      <td>...</td>\n      <td>7 - SIDESWIPE, SAME DIRECTION</td>\n      <td>0</td>\n      <td>1 - STRAIGHT LEVEL</td>\n      <td>2</td>\n      <td>AVONDALE</td>\n      <td>O - OCCUPANT</td>\n      <td>1 - CLEAR</td>\n      <td>45206.0</td>\n      <td>04 - FULL SIZE</td>\n      <td>2015.0</td>\n    </tr>\n    <tr>\n      <th>3</th>\n      <td>22</td>\n      <td>36XX READING RD</td>\n      <td>39.147889</td>\n      <td>-84.489222</td>\n      <td>61-70</td>\n      <td>AVONDALE</td>\n      <td>AVONDALE</td>\n      <td>04/21/2018 01:00:00 PM</td>\n      <td>01 - NOT AN INTERSECTION</td>\n      <td>3</td>\n      <td>...</td>\n      <td>7 - SIDESWIPE, SAME DIRECTION</td>\n      <td>0</td>\n      <td>1 - STRAIGHT LEVEL</td>\n      <td>2</td>\n      <td>AVONDALE</td>\n      <td>D - DRIVER</td>\n      <td>1 - CLEAR</td>\n      <td>45229.0</td>\n      <td>07 - PICKUP</td>\n      <td>2018.0</td>\n    </tr>\n    <tr>\n      <th>4</th>\n      <td>23</td>\n      <td>37XX WARSAW AV</td>\n      <td>39.110989</td>\n      <td>-84.573138</td>\n      <td>31-40</td>\n      <td>EAST PRICE HILL</td>\n      <td>EAST PRICE HILL</td>\n      <td>09/01/2018 07:59:00 PM</td>\n      <td>03 - T-INTERSECTION</td>\n      <td>3</td>\n      <td>...</td>\n      <td>6 - ANGLE</td>\n      <td>0</td>\n      <td>1 - STRAIGHT LEVEL</td>\n      <td>2</td>\n      <td>EAST PRICE HILL</td>\n      <td>D - DRIVER</td>\n      <td>1 - CLEAR</td>\n      <td>45205.0</td>\n      <td>04 - FULL SIZE</td>\n      <td>2018.0</td>\n    </tr>\n    <tr>\n      <th>...</th>\n      <td>...</td>\n      <td>...</td>\n      <td>...</td>\n      <td>...</td>\n      <td>...</td>\n      <td>...</td>\n      <td>...</td>\n      <td>...</td>\n      <td>...</td>\n      <td>...</td>\n      <td>...</td>\n      <td>...</td>\n      <td>...</td>\n      <td>...</td>\n      <td>...</td>\n      <td>...</td>\n      <td>...</td>\n      <td>...</td>\n      <td>...</td>\n      <td>...</td>\n      <td>...</td>\n    </tr>\n    <tr>\n      <th>97</th>\n      <td>116</td>\n      <td>24XX OHIO AV</td>\n      <td>39.126691</td>\n      <td>-84.514695</td>\n      <td>18-25</td>\n      <td>CUF</td>\n      <td>FAIRVIEW</td>\n      <td>03/17/2019 07:50:00 PM</td>\n      <td>NaN</td>\n      <td>5</td>\n      <td>...</td>\n      <td>2 - REAR-END</td>\n      <td>0</td>\n      <td>2 - STRAIGHT GRADE</td>\n      <td>2</td>\n      <td>CUF</td>\n      <td>O - OCCUPANT</td>\n      <td>2 - CLOUDY</td>\n      <td>45219.0</td>\n      <td>01 - PASSENGER CAR</td>\n      <td>2019.0</td>\n    </tr>\n    <tr>\n      <th>98</th>\n      <td>117</td>\n      <td>10XX YORK ST</td>\n      <td>39.117281</td>\n      <td>-84.532641</td>\n      <td>41-50</td>\n      <td>WEST END</td>\n      <td>WEST  END</td>\n      <td>09/06/2018 06:59:00 PM</td>\n      <td>03 - T-INTERSECTION</td>\n      <td>3</td>\n      <td>...</td>\n      <td>6 - ANGLE</td>\n      <td>0</td>\n      <td>2 - STRAIGHT GRADE</td>\n      <td>2</td>\n      <td>WEST END</td>\n      <td>D - DRIVER</td>\n      <td>1 - CLEAR</td>\n      <td>45214.0</td>\n      <td>08 - VAN</td>\n      <td>2018.0</td>\n    </tr>\n    <tr>\n      <th>99</th>\n      <td>118</td>\n      <td>61XX RIVER RD</td>\n      <td>39.103574</td>\n      <td>-84.683744</td>\n      <td>OVER 70</td>\n      <td>SAYLER PARK</td>\n      <td>SAYLER  PARK</td>\n      <td>10/03/2020 02:50:00 PM</td>\n      <td>NaN</td>\n      <td>3</td>\n      <td>...</td>\n      <td>2 - REAR-END</td>\n      <td>0</td>\n      <td>1 - STRAIGHT LEVEL</td>\n      <td>1</td>\n      <td>RIVERSIDE</td>\n      <td>D - DRIVER</td>\n      <td>2 - CLOUDY</td>\n      <td>45233.0</td>\n      <td>03 - SPORT UTILITY VEHICLE</td>\n      <td>2020.0</td>\n    </tr>\n    <tr>\n      <th>100</th>\n      <td>119</td>\n      <td>58XX BELMONT AV</td>\n      <td>39.198033</td>\n      <td>-84.553678</td>\n      <td>18-25</td>\n      <td>COLLEGE HILL</td>\n      <td>COLLEGE  HILL</td>\n      <td>01/11/2017 07:00:00 AM</td>\n      <td>01 - NOT AN INTERSECTION</td>\n      <td>3</td>\n      <td>...</td>\n      <td>1 - NOT COLLISION BETWEEN TWO MOTOR VEHICLES I...</td>\n      <td>0</td>\n      <td>3 - CURVE LEVEL</td>\n      <td>2</td>\n      <td>COLLEGE HILL</td>\n      <td>D - DRIVER</td>\n      <td>1 - CLEAR</td>\n      <td>45224.0</td>\n      <td>07 - PICKUP</td>\n      <td>2017.0</td>\n    </tr>\n    <tr>\n      <th>101</th>\n      <td>120</td>\n      <td>N I75 AT 4-0 MM</td>\n      <td>39.136645</td>\n      <td>-84.532754</td>\n      <td>51-60</td>\n      <td>CAMP WASHINGTON</td>\n      <td>CAMP  WASHINGTON</td>\n      <td>08/04/2020 05:45:00 AM</td>\n      <td>NaN</td>\n      <td>5</td>\n      <td>...</td>\n      <td>7 - SIDESWIPE, SAME DIRECTION</td>\n      <td>0</td>\n      <td>4 - CURVE GRADE</td>\n      <td>2</td>\n      <td>CAMP WASHINGTON</td>\n      <td>D - DRIVER</td>\n      <td>1 - CLEAR</td>\n      <td>45220.0</td>\n      <td>04 - PICK UP</td>\n      <td>2020.0</td>\n    </tr>\n  </tbody>\n</table>\n<p>100 rows × 28 columns</p>\n</div>"
          },
          "metadata": {}
        }
      ]
    },
    {
      "cell_type": "code",
      "metadata": {
        "source_hash": null,
        "execution_start": 1703896564169,
        "execution_millis": 12,
        "deepnote_to_be_reexecuted": false,
        "cell_id": "d56e47cdcf8545578bb25c1b9b3ebeaa",
        "deepnote_cell_type": "code",
        "id": "RlGgIvGZzEgk"
      },
      "source": [
        "x= df[['LATITUDE_X','LONGITUDE_X', \"LIGHTCONDITIONSPRIMARY\", \"ROADSURFACE\", \"ROADCONDITIONSPRIMARY\",\"INJURIES\"]]\n",
        "y= df[['CRASHSEVERITY']]"
      ],
      "execution_count": null,
      "outputs": []
    },
    {
      "cell_type": "markdown",
      "source": [
        "# Training the Model\n"
      ],
      "metadata": {
        "id": "h7pUaKbQ6wi9"
      }
    },
    {
      "cell_type": "code",
      "metadata": {
        "source_hash": null,
        "execution_start": 1703896564172,
        "execution_millis": 586,
        "deepnote_to_be_reexecuted": false,
        "cell_id": "31ffecce6e5d4c50ae7fb32b7f25041b",
        "deepnote_cell_type": "code",
        "id": "xjCv7SAnzEgk"
      },
      "source": [
        "from sklearn.model_selection import train_test_split\n",
        "from sklearn.preprocessing import StandardScaler\n",
        "\n",
        "X_train, X_test, y_train, y_test = train_test_split(x,y,test_size=0.3,random_state=4)"
      ],
      "execution_count": null,
      "outputs": []
    },
    {
      "cell_type": "code",
      "metadata": {
        "source_hash": null,
        "execution_start": 1703896564774,
        "execution_millis": 8,
        "deepnote_to_be_reexecuted": false,
        "cell_id": "17b2468e7e5b48ea904ad4dcdebe5bc1",
        "deepnote_cell_type": "code",
        "id": "rENhhCcdzEgk",
        "outputId": "31fde1a2-88d1-4366-c729-f56aa96db5ed"
      },
      "source": [
        "print(list(X_train)[1])"
      ],
      "execution_count": null,
      "outputs": [
        {
          "name": "stdout",
          "text": "LONGITUDE_X\n",
          "output_type": "stream"
        }
      ]
    },
    {
      "cell_type": "code",
      "metadata": {
        "source_hash": null,
        "execution_start": 1703896564784,
        "execution_millis": 238,
        "deepnote_to_be_reexecuted": false,
        "cell_id": "ce655bb914b646968a4650eb0ea404f9",
        "deepnote_cell_type": "code",
        "id": "1MduauPazEgk"
      },
      "source": [
        "X_train_scaled=pd.DataFrame(X_train, index=X_train.index)\n",
        "scalar= StandardScaler()\n",
        "X_train_scaled=scalar.fit_transform(X_train_scaled)"
      ],
      "execution_count": null,
      "outputs": []
    },
    {
      "cell_type": "code",
      "metadata": {
        "source_hash": null,
        "execution_start": 1701102865260,
        "execution_millis": 3751,
        "deepnote_to_be_reexecuted": false,
        "cell_id": "c8eb8e577d2546e4a7b381fd2f9db30b",
        "deepnote_cell_type": "code",
        "id": "SkJq_H6CzEgk",
        "outputId": "0ebe08e5-e746-41a8-c6de-bc1f72c67a57"
      },
      "source": [
        "from sklearn.neural_network import MLPClassifier\n",
        "clf = MLPClassifier(random_state=1, max_iter=100).fit(X_train, y_train)\n",
        "clf.score(X_test, y_test)"
      ],
      "execution_count": null,
      "outputs": [
        {
          "name": "stderr",
          "text": "/shared-libs/python3.9/py/lib/python3.9/site-packages/sklearn/neural_network/_multilayer_perceptron.py:1118: DataConversionWarning: A column-vector y was passed when a 1d array was expected. Please change the shape of y to (n_samples, ), for example using ravel().\n  y = column_or_1d(y, warn=True)\n/shared-libs/python3.9/py/lib/python3.9/site-packages/sklearn/neural_network/_multilayer_perceptron.py:709: UserWarning: Training interrupted by user.\n  warnings.warn(\"Training interrupted by user.\")\n",
          "output_type": "stream"
        },
        {
          "output_type": "execute_result",
          "execution_count": 22,
          "data": {
            "text/plain": "0.8557853919349929"
          },
          "metadata": {}
        }
      ]
    },
    {
      "cell_type": "code",
      "metadata": {
        "source_hash": null,
        "execution_start": 1699918158755,
        "execution_millis": 324,
        "deepnote_to_be_reexecuted": true,
        "cell_id": "2be87a0473be4cb09d896f6838d47c5c",
        "deepnote_cell_type": "code",
        "id": "4PBZpxUxzEgk",
        "outputId": "d00ec88d-7982-469d-a2f8-4b860e4ff301"
      },
      "source": [
        "from sklearn.metrics import confusion_matrix\n",
        "\n",
        "y_pred = clf.predict(X_test)\n",
        "print(confusion_matrix(y_test, y_pred))"
      ],
      "execution_count": null,
      "outputs": [
        {
          "name": "stdout",
          "text": "[[    0    31    54    19    48]\n [    0  7689  6116   625    82]\n [    0  1474 41978   199  1069]\n [    0     2     2  1239  1063]\n [    0     0    18     0 13853]]\n",
          "output_type": "stream"
        }
      ]
    },
    {
      "cell_type": "code",
      "metadata": {
        "source_hash": null,
        "execution_start": 1701102872085,
        "execution_millis": 12392,
        "deepnote_to_be_reexecuted": true,
        "cell_id": "1d6c60411ef247eeba0179255398a77a",
        "deepnote_cell_type": "code",
        "id": "BND_s1sgzEgk",
        "outputId": "6ee63146-d2b8-4fac-d7ed-a5652b3ff54a"
      },
      "source": [
        "from sklearn.ensemble import GradientBoostingClassifier\n",
        "from sklearn.metrics import r2_score\n",
        "\n",
        "gb = GradientBoostingClassifier(n_estimators=10, learning_rate=0.1, max_depth=5, random_state=0)\n",
        "gb.fit(X_train, y_train)\n",
        "gb.score(X_test, y_test)"
      ],
      "execution_count": null,
      "outputs": [
        {
          "name": "stderr",
          "text": "/shared-libs/python3.9/py/lib/python3.9/site-packages/sklearn/ensemble/_gb.py:570: DataConversionWarning: A column-vector y was passed when a 1d array was expected. Please change the shape of y to (n_samples, ), for example using ravel().\n  y = column_or_1d(y, warn=True)\n",
          "output_type": "stream"
        },
        {
          "output_type": "execute_result",
          "execution_count": 23,
          "data": {
            "text/plain": "0.8647715091118434"
          },
          "metadata": {}
        }
      ]
    }
  ],
  "nbformat": 4,
  "nbformat_minor": 0,
  "metadata": {
    "deepnote_notebook_id": "edac4df393144b31a3a2dbacf5802f77",
    "deepnote_execution_queue": [],
    "colab": {
      "provenance": []
    }
  }
}